{
 "cells": [
  {
   "cell_type": "markdown",
   "metadata": {},
   "source": [
    "# SAVESPOTS\n",
    "[Videogames EDA](#Videogames-EDA) <br>\n",
    "[Reviews EDA](#Reviews-EDA) <br>\n",
    "[NLP](#NLP) <br>\n",
    "[SAVESPOT: simple_videogames](#SAVESPOT:-simple_videogames) <br>\n",
    "[SAVESPOT: simple_reviews](#SAVESPOT:-simple_reviews) <br>\n",
    "[SAVEPOINT: SIMPLE_REVIEWS_W_PLATFORM](#SAVEPOINT:-SIMPLE_REVIEWS_W_PLATFORM) <br>\n",
    "[NLP on reviews](#NLP-on-reviews) <br>\n",
    "[Recommender System by Ratings](#Recommender-System-by-Ratings) <br>\n",
    "[TODO1](#TODO1) <br>\n",
    "[Testing Recommendator: by Ratings](Testing-Recommendator:-by-Ratings) <br>"
   ]
  },
  {
   "cell_type": "code",
   "execution_count": 1,
   "metadata": {},
   "outputs": [],
   "source": [
    "import os\n",
    "import numpy as np\n",
    "import pandas as pd\n",
    "import matplotlib.pyplot as plt"
   ]
  },
  {
   "cell_type": "code",
   "execution_count": 2,
   "metadata": {},
   "outputs": [],
   "source": [
    "#autoreload to take in changes from outside\n",
    "%load_ext autoreload\n",
    "%autoreload 2"
   ]
  },
  {
   "cell_type": "code",
   "execution_count": 3,
   "metadata": {},
   "outputs": [],
   "source": [
    "import math\n",
    "import string\n",
    "import re\n",
    "from datetime import datetime\n",
    "from collections import Counter"
   ]
  },
  {
   "cell_type": "code",
   "execution_count": 4,
   "metadata": {},
   "outputs": [],
   "source": [
    "# from rake_nltk import Rake\n",
    "from sklearn.metrics.pairwise import cosine_similarity\n",
    "from sklearn.feature_extraction.text import CountVectorizer"
   ]
  },
  {
   "cell_type": "code",
   "execution_count": 5,
   "metadata": {},
   "outputs": [],
   "source": [
    "from src.EDA import EDA\n",
    "eda = EDA()"
   ]
  },
  {
   "cell_type": "code",
   "execution_count": 285,
   "metadata": {},
   "outputs": [],
   "source": [
    "def missing_zero_values_table(df):\n",
    "    zero_val = (df == 0.00).astype(int).sum(axis=0)\n",
    "    mis_val = df.isnull().sum()\n",
    "    mis_val_percent = 100 * df.isnull().sum() / len(df)\n",
    "    mz_table = pd.concat([zero_val, mis_val, mis_val_percent], axis=1)\n",
    "    mz_table = mz_table.rename(\n",
    "        columns = {0 : 'Zero Values', 1 : 'Missing Values', 2 : '% of Total Values'})\n",
    "    mz_table['Total Zero Missing Values'] = mz_table['Zero Values'] + mz_table['Missing Values']\n",
    "    mz_table['% Total Zero Missing Values'] = 100 * mz_table['Total Zero Missing Values'] / len(df)\n",
    "    mz_table['Data Type'] = df.dtypes\n",
    "    mz_table = mz_table[\n",
    "    mz_table.iloc[:,1] != 0].sort_values(\n",
    "        '% of Total Values', ascending=False).round(1)\n",
    "    print (\"Your selected dataframe has \" + str(df.shape[1]) + \" columns and \" + str(df.shape[0]) + \" Rows.\\n\"      \n",
    "            \"There are \" + str(mz_table.shape[0]) + \" columns that have missing values.\")\n",
    "    \n",
    "    return mz_table"
   ]
  },
  {
   "cell_type": "code",
   "execution_count": 281,
   "metadata": {},
   "outputs": [],
   "source": [
    "videogames = pd.read_json('Data/meta_Video_Games.json', lines=True)\n",
    "reviews = pd.read_json('Data/Video_Games.json', lines=True)"
   ]
  },
  {
   "cell_type": "markdown",
   "metadata": {},
   "source": [
    "## Cleaning Video Games DF"
   ]
  },
  {
   "cell_type": "code",
   "execution_count": 129,
   "metadata": {},
   "outputs": [],
   "source": [
    "#drop also_buy, also_view, date, details, similar_item, tech1, tech2\n",
    "main_videogames = videogames.copy()\n",
    "main_videogames.drop(columns=['also_buy', 'also_view', 'date', 'details', 'similar_item', 'tech1', 'tech2'], inplace=True)"
   ]
  },
  {
   "cell_type": "code",
   "execution_count": 130,
   "metadata": {
    "jupyter": {
     "outputs_hidden": true
    }
   },
   "outputs": [],
   "source": [
    "# #Check for missing values #1\n",
    "# missing_zero_values_table(main_videogames)"
   ]
  },
  {
   "cell_type": "markdown",
   "metadata": {},
   "source": [
    "### Changing missing title names to their actual titles"
   ]
  },
  {
   "cell_type": "code",
   "execution_count": 131,
   "metadata": {},
   "outputs": [],
   "source": [
    "indexes = [467, 11873, 11876, 11878, 13376, 24782, 24785, 24787, 29674, 38379, 52373, 61916, 63263, 64453]\n",
    "title_names = ['Dune 2000', 'Virtual Stick Pro', 'Saturn Control Pad Mist Gray', 'Saturn control pad', 'Dune 2000', \n",
    "               'Virtual Stick Pro', 'Saturn Control Pad Mist Gray', 'Saturn control pad', 'Sega Vertual Stick', 'Puppet Motel',\n",
    "               'Friendship Collection New Life','Ranch Story Connected New World', 'Kirby Triple Deluxe', 'Detective Conan Phantom Rhapsody']"
   ]
  },
  {
   "cell_type": "code",
   "execution_count": 132,
   "metadata": {},
   "outputs": [],
   "source": [
    "for idx, val in enumerate(indexes):\n",
    "    main_videogames.loc[val, 'title'] = title_names[idx]"
   ]
  },
  {
   "cell_type": "code",
   "execution_count": 133,
   "metadata": {
    "jupyter": {
     "outputs_hidden": true
    }
   },
   "outputs": [],
   "source": [
    "# #Check for missing values #2\n",
    "# missing_zero_values_table(main_videogames)"
   ]
  },
  {
   "cell_type": "code",
   "execution_count": 134,
   "metadata": {},
   "outputs": [],
   "source": [
    "float_puncs = '!\"#$%&\\'()*+,-/:;<=>?@[\\\\]^_`{|}~'\n",
    "str1=\"\"\n",
    "\n",
    "def remove_puncs_into_floats(item):\n",
    "    table = str.maketrans('','', float_puncs)\n",
    "    stripped = [i.translate(table) for i in item]\n",
    "    return float(str1.join(stripped))\n",
    "\n",
    "#change missing prices to -1, and change string prices to floats\n",
    "prices = main_videogames.price.apply(lambda x: float(-1) if isinstance(x, float) else remove_puncs_into_floats(x))"
   ]
  },
  {
   "cell_type": "code",
   "execution_count": 135,
   "metadata": {},
   "outputs": [],
   "source": [
    "#Since 81.7% of prices are missing, and not doing a recommender based on price, remove price column.\n",
    "#Since images are not being used to create a recommender, remove image column.\n",
    "main_videogames.drop(columns=['price','image'],inplace=True)"
   ]
  },
  {
   "cell_type": "code",
   "execution_count": 136,
   "metadata": {
    "jupyter": {
     "outputs_hidden": true
    }
   },
   "outputs": [],
   "source": [
    "# #Check for missing values #3\n",
    "# missing_zero_values_table(main_videogames)"
   ]
  },
  {
   "cell_type": "code",
   "execution_count": 137,
   "metadata": {},
   "outputs": [],
   "source": [
    "def remove_puncs(item):\n",
    "    table = str.maketrans('','', float_puncs)\n",
    "    stripped = [i.translate(table) for i in item]\n",
    "    return str1.join(stripped)"
   ]
  },
  {
   "cell_type": "code",
   "execution_count": 138,
   "metadata": {},
   "outputs": [],
   "source": [
    "#converting rank strings to just rank numbers\n",
    "rank = main_videogames[\"rank\"].apply(lambda x: \"999999999\" if isinstance(x, float) else remove_puncs(x).split(\" \",1)[0])"
   ]
  },
  {
   "cell_type": "code",
   "execution_count": 139,
   "metadata": {},
   "outputs": [],
   "source": [
    "rank = rank.apply(lambda x: x.split(\"i\", 1)[0])"
   ]
  },
  {
   "cell_type": "code",
   "execution_count": 140,
   "metadata": {},
   "outputs": [
    {
     "name": "stdout",
     "output_type": "stream",
     "text": [
      "52316\n"
     ]
    }
   ],
   "source": [
    "#find messed up values in rnak #4\n",
    "for idx, val in enumerate(rank):\n",
    "    if val == 'productDescr':\n",
    "        print(idx)"
   ]
  },
  {
   "cell_type": "code",
   "execution_count": 141,
   "metadata": {},
   "outputs": [],
   "source": [
    "rank[52316] = 999999999"
   ]
  },
  {
   "cell_type": "code",
   "execution_count": 142,
   "metadata": {},
   "outputs": [],
   "source": [
    "rank = rank.apply(lambda x: float(x))"
   ]
  },
  {
   "cell_type": "code",
   "execution_count": 143,
   "metadata": {},
   "outputs": [],
   "source": [
    "main_videogames['rank']=rank"
   ]
  },
  {
   "cell_type": "code",
   "execution_count": 144,
   "metadata": {},
   "outputs": [],
   "source": [
    "# #Check for missing values #4\n",
    "# missing_zero_values_table(main_videogames)"
   ]
  },
  {
   "cell_type": "code",
   "execution_count": 145,
   "metadata": {},
   "outputs": [],
   "source": [
    "#Change all nulls in main_cat into 'Video Games'\n",
    "main_cat = main_videogames['main_cat'].apply(lambda x: 'Video Games' if isinstance(x, float) else x)\n",
    "main_videogames['main_cat'] = main_cat\n",
    "\n",
    "#Change all nulls in features into 'no_features'\n",
    "features = main_videogames['feature'].apply(lambda x: 'no_features' if isinstance(x, float) else x)\n",
    "main_videogames['feature'] = features\n",
    "\n",
    "#Change all null in description into 'no_description'\n",
    "description = main_videogames['description'].apply(lambda x: 'no_description' if isinstance(x, float) else x)\n",
    "main_videogames['description'] = description"
   ]
  },
  {
   "cell_type": "code",
   "execution_count": 146,
   "metadata": {},
   "outputs": [],
   "source": [
    "# #Check for missing values #5\n",
    "# missing_zero_values_table(main_videogames)"
   ]
  },
  {
   "cell_type": "code",
   "execution_count": 147,
   "metadata": {},
   "outputs": [],
   "source": [
    "#Change null brands to 'no_brand'\n",
    "brand = main_videogames['brand'].apply(lambda x: 'no_brand' if isinstance(x, float) else x)\n",
    "\n",
    "#Remove html taggings \"by\\n \\n\"\n",
    "filter_tag = 'by\\n    \\n    '\n",
    "brand = brand.apply(lambda x: x[12:] if filter_tag in x else x)\n",
    "main_videogames['brand'] = brand\n",
    "\n",
    "#Change null category to ['Video Games']\n",
    "category = main_videogames['category'].apply(lambda x: ['Video Games'] if isinstance(x, float) else x)\n",
    "main_videogames['category'] = category"
   ]
  },
  {
   "cell_type": "code",
   "execution_count": 148,
   "metadata": {},
   "outputs": [
    {
     "name": "stdout",
     "output_type": "stream",
     "text": [
      "Your selected dataframe has 8 columns and 84893 Rows.\n",
      "There are 0 columns that have missing values.\n"
     ]
    },
    {
     "data": {
      "text/html": [
       "<div>\n",
       "<style scoped>\n",
       "    .dataframe tbody tr th:only-of-type {\n",
       "        vertical-align: middle;\n",
       "    }\n",
       "\n",
       "    .dataframe tbody tr th {\n",
       "        vertical-align: top;\n",
       "    }\n",
       "\n",
       "    .dataframe thead th {\n",
       "        text-align: right;\n",
       "    }\n",
       "</style>\n",
       "<table border=\"1\" class=\"dataframe\">\n",
       "  <thead>\n",
       "    <tr style=\"text-align: right;\">\n",
       "      <th></th>\n",
       "      <th>Zero Values</th>\n",
       "      <th>Missing Values</th>\n",
       "      <th>% of Total Values</th>\n",
       "      <th>Total Zero Missing Values</th>\n",
       "      <th>% Total Zero Missing Values</th>\n",
       "      <th>Data Type</th>\n",
       "    </tr>\n",
       "  </thead>\n",
       "  <tbody>\n",
       "  </tbody>\n",
       "</table>\n",
       "</div>"
      ],
      "text/plain": [
       "Empty DataFrame\n",
       "Columns: [Zero Values, Missing Values, % of Total Values, Total Zero Missing Values, % Total Zero Missing Values, Data Type]\n",
       "Index: []"
      ]
     },
     "execution_count": 148,
     "metadata": {},
     "output_type": "execute_result"
    }
   ],
   "source": [
    "#Check for missing values #6\n",
    "missing_zero_values_table(main_videogames)"
   ]
  },
  {
   "cell_type": "code",
   "execution_count": 149,
   "metadata": {},
   "outputs": [],
   "source": [
    "#Change category into a full string\n",
    "str2 = \" \"\n",
    "category = main_videogames['category'].apply(lambda x: str2.join(x) if isinstance(x, list) else x)\n",
    "main_videogames['category'] = category\n",
    "\n",
    "#Change description into a full string\n",
    "description = main_videogames['description'].apply(lambda x: str2.join(x) if x!='no_description' else x)\n",
    "main_videogames['description'] = description\n",
    "\n",
    "#Change feature into a full string\n",
    "feature = main_videogames['feature'].apply(lambda x: str2.join(x) if x!='no_features' else x)\n",
    "main_videogames['feature'] = feature"
   ]
  },
  {
   "cell_type": "code",
   "execution_count": 150,
   "metadata": {},
   "outputs": [],
   "source": [
    "#manually change categories to their sub category\n",
    "category = main_videogames['category'].apply(lambda x: x[12:] if x!='Video Games' else x)\n",
    "category = category.apply(lambda x: x[len('Retro Gaming & Microconsoles '):] if 'Retro Gaming & Microconsoles ' in x else x)\n",
    "main_videogames['category'] = category\n",
    "\n",
    "#drop main_cat\n",
    "main_videogames.drop('main_cat', 1, inplace=True)"
   ]
  },
  {
   "cell_type": "markdown",
   "metadata": {},
   "source": [
    "## Save to new csv file"
   ]
  },
  {
   "cell_type": "code",
   "execution_count": 168,
   "metadata": {},
   "outputs": [],
   "source": [
    "main_videogames.to_csv('Data/main_videogames.csv')"
   ]
  },
  {
   "cell_type": "markdown",
   "metadata": {},
   "source": [
    "## Copy/load to test filling out descriptions and features"
   ]
  },
  {
   "cell_type": "code",
   "execution_count": 8,
   "metadata": {},
   "outputs": [],
   "source": [
    "#makes a copy\n",
    "full_videogames = main_videogames.copy()"
   ]
  },
  {
   "cell_type": "code",
   "execution_count": 13,
   "metadata": {},
   "outputs": [],
   "source": [
    "#or load csv\n",
    "full_videogames = pd.read_csv('Data/main_videogames.csv')"
   ]
  },
  {
   "cell_type": "code",
   "execution_count": 249,
   "metadata": {},
   "outputs": [],
   "source": [
    "#drop duplicates\n",
    "full_videogames.drop_duplicates(inplace=True)"
   ]
  },
  {
   "cell_type": "code",
   "execution_count": 250,
   "metadata": {
    "scrolled": true
   },
   "outputs": [],
   "source": [
    "#too many different categories. removing excessive details\n",
    "category = full_videogames['category'].apply(lambda x: str(x).split(\"  \")[0].strip() if len(str(x).split(\"  \"))>1 else str(x).strip())\n",
    "full_videogames['category'] = category"
   ]
  },
  {
   "cell_type": "code",
   "execution_count": 251,
   "metadata": {},
   "outputs": [],
   "source": [
    "#using excessive details from long categories to fill in empty descriptions and featuers\n",
    "description_feature = full_videogames['category'].apply(lambda x: x.split(\"  \")[1].strip() if len(x.split(\"  \"))>1 else x.strip())\n",
    "descriptions = []\n",
    "features = []\n",
    "\n",
    "for idx, val in enumerate(full_videogames['description']):\n",
    "    if val == 'no_description':\n",
    "        descriptions.append(description_feature[idx])\n",
    "    else:\n",
    "        descriptions.append(val)\n",
    "\n",
    "for idx, val in enumerate(full_videogames['feature']):\n",
    "    if val == 'no_features':\n",
    "        features.append(description_feature[idx])\n",
    "    else:\n",
    "        features.append(val)\n",
    "\n",
    "full_videogames['description'] = descriptions\n",
    "full_videogames['feature'] = features"
   ]
  },
  {
   "cell_type": "code",
   "execution_count": null,
   "metadata": {},
   "outputs": [],
   "source": [
    "# sorted(full_videogames.category.unique())"
   ]
  },
  {
   "cell_type": "code",
   "execution_count": 656,
   "metadata": {},
   "outputs": [],
   "source": [
    "def platform_type(item):\n",
    "    item = item.lower()\n",
    "    if '3do' in item: return '3DO'\n",
    "    elif 'Atari 2600'.lower() in item: return 'Atari2600'\n",
    "    elif 'Atari 5200'.lower() in item: return 'Atari5200'\n",
    "    elif 'Atari 7800'.lower() in item: return 'Atari7800'\n",
    "    elif 'Atari Jaguar'.lower() in item: return 'AtariJaguar'\n",
    "    elif 'Atari Lynx'.lower() in item: return 'AtariLynx'\n",
    "    elif 'ColecoVision'.lower() in item: return 'ColecoVision'\n",
    "    elif 'Commodore 64'.lower() in item: return 'Commodore64'\n",
    "    elif 'Commodore Amiga'.lower() in item: return 'CommodoreAmiga'\n",
    "    elif 'Mac'.lower() in item: return 'Mac'\n",
    "    elif 'PC'.lower() in item: return 'PC'\n",
    "    elif 'Intellivision'.lower() in item: return 'Intellivision'\n",
    "    elif 'Nintendo DS'.lower() in item: return 'NintendoDS'\n",
    "    elif 'Nintendo 64'.lower() in item: return 'Nintendo64'\n",
    "    elif 'Nintendo 3DS'.lower() in item: return 'Nintendo3DS'\n",
    "    elif 'Nintendo Switch'.lower() in item: return 'NintendoSwitch'\n",
    "    elif 'PlayStation 2'.lower() in item: return 'PlayStation2'\n",
    "    elif 'PlayStation 3'.lower() in item: return 'PlayStation3'\n",
    "    elif 'PlayStation 4'.lower() in item: return 'PlayStation4'\n",
    "    elif 'PlayStation Vita'.lower() in item: return 'PlayStationVita'\n",
    "    elif 'PlayStation'.lower() in item: return 'PlayStation'\n",
    "    elif 'PSP'.lower() in item: return 'PSP'\n",
    "    elif 'Wii U'.lower() in item: return 'WiiU'\n",
    "    elif 'Wii'.lower() in item: return 'Wii'\n",
    "    elif 'Xbox 360'.lower() in item: return 'Xbox360'\n",
    "    elif 'Xbox One'.lower() in item: return 'XboxOne'\n",
    "    elif 'Xbox'.lower() in item: return 'Xbox'\n",
    "    elif 'Linux'.lower() in item: return 'Linux'\n",
    "    elif 'NEOGEO Pocket'.lower() in item: return 'NEOGEOPocket'\n",
    "    elif 'NES'.lower() in item: return 'NES'\n",
    "    elif 'Ouya'.lower() in item: return 'Ouya'\n",
    "    elif 'Virtual Reality'.lower() in item: return 'VirtualReality'\n",
    "    elif 'Retro Gaming & Microconsoles'.lower() in item: return 'RetroGaming & Microconsoles'\n",
    "    elif 'Sega CD'.lower() in item: return 'Sega CD'\n",
    "    elif 'Sega Dreamcast'.lower() in item: return 'SegaDreamcast'\n",
    "    elif 'Sega Game Gear'.lower() in item: return 'SegaGameGear'\n",
    "    elif 'Sega Genesis'.lower() in item: return 'SegaGenesis'\n",
    "    elif 'Sega Master System'.lower() in item: return 'SegaMasterSystem'\n",
    "    elif 'Sega Saturn'.lower() in item: return 'SegaSaturn'\n",
    "    elif 'Super Nintendo'.lower() in item: return 'SuperNintendo'\n",
    "    elif 'TurboGrafx 16'.lower() in item: return 'TurboGrafx16'\n",
    "    elif 'GameCube'.lower() in item: return 'GameCube'\n",
    "    elif 'Advance'.lower() in item: return 'GameBoyAdvance'\n",
    "    elif 'Color'.lower() in item: return 'Game Boy Color'\n",
    "    elif 'Game Boy'.lower() in item: return 'GameBoy'\n",
    "    else: return \"none\""
   ]
  },
  {
   "cell_type": "code",
   "execution_count": 253,
   "metadata": {},
   "outputs": [],
   "source": [
    "def product_type(item):\n",
    "    if 'Games' in item: return 'Game'\n",
    "    elif 'Controller' in item: return 'Controller'\n",
    "    elif 'Joysticks' in item: return 'Joystick'\n",
    "    elif 'Racing Wheel' in item: return 'Racing Wheel'\n",
    "    elif 'Gamepads' in item: return 'Gamepads'\n",
    "    elif 'Consoles' in item: return 'Console'\n",
    "    elif 'Cables' in item: return 'Cables'\n",
    "    elif 'System' in item: return 'System'\n",
    "    elif 'Batteries' in item: return 'System'\n",
    "    elif 'Headset' in item: return 'Headset'\n",
    "    elif 'DLC' in item: return 'DLC'\n",
    "    elif 'Figures' in item: return 'Figures'    \n",
    "    elif 'Mounts' or 'Brackets' or 'Stands' in item: return 'Mounts'    \n",
    "    elif 'Subscription' in item: return 'Subscription'\n",
    "    elif 'Accessories' in item: return 'Accessories'"
   ]
  },
  {
   "cell_type": "code",
   "execution_count": 254,
   "metadata": {},
   "outputs": [],
   "source": [
    "#Get the platform and product type of each item\n",
    "platform1 = full_videogames['category'].apply(lambda x: platform_type(str(x)))\n",
    "platform2 = full_videogames['description'].apply(lambda x: platform_type(str(x)))\n",
    "platform3 = full_videogames['feature'].apply(lambda x: platform_type(str(x)))\n",
    "product = full_videogames['category'].apply(lambda x: product_type(str(x)))\n",
    "\n",
    "#combines all the text from three columns to determine the platform \n",
    "platform = platform1 + ' ' + platform2 + ' ' + platform3\n",
    "platform = platform.apply(lambda x: platform_type(x))\n",
    "#None means that the platform was never mentioned in the entire posting\n",
    "\n",
    "full_videogames['platform'] = platform\n",
    "full_videogames['product'] = product"
   ]
  },
  {
   "cell_type": "code",
   "execution_count": 10,
   "metadata": {},
   "outputs": [],
   "source": [
    "#TODO: Include average rating of items"
   ]
  },
  {
   "cell_type": "markdown",
   "metadata": {},
   "source": [
    "## Videogames EDA"
   ]
  },
  {
   "cell_type": "code",
   "execution_count": 5,
   "metadata": {},
   "outputs": [],
   "source": [
    "from src.EDA import EDA\n",
    "eda = EDA()"
   ]
  },
  {
   "cell_type": "code",
   "execution_count": 323,
   "metadata": {},
   "outputs": [
    {
     "name": "stdout",
     "output_type": "stream",
     "text": [
      "Object `eda #update docstring` not found.\n"
     ]
    }
   ],
   "source": [
    "?eda #update docstring"
   ]
  },
  {
   "cell_type": "code",
   "execution_count": 265,
   "metadata": {
    "scrolled": true
   },
   "outputs": [
    {
     "data": {
      "image/png": "[encoded data removed]",
      "text/plain": [
       "<Figure size 1656x504 with 1 Axes>"
      ]
     },
     "metadata": {},
     "output_type": "display_data"
    },
    {
     "name": "stdout",
     "output_type": "stream",
     "text": [
      "Number of Unique Platforms:  45\n"
     ]
    }
   ],
   "source": [
    "#1. Top 10 Platforms BarH\n",
    "platform_counts = full_videogames['platform'].value_counts()\n",
    "platform_list = []\n",
    "count_list = []\n",
    "\n",
    "for key, val in platform_counts.items():\n",
    "    platform_list.append(str(key))\n",
    "    count_list.append(val)\n",
    "\n",
    "#plot here\n",
    "eda.print_bar(platform_list[:10][::-1], count_list[:10][::-1], x_label='Count', y_label='Platform', \n",
    "              title='Top 10 Popular Platforms', orientation='hort')\n",
    "\n",
    "#print number of uniques\n",
    "print('Number of Unique Platforms: ', full_videogames['platform'].nunique())"
   ]
  },
  {
   "cell_type": "code",
   "execution_count": 266,
   "metadata": {
    "scrolled": true
   },
   "outputs": [
    {
     "data": {
      "image/png": "[encoded data removed]",
      "text/plain": [
       "<Figure size 1656x504 with 1 Axes>"
      ]
     },
     "metadata": {},
     "output_type": "display_data"
    },
    {
     "name": "stdout",
     "output_type": "stream",
     "text": [
      "Number of Unique Brands:  7779\n"
     ]
    }
   ],
   "source": [
    "#2. Top 10 Brand BarH\n",
    "brand_counts = full_videogames['brand'].value_counts()\n",
    "brand_list = []\n",
    "count_list = []\n",
    "\n",
    "for key, val in brand_counts.items():\n",
    "    brand_list.append(str(key))\n",
    "    count_list.append(val)\n",
    "\n",
    "#plot here\n",
    "eda.print_bar(brand_list[:10][::-1], count_list[:10][::-1], x_label='Count', y_label='Brand', \n",
    "              title='Top 10 Popular Brands', orientation='hort')\n",
    "\n",
    "#print number of uniques\n",
    "print('Number of Unique Brands: ', full_videogames['brand'].nunique())"
   ]
  },
  {
   "cell_type": "code",
   "execution_count": 269,
   "metadata": {
    "scrolled": true
   },
   "outputs": [
    {
     "data": {
      "image/png": "[encoded data removed]",
      "text/plain": [
       "<Figure size 1656x504 with 1 Axes>"
      ]
     },
     "metadata": {},
     "output_type": "display_data"
    }
   ],
   "source": [
    "#3. Top 10 Product Type BarH\n",
    "product_counts = full_videogames['product'].value_counts()\n",
    "product_list = []\n",
    "count_list = []\n",
    "\n",
    "for key, val in product_counts.items():\n",
    "    product_list.append(str(key))\n",
    "    count_list.append(val)\n",
    "\n",
    "#plot here\n",
    "eda.print_bar(product_list[:10][::-1], count_list[:10][::-1], x_label='Count', y_label='Product Type', \n",
    "              title='Top 10 Popular Product Types', orientation='hort')"
   ]
  },
  {
   "cell_type": "markdown",
   "metadata": {},
   "source": [
    "##### Done with video games EDA"
   ]
  },
  {
   "cell_type": "code",
   "execution_count": 270,
   "metadata": {},
   "outputs": [],
   "source": [
    "#Save to new CSV\n",
    "full_videogames.to_csv('Data/full_videogames.csv')"
   ]
  },
  {
   "cell_type": "markdown",
   "metadata": {},
   "source": [
    "### Copy dataframe, then start Shrinking to unique values"
   ]
  },
  {
   "cell_type": "code",
   "execution_count": 671,
   "metadata": {},
   "outputs": [],
   "source": [
    "simple_videogames = full_videogames.copy()"
   ]
  },
  {
   "cell_type": "code",
   "execution_count": 672,
   "metadata": {},
   "outputs": [],
   "source": [
    "simple_videogames.drop('category', 1, inplace=True)"
   ]
  },
  {
   "cell_type": "code",
   "execution_count": 673,
   "metadata": {},
   "outputs": [],
   "source": [
    "# platform = simple_videogames['platform'].apply(lambda x: platform_type(x))\n",
    "# simple_videogames['platform'] = platform"
   ]
  },
  {
   "cell_type": "code",
   "execution_count": 675,
   "metadata": {},
   "outputs": [],
   "source": [
    "description = simple_videogames['title'] + ' ' + simple_videogames['brand'] + ' ' + simple_videogames['description'] + ' ' + simple_videogames['feature'] + ' ' + simple_videogames['platform'] + ' ' + simple_videogames['product']"
   ]
  },
  {
   "cell_type": "code",
   "execution_count": 676,
   "metadata": {},
   "outputs": [],
   "source": [
    "simple_videogames.drop(columns = ['title','brand','feature','product'], inplace=True)\n",
    "simple_videogames['description'] = description"
   ]
  },
  {
   "cell_type": "code",
   "execution_count": 677,
   "metadata": {
    "scrolled": false
   },
   "outputs": [
    {
     "data": {
      "text/html": [
       "<div>\n",
       "<style scoped>\n",
       "    .dataframe tbody tr th:only-of-type {\n",
       "        vertical-align: middle;\n",
       "    }\n",
       "\n",
       "    .dataframe tbody tr th {\n",
       "        vertical-align: top;\n",
       "    }\n",
       "\n",
       "    .dataframe thead th {\n",
       "        text-align: right;\n",
       "    }\n",
       "</style>\n",
       "<table border=\"1\" class=\"dataframe\">\n",
       "  <thead>\n",
       "    <tr style=\"text-align: right;\">\n",
       "      <th></th>\n",
       "      <th>Unnamed: 0</th>\n",
       "      <th>rank</th>\n",
       "      <th>asin</th>\n",
       "      <th>description</th>\n",
       "      <th>platform</th>\n",
       "    </tr>\n",
       "  </thead>\n",
       "  <tbody>\n",
       "    <tr>\n",
       "      <th>0</th>\n",
       "      <td>0</td>\n",
       "      <td>2623937.0</td>\n",
       "      <td>0042000742</td>\n",
       "      <td>Reversi Sensory Challenger Fidelity Electronic...</td>\n",
       "      <td>PC</td>\n",
       "    </tr>\n",
       "    <tr>\n",
       "      <th>1</th>\n",
       "      <td>1</td>\n",
       "      <td>67231.0</td>\n",
       "      <td>0078764343</td>\n",
       "      <td>Medal of Honor: Warfighter - Includes Battlefi...</td>\n",
       "      <td>Xbox360</td>\n",
       "    </tr>\n",
       "    <tr>\n",
       "      <th>2</th>\n",
       "      <td>2</td>\n",
       "      <td>134433.0</td>\n",
       "      <td>0276425316</td>\n",
       "      <td>street fighter 2 II turbo super nintendo snes ...</td>\n",
       "      <td>SuperNintendo</td>\n",
       "    </tr>\n",
       "    <tr>\n",
       "      <th>3</th>\n",
       "      <td>3</td>\n",
       "      <td>105263.0</td>\n",
       "      <td>0324411812</td>\n",
       "      <td>Xbox 360 MAS STICK MAS SYSTEMS MAS's Pro Xbox ...</td>\n",
       "      <td>PC</td>\n",
       "    </tr>\n",
       "    <tr>\n",
       "      <th>4</th>\n",
       "      <td>4</td>\n",
       "      <td>92397.0</td>\n",
       "      <td>0439335310</td>\n",
       "      <td>Phonics Alive! 3: The Speller Advanced Softwar...</td>\n",
       "      <td>PC</td>\n",
       "    </tr>\n",
       "  </tbody>\n",
       "</table>\n",
       "</div>"
      ],
      "text/plain": [
       "  Unnamed: 0       rank        asin  \\\n",
       "0          0  2623937.0  0042000742   \n",
       "1          1    67231.0  0078764343   \n",
       "2          2   134433.0  0276425316   \n",
       "3          3   105263.0  0324411812   \n",
       "4          4    92397.0  0439335310   \n",
       "\n",
       "                                         description       platform  \n",
       "0  Reversi Sensory Challenger Fidelity Electronic...             PC  \n",
       "1  Medal of Honor: Warfighter - Includes Battlefi...        Xbox360  \n",
       "2  street fighter 2 II turbo super nintendo snes ...  SuperNintendo  \n",
       "3  Xbox 360 MAS STICK MAS SYSTEMS MAS's Pro Xbox ...             PC  \n",
       "4  Phonics Alive! 3: The Speller Advanced Softwar...             PC  "
      ]
     },
     "execution_count": 677,
     "metadata": {},
     "output_type": "execute_result"
    }
   ],
   "source": [
    "simple_videogames.head()\n",
    "#would we want to have unique words in the description? or keep nuber of words "
   ]
  },
  {
   "cell_type": "code",
   "execution_count": 678,
   "metadata": {},
   "outputs": [],
   "source": [
    "#save to csv\n",
    "simple_videogames.to_csv('Data/simple_videogames.csv')"
   ]
  },
  {
   "cell_type": "markdown",
   "metadata": {},
   "source": [
    "# \"\"\"\"\"\"\"\"\"\"\"\"\"\"\"\"\"\"\"\"\"\"\"'"
   ]
  },
  {
   "cell_type": "markdown",
   "metadata": {},
   "source": [
    "# Cleaning Reviews DF ~"
   ]
  },
  {
   "cell_type": "code",
   "execution_count": 282,
   "metadata": {},
   "outputs": [],
   "source": [
    "#change image to 0 or 1\n",
    "main_reviews = reviews.copy()\n",
    "image = [0 if isinstance(i,float) else 1 for i in main_reviews.image]\n",
    "main_reviews['image'] = image"
   ]
  },
  {
   "cell_type": "code",
   "execution_count": 283,
   "metadata": {},
   "outputs": [],
   "source": [
    "#drop columns = reviewTime, reviewName, style, vote\n",
    "main_reviews.drop(columns=['reviewTime', 'reviewerName', 'style', 'vote'], inplace=True)"
   ]
  },
  {
   "cell_type": "markdown",
   "metadata": {},
   "source": [
    "### Handle Missing"
   ]
  },
  {
   "cell_type": "code",
   "execution_count": 286,
   "metadata": {},
   "outputs": [
    {
     "name": "stdout",
     "output_type": "stream",
     "text": [
      "Your selected dataframe has 8 columns and 2565349 Rows.\n",
      "There are 2 columns that have missing values.\n"
     ]
    },
    {
     "data": {
      "text/html": [
       "<div>\n",
       "<style scoped>\n",
       "    .dataframe tbody tr th:only-of-type {\n",
       "        vertical-align: middle;\n",
       "    }\n",
       "\n",
       "    .dataframe tbody tr th {\n",
       "        vertical-align: top;\n",
       "    }\n",
       "\n",
       "    .dataframe thead th {\n",
       "        text-align: right;\n",
       "    }\n",
       "</style>\n",
       "<table border=\"1\" class=\"dataframe\">\n",
       "  <thead>\n",
       "    <tr style=\"text-align: right;\">\n",
       "      <th></th>\n",
       "      <th>Zero Values</th>\n",
       "      <th>Missing Values</th>\n",
       "      <th>% of Total Values</th>\n",
       "      <th>Total Zero Missing Values</th>\n",
       "      <th>% Total Zero Missing Values</th>\n",
       "      <th>Data Type</th>\n",
       "    </tr>\n",
       "  </thead>\n",
       "  <tbody>\n",
       "    <tr>\n",
       "      <th>reviewText</th>\n",
       "      <td>0</td>\n",
       "      <td>1715</td>\n",
       "      <td>0.1</td>\n",
       "      <td>1715</td>\n",
       "      <td>0.1</td>\n",
       "      <td>object</td>\n",
       "    </tr>\n",
       "    <tr>\n",
       "      <th>summary</th>\n",
       "      <td>0</td>\n",
       "      <td>811</td>\n",
       "      <td>0.0</td>\n",
       "      <td>811</td>\n",
       "      <td>0.0</td>\n",
       "      <td>object</td>\n",
       "    </tr>\n",
       "  </tbody>\n",
       "</table>\n",
       "</div>"
      ],
      "text/plain": [
       "            Zero Values  Missing Values  % of Total Values  \\\n",
       "reviewText            0            1715                0.1   \n",
       "summary               0             811                0.0   \n",
       "\n",
       "            Total Zero Missing Values  % Total Zero Missing Values Data Type  \n",
       "reviewText                       1715                          0.1    object  \n",
       "summary                           811                          0.0    object  "
      ]
     },
     "execution_count": 286,
     "metadata": {},
     "output_type": "execute_result"
    }
   ],
   "source": [
    "missing_zero_values_table(main_reviews)"
   ]
  },
  {
   "cell_type": "code",
   "execution_count": 287,
   "metadata": {},
   "outputs": [
    {
     "data": {
      "text/plain": [
       "(array([False,  True]), array([2563634,    1715]))"
      ]
     },
     "execution_count": 287,
     "metadata": {},
     "output_type": "execute_result"
    }
   ],
   "source": [
    "np.unique(reviews.reviewText.isna(), return_counts=True)"
   ]
  },
  {
   "cell_type": "code",
   "execution_count": 288,
   "metadata": {},
   "outputs": [
    {
     "data": {
      "text/plain": [
       "(array([False,  True]), array([2564538,     811]))"
      ]
     },
     "execution_count": 288,
     "metadata": {},
     "output_type": "execute_result"
    }
   ],
   "source": [
    "np.unique(reviews.summary.isna(), return_counts=True)"
   ]
  },
  {
   "cell_type": "code",
   "execution_count": 289,
   "metadata": {},
   "outputs": [],
   "source": [
    "reviewText = main_reviews.reviewText.apply(lambda x: 'no_text_was_given' if isinstance(x, float) else x)"
   ]
  },
  {
   "cell_type": "code",
   "execution_count": 290,
   "metadata": {},
   "outputs": [],
   "source": [
    "summary = main_reviews.summary.apply(lambda x: 'no_summary_given' if isinstance(x, float) else x)"
   ]
  },
  {
   "cell_type": "code",
   "execution_count": 291,
   "metadata": {},
   "outputs": [],
   "source": [
    "main_reviews['reviewText'] = reviewText\n",
    "main_reviews['summary'] = summary"
   ]
  },
  {
   "cell_type": "code",
   "execution_count": 292,
   "metadata": {
    "scrolled": true
   },
   "outputs": [
    {
     "name": "stdout",
     "output_type": "stream",
     "text": [
      "Your selected dataframe has 8 columns and 2565349 Rows.\n",
      "There are 0 columns that have missing values.\n"
     ]
    },
    {
     "data": {
      "text/html": [
       "<div>\n",
       "<style scoped>\n",
       "    .dataframe tbody tr th:only-of-type {\n",
       "        vertical-align: middle;\n",
       "    }\n",
       "\n",
       "    .dataframe tbody tr th {\n",
       "        vertical-align: top;\n",
       "    }\n",
       "\n",
       "    .dataframe thead th {\n",
       "        text-align: right;\n",
       "    }\n",
       "</style>\n",
       "<table border=\"1\" class=\"dataframe\">\n",
       "  <thead>\n",
       "    <tr style=\"text-align: right;\">\n",
       "      <th></th>\n",
       "      <th>Zero Values</th>\n",
       "      <th>Missing Values</th>\n",
       "      <th>% of Total Values</th>\n",
       "      <th>Total Zero Missing Values</th>\n",
       "      <th>% Total Zero Missing Values</th>\n",
       "      <th>Data Type</th>\n",
       "    </tr>\n",
       "  </thead>\n",
       "  <tbody>\n",
       "  </tbody>\n",
       "</table>\n",
       "</div>"
      ],
      "text/plain": [
       "Empty DataFrame\n",
       "Columns: [Zero Values, Missing Values, % of Total Values, Total Zero Missing Values, % Total Zero Missing Values, Data Type]\n",
       "Index: []"
      ]
     },
     "execution_count": 292,
     "metadata": {},
     "output_type": "execute_result"
    }
   ],
   "source": [
    "missing_zero_values_table(main_reviews)"
   ]
  },
  {
   "cell_type": "code",
   "execution_count": 293,
   "metadata": {},
   "outputs": [],
   "source": [
    "#change verified values to 0 or 1\n",
    "verified = main_reviews['verified'].apply(lambda x: 1 if x==True else 0)\n",
    "main_reviews['verified'] = verified"
   ]
  },
  {
   "cell_type": "code",
   "execution_count": 294,
   "metadata": {},
   "outputs": [],
   "source": [
    "#change unixReviewTime to corresponding day/week/month/year\n",
    "ReviewTime = pd.Timestamp(main_reviews['unixReviewTime'][0], unit='s')\n",
    "day = ReviewTime.dayofyear\n",
    "week = ReviewTime.weekofyear\n",
    "month = ReviewTime.month\n",
    "year = ReviewTime.year\n",
    "\n",
    "main_reviews['day'] = day\n",
    "main_reviews['week'] = week\n",
    "main_reviews['month'] = month\n",
    "main_reviews['year'] = year"
   ]
  },
  {
   "cell_type": "code",
   "execution_count": 295,
   "metadata": {
    "scrolled": false
   },
   "outputs": [
    {
     "data": {
      "text/html": [
       "<div>\n",
       "<style scoped>\n",
       "    .dataframe tbody tr th:only-of-type {\n",
       "        vertical-align: middle;\n",
       "    }\n",
       "\n",
       "    .dataframe tbody tr th {\n",
       "        vertical-align: top;\n",
       "    }\n",
       "\n",
       "    .dataframe thead th {\n",
       "        text-align: right;\n",
       "    }\n",
       "</style>\n",
       "<table border=\"1\" class=\"dataframe\">\n",
       "  <thead>\n",
       "    <tr style=\"text-align: right;\">\n",
       "      <th></th>\n",
       "      <th>overall</th>\n",
       "      <th>verified</th>\n",
       "      <th>reviewerID</th>\n",
       "      <th>asin</th>\n",
       "      <th>reviewText</th>\n",
       "      <th>summary</th>\n",
       "      <th>unixReviewTime</th>\n",
       "      <th>image</th>\n",
       "      <th>day</th>\n",
       "      <th>week</th>\n",
       "      <th>month</th>\n",
       "      <th>year</th>\n",
       "    </tr>\n",
       "  </thead>\n",
       "  <tbody>\n",
       "    <tr>\n",
       "      <th>0</th>\n",
       "      <td>1</td>\n",
       "      <td>1</td>\n",
       "      <td>A21ROB4YDOZA5P</td>\n",
       "      <td>0439381673</td>\n",
       "      <td>I used to play this game years ago and loved i...</td>\n",
       "      <td>Did not like this</td>\n",
       "      <td>1402272000</td>\n",
       "      <td>0</td>\n",
       "      <td>160</td>\n",
       "      <td>24</td>\n",
       "      <td>6</td>\n",
       "      <td>2014</td>\n",
       "    </tr>\n",
       "    <tr>\n",
       "      <th>1</th>\n",
       "      <td>3</td>\n",
       "      <td>1</td>\n",
       "      <td>A3TNZ2Q5E7HTHD</td>\n",
       "      <td>0439381673</td>\n",
       "      <td>The game itself worked great but the story lin...</td>\n",
       "      <td>Almost Perfect</td>\n",
       "      <td>1399680000</td>\n",
       "      <td>0</td>\n",
       "      <td>160</td>\n",
       "      <td>24</td>\n",
       "      <td>6</td>\n",
       "      <td>2014</td>\n",
       "    </tr>\n",
       "    <tr>\n",
       "      <th>2</th>\n",
       "      <td>4</td>\n",
       "      <td>1</td>\n",
       "      <td>A1OKRM3QFEATQO</td>\n",
       "      <td>0439381673</td>\n",
       "      <td>I had to learn the hard way after ordering thi...</td>\n",
       "      <td>DOES NOT WORK WITH MAC OS unless it is 10.3 or...</td>\n",
       "      <td>1391731200</td>\n",
       "      <td>0</td>\n",
       "      <td>160</td>\n",
       "      <td>24</td>\n",
       "      <td>6</td>\n",
       "      <td>2014</td>\n",
       "    </tr>\n",
       "    <tr>\n",
       "      <th>3</th>\n",
       "      <td>1</td>\n",
       "      <td>1</td>\n",
       "      <td>A2XO1JFCNEYV3T</td>\n",
       "      <td>0439381673</td>\n",
       "      <td>The product description should state this clea...</td>\n",
       "      <td>does not work on Mac OSX</td>\n",
       "      <td>1391731200</td>\n",
       "      <td>0</td>\n",
       "      <td>160</td>\n",
       "      <td>24</td>\n",
       "      <td>6</td>\n",
       "      <td>2014</td>\n",
       "    </tr>\n",
       "    <tr>\n",
       "      <th>4</th>\n",
       "      <td>4</td>\n",
       "      <td>1</td>\n",
       "      <td>A19WLPIRHD15TH</td>\n",
       "      <td>0439381673</td>\n",
       "      <td>I would recommend this learning game for anyon...</td>\n",
       "      <td>Roughing it</td>\n",
       "      <td>1389830400</td>\n",
       "      <td>0</td>\n",
       "      <td>160</td>\n",
       "      <td>24</td>\n",
       "      <td>6</td>\n",
       "      <td>2014</td>\n",
       "    </tr>\n",
       "  </tbody>\n",
       "</table>\n",
       "</div>"
      ],
      "text/plain": [
       "   overall  verified      reviewerID        asin  \\\n",
       "0        1         1  A21ROB4YDOZA5P  0439381673   \n",
       "1        3         1  A3TNZ2Q5E7HTHD  0439381673   \n",
       "2        4         1  A1OKRM3QFEATQO  0439381673   \n",
       "3        1         1  A2XO1JFCNEYV3T  0439381673   \n",
       "4        4         1  A19WLPIRHD15TH  0439381673   \n",
       "\n",
       "                                          reviewText  \\\n",
       "0  I used to play this game years ago and loved i...   \n",
       "1  The game itself worked great but the story lin...   \n",
       "2  I had to learn the hard way after ordering thi...   \n",
       "3  The product description should state this clea...   \n",
       "4  I would recommend this learning game for anyon...   \n",
       "\n",
       "                                             summary  unixReviewTime  image  \\\n",
       "0                                  Did not like this      1402272000      0   \n",
       "1                                     Almost Perfect      1399680000      0   \n",
       "2  DOES NOT WORK WITH MAC OS unless it is 10.3 or...      1391731200      0   \n",
       "3                           does not work on Mac OSX      1391731200      0   \n",
       "4                                        Roughing it      1389830400      0   \n",
       "\n",
       "   day  week  month  year  \n",
       "0  160    24      6  2014  \n",
       "1  160    24      6  2014  \n",
       "2  160    24      6  2014  \n",
       "3  160    24      6  2014  \n",
       "4  160    24      6  2014  "
      ]
     },
     "execution_count": 295,
     "metadata": {},
     "output_type": "execute_result"
    }
   ],
   "source": [
    "main_reviews.head()"
   ]
  },
  {
   "cell_type": "code",
   "execution_count": 296,
   "metadata": {},
   "outputs": [],
   "source": [
    "#Save dataframe to CSV\n",
    "main_reviews.to_csv('Data/main_reviews.csv')"
   ]
  },
  {
   "cell_type": "markdown",
   "metadata": {},
   "source": [
    "## Reviews EDA"
   ]
  },
  {
   "cell_type": "code",
   "execution_count": 329,
   "metadata": {},
   "outputs": [
    {
     "data": {
      "image/png": "[encoded data removed]",
      "text/plain": [
       "<Figure size 1656x504 with 1 Axes>"
      ]
     },
     "metadata": {},
     "output_type": "display_data"
    }
   ],
   "source": [
    "#1. Barplot on ratings given\n",
    "ratings = []\n",
    "counts = []\n",
    "\n",
    "for idx, val in main_reviews['overall'].value_counts().sort_index().items():\n",
    "    ratings.append(idx)\n",
    "    counts.append(val)\n",
    "\n",
    "#Graph Barplot\n",
    "eda.print_bar(x=ratings, y=counts, x_label='Ratings', y_label='Counts', title='Number of Ratings Posted', orientation='vert')\n",
    "\n",
    "# plt.savefig('Images/Number_of_Ratings.jpg')"
   ]
  },
  {
   "cell_type": "code",
   "execution_count": 332,
   "metadata": {},
   "outputs": [
    {
     "data": {
      "image/png": "[encoded data removed]",
      "text/plain": [
       "<Figure size 1656x504 with 1 Axes>"
      ]
     },
     "metadata": {},
     "output_type": "display_data"
    }
   ],
   "source": [
    "#2. Barplot on Verified vs Unverified Purchased\n",
    "verified_unverified_labels = ['Unverified', 'Verified']\n",
    "verified_unverified_count = [0, 1]\n",
    "\n",
    "for idx, val in main_reviews['verified'].value_counts().sort_index().items():\n",
    "    verified_unverified_count[idx] = val\n",
    "\n",
    "#Graph Barplot\n",
    "eda.print_bar(x=verified_unverified_labels, y=verified_unverified_count, x_label='Verified / Unverified Purchase', y_label='Counts', title='Number of Ratings Posted', orientation='vert')\n",
    "\n",
    "# plt.savefig('Images/Verified_vs_Unverified.jpg')"
   ]
  },
  {
   "cell_type": "code",
   "execution_count": 333,
   "metadata": {},
   "outputs": [
    {
     "data": {
      "image/png": "[encoded data removed]",
      "text/plain": [
       "<Figure size 1656x504 with 1 Axes>"
      ]
     },
     "metadata": {},
     "output_type": "display_data"
    }
   ],
   "source": [
    "#3. Barplot on number of reviews with image attached\n",
    "image_labels = ['No Image Attached', 'Image Attached']\n",
    "image_counts = [0, 1]\n",
    "\n",
    "for idx, val in main_reviews['image'].value_counts().sort_index().items():\n",
    "    image_counts[idx] = val\n",
    "    \n",
    "#Graph barplot\n",
    "eda.print_bar(x=image_labels, y=image_counts, x_label='No Image / Image Added', y_label='Counts', title='Numbers of Reviews with Images', orientation='vert')\n",
    "\n",
    "# plt.savefig('Images/Verified_vs_Unverified.jpg')"
   ]
  },
  {
   "cell_type": "markdown",
   "metadata": {},
   "source": [
    "# ^ END UP EDA ^"
   ]
  },
  {
   "cell_type": "markdown",
   "metadata": {},
   "source": [
    "### =============================================================="
   ]
  },
  {
   "cell_type": "markdown",
   "metadata": {},
   "source": [
    "## START OF RECOMMENDER SYSTEM"
   ]
  },
  {
   "cell_type": "code",
   "execution_count": 92,
   "metadata": {},
   "outputs": [],
   "source": [
    "from src.EDA import EDA\n",
    "eda = EDA()"
   ]
  },
  {
   "cell_type": "markdown",
   "metadata": {},
   "source": [
    "### Ratings - Filtering out reviewerIDs with less than 5 reviews"
   ]
  },
  {
   "cell_type": "code",
   "execution_count": 36,
   "metadata": {},
   "outputs": [],
   "source": [
    "#first make copy of reviews\n",
    "tokenized_reviews_df = pd.read_csv('Data/simple_reviews.csv')"
   ]
  },
  {
   "cell_type": "code",
   "execution_count": 41,
   "metadata": {},
   "outputs": [
    {
     "data": {
      "text/html": [
       "<div>\n",
       "<style scoped>\n",
       "    .dataframe tbody tr th:only-of-type {\n",
       "        vertical-align: middle;\n",
       "    }\n",
       "\n",
       "    .dataframe tbody tr th {\n",
       "        vertical-align: top;\n",
       "    }\n",
       "\n",
       "    .dataframe thead th {\n",
       "        text-align: right;\n",
       "    }\n",
       "</style>\n",
       "<table border=\"1\" class=\"dataframe\">\n",
       "  <thead>\n",
       "    <tr style=\"text-align: right;\">\n",
       "      <th></th>\n",
       "      <th>rating</th>\n",
       "      <th>reviewerID</th>\n",
       "      <th>asin</th>\n",
       "      <th>reviewText</th>\n",
       "    </tr>\n",
       "  </thead>\n",
       "  <tbody>\n",
       "    <tr>\n",
       "      <th>0</th>\n",
       "      <td>1</td>\n",
       "      <td>A21ROB4YDOZA5P</td>\n",
       "      <td>0439381673</td>\n",
       "      <td>I used to play this game years ago and loved i...</td>\n",
       "    </tr>\n",
       "    <tr>\n",
       "      <th>1</th>\n",
       "      <td>3</td>\n",
       "      <td>A3TNZ2Q5E7HTHD</td>\n",
       "      <td>0439381673</td>\n",
       "      <td>The game itself worked great but the story lin...</td>\n",
       "    </tr>\n",
       "    <tr>\n",
       "      <th>2</th>\n",
       "      <td>4</td>\n",
       "      <td>A1OKRM3QFEATQO</td>\n",
       "      <td>0439381673</td>\n",
       "      <td>I had to learn the hard way after ordering thi...</td>\n",
       "    </tr>\n",
       "  </tbody>\n",
       "</table>\n",
       "</div>"
      ],
      "text/plain": [
       "   rating      reviewerID        asin  \\\n",
       "0       1  A21ROB4YDOZA5P  0439381673   \n",
       "1       3  A3TNZ2Q5E7HTHD  0439381673   \n",
       "2       4  A1OKRM3QFEATQO  0439381673   \n",
       "\n",
       "                                          reviewText  \n",
       "0  I used to play this game years ago and loved i...  \n",
       "1  The game itself worked great but the story lin...  \n",
       "2  I had to learn the hard way after ordering thi...  "
      ]
     },
     "execution_count": 41,
     "metadata": {},
     "output_type": "execute_result"
    }
   ],
   "source": [
    "tokenized_reviews_df.head(3)"
   ]
  },
  {
   "cell_type": "code",
   "execution_count": 38,
   "metadata": {},
   "outputs": [],
   "source": [
    "tokenized_reviews_df.drop(columns=['Unnamed: 0'],inplace=True)"
   ]
  },
  {
   "cell_type": "code",
   "execution_count": 40,
   "metadata": {},
   "outputs": [],
   "source": [
    "#get the value counts of times a reviewer has reviewed items\n",
    "reviewerID_reviewCounts = tokenized_reviews_df['reviewerID'].value_counts()\n",
    "\n",
    "#get a list of reviewer ID that has reviewed more than 5 times\n",
    "reviewerID_indexes = reviewerID_reviewCounts[reviewerID_reviewCounts > 5].index\n"
   ]
  },
  {
   "cell_type": "code",
   "execution_count": 43,
   "metadata": {},
   "outputs": [],
   "source": [
    "#filter dataframe to hold just the rows with needed reviewerID\n",
    "rating_table = tokenized_reviews_df[tokenized_reviews_df['reviewerID'].isin(reviewerID_indexes)] "
   ]
  },
  {
   "cell_type": "code",
   "execution_count": 44,
   "metadata": {},
   "outputs": [
    {
     "name": "stdout",
     "output_type": "stream",
     "text": [
      "Table shape after filtering out reviewerID:  (486765, 4)\n"
     ]
    }
   ],
   "source": [
    "print('Table shape after filtering out reviewerID: ', rating_table.shape)"
   ]
  },
  {
   "cell_type": "markdown",
   "metadata": {},
   "source": [
    "### Ratings - Filtering out asins with less than 5 reviews"
   ]
  },
  {
   "cell_type": "code",
   "execution_count": 45,
   "metadata": {},
   "outputs": [],
   "source": [
    "#get the value counts of times an item has been reviewed\n",
    "asinID_reviewCounts = tokenized_reviews_df['asin'].value_counts()\n",
    "\n",
    "#get a list of asin that has reviewed more than 5 times\n",
    "asinID_indexes = asinID_reviewCounts[asinID_reviewCounts > 5].index\n"
   ]
  },
  {
   "cell_type": "code",
   "execution_count": 46,
   "metadata": {},
   "outputs": [],
   "source": [
    "#filter dataframe to hold just the rows with needed asins\n",
    "rating_table = rating_table[rating_table['asin'].isin(asinID_indexes)] "
   ]
  },
  {
   "cell_type": "code",
   "execution_count": 47,
   "metadata": {},
   "outputs": [
    {
     "name": "stdout",
     "output_type": "stream",
     "text": [
      "Table shape after filtering out asinD:  (468297, 4)\n"
     ]
    }
   ],
   "source": [
    "print('Table shape after filtering out asinD: ', rating_table.shape)"
   ]
  },
  {
   "cell_type": "code",
   "execution_count": 62,
   "metadata": {
    "scrolled": true
   },
   "outputs": [],
   "source": [
    "rating_table.drop('reviewText',1,inplace=True)"
   ]
  },
  {
   "cell_type": "code",
   "execution_count": 63,
   "metadata": {},
   "outputs": [],
   "source": [
    "rating_table.to_csv('Data/rating_table.csv')"
   ]
  },
  {
   "cell_type": "markdown",
   "metadata": {},
   "source": [
    "## Ratings - Recommender System by Ratings"
   ]
  },
  {
   "cell_type": "code",
   "execution_count": 68,
   "metadata": {},
   "outputs": [],
   "source": [
    "from sklearn.metrics.pairwise import cosine_similarity"
   ]
  },
  {
   "cell_type": "code",
   "execution_count": 34,
   "metadata": {},
   "outputs": [],
   "source": [
    "def replace_asin(x):\n",
    "    return simple_videogames[simple_videogames['asin']==x]['description'].value[0]"
   ]
  },
  {
   "cell_type": "code",
   "execution_count": 70,
   "metadata": {},
   "outputs": [],
   "source": [
    "def pearson(s1, s2):\n",
    "    s1_c = s1-s1.mean()\n",
    "    s2_c = s2-s2.mean()\n",
    "    return np.sum(s1_c * s2_c)/np.sqrt(np.sum(s1_c**2)*np.sum(s2_c**2))"
   ]
  },
  {
   "cell_type": "code",
   "execution_count": 71,
   "metadata": {},
   "outputs": [],
   "source": [
    "def get_recs(asin_id, rating_table, num, similarity_type='pearson'):\n",
    "    \n",
    "    recommendations = []\n",
    "    \n",
    "    #Pearson Similarity\n",
    "    if similarity_type=='pearson':\n",
    "        similarity_calculator = pearson\n",
    "    \n",
    "    #Cosine Similarity\n",
    "    elif similarity_type=='cosine similarity':\n",
    "        similarity_calculator = cosine_similarity\n",
    "\n",
    "#     #Jaccard Similarity [find/make actual jaccard function]\n",
    "#     elif similarity_type=='jaccard':\n",
    "#         cor = jaccard        \n",
    "    \n",
    "    for asin in rating_table.columns:\n",
    "        if asin == asin_id:\n",
    "            continue\n",
    "                \n",
    "        cor = similarity_calculator(rating_table[asin_id], rating_table[asin])\n",
    "\n",
    "        #checks if the correlation is nan; if so, then continue\n",
    "        if np.isnan(cor):\n",
    "            continue\n",
    "        else:\n",
    "            recommendations.append((asin, cor))\n",
    "        \n",
    "    recommendations.sort(key=lambda tup: tup[1], reverse=True)\n",
    "    return recommendations[:num]"
   ]
  },
  {
   "cell_type": "markdown",
   "metadata": {},
   "source": [
    "### Ratings - TESTING RECOMMNDER"
   ]
  },
  {
   "cell_type": "code",
   "execution_count": 74,
   "metadata": {},
   "outputs": [],
   "source": [
    "rating_table = rating_table.pivot_table(index=['reviewerID'],columns=['asin'], values='rating')"
   ]
  },
  {
   "cell_type": "code",
   "execution_count": 75,
   "metadata": {},
   "outputs": [],
   "source": [
    "rating_table = rating_table.fillna(0)"
   ]
  },
  {
   "cell_type": "markdown",
   "metadata": {},
   "source": [
    "### Testing Recommendator: by Ratings"
   ]
  },
  {
   "cell_type": "code",
   "execution_count": 76,
   "metadata": {},
   "outputs": [],
   "source": [
    "recs = get_recs('0700026398', rating_table, 10)"
   ]
  },
  {
   "cell_type": "code",
   "execution_count": 77,
   "metadata": {
    "scrolled": false
   },
   "outputs": [
    {
     "data": {
      "text/plain": [
       "[('B00ME4B57M', 0.5129751384510466),\n",
       " ('B00LBGWWTO', 0.41880299108110375),\n",
       " ('B00Q6A56DY', 0.41036851364695287),\n",
       " ('B00M2NYMVQ', 0.32187937719427206),\n",
       " ('B009YCYW4U', 0.29013663615788104),\n",
       " ('B01GEXD3TG', 0.2872711674037573),\n",
       " ('B000H7H9O6', 0.28569818279767834),\n",
       " ('B00KSN7NKE', 0.2844887697748613),\n",
       " ('B00BLVM01E', 0.24464066679005658),\n",
       " ('B0027BJENO', 0.2307789721050444)]"
      ]
     },
     "execution_count": 77,
     "metadata": {},
     "output_type": "execute_result"
    }
   ],
   "source": [
    "recs"
   ]
  },
  {
   "cell_type": "code",
   "execution_count": 120,
   "metadata": {},
   "outputs": [],
   "source": [
    "#save recommendation table\n",
    "rating_table.to_csv('Data/recommender_rating_table.csv')"
   ]
  },
  {
   "cell_type": "markdown",
   "metadata": {},
   "source": [
    "### =============================================================="
   ]
  },
  {
   "cell_type": "markdown",
   "metadata": {},
   "source": [
    "### DROP DUPLICATES, FILL NANS, AND FILTER OUT PRODUCTS WITHOUT ANY RATINGS"
   ]
  },
  {
   "cell_type": "code",
   "execution_count": 7,
   "metadata": {},
   "outputs": [],
   "source": [
    "#Copy main_reviews\n",
    "simple_reviews = pd.read_csv('Data/main_reviews.csv')\n",
    "\n",
    "#load up simple_videogames from csv\n",
    "simple_videogames = pd.read_csv('Data/simple_videogames.csv')\n",
    "\n",
    "#Cleaning out rows without asin value\n",
    "simple_videogames = simple_videogames[simple_videogames['asin'].notna()]\n",
    "\n",
    "#Drop duplicates\n",
    "simple_videogames.drop_duplicates('asin', inplace=True)\n",
    "\n",
    "#Check which asin has not been rated before\n",
    "#unique asin in reviews\n",
    "main_reviews_unique_asin = simple_reviews['asin'].to_list()\n",
    "#unique asin in videogames\n",
    "main_videogames_unique_asin = simple_videogames['asin'].to_list()\n",
    "\n",
    "#Get the asin values that are not in both\n",
    "not_reviewed_asin = np.setdiff1d(main_videogames_unique_asin, main_reviews_unique_asin)\n",
    "\n",
    "#manually remove the different asin values\n",
    "simple_videogames = simple_videogames[simple_videogames['asin']!='B0001XASGW']\n",
    "simple_videogames = simple_videogames[simple_videogames['asin']!='B000WCEENK']\n",
    "\n",
    "#convert asin to sorted list to compare with asin from reviews and videogames\n",
    "simple_reviews_asin = np.sort(main_reviews_unique_asin)\n",
    "simple_videogames_asin = np.sort(simple_videogames['asin'])\n",
    "similar = simple_reviews_asin == simple_videogames_asin\n",
    "np.unique(similar)\n",
    "\n",
    "#Alternate way \n",
    "# Counter(similar).keys()\n",
    "# Counter(similar).values()"
   ]
  },
  {
   "cell_type": "code",
   "execution_count": 21,
   "metadata": {},
   "outputs": [],
   "source": [
    "simple_videogames.to_csv('Data/THE_SIMPLE_VIDEOGAMES.csv')"
   ]
  },
  {
   "cell_type": "markdown",
   "metadata": {},
   "source": [
    "# RECOMMENDER MODEL BASED OFF DESCRIPTION"
   ]
  },
  {
   "cell_type": "code",
   "execution_count": 21,
   "metadata": {},
   "outputs": [],
   "source": [
    "simple_videogames.read_csv('Data/THE_SIMPLE_VIDEOGAMES.csv')"
   ]
  },
  {
   "cell_type": "code",
   "execution_count": 26,
   "metadata": {},
   "outputs": [],
   "source": [
    "simple_videogames['bag_of_words'] = simple_videogames['description'] + ' ' + simple_videogames['platform']"
   ]
  },
  {
   "cell_type": "code",
   "execution_count": 812,
   "metadata": {},
   "outputs": [],
   "source": [
    "#DO NOT RUN THIS ANYMORE\n",
    "#adding platform to videogame description\n",
    "gameplatforms = simple_videogames[['asin','platform']]\n",
    "\n",
    "#matches up asin with platforms\n",
    "review_platforms = simple_reviews['asin'].apply(lambda x: gameplatforms[gameplatforms['asin']==x].iloc[0].platform)\n",
    "\n",
    "#set platform column to the reviews\n",
    "simple_reviews['platform'] = review_platforms\n",
    "\n",
    "#combine all words to be tokenized\n",
    "reviewText = simple_reviews['reviewText'] + ' ' + simple_reviews['summary'] + ' ' + simple_reviews['platform']\n",
    "\n",
    "simple_reviews['reviewText'] = reviewText\n",
    "simple_reviews.drop(columns=['summary','platform'], inplace=True)\n",
    "\n",
    "#rename 'overall' column to 'rating'\n",
    "simple_reviews.rename(columns={'overall':'rating'}, inplace=True)"
   ]
  },
  {
   "cell_type": "code",
   "execution_count": 82,
   "metadata": {},
   "outputs": [],
   "source": [
    "simple_reviews.to_csv('Data/simple_reviews.csv')"
   ]
  },
  {
   "cell_type": "markdown",
   "metadata": {},
   "source": [
    "## Add average ratings to videogames"
   ]
  },
  {
   "cell_type": "code",
   "execution_count": 584,
   "metadata": {
    "collapsed": true
   },
   "outputs": [
    {
     "data": {
      "text/plain": [
       "asin\n",
       "0042000742    5.000000\n",
       "0078764343    4.750000\n",
       "0276425316    5.000000\n",
       "0324411812    1.000000\n",
       "0439335299    3.000000\n",
       "                ...   \n",
       "B01HJ14OT0    5.000000\n",
       "B01HJ14TTA    3.000000\n",
       "B01HJ1521Y    5.000000\n",
       "B01HJC33WS    4.590909\n",
       "B01HJEBIAA    4.233333\n",
       "Name: rating, Length: 71982, dtype: float64"
      ]
     },
     "execution_count": 584,
     "metadata": {},
     "output_type": "execute_result"
    }
   ],
   "source": [
    "#Get average rating of each asin\n",
    "ratings = simple_reviews.groupby('asin')['rating'].mean()"
   ]
  },
  {
   "cell_type": "code",
   "execution_count": 716,
   "metadata": {},
   "outputs": [],
   "source": [
    "#sort videogames df by asin values\n",
    "simple_videogames.sort_values(by = 'asin', inplace=True)\n",
    "\n",
    "#add ratings to videogames\n",
    "simple_videogames['rating'] = ratings.values"
   ]
  },
  {
   "cell_type": "code",
   "execution_count": 763,
   "metadata": {},
   "outputs": [],
   "source": [
    "#replace nan descriptions with empty string\n",
    "simple_videogames['description'].fillna(\"\", inplace=True)"
   ]
  },
  {
   "cell_type": "code",
   "execution_count": 790,
   "metadata": {
    "scrolled": false
   },
   "outputs": [
    {
     "data": {
      "text/html": [
       "<div>\n",
       "<style scoped>\n",
       "    .dataframe tbody tr th:only-of-type {\n",
       "        vertical-align: middle;\n",
       "    }\n",
       "\n",
       "    .dataframe tbody tr th {\n",
       "        vertical-align: top;\n",
       "    }\n",
       "\n",
       "    .dataframe thead th {\n",
       "        text-align: right;\n",
       "    }\n",
       "</style>\n",
       "<table border=\"1\" class=\"dataframe\">\n",
       "  <thead>\n",
       "    <tr style=\"text-align: right;\">\n",
       "      <th></th>\n",
       "      <th>rank</th>\n",
       "      <th>asin</th>\n",
       "      <th>description</th>\n",
       "      <th>platform</th>\n",
       "      <th>rating</th>\n",
       "      <th>tokens</th>\n",
       "    </tr>\n",
       "  </thead>\n",
       "  <tbody>\n",
       "  </tbody>\n",
       "</table>\n",
       "</div>"
      ],
      "text/plain": [
       "Empty DataFrame\n",
       "Columns: [rank, asin, description, platform, rating, tokens]\n",
       "Index: []"
      ]
     },
     "execution_count": 790,
     "metadata": {},
     "output_type": "execute_result"
    }
   ],
   "source": [
    "simple_videogames[simple_videogames['description'].isna()]"
   ]
  },
  {
   "cell_type": "markdown",
   "metadata": {},
   "source": [
    "### Tokenize simple_videogames_description"
   ]
  },
  {
   "cell_type": "code",
   "execution_count": 96,
   "metadata": {
    "scrolled": false
   },
   "outputs": [
    {
     "data": {
      "text/html": [
       "<div>\n",
       "<style scoped>\n",
       "    .dataframe tbody tr th:only-of-type {\n",
       "        vertical-align: middle;\n",
       "    }\n",
       "\n",
       "    .dataframe tbody tr th {\n",
       "        vertical-align: top;\n",
       "    }\n",
       "\n",
       "    .dataframe thead th {\n",
       "        text-align: right;\n",
       "    }\n",
       "</style>\n",
       "<table border=\"1\" class=\"dataframe\">\n",
       "  <thead>\n",
       "    <tr style=\"text-align: right;\">\n",
       "      <th></th>\n",
       "      <th>rank</th>\n",
       "      <th>asin</th>\n",
       "      <th>description</th>\n",
       "      <th>platform</th>\n",
       "      <th>rating</th>\n",
       "      <th>bag_of_words</th>\n",
       "    </tr>\n",
       "  </thead>\n",
       "  <tbody>\n",
       "    <tr>\n",
       "      <th>0</th>\n",
       "      <td>2623937.0</td>\n",
       "      <td>0042000742</td>\n",
       "      <td>Reversi Sensory Challenger Fidelity Electronic...</td>\n",
       "      <td>PC</td>\n",
       "      <td>5.00</td>\n",
       "      <td>Reversi Sensory Challenger Fidelity Electronic...</td>\n",
       "    </tr>\n",
       "    <tr>\n",
       "      <th>1</th>\n",
       "      <td>67231.0</td>\n",
       "      <td>0078764343</td>\n",
       "      <td>Medal of Honor: Warfighter - Includes Battlefi...</td>\n",
       "      <td>Xbox360</td>\n",
       "      <td>4.75</td>\n",
       "      <td>Medal of Honor: Warfighter - Includes Battlefi...</td>\n",
       "    </tr>\n",
       "    <tr>\n",
       "      <th>2</th>\n",
       "      <td>134433.0</td>\n",
       "      <td>0276425316</td>\n",
       "      <td>street fighter 2 II turbo super nintendo snes ...</td>\n",
       "      <td>SuperNintendo</td>\n",
       "      <td>5.00</td>\n",
       "      <td>street fighter 2 II turbo super nintendo snes ...</td>\n",
       "    </tr>\n",
       "    <tr>\n",
       "      <th>3</th>\n",
       "      <td>105263.0</td>\n",
       "      <td>0324411812</td>\n",
       "      <td>Xbox 360 MAS STICK MAS SYSTEMS MAS's Pro Xbox ...</td>\n",
       "      <td>PC</td>\n",
       "      <td>1.00</td>\n",
       "      <td>Xbox 360 MAS STICK MAS SYSTEMS MAS's Pro Xbox ...</td>\n",
       "    </tr>\n",
       "    <tr>\n",
       "      <th>4</th>\n",
       "      <td>117477.0</td>\n",
       "      <td>0439335299</td>\n",
       "      <td>Phonics Alive! 2 The Sound Blender Advanced So...</td>\n",
       "      <td>PC</td>\n",
       "      <td>3.00</td>\n",
       "      <td>Phonics Alive! 2 The Sound Blender Advanced So...</td>\n",
       "    </tr>\n",
       "  </tbody>\n",
       "</table>\n",
       "</div>"
      ],
      "text/plain": [
       "        rank        asin                                        description  \\\n",
       "0  2623937.0  0042000742  Reversi Sensory Challenger Fidelity Electronic...   \n",
       "1    67231.0  0078764343  Medal of Honor: Warfighter - Includes Battlefi...   \n",
       "2   134433.0  0276425316  street fighter 2 II turbo super nintendo snes ...   \n",
       "3   105263.0  0324411812  Xbox 360 MAS STICK MAS SYSTEMS MAS's Pro Xbox ...   \n",
       "4   117477.0  0439335299  Phonics Alive! 2 The Sound Blender Advanced So...   \n",
       "\n",
       "        platform  rating                                       bag_of_words  \n",
       "0             PC    5.00  Reversi Sensory Challenger Fidelity Electronic...  \n",
       "1        Xbox360    4.75  Medal of Honor: Warfighter - Includes Battlefi...  \n",
       "2  SuperNintendo    5.00  street fighter 2 II turbo super nintendo snes ...  \n",
       "3             PC    1.00  Xbox 360 MAS STICK MAS SYSTEMS MAS's Pro Xbox ...  \n",
       "4             PC    3.00  Phonics Alive! 2 The Sound Blender Advanced So...  "
      ]
     },
     "execution_count": 96,
     "metadata": {},
     "output_type": "execute_result"
    }
   ],
   "source": [
    "simple_videogames.head()"
   ]
  },
  {
   "cell_type": "code",
   "execution_count": 100,
   "metadata": {},
   "outputs": [],
   "source": [
    "#remove na values\n",
    "simple_videogames['bag_of_words'] = simple_videogames['bag_of_words'].fillna(\"\")"
   ]
  },
  {
   "cell_type": "code",
   "execution_count": 101,
   "metadata": {},
   "outputs": [],
   "source": [
    "# #Tokenizes bag of words for count vectorizing later\n",
    "# simple_videogames_tokens = simple_videogames['bag_of_words'].apply(lambda x: eda.personal_tokenize(x))"
   ]
  },
  {
   "cell_type": "code",
   "execution_count": 116,
   "metadata": {},
   "outputs": [
    {
     "data": {
      "text/plain": [
       "0    reversi sensori challeng fidel electron pc gam...\n",
       "1    medal honor warfight includ battlefield 4 beta...\n",
       "2    street fighter 2 ii turbo super nintendo snes ...\n",
       "Name: bag_of_words, dtype: object"
      ]
     },
     "execution_count": 116,
     "metadata": {},
     "output_type": "execute_result"
    }
   ],
   "source": [
    "simple_videogames_tokens[:4]"
   ]
  },
  {
   "cell_type": "code",
   "execution_count": 105,
   "metadata": {},
   "outputs": [],
   "source": [
    "simple_videogames['bag_of_words'] = simple_videogames_tokens"
   ]
  },
  {
   "cell_type": "code",
   "execution_count": 107,
   "metadata": {},
   "outputs": [],
   "source": [
    "#save to csv\n",
    "simple_videogames.to_csv('Data/videogames_w_bag_of_words.csv')"
   ]
  },
  {
   "cell_type": "code",
   "execution_count": 8,
   "metadata": {},
   "outputs": [],
   "source": [
    "#load from csv\n",
    "simple_videogames = pd.read_csv('Data/videogames_w_bag_of_words.csv', index_col=0)\n",
    "videogame_description_table = simple_videogames.drop(columns = ['rank','description','platform','rating'])\n",
    "videogame_description_table = videogame_description_table.fillna(\"\")"
   ]
  },
  {
   "cell_type": "code",
   "execution_count": 9,
   "metadata": {},
   "outputs": [],
   "source": [
    "#remove duplicate words from bag_of_words\n",
    "bag_of_words = videogame_description_table['bag_of_words'].apply(lambda x: eda.remov_duplicates(x))\n",
    "videogame_description_table['bag_of_words'] = bag_of_words"
   ]
  },
  {
   "cell_type": "code",
   "execution_count": 132,
   "metadata": {},
   "outputs": [
    {
     "data": {
      "text/html": [
       "<div>\n",
       "<style scoped>\n",
       "    .dataframe tbody tr th:only-of-type {\n",
       "        vertical-align: middle;\n",
       "    }\n",
       "\n",
       "    .dataframe tbody tr th {\n",
       "        vertical-align: top;\n",
       "    }\n",
       "\n",
       "    .dataframe thead th {\n",
       "        text-align: right;\n",
       "    }\n",
       "</style>\n",
       "<table border=\"1\" class=\"dataframe\">\n",
       "  <thead>\n",
       "    <tr style=\"text-align: right;\">\n",
       "      <th></th>\n",
       "      <th>asin</th>\n",
       "      <th>bag_of_words</th>\n",
       "    </tr>\n",
       "  </thead>\n",
       "  <tbody>\n",
       "    <tr>\n",
       "      <th>0</th>\n",
       "      <td>0042000742</td>\n",
       "      <td>reversi sensori challeng fidel electron pc game</td>\n",
       "    </tr>\n",
       "    <tr>\n",
       "      <th>1</th>\n",
       "      <td>0078764343</td>\n",
       "      <td>medal honor warfight includ battlefield 4 beta...</td>\n",
       "    </tr>\n",
       "    <tr>\n",
       "      <th>2</th>\n",
       "      <td>0276425316</td>\n",
       "      <td>street fighter 2 ii turbo super nintendo snes ...</td>\n",
       "    </tr>\n",
       "    <tr>\n",
       "      <th>3</th>\n",
       "      <td>0324411812</td>\n",
       "      <td>xbox 360 mas stick system 's pro perfect sf st...</td>\n",
       "    </tr>\n",
       "    <tr>\n",
       "      <th>4</th>\n",
       "      <td>0439335299</td>\n",
       "      <td>phonic aliv 2 sound blender advanc softwar par...</td>\n",
       "    </tr>\n",
       "  </tbody>\n",
       "</table>\n",
       "</div>"
      ],
      "text/plain": [
       "         asin                                       bag_of_words\n",
       "0  0042000742    reversi sensori challeng fidel electron pc game\n",
       "1  0078764343  medal honor warfight includ battlefield 4 beta...\n",
       "2  0276425316  street fighter 2 ii turbo super nintendo snes ...\n",
       "3  0324411812  xbox 360 mas stick system 's pro perfect sf st...\n",
       "4  0439335299  phonic aliv 2 sound blender advanc softwar par..."
      ]
     },
     "execution_count": 132,
     "metadata": {},
     "output_type": "execute_result"
    }
   ],
   "source": [
    "videogame_description_table.head()"
   ]
  },
  {
   "cell_type": "code",
   "execution_count": 10,
   "metadata": {},
   "outputs": [],
   "source": [
    "#subset of videogame_description_table \n",
    "subset = videogame_description_table['bag_of_words'][:30000]"
   ]
  },
  {
   "cell_type": "code",
   "execution_count": 21,
   "metadata": {},
   "outputs": [
    {
     "data": {
      "text/html": [
       "<div>\n",
       "<style scoped>\n",
       "    .dataframe tbody tr th:only-of-type {\n",
       "        vertical-align: middle;\n",
       "    }\n",
       "\n",
       "    .dataframe tbody tr th {\n",
       "        vertical-align: top;\n",
       "    }\n",
       "\n",
       "    .dataframe thead th {\n",
       "        text-align: right;\n",
       "    }\n",
       "</style>\n",
       "<table border=\"1\" class=\"dataframe\">\n",
       "  <thead>\n",
       "    <tr style=\"text-align: right;\">\n",
       "      <th></th>\n",
       "      <th>asin</th>\n",
       "      <th>bag_of_words</th>\n",
       "    </tr>\n",
       "  </thead>\n",
       "  <tbody>\n",
       "    <tr>\n",
       "      <th>0</th>\n",
       "      <td>0042000742</td>\n",
       "      <td>reversi sensori challeng fidel electron pc game</td>\n",
       "    </tr>\n",
       "    <tr>\n",
       "      <th>1</th>\n",
       "      <td>0078764343</td>\n",
       "      <td>medal honor warfight includ battlefield 4 beta...</td>\n",
       "    </tr>\n",
       "    <tr>\n",
       "      <th>2</th>\n",
       "      <td>0276425316</td>\n",
       "      <td>street fighter 2 ii turbo super nintendo snes ...</td>\n",
       "    </tr>\n",
       "    <tr>\n",
       "      <th>3</th>\n",
       "      <td>0324411812</td>\n",
       "      <td>xbox 360 mas stick system 's pro perfect sf st...</td>\n",
       "    </tr>\n",
       "    <tr>\n",
       "      <th>4</th>\n",
       "      <td>0439335299</td>\n",
       "      <td>phonic aliv 2 sound blender advanc softwar par...</td>\n",
       "    </tr>\n",
       "  </tbody>\n",
       "</table>\n",
       "</div>"
      ],
      "text/plain": [
       "         asin                                       bag_of_words\n",
       "0  0042000742    reversi sensori challeng fidel electron pc game\n",
       "1  0078764343  medal honor warfight includ battlefield 4 beta...\n",
       "2  0276425316  street fighter 2 ii turbo super nintendo snes ...\n",
       "3  0324411812  xbox 360 mas stick system 's pro perfect sf st...\n",
       "4  0439335299  phonic aliv 2 sound blender advanc softwar par..."
      ]
     },
     "execution_count": 21,
     "metadata": {},
     "output_type": "execute_result"
    }
   ],
   "source": [
    "videogame_description_table.head()"
   ]
  },
  {
   "cell_type": "code",
   "execution_count": 11,
   "metadata": {},
   "outputs": [
    {
     "data": {
      "text/plain": [
       "0      reversi sensori challeng fidel electron pc game\n",
       "1    medal honor warfight includ battlefield 4 beta...\n",
       "2    street fighter 2 ii turbo super nintendo snes ...\n",
       "3    xbox 360 mas stick system 's pro perfect sf st...\n",
       "4    phonic aliv 2 sound blender advanc softwar par...\n",
       "Name: bag_of_words, dtype: object"
      ]
     },
     "execution_count": 11,
     "metadata": {},
     "output_type": "execute_result"
    }
   ],
   "source": [
    "subset.head()"
   ]
  },
  {
   "cell_type": "code",
   "execution_count": 12,
   "metadata": {},
   "outputs": [],
   "source": [
    "count = CountVectorizer()\n",
    "count_matrix = count.fit_transform(subset)\n",
    "\n",
    "vg_cosine_sim = cosine_similarity(count_matrix, count_matrix)\n"
   ]
  },
  {
   "cell_type": "code",
   "execution_count": 22,
   "metadata": {
    "scrolled": true
   },
   "outputs": [],
   "source": [
    "indices = pd.Series(videogame_description_table['asin'])\n",
    "# indices"
   ]
  },
  {
   "cell_type": "code",
   "execution_count": 127,
   "metadata": {},
   "outputs": [],
   "source": [
    "def recommendations_ratings(asin, cosine_sim = vg_cosine_sim):\n",
    "    \n",
    "    recommended_items = []\n",
    "    \n",
    "    idx = indices[indices == asin].index[0]\n",
    "    \n",
    "    score_series = pd.Series(cosine_sim[idx]).sort_values(ascending = False)\n",
    "    \n",
    "    top_10_indexes = list(score_series.iloc[1:11].index)\n",
    "    \n",
    "    for i in top_10_indexes:\n",
    "        recommended_items.append(((replace_asin_with_description(list(videogame_description_table.index)[i])),score_series[i]))\n",
    "\n",
    "    return recommended_items"
   ]
  },
  {
   "cell_type": "code",
   "execution_count": 121,
   "metadata": {},
   "outputs": [],
   "source": [
    "def replace_asin_with_description_list(asin_list):\n",
    "    recommendations = []\n",
    "    for i in asin_list:\n",
    "        recommendations.append(simple_videogames.iloc[[i]]['description'].item())\n",
    "        \n",
    "    return recommendations"
   ]
  },
  {
   "cell_type": "code",
   "execution_count": 167,
   "metadata": {},
   "outputs": [],
   "source": [
    "def replace_asin_with_description(asin):\n",
    "    return (eda.remov_duplicates(simple_videogames.iloc[[asin]]['description'].item().title()))\n"
   ]
  },
  {
   "cell_type": "code",
   "execution_count": 168,
   "metadata": {
    "scrolled": true
   },
   "outputs": [],
   "source": [
    "test = recommendations_ratings('0042000742')"
   ]
  },
  {
   "cell_type": "code",
   "execution_count": 169,
   "metadata": {},
   "outputs": [
    {
     "data": {
      "text/plain": [
       "[('Rally Championship - Pc Electronic Arts Games Game', 0.4629100498862757),\n",
       " ('Survival: The Ultimate Challenge - Pc Activision Games Game',\n",
       "  0.4629100498862757),\n",
       " ('Dungeon Keeper 2 Electronic Arts Pc Games Game', 0.4629100498862757),\n",
       " (\"Dragon'S Challenge - Pc Expert Software Games Game\", 0.4629100498862757),\n",
       " ('Crysis Pc Electronic Arts The Original Game Games', 0.4629100498862757),\n",
       " ('Galaxy Of Games Pc Game', 0.4364357804719848),\n",
       " ('Israeli Air Force - Pc Electronic Arts Games Game', 0.4285714285714285),\n",
       " ('Hellgate: London Electronic Arts Pc Dvd Games Game', 0.4285714285714285),\n",
       " (\"Jane'S Attack Pack - Pc Electronic Arts Jane Game\", 0.4285714285714285),\n",
       " ('Need For Speed Most Wanted Pc Electronic Arts Games Game',\n",
       "  0.4285714285714285)]"
      ]
     },
     "execution_count": 169,
     "metadata": {},
     "output_type": "execute_result"
    }
   ],
   "source": [
    "test"
   ]
  }
 ],
 "metadata": {
  "kernelspec": {
   "display_name": "Python 3",
   "language": "python",
   "name": "python3"
  },
  "language_info": {
   "codemirror_mode": {
    "name": "ipython",
    "version": 3
   },
   "file_extension": ".py",
   "mimetype": "text/x-python",
   "name": "python",
   "nbconvert_exporter": "python",
   "pygments_lexer": "ipython3",
   "version": "3.7.3"
  }
 },
 "nbformat": 4,
 "nbformat_minor": 4
}
