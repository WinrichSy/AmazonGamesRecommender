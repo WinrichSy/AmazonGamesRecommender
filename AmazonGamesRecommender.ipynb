{
 "cells": [
  {
   "cell_type": "code",
   "execution_count": 133,
   "metadata": {},
   "outputs": [],
   "source": [
    "import os\n",
    "import numpy as np\n",
    "import pandas as pd\n",
    "import matplotlib.pyplot as plt"
   ]
  },
  {
   "cell_type": "code",
   "execution_count": 137,
   "metadata": {},
   "outputs": [],
   "source": [
    "def missing_zero_values_table(df):\n",
    "    zero_val = (df == 0.00).astype(int).sum(axis=0)\n",
    "    mis_val = df.isnull().sum()\n",
    "    mis_val_percent = 100 * df.isnull().sum() / len(df)\n",
    "    mz_table = pd.concat([zero_val, mis_val, mis_val_percent], axis=1)\n",
    "    mz_table = mz_table.rename(\n",
    "        columns = {0 : 'Zero Values', 1 : 'Missing Values', 2 : '% of Total Values'})\n",
    "    mz_table['Total Zero Missing Values'] = mz_table['Zero Values'] + mz_table['Missing Values']\n",
    "    mz_table['% Total Zero Missing Values'] = 100 * mz_table['Total Zero Missing Values'] / len(df)\n",
    "    mz_table['Data Type'] = df.dtypes\n",
    "    mz_table = mz_table[\n",
    "    mz_table.iloc[:,1] != 0].sort_values(\n",
    "        '% of Total Values', ascending=False).round(1)\n",
    "    print (\"Your selected dataframe has \" + str(df.shape[1]) + \" columns and \" + str(df.shape[0]) + \" Rows.\\n\"      \n",
    "            \"There are \" + str(mz_table.shape[0]) + \" columns that have missing values.\")\n",
    "    \n",
    "    return mz_table"
   ]
  },
  {
   "cell_type": "code",
   "execution_count": 2,
   "metadata": {},
   "outputs": [],
   "source": [
    "videogames = pd.read_json('Data/meta_Video_Games.json', lines=True)\n",
    "reviews = pd.read_json('Data/Video_Games.json', lines=True)"
   ]
  },
  {
   "cell_type": "markdown",
   "metadata": {},
   "source": [
    "## Cleaning Video Games DF"
   ]
  },
  {
   "cell_type": "code",
   "execution_count": 40,
   "metadata": {
    "collapsed": true,
    "jupyter": {
     "outputs_hidden": true
    }
   },
   "outputs": [
    {
     "data": {
      "text/html": [
       "<div>\n",
       "<style scoped>\n",
       "    .dataframe tbody tr th:only-of-type {\n",
       "        vertical-align: middle;\n",
       "    }\n",
       "\n",
       "    .dataframe tbody tr th {\n",
       "        vertical-align: top;\n",
       "    }\n",
       "\n",
       "    .dataframe thead th {\n",
       "        text-align: right;\n",
       "    }\n",
       "</style>\n",
       "<table border=\"1\" class=\"dataframe\">\n",
       "  <thead>\n",
       "    <tr style=\"text-align: right;\">\n",
       "      <th></th>\n",
       "      <th>also_buy</th>\n",
       "      <th>also_view</th>\n",
       "      <th>asin</th>\n",
       "      <th>brand</th>\n",
       "      <th>category</th>\n",
       "      <th>date</th>\n",
       "      <th>description</th>\n",
       "      <th>details</th>\n",
       "      <th>feature</th>\n",
       "      <th>image</th>\n",
       "      <th>main_cat</th>\n",
       "      <th>price</th>\n",
       "      <th>rank</th>\n",
       "      <th>similar_item</th>\n",
       "      <th>tech1</th>\n",
       "      <th>tech2</th>\n",
       "      <th>title</th>\n",
       "    </tr>\n",
       "  </thead>\n",
       "  <tbody>\n",
       "    <tr>\n",
       "      <th>0</th>\n",
       "      <td>NaN</td>\n",
       "      <td>NaN</td>\n",
       "      <td>0042000742</td>\n",
       "      <td>Fidelity Electronics</td>\n",
       "      <td>[Video Games, PC, Games]</td>\n",
       "      <td>NaN</td>\n",
       "      <td>NaN</td>\n",
       "      <td>NaN</td>\n",
       "      <td>NaN</td>\n",
       "      <td>[https://images-na.ssl-images-amazon.com/image...</td>\n",
       "      <td>Toys &amp; Games</td>\n",
       "      <td>NaN</td>\n",
       "      <td>&gt;#2,623,937 in Toys &amp; Games (See Top 100 in To...</td>\n",
       "      <td>NaN</td>\n",
       "      <td>NaN</td>\n",
       "      <td>NaN</td>\n",
       "      <td>Reversi Sensory Challenger</td>\n",
       "    </tr>\n",
       "    <tr>\n",
       "      <th>1</th>\n",
       "      <td>[B00PADROYW]</td>\n",
       "      <td>[B0050SY5BM, B072NQJCW5, B000TI836G, B002SRSQ7...</td>\n",
       "      <td>0078764343</td>\n",
       "      <td>by\\n    \\n    EA Games</td>\n",
       "      <td>[Video Games, Xbox 360, Games, ]</td>\n",
       "      <td>NaN</td>\n",
       "      <td>[Brand new sealed!]</td>\n",
       "      <td>NaN</td>\n",
       "      <td>NaN</td>\n",
       "      <td>[https://images-na.ssl-images-amazon.com/image...</td>\n",
       "      <td>Video Games</td>\n",
       "      <td>NaN</td>\n",
       "      <td>&gt;#67,231 in Video Games (See Top 100 in Video ...</td>\n",
       "      <td>NaN</td>\n",
       "      <td>NaN</td>\n",
       "      <td>NaN</td>\n",
       "      <td>Medal of Honor: Warfighter - Includes Battlefi...</td>\n",
       "    </tr>\n",
       "  </tbody>\n",
       "</table>\n",
       "</div>"
      ],
      "text/plain": [
       "       also_buy                                          also_view  \\\n",
       "0           NaN                                                NaN   \n",
       "1  [B00PADROYW]  [B0050SY5BM, B072NQJCW5, B000TI836G, B002SRSQ7...   \n",
       "\n",
       "         asin                   brand                          category date  \\\n",
       "0  0042000742    Fidelity Electronics          [Video Games, PC, Games]  NaN   \n",
       "1  0078764343  by\\n    \\n    EA Games  [Video Games, Xbox 360, Games, ]  NaN   \n",
       "\n",
       "           description details feature  \\\n",
       "0                  NaN     NaN     NaN   \n",
       "1  [Brand new sealed!]     NaN     NaN   \n",
       "\n",
       "                                               image      main_cat price  \\\n",
       "0  [https://images-na.ssl-images-amazon.com/image...  Toys & Games   NaN   \n",
       "1  [https://images-na.ssl-images-amazon.com/image...   Video Games   NaN   \n",
       "\n",
       "                                                rank similar_item tech1 tech2  \\\n",
       "0  >#2,623,937 in Toys & Games (See Top 100 in To...          NaN   NaN   NaN   \n",
       "1  >#67,231 in Video Games (See Top 100 in Video ...          NaN   NaN   NaN   \n",
       "\n",
       "                                               title  \n",
       "0                         Reversi Sensory Challenger  \n",
       "1  Medal of Honor: Warfighter - Includes Battlefi...  "
      ]
     },
     "execution_count": 40,
     "metadata": {},
     "output_type": "execute_result"
    }
   ],
   "source": [
    "videogames.head(2)"
   ]
  },
  {
   "cell_type": "code",
   "execution_count": 41,
   "metadata": {
    "collapsed": true,
    "jupyter": {
     "outputs_hidden": true
    }
   },
   "outputs": [
    {
     "name": "stdout",
     "output_type": "stream",
     "text": [
      "<class 'pandas.core.frame.DataFrame'>\n",
      "RangeIndex: 84893 entries, 0 to 84892\n",
      "Data columns (total 17 columns):\n",
      "also_buy        35420 non-null object\n",
      "also_view       45081 non-null object\n",
      "asin            84893 non-null object\n",
      "brand           80863 non-null object\n",
      "category        82467 non-null object\n",
      "date            8273 non-null object\n",
      "description     74723 non-null object\n",
      "details         2261 non-null object\n",
      "feature         61932 non-null object\n",
      "image           62004 non-null object\n",
      "main_cat        84727 non-null object\n",
      "price           15555 non-null object\n",
      "rank            80383 non-null object\n",
      "similar_item    281 non-null object\n",
      "tech1           2847 non-null object\n",
      "tech2           234 non-null object\n",
      "title           84879 non-null object\n",
      "dtypes: object(17)\n",
      "memory usage: 11.0+ MB\n"
     ]
    }
   ],
   "source": [
    "videogames.info()"
   ]
  },
  {
   "cell_type": "code",
   "execution_count": 45,
   "metadata": {},
   "outputs": [],
   "source": [
    "#drop also_buy, also_view, date, details, similar_item, tech1, tech2\n",
    "main_videogames = videogames.copy()\n",
    "main_videogames.drop(columns=['also_buy', 'also_view', 'date', 'details', 'similar_item', 'tech1', 'tech2'], inplace=True)"
   ]
  },
  {
   "cell_type": "code",
   "execution_count": 53,
   "metadata": {},
   "outputs": [
    {
     "data": {
      "text/html": [
       "<div>\n",
       "<style scoped>\n",
       "    .dataframe tbody tr th:only-of-type {\n",
       "        vertical-align: middle;\n",
       "    }\n",
       "\n",
       "    .dataframe tbody tr th {\n",
       "        vertical-align: top;\n",
       "    }\n",
       "\n",
       "    .dataframe thead th {\n",
       "        text-align: right;\n",
       "    }\n",
       "</style>\n",
       "<table border=\"1\" class=\"dataframe\">\n",
       "  <thead>\n",
       "    <tr style=\"text-align: right;\">\n",
       "      <th></th>\n",
       "      <th>asin</th>\n",
       "      <th>brand</th>\n",
       "      <th>category</th>\n",
       "      <th>description</th>\n",
       "      <th>feature</th>\n",
       "      <th>image</th>\n",
       "      <th>main_cat</th>\n",
       "      <th>price</th>\n",
       "      <th>rank</th>\n",
       "      <th>title</th>\n",
       "    </tr>\n",
       "  </thead>\n",
       "  <tbody>\n",
       "    <tr>\n",
       "      <th>2</th>\n",
       "      <td>0276425316</td>\n",
       "      <td>Nintendo</td>\n",
       "      <td>[Video Games, Retro Gaming &amp; Microconsoles, Su...</td>\n",
       "      <td>NaN</td>\n",
       "      <td>NaN</td>\n",
       "      <td>NaN</td>\n",
       "      <td>Video Games</td>\n",
       "      <td>$0.72</td>\n",
       "      <td>&gt;#134,433 in Video Games (See Top 100 in Video...</td>\n",
       "      <td>street fighter 2 II turbo super nintendo snes ...</td>\n",
       "    </tr>\n",
       "    <tr>\n",
       "      <th>8</th>\n",
       "      <td>043933702X</td>\n",
       "      <td>Electronic Arts</td>\n",
       "      <td>[Video Games, PC, Games]</td>\n",
       "      <td>[video game]</td>\n",
       "      <td>[video game]</td>\n",
       "      <td>[https://images-na.ssl-images-amazon.com/image...</td>\n",
       "      <td>Video Games</td>\n",
       "      <td>$49.98</td>\n",
       "      <td>&gt;#51,505 in Video Games (See Top 100 in Video ...</td>\n",
       "      <td>Need for Speed Porsche Unleashed</td>\n",
       "    </tr>\n",
       "    <tr>\n",
       "      <th>13</th>\n",
       "      <td>043940133X</td>\n",
       "      <td>Star Wars</td>\n",
       "      <td>[Video Games, PC, Games]</td>\n",
       "      <td>[Product Description Your ship has crash-lande...</td>\n",
       "      <td>[Play challenging math games against Jabba the...</td>\n",
       "      <td>[https://images-na.ssl-images-amazon.com/image...</td>\n",
       "      <td>Video Games</td>\n",
       "      <td>$24.00</td>\n",
       "      <td>&gt;#56,730 in Video Games (See Top 100 in Video ...</td>\n",
       "      <td>Star Wars Math: Jabba's Game Galaxy</td>\n",
       "    </tr>\n",
       "    <tr>\n",
       "      <th>38</th>\n",
       "      <td>0700026657</td>\n",
       "      <td>Ubisoft</td>\n",
       "      <td>[Video Games, PC, Games]</td>\n",
       "      <td>[ANNO 2070BRAND NEW - IN STOCKDVD Rom Software...</td>\n",
       "      <td>[A new era: while adhering to the fundamentals...</td>\n",
       "      <td>[https://images-na.ssl-images-amazon.com/image...</td>\n",
       "      <td>Video Games</td>\n",
       "      <td>$7.95</td>\n",
       "      <td>&gt;#30,230 in Video Games (See Top 100 in Video ...</td>\n",
       "      <td>Anno 2070</td>\n",
       "    </tr>\n",
       "    <tr>\n",
       "      <th>43</th>\n",
       "      <td>0763030945</td>\n",
       "      <td>NaN</td>\n",
       "      <td>[Video Games, PC, Games]</td>\n",
       "      <td>[Barbie Story Maker for the PC(CD-ROM)\\nWindow...</td>\n",
       "      <td>NaN</td>\n",
       "      <td>NaN</td>\n",
       "      <td>Books</td>\n",
       "      <td>$1.90</td>\n",
       "      <td>17,209,518inBooks(</td>\n",
       "      <td>Barbie Storymaker Cd Rom</td>\n",
       "    </tr>\n",
       "  </tbody>\n",
       "</table>\n",
       "</div>"
      ],
      "text/plain": [
       "          asin            brand  \\\n",
       "2   0276425316         Nintendo   \n",
       "8   043933702X  Electronic Arts   \n",
       "13  043940133X        Star Wars   \n",
       "38  0700026657          Ubisoft   \n",
       "43  0763030945              NaN   \n",
       "\n",
       "                                             category  \\\n",
       "2   [Video Games, Retro Gaming & Microconsoles, Su...   \n",
       "8                            [Video Games, PC, Games]   \n",
       "13                           [Video Games, PC, Games]   \n",
       "38                           [Video Games, PC, Games]   \n",
       "43                           [Video Games, PC, Games]   \n",
       "\n",
       "                                          description  \\\n",
       "2                                                 NaN   \n",
       "8                                        [video game]   \n",
       "13  [Product Description Your ship has crash-lande...   \n",
       "38  [ANNO 2070BRAND NEW - IN STOCKDVD Rom Software...   \n",
       "43  [Barbie Story Maker for the PC(CD-ROM)\\nWindow...   \n",
       "\n",
       "                                              feature  \\\n",
       "2                                                 NaN   \n",
       "8                                        [video game]   \n",
       "13  [Play challenging math games against Jabba the...   \n",
       "38  [A new era: while adhering to the fundamentals...   \n",
       "43                                                NaN   \n",
       "\n",
       "                                                image     main_cat   price  \\\n",
       "2                                                 NaN  Video Games   $0.72   \n",
       "8   [https://images-na.ssl-images-amazon.com/image...  Video Games  $49.98   \n",
       "13  [https://images-na.ssl-images-amazon.com/image...  Video Games  $24.00   \n",
       "38  [https://images-na.ssl-images-amazon.com/image...  Video Games   $7.95   \n",
       "43                                                NaN        Books   $1.90   \n",
       "\n",
       "                                                 rank  \\\n",
       "2   >#134,433 in Video Games (See Top 100 in Video...   \n",
       "8   >#51,505 in Video Games (See Top 100 in Video ...   \n",
       "13  >#56,730 in Video Games (See Top 100 in Video ...   \n",
       "38  >#30,230 in Video Games (See Top 100 in Video ...   \n",
       "43                                 17,209,518inBooks(   \n",
       "\n",
       "                                                title  \n",
       "2   street fighter 2 II turbo super nintendo snes ...  \n",
       "8                    Need for Speed Porsche Unleashed  \n",
       "13                Star Wars Math: Jabba's Game Galaxy  \n",
       "38                                          Anno 2070  \n",
       "43                           Barbie Storymaker Cd Rom  "
      ]
     },
     "execution_count": 53,
     "metadata": {},
     "output_type": "execute_result"
    }
   ],
   "source": [
    "main_videogames[main_videogames['price'].notna()].head()"
   ]
  },
  {
   "cell_type": "markdown",
   "metadata": {},
   "source": [
    "## Cleaning Reviews DF"
   ]
  },
  {
   "cell_type": "code",
   "execution_count": 116,
   "metadata": {},
   "outputs": [],
   "source": [
    "#change image to 0 or 1\n",
    "main_reviews = reviews.copy()\n",
    "image = [0 if isinstance(i,float) else 1 for i in main_reviews.image]\n",
    "main_reviews['image'] = image"
   ]
  },
  {
   "cell_type": "code",
   "execution_count": 128,
   "metadata": {},
   "outputs": [],
   "source": [
    "#drop columns = reviewTime, reviewName, style, vote\n",
    "main_reviews.drop(columns=['reviewTime', 'reviewerName', 'style', 'vote'], inplace=True)"
   ]
  },
  {
   "cell_type": "code",
   "execution_count": 138,
   "metadata": {},
   "outputs": [
    {
     "name": "stdout",
     "output_type": "stream",
     "text": [
      "Your selected dataframe has 8 columns and 2565349 Rows.\n",
      "There are 2 columns that have missing values.\n"
     ]
    },
    {
     "data": {
      "text/html": [
       "<div>\n",
       "<style scoped>\n",
       "    .dataframe tbody tr th:only-of-type {\n",
       "        vertical-align: middle;\n",
       "    }\n",
       "\n",
       "    .dataframe tbody tr th {\n",
       "        vertical-align: top;\n",
       "    }\n",
       "\n",
       "    .dataframe thead th {\n",
       "        text-align: right;\n",
       "    }\n",
       "</style>\n",
       "<table border=\"1\" class=\"dataframe\">\n",
       "  <thead>\n",
       "    <tr style=\"text-align: right;\">\n",
       "      <th></th>\n",
       "      <th>Zero Values</th>\n",
       "      <th>Missing Values</th>\n",
       "      <th>% of Total Values</th>\n",
       "      <th>Total Zero Missing Values</th>\n",
       "      <th>% Total Zero Missing Values</th>\n",
       "      <th>Data Type</th>\n",
       "    </tr>\n",
       "  </thead>\n",
       "  <tbody>\n",
       "    <tr>\n",
       "      <th>reviewText</th>\n",
       "      <td>0</td>\n",
       "      <td>1715</td>\n",
       "      <td>0.1</td>\n",
       "      <td>1715</td>\n",
       "      <td>0.1</td>\n",
       "      <td>object</td>\n",
       "    </tr>\n",
       "    <tr>\n",
       "      <th>summary</th>\n",
       "      <td>0</td>\n",
       "      <td>811</td>\n",
       "      <td>0.0</td>\n",
       "      <td>811</td>\n",
       "      <td>0.0</td>\n",
       "      <td>object</td>\n",
       "    </tr>\n",
       "  </tbody>\n",
       "</table>\n",
       "</div>"
      ],
      "text/plain": [
       "            Zero Values  Missing Values  % of Total Values  \\\n",
       "reviewText            0            1715                0.1   \n",
       "summary               0             811                0.0   \n",
       "\n",
       "            Total Zero Missing Values  % Total Zero Missing Values Data Type  \n",
       "reviewText                       1715                          0.1    object  \n",
       "summary                           811                          0.0    object  "
      ]
     },
     "execution_count": 138,
     "metadata": {},
     "output_type": "execute_result"
    }
   ],
   "source": [
    "missing_zero_values_table(main_reviews)"
   ]
  },
  {
   "cell_type": "markdown",
   "metadata": {},
   "source": [
    "### Handle Missing"
   ]
  },
  {
   "cell_type": "code",
   "execution_count": 144,
   "metadata": {},
   "outputs": [
    {
     "data": {
      "text/plain": [
       "(array([False,  True]), array([2563634,    1715]))"
      ]
     },
     "execution_count": 144,
     "metadata": {},
     "output_type": "execute_result"
    }
   ],
   "source": [
    "np.unique(reviews.reviewText.isna(), return_counts=True)"
   ]
  },
  {
   "cell_type": "code",
   "execution_count": 148,
   "metadata": {
    "collapsed": true,
    "jupyter": {
     "outputs_hidden": true
    }
   },
   "outputs": [
    {
     "data": {
      "text/html": [
       "<div>\n",
       "<style scoped>\n",
       "    .dataframe tbody tr th:only-of-type {\n",
       "        vertical-align: middle;\n",
       "    }\n",
       "\n",
       "    .dataframe tbody tr th {\n",
       "        vertical-align: top;\n",
       "    }\n",
       "\n",
       "    .dataframe thead th {\n",
       "        text-align: right;\n",
       "    }\n",
       "</style>\n",
       "<table border=\"1\" class=\"dataframe\">\n",
       "  <thead>\n",
       "    <tr style=\"text-align: right;\">\n",
       "      <th></th>\n",
       "      <th>asin</th>\n",
       "      <th>image</th>\n",
       "      <th>overall</th>\n",
       "      <th>reviewText</th>\n",
       "      <th>reviewerID</th>\n",
       "      <th>summary</th>\n",
       "      <th>unixReviewTime</th>\n",
       "      <th>verified</th>\n",
       "    </tr>\n",
       "  </thead>\n",
       "  <tbody>\n",
       "    <tr>\n",
       "      <th>2544</th>\n",
       "      <td>B000006RGS</td>\n",
       "      <td>1</td>\n",
       "      <td>1</td>\n",
       "      <td>NaN</td>\n",
       "      <td>A38ZF2TRJGFMAL</td>\n",
       "      <td>The game have scratches and is not working in ...</td>\n",
       "      <td>1441324800</td>\n",
       "      <td>True</td>\n",
       "    </tr>\n",
       "    <tr>\n",
       "      <th>9169</th>\n",
       "      <td>B00000J9J9</td>\n",
       "      <td>1</td>\n",
       "      <td>1</td>\n",
       "      <td>NaN</td>\n",
       "      <td>AWBMGHN0VG6L</td>\n",
       "      <td>Received a Bootleg!</td>\n",
       "      <td>1510704000</td>\n",
       "      <td>True</td>\n",
       "    </tr>\n",
       "    <tr>\n",
       "      <th>9398</th>\n",
       "      <td>B00000J97G</td>\n",
       "      <td>1</td>\n",
       "      <td>3</td>\n",
       "      <td>NaN</td>\n",
       "      <td>AO2JXTWOS697B</td>\n",
       "      <td>Three Stars</td>\n",
       "      <td>1475107200</td>\n",
       "      <td>True</td>\n",
       "    </tr>\n",
       "    <tr>\n",
       "      <th>24008</th>\n",
       "      <td>B00002DHEV</td>\n",
       "      <td>1</td>\n",
       "      <td>1</td>\n",
       "      <td>NaN</td>\n",
       "      <td>A1XULD000L7VRT</td>\n",
       "      <td>Ravenholm Elecronics. Doesnt work.</td>\n",
       "      <td>1498521600</td>\n",
       "      <td>True</td>\n",
       "    </tr>\n",
       "    <tr>\n",
       "      <th>24057</th>\n",
       "      <td>B00002DHEV</td>\n",
       "      <td>1</td>\n",
       "      <td>1</td>\n",
       "      <td>NaN</td>\n",
       "      <td>A1S3BZ3VJ4WQ8S</td>\n",
       "      <td>$adboy$ x 2001</td>\n",
       "      <td>1487894400</td>\n",
       "      <td>False</td>\n",
       "    </tr>\n",
       "  </tbody>\n",
       "</table>\n",
       "</div>"
      ],
      "text/plain": [
       "             asin  image  overall reviewText      reviewerID  \\\n",
       "2544   B000006RGS      1        1        NaN  A38ZF2TRJGFMAL   \n",
       "9169   B00000J9J9      1        1        NaN    AWBMGHN0VG6L   \n",
       "9398   B00000J97G      1        3        NaN   AO2JXTWOS697B   \n",
       "24008  B00002DHEV      1        1        NaN  A1XULD000L7VRT   \n",
       "24057  B00002DHEV      1        1        NaN  A1S3BZ3VJ4WQ8S   \n",
       "\n",
       "                                                 summary  unixReviewTime  \\\n",
       "2544   The game have scratches and is not working in ...      1441324800   \n",
       "9169                                 Received a Bootleg!      1510704000   \n",
       "9398                                         Three Stars      1475107200   \n",
       "24008                 Ravenholm Elecronics. Doesnt work.      1498521600   \n",
       "24057                                     $adboy$ x 2001      1487894400   \n",
       "\n",
       "       verified  \n",
       "2544       True  \n",
       "9169       True  \n",
       "9398       True  \n",
       "24008      True  \n",
       "24057     False  "
      ]
     },
     "execution_count": 148,
     "metadata": {},
     "output_type": "execute_result"
    }
   ],
   "source": [
    "main_reviews[main_reviews['reviewText'].isna()].head()"
   ]
  },
  {
   "cell_type": "code",
   "execution_count": 149,
   "metadata": {
    "collapsed": true,
    "jupyter": {
     "outputs_hidden": true
    }
   },
   "outputs": [
    {
     "data": {
      "text/html": [
       "<div>\n",
       "<style scoped>\n",
       "    .dataframe tbody tr th:only-of-type {\n",
       "        vertical-align: middle;\n",
       "    }\n",
       "\n",
       "    .dataframe tbody tr th {\n",
       "        vertical-align: top;\n",
       "    }\n",
       "\n",
       "    .dataframe thead th {\n",
       "        text-align: right;\n",
       "    }\n",
       "</style>\n",
       "<table border=\"1\" class=\"dataframe\">\n",
       "  <thead>\n",
       "    <tr style=\"text-align: right;\">\n",
       "      <th></th>\n",
       "      <th>asin</th>\n",
       "      <th>image</th>\n",
       "      <th>overall</th>\n",
       "      <th>reviewText</th>\n",
       "      <th>reviewerID</th>\n",
       "      <th>summary</th>\n",
       "      <th>unixReviewTime</th>\n",
       "      <th>verified</th>\n",
       "    </tr>\n",
       "  </thead>\n",
       "  <tbody>\n",
       "    <tr>\n",
       "      <th>4113</th>\n",
       "      <td>B00000DMAX</td>\n",
       "      <td>0</td>\n",
       "      <td>4</td>\n",
       "      <td>Another great one for 64.</td>\n",
       "      <td>A3SBZQJ2AUD2GY</td>\n",
       "      <td>NaN</td>\n",
       "      <td>1462406400</td>\n",
       "      <td>True</td>\n",
       "    </tr>\n",
       "    <tr>\n",
       "      <th>12942</th>\n",
       "      <td>B00000K2R4</td>\n",
       "      <td>0</td>\n",
       "      <td>5</td>\n",
       "      <td>First, I was saddened that Sega ended the Drea...</td>\n",
       "      <td>AQD07G9GJ61R3</td>\n",
       "      <td>NaN</td>\n",
       "      <td>1055116800</td>\n",
       "      <td>False</td>\n",
       "    </tr>\n",
       "    <tr>\n",
       "      <th>19178</th>\n",
       "      <td>B00001XDTK</td>\n",
       "      <td>0</td>\n",
       "      <td>5</td>\n",
       "      <td>Ok so I reviewed this item and give nothing bu...</td>\n",
       "      <td>A3GTEIVU7JETVA</td>\n",
       "      <td>NaN</td>\n",
       "      <td>1351555200</td>\n",
       "      <td>True</td>\n",
       "    </tr>\n",
       "    <tr>\n",
       "      <th>23874</th>\n",
       "      <td>B00002EIZW</td>\n",
       "      <td>0</td>\n",
       "      <td>5</td>\n",
       "      <td>It works great, and wasn't in too bad of condi...</td>\n",
       "      <td>A3ATJZGRK3XO50</td>\n",
       "      <td>NaN</td>\n",
       "      <td>1454630400</td>\n",
       "      <td>True</td>\n",
       "    </tr>\n",
       "    <tr>\n",
       "      <th>24208</th>\n",
       "      <td>B00002DHEV</td>\n",
       "      <td>0</td>\n",
       "      <td>5</td>\n",
       "      <td>So far, worked well(just two uses in tho)</td>\n",
       "      <td>AF4YUGIEP7AXR</td>\n",
       "      <td>NaN</td>\n",
       "      <td>1470787200</td>\n",
       "      <td>True</td>\n",
       "    </tr>\n",
       "  </tbody>\n",
       "</table>\n",
       "</div>"
      ],
      "text/plain": [
       "             asin  image  overall  \\\n",
       "4113   B00000DMAX      0        4   \n",
       "12942  B00000K2R4      0        5   \n",
       "19178  B00001XDTK      0        5   \n",
       "23874  B00002EIZW      0        5   \n",
       "24208  B00002DHEV      0        5   \n",
       "\n",
       "                                              reviewText      reviewerID  \\\n",
       "4113                           Another great one for 64.  A3SBZQJ2AUD2GY   \n",
       "12942  First, I was saddened that Sega ended the Drea...   AQD07G9GJ61R3   \n",
       "19178  Ok so I reviewed this item and give nothing bu...  A3GTEIVU7JETVA   \n",
       "23874  It works great, and wasn't in too bad of condi...  A3ATJZGRK3XO50   \n",
       "24208          So far, worked well(just two uses in tho)   AF4YUGIEP7AXR   \n",
       "\n",
       "      summary  unixReviewTime  verified  \n",
       "4113      NaN      1462406400      True  \n",
       "12942     NaN      1055116800     False  \n",
       "19178     NaN      1351555200      True  \n",
       "23874     NaN      1454630400      True  \n",
       "24208     NaN      1470787200      True  "
      ]
     },
     "execution_count": 149,
     "metadata": {},
     "output_type": "execute_result"
    }
   ],
   "source": [
    "main_reviews[main_reviews['summary'].isna()].head()"
   ]
  },
  {
   "cell_type": "code",
   "execution_count": 150,
   "metadata": {},
   "outputs": [
    {
     "data": {
      "text/plain": [
       "(array([False,  True]), array([2564538,     811]))"
      ]
     },
     "execution_count": 150,
     "metadata": {},
     "output_type": "execute_result"
    }
   ],
   "source": [
    "np.unique(reviews.summary.isna(), return_counts=True)"
   ]
  },
  {
   "cell_type": "code",
   "execution_count": 154,
   "metadata": {},
   "outputs": [
    {
     "data": {
      "text/plain": [
       "numpy.bool_"
      ]
     },
     "execution_count": 154,
     "metadata": {},
     "output_type": "execute_result"
    }
   ],
   "source": []
  },
  {
   "cell_type": "code",
   "execution_count": null,
   "metadata": {},
   "outputs": [],
   "source": []
  }
 ],
 "metadata": {
  "kernelspec": {
   "display_name": "conda_python3",
   "language": "python",
   "name": "conda_python3"
  },
  "language_info": {
   "codemirror_mode": {
    "name": "ipython",
    "version": 3
   },
   "file_extension": ".py",
   "mimetype": "text/x-python",
   "name": "python",
   "nbconvert_exporter": "python",
   "pygments_lexer": "ipython3",
   "version": "3.6.5"
  }
 },
 "nbformat": 4,
 "nbformat_minor": 4
}
