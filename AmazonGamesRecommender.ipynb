{
 "cells": [
  {
   "cell_type": "markdown",
   "metadata": {},
   "source": [
    "# SAVESPOTS\n",
    "[Videogames EDA](#Videogames-EDA) <br>\n",
    "[Reviews EDA](#Reviews-EDA) <br>\n",
    "\n",
    "[RECOMMENDER MODEL BASED OFF USER RATINGS: USER BASED FILTERING](#RECOMMENDER-MODEL-BASED-OFF-USER-RATINGS:-USER-BASED-FILTERING) <br>\n",
    "[RECOMMENDER MODEL BASED OFF DESCRIPTION: CONTENT BASED](#RECOMMENDER-MODEL-BASED-OFF-DESCRIPTION:-CONTENT-BASED) <br>\n",
    "[DETERMINING RMSE](#DETERMINING-RMSE) <br>\n",
    "[HANDLING COLD START](#HANDLING-COLD-START) <br>\n"
   ]
  },
  {
   "cell_type": "code",
   "execution_count": 21,
   "metadata": {},
   "outputs": [],
   "source": [
    "import os\n",
    "import numpy as np\n",
    "import pandas as pd\n",
    "import matplotlib.pyplot as plt"
   ]
  },
  {
   "cell_type": "code",
   "execution_count": 22,
   "metadata": {},
   "outputs": [
    {
     "name": "stdout",
     "output_type": "stream",
     "text": [
      "The autoreload extension is already loaded. To reload it, use:\n",
      "  %reload_ext autoreload\n"
     ]
    }
   ],
   "source": [
    "#autoreload to take in changes from outside\n",
    "%load_ext autoreload\n",
    "%autoreload 2"
   ]
  },
  {
   "cell_type": "code",
   "execution_count": 23,
   "metadata": {},
   "outputs": [],
   "source": [
    "import math\n",
    "import string\n",
    "import re\n",
    "from datetime import datetime\n",
    "from collections import Counter"
   ]
  },
  {
   "cell_type": "code",
   "execution_count": 24,
   "metadata": {},
   "outputs": [],
   "source": [
    "# from rake_nltk import Rake\n",
    "from sklearn.metrics.pairwise import cosine_similarity\n",
    "from sklearn.feature_extraction.text import CountVectorizer"
   ]
  },
  {
   "cell_type": "code",
   "execution_count": 30,
   "metadata": {},
   "outputs": [],
   "source": [
    "from src.EDA import EDA\n",
    "eda = EDA()"
   ]
  },
  {
   "cell_type": "code",
   "execution_count": 285,
   "metadata": {},
   "outputs": [],
   "source": [
    "def missing_zero_values_table(df):\n",
    "    zero_val = (df == 0.00).astype(int).sum(axis=0)\n",
    "    mis_val = df.isnull().sum()\n",
    "    mis_val_percent = 100 * df.isnull().sum() / len(df)\n",
    "    mz_table = pd.concat([zero_val, mis_val, mis_val_percent], axis=1)\n",
    "    mz_table = mz_table.rename(\n",
    "        columns = {0 : 'Zero Values', 1 : 'Missing Values', 2 : '% of Total Values'})\n",
    "    mz_table['Total Zero Missing Values'] = mz_table['Zero Values'] + mz_table['Missing Values']\n",
    "    mz_table['% Total Zero Missing Values'] = 100 * mz_table['Total Zero Missing Values'] / len(df)\n",
    "    mz_table['Data Type'] = df.dtypes\n",
    "    mz_table = mz_table[\n",
    "    mz_table.iloc[:,1] != 0].sort_values(\n",
    "        '% of Total Values', ascending=False).round(1)\n",
    "    print (\"Your selected dataframe has \" + str(df.shape[1]) + \" columns and \" + str(df.shape[0]) + \" Rows.\\n\"      \n",
    "            \"There are \" + str(mz_table.shape[0]) + \" columns that have missing values.\")\n",
    "    \n",
    "    return mz_table"
   ]
  },
  {
   "cell_type": "code",
   "execution_count": 281,
   "metadata": {},
   "outputs": [],
   "source": [
    "videogames = pd.read_json('Data/meta_Video_Games.json', lines=True)\n",
    "reviews = pd.read_json('Data/Video_Games.json', lines=True)"
   ]
  },
  {
   "cell_type": "markdown",
   "metadata": {},
   "source": [
    "## Cleaning Video Games DF"
   ]
  },
  {
   "cell_type": "code",
   "execution_count": 129,
   "metadata": {},
   "outputs": [],
   "source": [
    "#drop also_buy, also_view, date, details, similar_item, tech1, tech2\n",
    "main_videogames = videogames.copy()\n",
    "main_videogames.drop(columns=['also_buy', 'also_view', 'date', 'details', 'similar_item', 'tech1', 'tech2'], inplace=True)"
   ]
  },
  {
   "cell_type": "code",
   "execution_count": 130,
   "metadata": {
    "jupyter": {
     "outputs_hidden": true
    }
   },
   "outputs": [],
   "source": [
    "# #Check for missing values #1\n",
    "# missing_zero_values_table(main_videogames)"
   ]
  },
  {
   "cell_type": "markdown",
   "metadata": {},
   "source": [
    "### Changing missing title names to their actual titles"
   ]
  },
  {
   "cell_type": "code",
   "execution_count": 131,
   "metadata": {},
   "outputs": [],
   "source": [
    "indexes = [467, 11873, 11876, 11878, 13376, 24782, 24785, 24787, 29674, 38379, 52373, 61916, 63263, 64453]\n",
    "title_names = ['Dune 2000', 'Virtual Stick Pro', 'Saturn Control Pad Mist Gray', 'Saturn control pad', 'Dune 2000', \n",
    "               'Virtual Stick Pro', 'Saturn Control Pad Mist Gray', 'Saturn control pad', 'Sega Vertual Stick', 'Puppet Motel',\n",
    "               'Friendship Collection New Life','Ranch Story Connected New World', 'Kirby Triple Deluxe', 'Detective Conan Phantom Rhapsody']"
   ]
  },
  {
   "cell_type": "code",
   "execution_count": 132,
   "metadata": {},
   "outputs": [],
   "source": [
    "for idx, val in enumerate(indexes):\n",
    "    main_videogames.loc[val, 'title'] = title_names[idx]"
   ]
  },
  {
   "cell_type": "code",
   "execution_count": 133,
   "metadata": {
    "jupyter": {
     "outputs_hidden": true
    }
   },
   "outputs": [],
   "source": [
    "# #Check for missing values #2\n",
    "# missing_zero_values_table(main_videogames)"
   ]
  },
  {
   "cell_type": "code",
   "execution_count": 134,
   "metadata": {},
   "outputs": [],
   "source": [
    "float_puncs = '!\"#$%&\\'()*+,-/:;<=>?@[\\\\]^_`{|}~'\n",
    "str1=\"\"\n",
    "\n",
    "def remove_puncs_into_floats(item):\n",
    "    table = str.maketrans('','', float_puncs)\n",
    "    stripped = [i.translate(table) for i in item]\n",
    "    return float(str1.join(stripped))\n",
    "\n",
    "#change missing prices to -1, and change string prices to floats\n",
    "prices = main_videogames.price.apply(lambda x: float(-1) if isinstance(x, float) else remove_puncs_into_floats(x))"
   ]
  },
  {
   "cell_type": "code",
   "execution_count": 135,
   "metadata": {},
   "outputs": [],
   "source": [
    "#Since 81.7% of prices are missing, and not doing a recommender based on price, remove price column.\n",
    "#Since images are not being used to create a recommender, remove image column.\n",
    "main_videogames.drop(columns=['price','image'],inplace=True)"
   ]
  },
  {
   "cell_type": "code",
   "execution_count": 136,
   "metadata": {
    "jupyter": {
     "outputs_hidden": true
    }
   },
   "outputs": [],
   "source": [
    "# #Check for missing values #3\n",
    "# missing_zero_values_table(main_videogames)"
   ]
  },
  {
   "cell_type": "code",
   "execution_count": 137,
   "metadata": {},
   "outputs": [],
   "source": [
    "def remove_puncs(item):\n",
    "    table = str.maketrans('','', float_puncs)\n",
    "    stripped = [i.translate(table) for i in item]\n",
    "    return str1.join(stripped)"
   ]
  },
  {
   "cell_type": "code",
   "execution_count": 138,
   "metadata": {},
   "outputs": [],
   "source": [
    "#converting rank strings to just rank numbers\n",
    "rank = main_videogames[\"rank\"].apply(lambda x: \"999999999\" if isinstance(x, float) else remove_puncs(x).split(\" \",1)[0])"
   ]
  },
  {
   "cell_type": "code",
   "execution_count": 139,
   "metadata": {},
   "outputs": [],
   "source": [
    "rank = rank.apply(lambda x: x.split(\"i\", 1)[0])"
   ]
  },
  {
   "cell_type": "code",
   "execution_count": 140,
   "metadata": {},
   "outputs": [
    {
     "name": "stdout",
     "output_type": "stream",
     "text": [
      "52316\n"
     ]
    }
   ],
   "source": [
    "#find messed up values in rnak #4\n",
    "for idx, val in enumerate(rank):\n",
    "    if val == 'productDescr':\n",
    "        print(idx)"
   ]
  },
  {
   "cell_type": "code",
   "execution_count": 141,
   "metadata": {},
   "outputs": [],
   "source": [
    "rank[52316] = 999999999"
   ]
  },
  {
   "cell_type": "code",
   "execution_count": 142,
   "metadata": {},
   "outputs": [],
   "source": [
    "rank = rank.apply(lambda x: float(x))"
   ]
  },
  {
   "cell_type": "code",
   "execution_count": 143,
   "metadata": {},
   "outputs": [],
   "source": [
    "main_videogames['rank']=rank"
   ]
  },
  {
   "cell_type": "code",
   "execution_count": 144,
   "metadata": {},
   "outputs": [],
   "source": [
    "# #Check for missing values #4\n",
    "# missing_zero_values_table(main_videogames)"
   ]
  },
  {
   "cell_type": "code",
   "execution_count": 145,
   "metadata": {},
   "outputs": [],
   "source": [
    "#Change all nulls in main_cat into 'Video Games'\n",
    "main_cat = main_videogames['main_cat'].apply(lambda x: 'Video Games' if isinstance(x, float) else x)\n",
    "main_videogames['main_cat'] = main_cat\n",
    "\n",
    "#Change all nulls in features into 'no_features'\n",
    "features = main_videogames['feature'].apply(lambda x: 'no_features' if isinstance(x, float) else x)\n",
    "main_videogames['feature'] = features\n",
    "\n",
    "#Change all null in description into 'no_description'\n",
    "description = main_videogames['description'].apply(lambda x: 'no_description' if isinstance(x, float) else x)\n",
    "main_videogames['description'] = description"
   ]
  },
  {
   "cell_type": "code",
   "execution_count": 146,
   "metadata": {},
   "outputs": [],
   "source": [
    "# #Check for missing values #5\n",
    "# missing_zero_values_table(main_videogames)"
   ]
  },
  {
   "cell_type": "code",
   "execution_count": 147,
   "metadata": {},
   "outputs": [],
   "source": [
    "#Change null brands to 'no_brand'\n",
    "brand = main_videogames['brand'].apply(lambda x: 'no_brand' if isinstance(x, float) else x)\n",
    "\n",
    "#Remove html taggings \"by\\n \\n\"\n",
    "filter_tag = 'by\\n    \\n    '\n",
    "brand = brand.apply(lambda x: x[12:] if filter_tag in x else x)\n",
    "main_videogames['brand'] = brand\n",
    "\n",
    "#Change null category to ['Video Games']\n",
    "category = main_videogames['category'].apply(lambda x: ['Video Games'] if isinstance(x, float) else x)\n",
    "main_videogames['category'] = category"
   ]
  },
  {
   "cell_type": "code",
   "execution_count": 148,
   "metadata": {},
   "outputs": [
    {
     "name": "stdout",
     "output_type": "stream",
     "text": [
      "Your selected dataframe has 8 columns and 84893 Rows.\n",
      "There are 0 columns that have missing values.\n"
     ]
    },
    {
     "data": {
      "text/html": [
       "<div>\n",
       "<style scoped>\n",
       "    .dataframe tbody tr th:only-of-type {\n",
       "        vertical-align: middle;\n",
       "    }\n",
       "\n",
       "    .dataframe tbody tr th {\n",
       "        vertical-align: top;\n",
       "    }\n",
       "\n",
       "    .dataframe thead th {\n",
       "        text-align: right;\n",
       "    }\n",
       "</style>\n",
       "<table border=\"1\" class=\"dataframe\">\n",
       "  <thead>\n",
       "    <tr style=\"text-align: right;\">\n",
       "      <th></th>\n",
       "      <th>Zero Values</th>\n",
       "      <th>Missing Values</th>\n",
       "      <th>% of Total Values</th>\n",
       "      <th>Total Zero Missing Values</th>\n",
       "      <th>% Total Zero Missing Values</th>\n",
       "      <th>Data Type</th>\n",
       "    </tr>\n",
       "  </thead>\n",
       "  <tbody>\n",
       "  </tbody>\n",
       "</table>\n",
       "</div>"
      ],
      "text/plain": [
       "Empty DataFrame\n",
       "Columns: [Zero Values, Missing Values, % of Total Values, Total Zero Missing Values, % Total Zero Missing Values, Data Type]\n",
       "Index: []"
      ]
     },
     "execution_count": 148,
     "metadata": {},
     "output_type": "execute_result"
    }
   ],
   "source": [
    "#Check for missing values #6\n",
    "missing_zero_values_table(main_videogames)"
   ]
  },
  {
   "cell_type": "code",
   "execution_count": 149,
   "metadata": {},
   "outputs": [],
   "source": [
    "#Change category into a full string\n",
    "str2 = \" \"\n",
    "category = main_videogames['category'].apply(lambda x: str2.join(x) if isinstance(x, list) else x)\n",
    "main_videogames['category'] = category\n",
    "\n",
    "#Change description into a full string\n",
    "description = main_videogames['description'].apply(lambda x: str2.join(x) if x!='no_description' else x)\n",
    "main_videogames['description'] = description\n",
    "\n",
    "#Change feature into a full string\n",
    "feature = main_videogames['feature'].apply(lambda x: str2.join(x) if x!='no_features' else x)\n",
    "main_videogames['feature'] = feature"
   ]
  },
  {
   "cell_type": "code",
   "execution_count": 150,
   "metadata": {},
   "outputs": [],
   "source": [
    "#manually change categories to their sub category\n",
    "category = main_videogames['category'].apply(lambda x: x[12:] if x!='Video Games' else x)\n",
    "category = category.apply(lambda x: x[len('Retro Gaming & Microconsoles '):] if 'Retro Gaming & Microconsoles ' in x else x)\n",
    "main_videogames['category'] = category\n",
    "\n",
    "#drop main_cat\n",
    "main_videogames.drop('main_cat', 1, inplace=True)"
   ]
  },
  {
   "cell_type": "markdown",
   "metadata": {},
   "source": [
    "## Save to new csv file"
   ]
  },
  {
   "cell_type": "code",
   "execution_count": 168,
   "metadata": {},
   "outputs": [],
   "source": [
    "main_videogames.to_csv('Data/main_videogames.csv')"
   ]
  },
  {
   "cell_type": "code",
   "execution_count": 495,
   "metadata": {},
   "outputs": [],
   "source": [
    "test= pd.read_csv('Data/main_videogames.csv', index_col=0)"
   ]
  },
  {
   "cell_type": "code",
   "execution_count": 501,
   "metadata": {},
   "outputs": [
    {
     "data": {
      "text/plain": [
       "(798397, 7)"
      ]
     },
     "execution_count": 501,
     "metadata": {},
     "output_type": "execute_result"
    }
   ],
   "source": [
    "test.shape"
   ]
  },
  {
   "cell_type": "code",
   "execution_count": 502,
   "metadata": {},
   "outputs": [],
   "source": [
    "test.drop_duplicates(inplace=True)"
   ]
  },
  {
   "cell_type": "code",
   "execution_count": 507,
   "metadata": {},
   "outputs": [],
   "source": [
    "test['title'].fillna(\"no_title\", inplace=True)"
   ]
  },
  {
   "cell_type": "code",
   "execution_count": 509,
   "metadata": {},
   "outputs": [],
   "source": [
    "test.drop(columns=['category','brand','rank','description','feature'], inplace=True)"
   ]
  },
  {
   "cell_type": "code",
   "execution_count": 511,
   "metadata": {},
   "outputs": [],
   "source": [
    "test.to_csv('Data/asin_title.csv')"
   ]
  },
  {
   "cell_type": "markdown",
   "metadata": {},
   "source": [
    "## Copy/load to test filling out descriptions and features"
   ]
  },
  {
   "cell_type": "code",
   "execution_count": 8,
   "metadata": {},
   "outputs": [],
   "source": [
    "#makes a copy\n",
    "full_videogames = main_videogames.copy()"
   ]
  },
  {
   "cell_type": "code",
   "execution_count": 13,
   "metadata": {},
   "outputs": [],
   "source": [
    "#or load csv\n",
    "full_videogames = pd.read_csv('Data/main_videogames.csv')"
   ]
  },
  {
   "cell_type": "code",
   "execution_count": 249,
   "metadata": {},
   "outputs": [],
   "source": [
    "#drop duplicates\n",
    "full_videogames.drop_duplicates(inplace=True)"
   ]
  },
  {
   "cell_type": "code",
   "execution_count": 250,
   "metadata": {
    "scrolled": true
   },
   "outputs": [],
   "source": [
    "#too many different categories. removing excessive details\n",
    "category = full_videogames['category'].apply(lambda x: str(x).split(\"  \")[0].strip() if len(str(x).split(\"  \"))>1 else str(x).strip())\n",
    "full_videogames['category'] = category"
   ]
  },
  {
   "cell_type": "code",
   "execution_count": 251,
   "metadata": {},
   "outputs": [],
   "source": [
    "#using excessive details from long categories to fill in empty descriptions and featuers\n",
    "description_feature = full_videogames['category'].apply(lambda x: x.split(\"  \")[1].strip() if len(x.split(\"  \"))>1 else x.strip())\n",
    "descriptions = []\n",
    "features = []\n",
    "\n",
    "for idx, val in enumerate(full_videogames['description']):\n",
    "    if val == 'no_description':\n",
    "        descriptions.append(description_feature[idx])\n",
    "    else:\n",
    "        descriptions.append(val)\n",
    "\n",
    "for idx, val in enumerate(full_videogames['feature']):\n",
    "    if val == 'no_features':\n",
    "        features.append(description_feature[idx])\n",
    "    else:\n",
    "        features.append(val)\n",
    "\n",
    "full_videogames['description'] = descriptions\n",
    "full_videogames['feature'] = features"
   ]
  },
  {
   "cell_type": "code",
   "execution_count": null,
   "metadata": {},
   "outputs": [],
   "source": [
    "# sorted(full_videogames.category.unique())"
   ]
  },
  {
   "cell_type": "code",
   "execution_count": 656,
   "metadata": {},
   "outputs": [],
   "source": [
    "def platform_type(item):\n",
    "    item = item.lower()\n",
    "    if '3do' in item: return '3DO'\n",
    "    elif 'Atari 2600'.lower() in item: return 'Atari2600'\n",
    "    elif 'Atari 5200'.lower() in item: return 'Atari5200'\n",
    "    elif 'Atari 7800'.lower() in item: return 'Atari7800'\n",
    "    elif 'Atari Jaguar'.lower() in item: return 'AtariJaguar'\n",
    "    elif 'Atari Lynx'.lower() in item: return 'AtariLynx'\n",
    "    elif 'ColecoVision'.lower() in item: return 'ColecoVision'\n",
    "    elif 'Commodore 64'.lower() in item: return 'Commodore64'\n",
    "    elif 'Commodore Amiga'.lower() in item: return 'CommodoreAmiga'\n",
    "    elif 'Mac'.lower() in item: return 'Mac'\n",
    "    elif 'PC'.lower() in item: return 'PC'\n",
    "    elif 'Intellivision'.lower() in item: return 'Intellivision'\n",
    "    elif 'Nintendo DS'.lower() in item: return 'NintendoDS'\n",
    "    elif 'Nintendo 64'.lower() in item: return 'Nintendo64'\n",
    "    elif 'Nintendo 3DS'.lower() in item: return 'Nintendo3DS'\n",
    "    elif 'Nintendo Switch'.lower() in item: return 'NintendoSwitch'\n",
    "    elif 'PlayStation 2'.lower() in item: return 'PlayStation2'\n",
    "    elif 'PlayStation 3'.lower() in item: return 'PlayStation3'\n",
    "    elif 'PlayStation 4'.lower() in item: return 'PlayStation4'\n",
    "    elif 'PlayStation Vita'.lower() in item: return 'PlayStationVita'\n",
    "    elif 'PlayStation'.lower() in item: return 'PlayStation'\n",
    "    elif 'PSP'.lower() in item: return 'PSP'\n",
    "    elif 'Wii U'.lower() in item: return 'WiiU'\n",
    "    elif 'Wii'.lower() in item: return 'Wii'\n",
    "    elif 'Xbox 360'.lower() in item: return 'Xbox360'\n",
    "    elif 'Xbox One'.lower() in item: return 'XboxOne'\n",
    "    elif 'Xbox'.lower() in item: return 'Xbox'\n",
    "    elif 'Linux'.lower() in item: return 'Linux'\n",
    "    elif 'NEOGEO Pocket'.lower() in item: return 'NEOGEOPocket'\n",
    "    elif 'NES'.lower() in item: return 'NES'\n",
    "    elif 'Ouya'.lower() in item: return 'Ouya'\n",
    "    elif 'Virtual Reality'.lower() in item: return 'VirtualReality'\n",
    "    elif 'Retro Gaming & Microconsoles'.lower() in item: return 'RetroGaming & Microconsoles'\n",
    "    elif 'Sega CD'.lower() in item: return 'Sega CD'\n",
    "    elif 'Sega Dreamcast'.lower() in item: return 'SegaDreamcast'\n",
    "    elif 'Sega Game Gear'.lower() in item: return 'SegaGameGear'\n",
    "    elif 'Sega Genesis'.lower() in item: return 'SegaGenesis'\n",
    "    elif 'Sega Master System'.lower() in item: return 'SegaMasterSystem'\n",
    "    elif 'Sega Saturn'.lower() in item: return 'SegaSaturn'\n",
    "    elif 'Super Nintendo'.lower() in item: return 'SuperNintendo'\n",
    "    elif 'TurboGrafx 16'.lower() in item: return 'TurboGrafx16'\n",
    "    elif 'GameCube'.lower() in item: return 'GameCube'\n",
    "    elif 'Advance'.lower() in item: return 'GameBoyAdvance'\n",
    "    elif 'Color'.lower() in item: return 'Game Boy Color'\n",
    "    elif 'Game Boy'.lower() in item: return 'GameBoy'\n",
    "    else: return \"none\""
   ]
  },
  {
   "cell_type": "code",
   "execution_count": 253,
   "metadata": {},
   "outputs": [],
   "source": [
    "def product_type(item):\n",
    "    if 'Games' in item: return 'Game'\n",
    "    elif 'Controller' in item: return 'Controller'\n",
    "    elif 'Joysticks' in item: return 'Joystick'\n",
    "    elif 'Racing Wheel' in item: return 'Racing Wheel'\n",
    "    elif 'Gamepads' in item: return 'Gamepads'\n",
    "    elif 'Consoles' in item: return 'Console'\n",
    "    elif 'Cables' in item: return 'Cables'\n",
    "    elif 'System' in item: return 'System'\n",
    "    elif 'Batteries' in item: return 'System'\n",
    "    elif 'Headset' in item: return 'Headset'\n",
    "    elif 'DLC' in item: return 'DLC'\n",
    "    elif 'Figures' in item: return 'Figures'    \n",
    "    elif 'Mounts' or 'Brackets' or 'Stands' in item: return 'Mounts'    \n",
    "    elif 'Subscription' in item: return 'Subscription'\n",
    "    elif 'Accessories' in item: return 'Accessories'"
   ]
  },
  {
   "cell_type": "code",
   "execution_count": 254,
   "metadata": {},
   "outputs": [],
   "source": [
    "#Get the platform and product type of each item\n",
    "platform1 = full_videogames['category'].apply(lambda x: platform_type(str(x)))\n",
    "platform2 = full_videogames['description'].apply(lambda x: platform_type(str(x)))\n",
    "platform3 = full_videogames['feature'].apply(lambda x: platform_type(str(x)))\n",
    "product = full_videogames['category'].apply(lambda x: product_type(str(x)))\n",
    "\n",
    "#combines all the text from three columns to determine the platform \n",
    "platform = platform1 + ' ' + platform2 + ' ' + platform3\n",
    "platform = platform.apply(lambda x: platform_type(x))\n",
    "#None means that the platform was never mentioned in the entire posting\n",
    "\n",
    "full_videogames['platform'] = platform\n",
    "full_videogames['product'] = product"
   ]
  },
  {
   "cell_type": "code",
   "execution_count": 10,
   "metadata": {},
   "outputs": [],
   "source": [
    "#TODO: Include average rating of items"
   ]
  },
  {
   "cell_type": "markdown",
   "metadata": {},
   "source": [
    "## Videogames EDA"
   ]
  },
  {
   "cell_type": "code",
   "execution_count": 27,
   "metadata": {},
   "outputs": [],
   "source": [
    "from src.EDA import EDA\n",
    "eda = EDA()"
   ]
  },
  {
   "cell_type": "code",
   "execution_count": 323,
   "metadata": {},
   "outputs": [
    {
     "name": "stdout",
     "output_type": "stream",
     "text": [
      "Object `eda #update docstring` not found.\n"
     ]
    }
   ],
   "source": [
    "?eda #update docstring"
   ]
  },
  {
   "cell_type": "code",
   "execution_count": 24,
   "metadata": {},
   "outputs": [],
   "source": [
    "full_videogames = pd.read_csv('Data/full_videogames.csv', index_col=0)"
   ]
  },
  {
   "cell_type": "code",
   "execution_count": 34,
   "metadata": {},
   "outputs": [
    {
     "data": {
      "image/png": "[encoded data removed]",
      "text/plain": [
       "<Figure size 864x504 with 1 Axes>"
      ]
     },
     "metadata": {},
     "output_type": "display_data"
    },
    {
     "name": "stdout",
     "output_type": "stream",
     "text": [
      "Number of Unique Platforms:  45\n"
     ]
    }
   ],
   "source": [
    "#1. Top 10 Platforms BarH\n",
    "platform_counts = full_videogames['platform'].value_counts()\n",
    "platform_list = []\n",
    "count_list = []\n",
    "\n",
    "for key, val in platform_counts.items():\n",
    "    platform_list.append(str(key))\n",
    "    count_list.append(val)\n",
    "\n",
    "#plot here\n",
    "eda.print_bar(platform_list[:10][::-1], count_list[:10][::-1], x_label='Count', y_label='Platform', \n",
    "              title='Top 10 Popular Platforms', orientation='hort')\n",
    "\n",
    "#print number of uniques\n",
    "print('Number of Unique Platforms: ', full_videogames['platform'].nunique())"
   ]
  },
  {
   "cell_type": "code",
   "execution_count": 33,
   "metadata": {
    "scrolled": false
   },
   "outputs": [
    {
     "data": {
      "image/png": "[encoded data removed]",
      "text/plain": [
       "<Figure size 864x504 with 1 Axes>"
      ]
     },
     "metadata": {},
     "output_type": "display_data"
    },
    {
     "name": "stdout",
     "output_type": "stream",
     "text": [
      "Number of Unique Brands:  7779\n"
     ]
    }
   ],
   "source": [
    "#2. Top 10 Brand BarH\n",
    "brand_counts = full_videogames['brand'].value_counts()\n",
    "brand_list = []\n",
    "count_list = []\n",
    "\n",
    "for key, val in brand_counts.items():\n",
    "    brand_list.append(str(key))\n",
    "    count_list.append(val)\n",
    "\n",
    "#plot here\n",
    "eda.print_bar(brand_list[:10][::-1], count_list[:10][::-1], x_label='Count', y_label='Brand', \n",
    "              title='Top 10 Popular Brands', orientation='hort')\n",
    "\n",
    "#print number of uniques\n",
    "print('Number of Unique Brands: ', full_videogames['brand'].nunique())"
   ]
  },
  {
   "cell_type": "code",
   "execution_count": 28,
   "metadata": {},
   "outputs": [],
   "source": [
    "full_videogames = pd.read_csv('Data/full_videogames.csv', index_col=0)"
   ]
  },
  {
   "cell_type": "code",
   "execution_count": 31,
   "metadata": {
    "scrolled": false
   },
   "outputs": [
    {
     "data": {
      "image/png": "[encoded data removed]",
      "text/plain": [
       "<Figure size 864x504 with 1 Axes>"
      ]
     },
     "metadata": {},
     "output_type": "display_data"
    }
   ],
   "source": [
    "#3. Top 10 Product Type BarH\n",
    "product_counts = full_videogames['product'].value_counts()\n",
    "product_list = []\n",
    "count_list = []\n",
    "\n",
    "for key, val in product_counts.items():\n",
    "    product_list.append(str(key))\n",
    "    count_list.append(val)\n",
    "\n",
    "#plot here\n",
    "eda.print_bar(product_list[:10][::-1], count_list[:10][::-1], x_label='Count', y_label='Product Type', \n",
    "              title='Top 10 Popular Product Types', orientation='hort')"
   ]
  },
  {
   "cell_type": "markdown",
   "metadata": {},
   "source": [
    "##### Done with video games EDA"
   ]
  },
  {
   "cell_type": "code",
   "execution_count": 270,
   "metadata": {},
   "outputs": [],
   "source": [
    "#Save to new CSV\n",
    "full_videogames.to_csv('Data/full_videogames.csv')"
   ]
  },
  {
   "cell_type": "markdown",
   "metadata": {},
   "source": [
    "### Copy dataframe, then start Shrinking to unique values"
   ]
  },
  {
   "cell_type": "code",
   "execution_count": 671,
   "metadata": {},
   "outputs": [],
   "source": [
    "simple_videogames = full_videogames.copy()"
   ]
  },
  {
   "cell_type": "code",
   "execution_count": 672,
   "metadata": {},
   "outputs": [],
   "source": [
    "simple_videogames.drop('category', 1, inplace=True)"
   ]
  },
  {
   "cell_type": "code",
   "execution_count": 673,
   "metadata": {},
   "outputs": [],
   "source": [
    "# platform = simple_videogames['platform'].apply(lambda x: platform_type(x))\n",
    "# simple_videogames['platform'] = platform"
   ]
  },
  {
   "cell_type": "code",
   "execution_count": 675,
   "metadata": {},
   "outputs": [],
   "source": [
    "description = simple_videogames['title'] + ' ' + simple_videogames['brand'] + ' ' + simple_videogames['description'] + ' ' + simple_videogames['feature'] + ' ' + simple_videogames['platform'] + ' ' + simple_videogames['product']"
   ]
  },
  {
   "cell_type": "code",
   "execution_count": 676,
   "metadata": {},
   "outputs": [],
   "source": [
    "simple_videogames.drop(columns = ['title','brand','feature','product'], inplace=True)\n",
    "simple_videogames['description'] = description"
   ]
  },
  {
   "cell_type": "code",
   "execution_count": 677,
   "metadata": {
    "scrolled": false
   },
   "outputs": [
    {
     "data": {
      "text/html": [
       "<div>\n",
       "<style scoped>\n",
       "    .dataframe tbody tr th:only-of-type {\n",
       "        vertical-align: middle;\n",
       "    }\n",
       "\n",
       "    .dataframe tbody tr th {\n",
       "        vertical-align: top;\n",
       "    }\n",
       "\n",
       "    .dataframe thead th {\n",
       "        text-align: right;\n",
       "    }\n",
       "</style>\n",
       "<table border=\"1\" class=\"dataframe\">\n",
       "  <thead>\n",
       "    <tr style=\"text-align: right;\">\n",
       "      <th></th>\n",
       "      <th>Unnamed: 0</th>\n",
       "      <th>rank</th>\n",
       "      <th>asin</th>\n",
       "      <th>description</th>\n",
       "      <th>platform</th>\n",
       "    </tr>\n",
       "  </thead>\n",
       "  <tbody>\n",
       "    <tr>\n",
       "      <th>0</th>\n",
       "      <td>0</td>\n",
       "      <td>2623937.0</td>\n",
       "      <td>0042000742</td>\n",
       "      <td>Reversi Sensory Challenger Fidelity Electronic...</td>\n",
       "      <td>PC</td>\n",
       "    </tr>\n",
       "    <tr>\n",
       "      <th>1</th>\n",
       "      <td>1</td>\n",
       "      <td>67231.0</td>\n",
       "      <td>0078764343</td>\n",
       "      <td>Medal of Honor: Warfighter - Includes Battlefi...</td>\n",
       "      <td>Xbox360</td>\n",
       "    </tr>\n",
       "    <tr>\n",
       "      <th>2</th>\n",
       "      <td>2</td>\n",
       "      <td>134433.0</td>\n",
       "      <td>0276425316</td>\n",
       "      <td>street fighter 2 II turbo super nintendo snes ...</td>\n",
       "      <td>SuperNintendo</td>\n",
       "    </tr>\n",
       "    <tr>\n",
       "      <th>3</th>\n",
       "      <td>3</td>\n",
       "      <td>105263.0</td>\n",
       "      <td>0324411812</td>\n",
       "      <td>Xbox 360 MAS STICK MAS SYSTEMS MAS's Pro Xbox ...</td>\n",
       "      <td>PC</td>\n",
       "    </tr>\n",
       "    <tr>\n",
       "      <th>4</th>\n",
       "      <td>4</td>\n",
       "      <td>92397.0</td>\n",
       "      <td>0439335310</td>\n",
       "      <td>Phonics Alive! 3: The Speller Advanced Softwar...</td>\n",
       "      <td>PC</td>\n",
       "    </tr>\n",
       "  </tbody>\n",
       "</table>\n",
       "</div>"
      ],
      "text/plain": [
       "  Unnamed: 0       rank        asin  \\\n",
       "0          0  2623937.0  0042000742   \n",
       "1          1    67231.0  0078764343   \n",
       "2          2   134433.0  0276425316   \n",
       "3          3   105263.0  0324411812   \n",
       "4          4    92397.0  0439335310   \n",
       "\n",
       "                                         description       platform  \n",
       "0  Reversi Sensory Challenger Fidelity Electronic...             PC  \n",
       "1  Medal of Honor: Warfighter - Includes Battlefi...        Xbox360  \n",
       "2  street fighter 2 II turbo super nintendo snes ...  SuperNintendo  \n",
       "3  Xbox 360 MAS STICK MAS SYSTEMS MAS's Pro Xbox ...             PC  \n",
       "4  Phonics Alive! 3: The Speller Advanced Softwar...             PC  "
      ]
     },
     "execution_count": 677,
     "metadata": {},
     "output_type": "execute_result"
    }
   ],
   "source": [
    "simple_videogames.head()\n",
    "#would we want to have unique words in the description? or keep nuber of words "
   ]
  },
  {
   "cell_type": "code",
   "execution_count": 678,
   "metadata": {},
   "outputs": [],
   "source": [
    "#save to csv\n",
    "simple_videogames.to_csv('Data/simple_videogames.csv')"
   ]
  },
  {
   "cell_type": "markdown",
   "metadata": {},
   "source": [
    "# \"\"\"\"\"\"\"\"\"\"\"\"\"\"\"\"\"\"\"\"\"\"\"'"
   ]
  },
  {
   "cell_type": "markdown",
   "metadata": {},
   "source": [
    "# Cleaning Reviews DF ~"
   ]
  },
  {
   "cell_type": "code",
   "execution_count": 282,
   "metadata": {},
   "outputs": [],
   "source": [
    "#change image to 0 or 1\n",
    "main_reviews = reviews.copy()\n",
    "image = [0 if isinstance(i,float) else 1 for i in main_reviews.image]\n",
    "main_reviews['image'] = image"
   ]
  },
  {
   "cell_type": "code",
   "execution_count": 283,
   "metadata": {},
   "outputs": [],
   "source": [
    "#drop columns = reviewTime, reviewName, style, vote\n",
    "main_reviews.drop(columns=['reviewTime', 'reviewerName', 'style', 'vote'], inplace=True)"
   ]
  },
  {
   "cell_type": "markdown",
   "metadata": {},
   "source": [
    "### Handle Missing"
   ]
  },
  {
   "cell_type": "code",
   "execution_count": 286,
   "metadata": {},
   "outputs": [
    {
     "name": "stdout",
     "output_type": "stream",
     "text": [
      "Your selected dataframe has 8 columns and 2565349 Rows.\n",
      "There are 2 columns that have missing values.\n"
     ]
    },
    {
     "data": {
      "text/html": [
       "<div>\n",
       "<style scoped>\n",
       "    .dataframe tbody tr th:only-of-type {\n",
       "        vertical-align: middle;\n",
       "    }\n",
       "\n",
       "    .dataframe tbody tr th {\n",
       "        vertical-align: top;\n",
       "    }\n",
       "\n",
       "    .dataframe thead th {\n",
       "        text-align: right;\n",
       "    }\n",
       "</style>\n",
       "<table border=\"1\" class=\"dataframe\">\n",
       "  <thead>\n",
       "    <tr style=\"text-align: right;\">\n",
       "      <th></th>\n",
       "      <th>Zero Values</th>\n",
       "      <th>Missing Values</th>\n",
       "      <th>% of Total Values</th>\n",
       "      <th>Total Zero Missing Values</th>\n",
       "      <th>% Total Zero Missing Values</th>\n",
       "      <th>Data Type</th>\n",
       "    </tr>\n",
       "  </thead>\n",
       "  <tbody>\n",
       "    <tr>\n",
       "      <th>reviewText</th>\n",
       "      <td>0</td>\n",
       "      <td>1715</td>\n",
       "      <td>0.1</td>\n",
       "      <td>1715</td>\n",
       "      <td>0.1</td>\n",
       "      <td>object</td>\n",
       "    </tr>\n",
       "    <tr>\n",
       "      <th>summary</th>\n",
       "      <td>0</td>\n",
       "      <td>811</td>\n",
       "      <td>0.0</td>\n",
       "      <td>811</td>\n",
       "      <td>0.0</td>\n",
       "      <td>object</td>\n",
       "    </tr>\n",
       "  </tbody>\n",
       "</table>\n",
       "</div>"
      ],
      "text/plain": [
       "            Zero Values  Missing Values  % of Total Values  \\\n",
       "reviewText            0            1715                0.1   \n",
       "summary               0             811                0.0   \n",
       "\n",
       "            Total Zero Missing Values  % Total Zero Missing Values Data Type  \n",
       "reviewText                       1715                          0.1    object  \n",
       "summary                           811                          0.0    object  "
      ]
     },
     "execution_count": 286,
     "metadata": {},
     "output_type": "execute_result"
    }
   ],
   "source": [
    "missing_zero_values_table(main_reviews)"
   ]
  },
  {
   "cell_type": "code",
   "execution_count": 287,
   "metadata": {},
   "outputs": [
    {
     "data": {
      "text/plain": [
       "(array([False,  True]), array([2563634,    1715]))"
      ]
     },
     "execution_count": 287,
     "metadata": {},
     "output_type": "execute_result"
    }
   ],
   "source": [
    "np.unique(reviews.reviewText.isna(), return_counts=True)"
   ]
  },
  {
   "cell_type": "code",
   "execution_count": 288,
   "metadata": {},
   "outputs": [
    {
     "data": {
      "text/plain": [
       "(array([False,  True]), array([2564538,     811]))"
      ]
     },
     "execution_count": 288,
     "metadata": {},
     "output_type": "execute_result"
    }
   ],
   "source": [
    "np.unique(reviews.summary.isna(), return_counts=True)"
   ]
  },
  {
   "cell_type": "code",
   "execution_count": 289,
   "metadata": {},
   "outputs": [],
   "source": [
    "reviewText = main_reviews.reviewText.apply(lambda x: 'no_text_was_given' if isinstance(x, float) else x)"
   ]
  },
  {
   "cell_type": "code",
   "execution_count": 290,
   "metadata": {},
   "outputs": [],
   "source": [
    "summary = main_reviews.summary.apply(lambda x: 'no_summary_given' if isinstance(x, float) else x)"
   ]
  },
  {
   "cell_type": "code",
   "execution_count": 291,
   "metadata": {},
   "outputs": [],
   "source": [
    "main_reviews['reviewText'] = reviewText\n",
    "main_reviews['summary'] = summary"
   ]
  },
  {
   "cell_type": "code",
   "execution_count": 292,
   "metadata": {
    "scrolled": true
   },
   "outputs": [
    {
     "name": "stdout",
     "output_type": "stream",
     "text": [
      "Your selected dataframe has 8 columns and 2565349 Rows.\n",
      "There are 0 columns that have missing values.\n"
     ]
    },
    {
     "data": {
      "text/html": [
       "<div>\n",
       "<style scoped>\n",
       "    .dataframe tbody tr th:only-of-type {\n",
       "        vertical-align: middle;\n",
       "    }\n",
       "\n",
       "    .dataframe tbody tr th {\n",
       "        vertical-align: top;\n",
       "    }\n",
       "\n",
       "    .dataframe thead th {\n",
       "        text-align: right;\n",
       "    }\n",
       "</style>\n",
       "<table border=\"1\" class=\"dataframe\">\n",
       "  <thead>\n",
       "    <tr style=\"text-align: right;\">\n",
       "      <th></th>\n",
       "      <th>Zero Values</th>\n",
       "      <th>Missing Values</th>\n",
       "      <th>% of Total Values</th>\n",
       "      <th>Total Zero Missing Values</th>\n",
       "      <th>% Total Zero Missing Values</th>\n",
       "      <th>Data Type</th>\n",
       "    </tr>\n",
       "  </thead>\n",
       "  <tbody>\n",
       "  </tbody>\n",
       "</table>\n",
       "</div>"
      ],
      "text/plain": [
       "Empty DataFrame\n",
       "Columns: [Zero Values, Missing Values, % of Total Values, Total Zero Missing Values, % Total Zero Missing Values, Data Type]\n",
       "Index: []"
      ]
     },
     "execution_count": 292,
     "metadata": {},
     "output_type": "execute_result"
    }
   ],
   "source": [
    "missing_zero_values_table(main_reviews)"
   ]
  },
  {
   "cell_type": "code",
   "execution_count": 293,
   "metadata": {},
   "outputs": [],
   "source": [
    "#change verified values to 0 or 1\n",
    "verified = main_reviews['verified'].apply(lambda x: 1 if x==True else 0)\n",
    "main_reviews['verified'] = verified"
   ]
  },
  {
   "cell_type": "code",
   "execution_count": 294,
   "metadata": {},
   "outputs": [],
   "source": [
    "#change unixReviewTime to corresponding day/week/month/year\n",
    "ReviewTime = pd.Timestamp(main_reviews['unixReviewTime'][0], unit='s')\n",
    "day = ReviewTime.dayofyear\n",
    "week = ReviewTime.weekofyear\n",
    "month = ReviewTime.month\n",
    "year = ReviewTime.year\n",
    "\n",
    "main_reviews['day'] = day\n",
    "main_reviews['week'] = week\n",
    "main_reviews['month'] = month\n",
    "main_reviews['year'] = year"
   ]
  },
  {
   "cell_type": "code",
   "execution_count": 295,
   "metadata": {
    "scrolled": false
   },
   "outputs": [
    {
     "data": {
      "text/html": [
       "<div>\n",
       "<style scoped>\n",
       "    .dataframe tbody tr th:only-of-type {\n",
       "        vertical-align: middle;\n",
       "    }\n",
       "\n",
       "    .dataframe tbody tr th {\n",
       "        vertical-align: top;\n",
       "    }\n",
       "\n",
       "    .dataframe thead th {\n",
       "        text-align: right;\n",
       "    }\n",
       "</style>\n",
       "<table border=\"1\" class=\"dataframe\">\n",
       "  <thead>\n",
       "    <tr style=\"text-align: right;\">\n",
       "      <th></th>\n",
       "      <th>overall</th>\n",
       "      <th>verified</th>\n",
       "      <th>reviewerID</th>\n",
       "      <th>asin</th>\n",
       "      <th>reviewText</th>\n",
       "      <th>summary</th>\n",
       "      <th>unixReviewTime</th>\n",
       "      <th>image</th>\n",
       "      <th>day</th>\n",
       "      <th>week</th>\n",
       "      <th>month</th>\n",
       "      <th>year</th>\n",
       "    </tr>\n",
       "  </thead>\n",
       "  <tbody>\n",
       "    <tr>\n",
       "      <th>0</th>\n",
       "      <td>1</td>\n",
       "      <td>1</td>\n",
       "      <td>A21ROB4YDOZA5P</td>\n",
       "      <td>0439381673</td>\n",
       "      <td>I used to play this game years ago and loved i...</td>\n",
       "      <td>Did not like this</td>\n",
       "      <td>1402272000</td>\n",
       "      <td>0</td>\n",
       "      <td>160</td>\n",
       "      <td>24</td>\n",
       "      <td>6</td>\n",
       "      <td>2014</td>\n",
       "    </tr>\n",
       "    <tr>\n",
       "      <th>1</th>\n",
       "      <td>3</td>\n",
       "      <td>1</td>\n",
       "      <td>A3TNZ2Q5E7HTHD</td>\n",
       "      <td>0439381673</td>\n",
       "      <td>The game itself worked great but the story lin...</td>\n",
       "      <td>Almost Perfect</td>\n",
       "      <td>1399680000</td>\n",
       "      <td>0</td>\n",
       "      <td>160</td>\n",
       "      <td>24</td>\n",
       "      <td>6</td>\n",
       "      <td>2014</td>\n",
       "    </tr>\n",
       "    <tr>\n",
       "      <th>2</th>\n",
       "      <td>4</td>\n",
       "      <td>1</td>\n",
       "      <td>A1OKRM3QFEATQO</td>\n",
       "      <td>0439381673</td>\n",
       "      <td>I had to learn the hard way after ordering thi...</td>\n",
       "      <td>DOES NOT WORK WITH MAC OS unless it is 10.3 or...</td>\n",
       "      <td>1391731200</td>\n",
       "      <td>0</td>\n",
       "      <td>160</td>\n",
       "      <td>24</td>\n",
       "      <td>6</td>\n",
       "      <td>2014</td>\n",
       "    </tr>\n",
       "    <tr>\n",
       "      <th>3</th>\n",
       "      <td>1</td>\n",
       "      <td>1</td>\n",
       "      <td>A2XO1JFCNEYV3T</td>\n",
       "      <td>0439381673</td>\n",
       "      <td>The product description should state this clea...</td>\n",
       "      <td>does not work on Mac OSX</td>\n",
       "      <td>1391731200</td>\n",
       "      <td>0</td>\n",
       "      <td>160</td>\n",
       "      <td>24</td>\n",
       "      <td>6</td>\n",
       "      <td>2014</td>\n",
       "    </tr>\n",
       "    <tr>\n",
       "      <th>4</th>\n",
       "      <td>4</td>\n",
       "      <td>1</td>\n",
       "      <td>A19WLPIRHD15TH</td>\n",
       "      <td>0439381673</td>\n",
       "      <td>I would recommend this learning game for anyon...</td>\n",
       "      <td>Roughing it</td>\n",
       "      <td>1389830400</td>\n",
       "      <td>0</td>\n",
       "      <td>160</td>\n",
       "      <td>24</td>\n",
       "      <td>6</td>\n",
       "      <td>2014</td>\n",
       "    </tr>\n",
       "  </tbody>\n",
       "</table>\n",
       "</div>"
      ],
      "text/plain": [
       "   overall  verified      reviewerID        asin  \\\n",
       "0        1         1  A21ROB4YDOZA5P  0439381673   \n",
       "1        3         1  A3TNZ2Q5E7HTHD  0439381673   \n",
       "2        4         1  A1OKRM3QFEATQO  0439381673   \n",
       "3        1         1  A2XO1JFCNEYV3T  0439381673   \n",
       "4        4         1  A19WLPIRHD15TH  0439381673   \n",
       "\n",
       "                                          reviewText  \\\n",
       "0  I used to play this game years ago and loved i...   \n",
       "1  The game itself worked great but the story lin...   \n",
       "2  I had to learn the hard way after ordering thi...   \n",
       "3  The product description should state this clea...   \n",
       "4  I would recommend this learning game for anyon...   \n",
       "\n",
       "                                             summary  unixReviewTime  image  \\\n",
       "0                                  Did not like this      1402272000      0   \n",
       "1                                     Almost Perfect      1399680000      0   \n",
       "2  DOES NOT WORK WITH MAC OS unless it is 10.3 or...      1391731200      0   \n",
       "3                           does not work on Mac OSX      1391731200      0   \n",
       "4                                        Roughing it      1389830400      0   \n",
       "\n",
       "   day  week  month  year  \n",
       "0  160    24      6  2014  \n",
       "1  160    24      6  2014  \n",
       "2  160    24      6  2014  \n",
       "3  160    24      6  2014  \n",
       "4  160    24      6  2014  "
      ]
     },
     "execution_count": 295,
     "metadata": {},
     "output_type": "execute_result"
    }
   ],
   "source": [
    "main_reviews.head()"
   ]
  },
  {
   "cell_type": "code",
   "execution_count": 296,
   "metadata": {},
   "outputs": [],
   "source": [
    "#Save dataframe to CSV\n",
    "main_reviews.to_csv('Data/main_reviews.csv')"
   ]
  },
  {
   "cell_type": "markdown",
   "metadata": {},
   "source": [
    "## Reviews EDA"
   ]
  },
  {
   "cell_type": "code",
   "execution_count": 329,
   "metadata": {},
   "outputs": [
    {
     "data": {
      "image/png": "[encoded data removed]",
      "text/plain": [
       "<Figure size 1656x504 with 1 Axes>"
      ]
     },
     "metadata": {},
     "output_type": "display_data"
    }
   ],
   "source": [
    "#1. Barplot on ratings given\n",
    "ratings = []\n",
    "counts = []\n",
    "\n",
    "for idx, val in main_reviews['overall'].value_counts().sort_index().items():\n",
    "    ratings.append(idx)\n",
    "    counts.append(val)\n",
    "\n",
    "#Graph Barplot\n",
    "eda.print_bar(x=ratings, y=counts, x_label='Ratings', y_label='Counts', title='Number of Ratings Posted', orientation='vert')\n",
    "\n",
    "# plt.savefig('Images/Number_of_Ratings.jpg')"
   ]
  },
  {
   "cell_type": "code",
   "execution_count": 332,
   "metadata": {},
   "outputs": [
    {
     "data": {
      "image/png": "[encoded data removed]",
      "text/plain": [
       "<Figure size 1656x504 with 1 Axes>"
      ]
     },
     "metadata": {},
     "output_type": "display_data"
    }
   ],
   "source": [
    "#2. Barplot on Verified vs Unverified Purchased\n",
    "verified_unverified_labels = ['Unverified', 'Verified']\n",
    "verified_unverified_count = [0, 1]\n",
    "\n",
    "for idx, val in main_reviews['verified'].value_counts().sort_index().items():\n",
    "    verified_unverified_count[idx] = val\n",
    "\n",
    "#Graph Barplot\n",
    "eda.print_bar(x=verified_unverified_labels, y=verified_unverified_count, x_label='Verified / Unverified Purchase', y_label='Counts', title='Number of Ratings Posted', orientation='vert')\n",
    "\n",
    "# plt.savefig('Images/Verified_vs_Unverified.jpg')"
   ]
  },
  {
   "cell_type": "code",
   "execution_count": 333,
   "metadata": {},
   "outputs": [
    {
     "data": {
      "image/png": "[encoded data removed]",
      "text/plain": [
       "<Figure size 1656x504 with 1 Axes>"
      ]
     },
     "metadata": {},
     "output_type": "display_data"
    }
   ],
   "source": [
    "#3. Barplot on number of reviews with image attached\n",
    "image_labels = ['No Image Attached', 'Image Attached']\n",
    "image_counts = [0, 1]\n",
    "\n",
    "for idx, val in main_reviews['image'].value_counts().sort_index().items():\n",
    "    image_counts[idx] = val\n",
    "    \n",
    "#Graph barplot\n",
    "eda.print_bar(x=image_labels, y=image_counts, x_label='No Image / Image Added', y_label='Counts', title='Numbers of Reviews with Images', orientation='vert')\n",
    "\n",
    "# plt.savefig('Images/Verified_vs_Unverified.jpg')"
   ]
  },
  {
   "cell_type": "markdown",
   "metadata": {},
   "source": [
    "# ^ END UP EDA ^"
   ]
  },
  {
   "cell_type": "markdown",
   "metadata": {},
   "source": [
    "### =============================================================="
   ]
  },
  {
   "cell_type": "markdown",
   "metadata": {},
   "source": [
    "## START OF RECOMMENDER SYSTEM"
   ]
  },
  {
   "cell_type": "code",
   "execution_count": 92,
   "metadata": {},
   "outputs": [],
   "source": [
    "from src.EDA import EDA\n",
    "eda = EDA()"
   ]
  },
  {
   "cell_type": "markdown",
   "metadata": {},
   "source": [
    "### Ratings - Filtering out reviewerIDs with less than 5 reviews"
   ]
  },
  {
   "cell_type": "code",
   "execution_count": 36,
   "metadata": {},
   "outputs": [],
   "source": [
    "#first make copy of reviews\n",
    "tokenized_reviews_df = pd.read_csv('Data/simple_reviews.csv')"
   ]
  },
  {
   "cell_type": "code",
   "execution_count": 41,
   "metadata": {},
   "outputs": [
    {
     "data": {
      "text/html": [
       "<div>\n",
       "<style scoped>\n",
       "    .dataframe tbody tr th:only-of-type {\n",
       "        vertical-align: middle;\n",
       "    }\n",
       "\n",
       "    .dataframe tbody tr th {\n",
       "        vertical-align: top;\n",
       "    }\n",
       "\n",
       "    .dataframe thead th {\n",
       "        text-align: right;\n",
       "    }\n",
       "</style>\n",
       "<table border=\"1\" class=\"dataframe\">\n",
       "  <thead>\n",
       "    <tr style=\"text-align: right;\">\n",
       "      <th></th>\n",
       "      <th>rating</th>\n",
       "      <th>reviewerID</th>\n",
       "      <th>asin</th>\n",
       "      <th>reviewText</th>\n",
       "    </tr>\n",
       "  </thead>\n",
       "  <tbody>\n",
       "    <tr>\n",
       "      <th>0</th>\n",
       "      <td>1</td>\n",
       "      <td>A21ROB4YDOZA5P</td>\n",
       "      <td>0439381673</td>\n",
       "      <td>I used to play this game years ago and loved i...</td>\n",
       "    </tr>\n",
       "    <tr>\n",
       "      <th>1</th>\n",
       "      <td>3</td>\n",
       "      <td>A3TNZ2Q5E7HTHD</td>\n",
       "      <td>0439381673</td>\n",
       "      <td>The game itself worked great but the story lin...</td>\n",
       "    </tr>\n",
       "    <tr>\n",
       "      <th>2</th>\n",
       "      <td>4</td>\n",
       "      <td>A1OKRM3QFEATQO</td>\n",
       "      <td>0439381673</td>\n",
       "      <td>I had to learn the hard way after ordering thi...</td>\n",
       "    </tr>\n",
       "  </tbody>\n",
       "</table>\n",
       "</div>"
      ],
      "text/plain": [
       "   rating      reviewerID        asin  \\\n",
       "0       1  A21ROB4YDOZA5P  0439381673   \n",
       "1       3  A3TNZ2Q5E7HTHD  0439381673   \n",
       "2       4  A1OKRM3QFEATQO  0439381673   \n",
       "\n",
       "                                          reviewText  \n",
       "0  I used to play this game years ago and loved i...  \n",
       "1  The game itself worked great but the story lin...  \n",
       "2  I had to learn the hard way after ordering thi...  "
      ]
     },
     "execution_count": 41,
     "metadata": {},
     "output_type": "execute_result"
    }
   ],
   "source": [
    "tokenized_reviews_df.head(3)"
   ]
  },
  {
   "cell_type": "code",
   "execution_count": 38,
   "metadata": {},
   "outputs": [],
   "source": [
    "tokenized_reviews_df.drop(columns=['Unnamed: 0'],inplace=True)"
   ]
  },
  {
   "cell_type": "code",
   "execution_count": 40,
   "metadata": {},
   "outputs": [],
   "source": [
    "#get the value counts of times a reviewer has reviewed items\n",
    "reviewerID_reviewCounts = tokenized_reviews_df['reviewerID'].value_counts()\n",
    "\n",
    "#get a list of reviewer ID that has reviewed more than 5 times\n",
    "reviewerID_indexes = reviewerID_reviewCounts[reviewerID_reviewCounts > 5].index\n"
   ]
  },
  {
   "cell_type": "code",
   "execution_count": 43,
   "metadata": {},
   "outputs": [],
   "source": [
    "#filter dataframe to hold just the rows with needed reviewerID\n",
    "rating_table = tokenized_reviews_df[tokenized_reviews_df['reviewerID'].isin(reviewerID_indexes)] "
   ]
  },
  {
   "cell_type": "code",
   "execution_count": 44,
   "metadata": {},
   "outputs": [
    {
     "name": "stdout",
     "output_type": "stream",
     "text": [
      "Table shape after filtering out reviewerID:  (486765, 4)\n"
     ]
    }
   ],
   "source": [
    "print('Table shape after filtering out reviewerID: ', rating_table.shape)"
   ]
  },
  {
   "cell_type": "markdown",
   "metadata": {},
   "source": [
    "### Ratings - Filtering out asins with less than 5 reviews"
   ]
  },
  {
   "cell_type": "code",
   "execution_count": 45,
   "metadata": {},
   "outputs": [],
   "source": [
    "#get the value counts of times an item has been reviewed\n",
    "asinID_reviewCounts = tokenized_reviews_df['asin'].value_counts()\n",
    "\n",
    "#get a list of asin that has reviewed more than 5 times\n",
    "asinID_indexes = asinID_reviewCounts[asinID_reviewCounts > 5].index\n"
   ]
  },
  {
   "cell_type": "code",
   "execution_count": 46,
   "metadata": {},
   "outputs": [],
   "source": [
    "#filter dataframe to hold just the rows with needed asins\n",
    "rating_table = rating_table[rating_table['asin'].isin(asinID_indexes)] "
   ]
  },
  {
   "cell_type": "code",
   "execution_count": 47,
   "metadata": {},
   "outputs": [
    {
     "name": "stdout",
     "output_type": "stream",
     "text": [
      "Table shape after filtering out asinD:  (468297, 4)\n"
     ]
    }
   ],
   "source": [
    "print('Table shape after filtering out asinD: ', rating_table.shape)"
   ]
  },
  {
   "cell_type": "code",
   "execution_count": 62,
   "metadata": {
    "scrolled": true
   },
   "outputs": [],
   "source": [
    "rating_table.drop('reviewText',1,inplace=True)"
   ]
  },
  {
   "cell_type": "code",
   "execution_count": 63,
   "metadata": {},
   "outputs": [],
   "source": [
    "rating_table.to_csv('Data/rating_table.csv')"
   ]
  },
  {
   "cell_type": "markdown",
   "metadata": {},
   "source": [
    "## RECOMMENDER MODEL BASED OFF ITEM RATINGS: ITEM BASED FILTERING"
   ]
  },
  {
   "cell_type": "code",
   "execution_count": 275,
   "metadata": {},
   "outputs": [],
   "source": [
    "from sklearn.metrics.pairwise import cosine_similarity"
   ]
  },
  {
   "cell_type": "code",
   "execution_count": 6,
   "metadata": {},
   "outputs": [],
   "source": [
    "def replace_asin(x):\n",
    "    return simple_videogames[simple_videogames['asin']==x]['description'].value[0]"
   ]
  },
  {
   "cell_type": "code",
   "execution_count": 7,
   "metadata": {},
   "outputs": [],
   "source": [
    "def pearson(s1, s2):\n",
    "    s1_c = s1-s1.mean()\n",
    "    s2_c = s2-s2.mean()\n",
    "    return np.sum(s1_c * s2_c)/np.sqrt(np.sum(s1_c**2)*np.sum(s2_c**2))"
   ]
  },
  {
   "cell_type": "code",
   "execution_count": 8,
   "metadata": {},
   "outputs": [],
   "source": [
    "def get_recs(asin_id, rating_table, num, similarity_type='pearson'):\n",
    "    \n",
    "    recommendations = []\n",
    "    \n",
    "    #Pearson Similarity\n",
    "    if similarity_type=='pearson':\n",
    "        similarity_calculator = pearson\n",
    "    \n",
    "    #Cosine Similarity\n",
    "    elif similarity_type=='cosine similarity':\n",
    "        similarity_calculator = cosine_similarity\n",
    "\n",
    "#     #Jaccard Similarity [find/make actual jaccard function]\n",
    "#     elif similarity_type=='jaccard':\n",
    "#         cor = jaccard        \n",
    "    \n",
    "    for asin in rating_table.columns:\n",
    "        if asin == asin_id:\n",
    "            continue\n",
    "                \n",
    "        cor = similarity_calculator(rating_table[asin_id], rating_table[asin])\n",
    "\n",
    "        #checks if the correlation is nan; if so, then continue\n",
    "        if np.isnan(cor):\n",
    "            continue\n",
    "        else:\n",
    "            recommendations.append((asin, cor))\n",
    "        \n",
    "    recommendations.sort(key=lambda tup: tup[1], reverse=True)\n",
    "    return recommendations[:num]"
   ]
  },
  {
   "cell_type": "markdown",
   "metadata": {},
   "source": [
    "### Ratings - TESTING RECOMMNDER"
   ]
  },
  {
   "cell_type": "code",
   "execution_count": 318,
   "metadata": {},
   "outputs": [],
   "source": [
    "rating_table = pd.read_csv('Data/rating_table.csv', index_col=0)"
   ]
  },
  {
   "cell_type": "code",
   "execution_count": 281,
   "metadata": {},
   "outputs": [],
   "source": [
    "rating_table = rating_table.pivot_table(index=['reviewerID'],columns=['asin'], values='rating')\n"
   ]
  },
  {
   "cell_type": "code",
   "execution_count": 282,
   "metadata": {},
   "outputs": [],
   "source": [
    "#how should I be handling nan values? collaborative filtering or just 0s?\n",
    "rating_table = rating_table.fillna(0)"
   ]
  },
  {
   "cell_type": "code",
   "execution_count": 473,
   "metadata": {},
   "outputs": [
    {
     "data": {
      "text/plain": [
       "pandas.core.frame.DataFrame"
      ]
     },
     "execution_count": 473,
     "metadata": {},
     "output_type": "execute_result"
    }
   ],
   "source": [
    "#TODO:\n",
    "rating_table.to_csv('Data/pivoted_rating_table.csv')"
   ]
  },
  {
   "cell_type": "code",
   "execution_count": 37,
   "metadata": {},
   "outputs": [],
   "source": [
    "rating_table = pd.read_csv('Data/smaller_rating_table_25000.csv', index_col=0)\n",
    "asin_title = pd.read_csv('Data/asin_title.csv', index_col=0)"
   ]
  },
  {
   "cell_type": "code",
   "execution_count": 11,
   "metadata": {},
   "outputs": [],
   "source": [
    "recs = get_recs('0700026398', rating_table, 10)"
   ]
  },
  {
   "cell_type": "code",
   "execution_count": 12,
   "metadata": {},
   "outputs": [],
   "source": [
    "extracted_asin = []\n",
    "for i in recs:\n",
    "    extracted_asin.append(i[0])"
   ]
  },
  {
   "cell_type": "code",
   "execution_count": 23,
   "metadata": {},
   "outputs": [
    {
     "data": {
      "text/plain": [
       "'G-Force - PC'"
      ]
     },
     "execution_count": 23,
     "metadata": {},
     "output_type": "execute_result"
    }
   ],
   "source": [
    "asin_title[asin_title['asin'].isin(extracted_asin)]['title'][9]"
   ]
  },
  {
   "cell_type": "code",
   "execution_count": 321,
   "metadata": {},
   "outputs": [],
   "source": [
    "asin_description = simple_videogames[['asin','description']]\n"
   ]
  },
  {
   "cell_type": "code",
   "execution_count": 483,
   "metadata": {},
   "outputs": [],
   "source": [
    "asin_description.to_csv('Data/asin_description.csv')"
   ]
  },
  {
   "cell_type": "code",
   "execution_count": 488,
   "metadata": {},
   "outputs": [],
   "source": [
    "rating_table.index_col=0"
   ]
  },
  {
   "cell_type": "code",
   "execution_count": 490,
   "metadata": {},
   "outputs": [
    {
     "data": {
      "text/plain": [
       "(44238, 30607)"
      ]
     },
     "execution_count": 490,
     "metadata": {},
     "output_type": "execute_result"
    }
   ],
   "source": [
    "rating_table.shape"
   ]
  },
  {
   "cell_type": "code",
   "execution_count": 491,
   "metadata": {},
   "outputs": [],
   "source": [
    "smaller_rating_table_25000_by_25000 = rating_table.iloc[:25000,:25000]"
   ]
  },
  {
   "cell_type": "code",
   "execution_count": 493,
   "metadata": {},
   "outputs": [],
   "source": [
    "smaller_rating_table_25000_by_25000.to_csv('Data/smaller_rating_table_25000.csv')\n"
   ]
  },
  {
   "cell_type": "code",
   "execution_count": 38,
   "metadata": {},
   "outputs": [],
   "source": [
    "smaller_rating_table_15000_by_15000 = rating_table.iloc[:15000,:15000]\n"
   ]
  },
  {
   "cell_type": "code",
   "execution_count": 39,
   "metadata": {},
   "outputs": [
    {
     "data": {
      "text/plain": [
       "(15000, 15000)"
      ]
     },
     "execution_count": 39,
     "metadata": {},
     "output_type": "execute_result"
    }
   ],
   "source": [
    "smaller_rating_table_15000_by_15000.shape"
   ]
  },
  {
   "cell_type": "code",
   "execution_count": null,
   "metadata": {},
   "outputs": [],
   "source": [
    "smaller_rating_table_15000_by_15000.to_csv('Data/smaller_rating_table_15000.csv')"
   ]
  },
  {
   "cell_type": "code",
   "execution_count": 120,
   "metadata": {},
   "outputs": [],
   "source": [
    "#save recommendation table\n",
    "rating_table.to_csv('Data/recommender_rating_table.csv')"
   ]
  },
  {
   "cell_type": "markdown",
   "metadata": {},
   "source": [
    "[Back to top](#SAVESPOTS)"
   ]
  },
  {
   "cell_type": "markdown",
   "metadata": {},
   "source": [
    "### =============================================================="
   ]
  },
  {
   "cell_type": "markdown",
   "metadata": {},
   "source": [
    "### DROP DUPLICATES, FILL NANS, AND FILTER OUT PRODUCTS WITHOUT ANY RATINGS"
   ]
  },
  {
   "cell_type": "code",
   "execution_count": 7,
   "metadata": {},
   "outputs": [],
   "source": [
    "#Copy main_reviews\n",
    "simple_reviews = pd.read_csv('Data/main_reviews.csv')\n",
    "\n",
    "#load up simple_videogames from csv\n",
    "simple_videogames = pd.read_csv('Data/simple_videogames.csv')\n",
    "\n",
    "#Cleaning out rows without asin value\n",
    "simple_videogames = simple_videogames[simple_videogames['asin'].notna()]\n",
    "\n",
    "#Drop duplicates\n",
    "simple_videogames.drop_duplicates('asin', inplace=True)\n",
    "\n",
    "#Check which asin has not been rated before\n",
    "#unique asin in reviews\n",
    "main_reviews_unique_asin = simple_reviews['asin'].to_list()\n",
    "#unique asin in videogames\n",
    "main_videogames_unique_asin = simple_videogames['asin'].to_list()\n",
    "\n",
    "#Get the asin values that are not in both\n",
    "not_reviewed_asin = np.setdiff1d(main_videogames_unique_asin, main_reviews_unique_asin)\n",
    "\n",
    "#manually remove the different asin values\n",
    "simple_videogames = simple_videogames[simple_videogames['asin']!='B0001XASGW']\n",
    "simple_videogames = simple_videogames[simple_videogames['asin']!='B000WCEENK']\n",
    "\n",
    "#convert asin to sorted list to compare with asin from reviews and videogames\n",
    "simple_reviews_asin = np.sort(main_reviews_unique_asin)\n",
    "simple_videogames_asin = np.sort(simple_videogames['asin'])\n",
    "similar = simple_reviews_asin == simple_videogames_asin\n",
    "np.unique(similar)\n",
    "\n",
    "#Alternate way \n",
    "# Counter(similar).keys()\n",
    "# Counter(similar).values()"
   ]
  },
  {
   "cell_type": "code",
   "execution_count": 21,
   "metadata": {},
   "outputs": [],
   "source": [
    "simple_videogames.to_csv('Data/THE_SIMPLE_VIDEOGAMES.csv')"
   ]
  },
  {
   "cell_type": "markdown",
   "metadata": {},
   "source": [
    "# RECOMMENDER MODEL BASED OFF DESCRIPTION: CONTENT BASED"
   ]
  },
  {
   "cell_type": "code",
   "execution_count": 21,
   "metadata": {},
   "outputs": [],
   "source": [
    "simple_videogames.read_csv('Data/THE_SIMPLE_VIDEOGAMES.csv')"
   ]
  },
  {
   "cell_type": "code",
   "execution_count": 26,
   "metadata": {},
   "outputs": [],
   "source": [
    "simple_videogames['bag_of_words'] = simple_videogames['description'] + ' ' + simple_videogames['platform']"
   ]
  },
  {
   "cell_type": "code",
   "execution_count": 812,
   "metadata": {},
   "outputs": [],
   "source": [
    "#DO NOT RUN THIS ANYMORE\n",
    "#adding platform to videogame description\n",
    "gameplatforms = simple_videogames[['asin','platform']]\n",
    "\n",
    "#matches up asin with platforms\n",
    "review_platforms = simple_reviews['asin'].apply(lambda x: gameplatforms[gameplatforms['asin']==x].iloc[0].platform)\n",
    "\n",
    "#set platform column to the reviews\n",
    "simple_reviews['platform'] = review_platforms\n",
    "\n",
    "#combine all words to be tokenized\n",
    "reviewText = simple_reviews['reviewText'] + ' ' + simple_reviews['summary'] + ' ' + simple_reviews['platform']\n",
    "\n",
    "simple_reviews['reviewText'] = reviewText\n",
    "simple_reviews.drop(columns=['summary','platform'], inplace=True)\n",
    "\n",
    "#rename 'overall' column to 'rating'\n",
    "simple_reviews.rename(columns={'overall':'rating'}, inplace=True)"
   ]
  },
  {
   "cell_type": "code",
   "execution_count": 82,
   "metadata": {},
   "outputs": [],
   "source": [
    "simple_reviews.to_csv('Data/simple_reviews.csv')"
   ]
  },
  {
   "cell_type": "markdown",
   "metadata": {},
   "source": [
    "## Add average ratings to videogames"
   ]
  },
  {
   "cell_type": "code",
   "execution_count": 584,
   "metadata": {
    "collapsed": true
   },
   "outputs": [
    {
     "data": {
      "text/plain": [
       "asin\n",
       "0042000742    5.000000\n",
       "0078764343    4.750000\n",
       "0276425316    5.000000\n",
       "0324411812    1.000000\n",
       "0439335299    3.000000\n",
       "                ...   \n",
       "B01HJ14OT0    5.000000\n",
       "B01HJ14TTA    3.000000\n",
       "B01HJ1521Y    5.000000\n",
       "B01HJC33WS    4.590909\n",
       "B01HJEBIAA    4.233333\n",
       "Name: rating, Length: 71982, dtype: float64"
      ]
     },
     "execution_count": 584,
     "metadata": {},
     "output_type": "execute_result"
    }
   ],
   "source": [
    "#Get average rating of each asin\n",
    "ratings = simple_reviews.groupby('asin')['rating'].mean()"
   ]
  },
  {
   "cell_type": "code",
   "execution_count": 716,
   "metadata": {},
   "outputs": [],
   "source": [
    "#sort videogames df by asin values\n",
    "simple_videogames.sort_values(by = 'asin', inplace=True)\n",
    "\n",
    "#add ratings to videogames\n",
    "simple_videogames['rating'] = ratings.values"
   ]
  },
  {
   "cell_type": "code",
   "execution_count": 763,
   "metadata": {},
   "outputs": [],
   "source": [
    "#replace nan descriptions with empty string\n",
    "simple_videogames['description'].fillna(\"\", inplace=True)"
   ]
  },
  {
   "cell_type": "code",
   "execution_count": 790,
   "metadata": {
    "scrolled": false
   },
   "outputs": [
    {
     "data": {
      "text/html": [
       "<div>\n",
       "<style scoped>\n",
       "    .dataframe tbody tr th:only-of-type {\n",
       "        vertical-align: middle;\n",
       "    }\n",
       "\n",
       "    .dataframe tbody tr th {\n",
       "        vertical-align: top;\n",
       "    }\n",
       "\n",
       "    .dataframe thead th {\n",
       "        text-align: right;\n",
       "    }\n",
       "</style>\n",
       "<table border=\"1\" class=\"dataframe\">\n",
       "  <thead>\n",
       "    <tr style=\"text-align: right;\">\n",
       "      <th></th>\n",
       "      <th>rank</th>\n",
       "      <th>asin</th>\n",
       "      <th>description</th>\n",
       "      <th>platform</th>\n",
       "      <th>rating</th>\n",
       "      <th>tokens</th>\n",
       "    </tr>\n",
       "  </thead>\n",
       "  <tbody>\n",
       "  </tbody>\n",
       "</table>\n",
       "</div>"
      ],
      "text/plain": [
       "Empty DataFrame\n",
       "Columns: [rank, asin, description, platform, rating, tokens]\n",
       "Index: []"
      ]
     },
     "execution_count": 790,
     "metadata": {},
     "output_type": "execute_result"
    }
   ],
   "source": [
    "simple_videogames[simple_videogames['description'].isna()]"
   ]
  },
  {
   "cell_type": "markdown",
   "metadata": {},
   "source": [
    "### Tokenize simple_videogames_description"
   ]
  },
  {
   "cell_type": "code",
   "execution_count": 96,
   "metadata": {
    "collapsed": true
   },
   "outputs": [
    {
     "data": {
      "text/html": [
       "<div>\n",
       "<style scoped>\n",
       "    .dataframe tbody tr th:only-of-type {\n",
       "        vertical-align: middle;\n",
       "    }\n",
       "\n",
       "    .dataframe tbody tr th {\n",
       "        vertical-align: top;\n",
       "    }\n",
       "\n",
       "    .dataframe thead th {\n",
       "        text-align: right;\n",
       "    }\n",
       "</style>\n",
       "<table border=\"1\" class=\"dataframe\">\n",
       "  <thead>\n",
       "    <tr style=\"text-align: right;\">\n",
       "      <th></th>\n",
       "      <th>rank</th>\n",
       "      <th>asin</th>\n",
       "      <th>description</th>\n",
       "      <th>platform</th>\n",
       "      <th>rating</th>\n",
       "      <th>bag_of_words</th>\n",
       "    </tr>\n",
       "  </thead>\n",
       "  <tbody>\n",
       "    <tr>\n",
       "      <th>0</th>\n",
       "      <td>2623937.0</td>\n",
       "      <td>0042000742</td>\n",
       "      <td>Reversi Sensory Challenger Fidelity Electronic...</td>\n",
       "      <td>PC</td>\n",
       "      <td>5.00</td>\n",
       "      <td>Reversi Sensory Challenger Fidelity Electronic...</td>\n",
       "    </tr>\n",
       "    <tr>\n",
       "      <th>1</th>\n",
       "      <td>67231.0</td>\n",
       "      <td>0078764343</td>\n",
       "      <td>Medal of Honor: Warfighter - Includes Battlefi...</td>\n",
       "      <td>Xbox360</td>\n",
       "      <td>4.75</td>\n",
       "      <td>Medal of Honor: Warfighter - Includes Battlefi...</td>\n",
       "    </tr>\n",
       "    <tr>\n",
       "      <th>2</th>\n",
       "      <td>134433.0</td>\n",
       "      <td>0276425316</td>\n",
       "      <td>street fighter 2 II turbo super nintendo snes ...</td>\n",
       "      <td>SuperNintendo</td>\n",
       "      <td>5.00</td>\n",
       "      <td>street fighter 2 II turbo super nintendo snes ...</td>\n",
       "    </tr>\n",
       "    <tr>\n",
       "      <th>3</th>\n",
       "      <td>105263.0</td>\n",
       "      <td>0324411812</td>\n",
       "      <td>Xbox 360 MAS STICK MAS SYSTEMS MAS's Pro Xbox ...</td>\n",
       "      <td>PC</td>\n",
       "      <td>1.00</td>\n",
       "      <td>Xbox 360 MAS STICK MAS SYSTEMS MAS's Pro Xbox ...</td>\n",
       "    </tr>\n",
       "    <tr>\n",
       "      <th>4</th>\n",
       "      <td>117477.0</td>\n",
       "      <td>0439335299</td>\n",
       "      <td>Phonics Alive! 2 The Sound Blender Advanced So...</td>\n",
       "      <td>PC</td>\n",
       "      <td>3.00</td>\n",
       "      <td>Phonics Alive! 2 The Sound Blender Advanced So...</td>\n",
       "    </tr>\n",
       "  </tbody>\n",
       "</table>\n",
       "</div>"
      ],
      "text/plain": [
       "        rank        asin                                        description  \\\n",
       "0  2623937.0  0042000742  Reversi Sensory Challenger Fidelity Electronic...   \n",
       "1    67231.0  0078764343  Medal of Honor: Warfighter - Includes Battlefi...   \n",
       "2   134433.0  0276425316  street fighter 2 II turbo super nintendo snes ...   \n",
       "3   105263.0  0324411812  Xbox 360 MAS STICK MAS SYSTEMS MAS's Pro Xbox ...   \n",
       "4   117477.0  0439335299  Phonics Alive! 2 The Sound Blender Advanced So...   \n",
       "\n",
       "        platform  rating                                       bag_of_words  \n",
       "0             PC    5.00  Reversi Sensory Challenger Fidelity Electronic...  \n",
       "1        Xbox360    4.75  Medal of Honor: Warfighter - Includes Battlefi...  \n",
       "2  SuperNintendo    5.00  street fighter 2 II turbo super nintendo snes ...  \n",
       "3             PC    1.00  Xbox 360 MAS STICK MAS SYSTEMS MAS's Pro Xbox ...  \n",
       "4             PC    3.00  Phonics Alive! 2 The Sound Blender Advanced So...  "
      ]
     },
     "execution_count": 96,
     "metadata": {},
     "output_type": "execute_result"
    }
   ],
   "source": [
    "simple_videogames.head()"
   ]
  },
  {
   "cell_type": "code",
   "execution_count": 100,
   "metadata": {},
   "outputs": [],
   "source": [
    "#remove na values\n",
    "simple_videogames['bag_of_words'] = simple_videogames['bag_of_words'].fillna(\"\")"
   ]
  },
  {
   "cell_type": "code",
   "execution_count": 101,
   "metadata": {},
   "outputs": [],
   "source": [
    "# #Tokenizes bag of words for count vectorizing later\n",
    "# simple_videogames_tokens = simple_videogames['bag_of_words'].apply(lambda x: eda.personal_tokenize(x))"
   ]
  },
  {
   "cell_type": "code",
   "execution_count": 116,
   "metadata": {},
   "outputs": [
    {
     "data": {
      "text/plain": [
       "0    reversi sensori challeng fidel electron pc gam...\n",
       "1    medal honor warfight includ battlefield 4 beta...\n",
       "2    street fighter 2 ii turbo super nintendo snes ...\n",
       "Name: bag_of_words, dtype: object"
      ]
     },
     "execution_count": 116,
     "metadata": {},
     "output_type": "execute_result"
    }
   ],
   "source": [
    "simple_videogames_tokens[:4]"
   ]
  },
  {
   "cell_type": "code",
   "execution_count": 105,
   "metadata": {},
   "outputs": [],
   "source": [
    "simple_videogames['bag_of_words'] = simple_videogames_tokens"
   ]
  },
  {
   "cell_type": "code",
   "execution_count": 107,
   "metadata": {},
   "outputs": [],
   "source": [
    "#save to csv\n",
    "simple_videogames.to_csv('Data/videogames_w_bag_of_words.csv')"
   ]
  },
  {
   "cell_type": "code",
   "execution_count": 8,
   "metadata": {},
   "outputs": [],
   "source": [
    "#load from csv\n",
    "simple_videogames = pd.read_csv('Data/videogames_w_bag_of_words.csv', index_col=0)\n",
    "videogame_description_table = simple_videogames.drop(columns = ['rank','description','platform','rating'])\n",
    "videogame_description_table = videogame_description_table.fillna(\"\")"
   ]
  },
  {
   "cell_type": "code",
   "execution_count": 9,
   "metadata": {},
   "outputs": [],
   "source": [
    "#remove duplicate words from bag_of_words\n",
    "bag_of_words = videogame_description_table['bag_of_words'].apply(lambda x: eda.remov_duplicates(x))\n",
    "videogame_description_table['bag_of_words'] = bag_of_words"
   ]
  },
  {
   "cell_type": "code",
   "execution_count": 132,
   "metadata": {},
   "outputs": [
    {
     "data": {
      "text/html": [
       "<div>\n",
       "<style scoped>\n",
       "    .dataframe tbody tr th:only-of-type {\n",
       "        vertical-align: middle;\n",
       "    }\n",
       "\n",
       "    .dataframe tbody tr th {\n",
       "        vertical-align: top;\n",
       "    }\n",
       "\n",
       "    .dataframe thead th {\n",
       "        text-align: right;\n",
       "    }\n",
       "</style>\n",
       "<table border=\"1\" class=\"dataframe\">\n",
       "  <thead>\n",
       "    <tr style=\"text-align: right;\">\n",
       "      <th></th>\n",
       "      <th>asin</th>\n",
       "      <th>bag_of_words</th>\n",
       "    </tr>\n",
       "  </thead>\n",
       "  <tbody>\n",
       "    <tr>\n",
       "      <th>0</th>\n",
       "      <td>0042000742</td>\n",
       "      <td>reversi sensori challeng fidel electron pc game</td>\n",
       "    </tr>\n",
       "    <tr>\n",
       "      <th>1</th>\n",
       "      <td>0078764343</td>\n",
       "      <td>medal honor warfight includ battlefield 4 beta...</td>\n",
       "    </tr>\n",
       "    <tr>\n",
       "      <th>2</th>\n",
       "      <td>0276425316</td>\n",
       "      <td>street fighter 2 ii turbo super nintendo snes ...</td>\n",
       "    </tr>\n",
       "    <tr>\n",
       "      <th>3</th>\n",
       "      <td>0324411812</td>\n",
       "      <td>xbox 360 mas stick system 's pro perfect sf st...</td>\n",
       "    </tr>\n",
       "    <tr>\n",
       "      <th>4</th>\n",
       "      <td>0439335299</td>\n",
       "      <td>phonic aliv 2 sound blender advanc softwar par...</td>\n",
       "    </tr>\n",
       "  </tbody>\n",
       "</table>\n",
       "</div>"
      ],
      "text/plain": [
       "         asin                                       bag_of_words\n",
       "0  0042000742    reversi sensori challeng fidel electron pc game\n",
       "1  0078764343  medal honor warfight includ battlefield 4 beta...\n",
       "2  0276425316  street fighter 2 ii turbo super nintendo snes ...\n",
       "3  0324411812  xbox 360 mas stick system 's pro perfect sf st...\n",
       "4  0439335299  phonic aliv 2 sound blender advanc softwar par..."
      ]
     },
     "execution_count": 132,
     "metadata": {},
     "output_type": "execute_result"
    }
   ],
   "source": [
    "videogame_description_table.head()"
   ]
  },
  {
   "cell_type": "code",
   "execution_count": 10,
   "metadata": {},
   "outputs": [],
   "source": [
    "#subset of videogame_description_table \n",
    "subset = videogame_description_table['bag_of_words'][:30000]"
   ]
  },
  {
   "cell_type": "code",
   "execution_count": 21,
   "metadata": {
    "scrolled": true
   },
   "outputs": [
    {
     "data": {
      "text/html": [
       "<div>\n",
       "<style scoped>\n",
       "    .dataframe tbody tr th:only-of-type {\n",
       "        vertical-align: middle;\n",
       "    }\n",
       "\n",
       "    .dataframe tbody tr th {\n",
       "        vertical-align: top;\n",
       "    }\n",
       "\n",
       "    .dataframe thead th {\n",
       "        text-align: right;\n",
       "    }\n",
       "</style>\n",
       "<table border=\"1\" class=\"dataframe\">\n",
       "  <thead>\n",
       "    <tr style=\"text-align: right;\">\n",
       "      <th></th>\n",
       "      <th>asin</th>\n",
       "      <th>bag_of_words</th>\n",
       "    </tr>\n",
       "  </thead>\n",
       "  <tbody>\n",
       "    <tr>\n",
       "      <th>0</th>\n",
       "      <td>0042000742</td>\n",
       "      <td>reversi sensori challeng fidel electron pc game</td>\n",
       "    </tr>\n",
       "    <tr>\n",
       "      <th>1</th>\n",
       "      <td>0078764343</td>\n",
       "      <td>medal honor warfight includ battlefield 4 beta...</td>\n",
       "    </tr>\n",
       "    <tr>\n",
       "      <th>2</th>\n",
       "      <td>0276425316</td>\n",
       "      <td>street fighter 2 ii turbo super nintendo snes ...</td>\n",
       "    </tr>\n",
       "    <tr>\n",
       "      <th>3</th>\n",
       "      <td>0324411812</td>\n",
       "      <td>xbox 360 mas stick system 's pro perfect sf st...</td>\n",
       "    </tr>\n",
       "    <tr>\n",
       "      <th>4</th>\n",
       "      <td>0439335299</td>\n",
       "      <td>phonic aliv 2 sound blender advanc softwar par...</td>\n",
       "    </tr>\n",
       "  </tbody>\n",
       "</table>\n",
       "</div>"
      ],
      "text/plain": [
       "         asin                                       bag_of_words\n",
       "0  0042000742    reversi sensori challeng fidel electron pc game\n",
       "1  0078764343  medal honor warfight includ battlefield 4 beta...\n",
       "2  0276425316  street fighter 2 ii turbo super nintendo snes ...\n",
       "3  0324411812  xbox 360 mas stick system 's pro perfect sf st...\n",
       "4  0439335299  phonic aliv 2 sound blender advanc softwar par..."
      ]
     },
     "execution_count": 21,
     "metadata": {},
     "output_type": "execute_result"
    }
   ],
   "source": [
    "videogame_description_table.head()"
   ]
  },
  {
   "cell_type": "code",
   "execution_count": 418,
   "metadata": {},
   "outputs": [],
   "source": [
    "#save videogame_description_table\n",
    "videogame_description_table.to_csv('Data/videogame_asin_and_bow.csv')"
   ]
  },
  {
   "cell_type": "code",
   "execution_count": 461,
   "metadata": {
    "scrolled": false
   },
   "outputs": [
    {
     "data": {
      "text/plain": [
       "0      reversi sensori challeng fidel electron pc game\n",
       "1    medal honor warfight includ battlefield 4 beta...\n",
       "2    street fighter 2 ii turbo super nintendo snes ...\n",
       "3    xbox 360 mas stick system 's pro perfect sf st...\n",
       "4    phonic aliv 2 sound blender advanc softwar par...\n",
       "Name: bag_of_words, dtype: object"
      ]
     },
     "execution_count": 461,
     "metadata": {},
     "output_type": "execute_result"
    }
   ],
   "source": [
    "subset.head()"
   ]
  },
  {
   "cell_type": "code",
   "execution_count": 462,
   "metadata": {},
   "outputs": [],
   "source": [
    "count = CountVectorizer()\n",
    "count_matrix = count.fit_transform(subset)\n",
    "\n",
    "vg_cosine_sim = cosine_similarity(count_matrix, count_matrix)"
   ]
  },
  {
   "cell_type": "code",
   "execution_count": 205,
   "metadata": {
    "scrolled": false
   },
   "outputs": [
    {
     "data": {
      "text/plain": [
       "array([[1.        , 0.09449112, 0.11396058, ..., 0.06131393, 0.07049074,\n",
       "        0.05292561],\n",
       "       [0.09449112, 1.        , 0.07537784, ..., 0.08111071, 0.04662524,\n",
       "        0.070014  ],\n",
       "       [0.11396058, 0.07537784, 1.        , ..., 0.0978232 , 0.05623216,\n",
       "        0.04222003],\n",
       "       ...,\n",
       "       [0.06131393, 0.08111071, 0.0978232 , ..., 1.        , 0.03025445,\n",
       "        0.06814663],\n",
       "       [0.07049074, 0.04662524, 0.05623216, ..., 0.03025445, 1.        ,\n",
       "        0.07834607],\n",
       "       [0.05292561, 0.070014  , 0.04222003, ..., 0.06814663, 0.07834607,\n",
       "        1.        ]])"
      ]
     },
     "execution_count": 205,
     "metadata": {},
     "output_type": "execute_result"
    }
   ],
   "source": [
    "vg_cosine_sim"
   ]
  },
  {
   "cell_type": "code",
   "execution_count": 469,
   "metadata": {
    "scrolled": true
   },
   "outputs": [],
   "source": [
    "test = 0"
   ]
  },
  {
   "cell_type": "code",
   "execution_count": 22,
   "metadata": {
    "scrolled": true
   },
   "outputs": [],
   "source": [
    "indices = pd.Series(videogame_description_table['asin'])\n",
    "# indices"
   ]
  },
  {
   "cell_type": "code",
   "execution_count": 288,
   "metadata": {},
   "outputs": [],
   "source": [
    "def recommendations_by_description(asin, cosine_sim = vg_cosine_sim):\n",
    "    indices = pd.Series(videogame_description_table['asin'])\n",
    "    recommended_items = []\n",
    "    \n",
    "    idx = indices[indices == asin].index[0]\n",
    "    \n",
    "    score_series = pd.Series(cosine_sim[idx]).sort_values(ascending = False)\n",
    "    \n",
    "    top_10_indexes = list(score_series.iloc[1:11].index)\n",
    "    \n",
    "    for i in top_10_indexes:\n",
    "        recommended_items.append(((replace_asin_with_description(list(videogame_description_table.index)[i])),score_series[i]))\n",
    "\n",
    "    return recommended_items"
   ]
  },
  {
   "cell_type": "code",
   "execution_count": 289,
   "metadata": {},
   "outputs": [],
   "source": [
    "def replace_asin_with_description_list(asin_list):\n",
    "    recommendations = []\n",
    "    for i in asin_list:\n",
    "        recommendations.append(simple_videogames.iloc[[i]]['description'].item())\n",
    "        \n",
    "    return recommendations"
   ]
  },
  {
   "cell_type": "code",
   "execution_count": 295,
   "metadata": {},
   "outputs": [],
   "source": [
    "def replace_asin_with_description(asin):\n",
    "    return (eda.remov_duplicates(simple_videogames.iloc[[asin]]['description'].item().title()))\n"
   ]
  },
  {
   "cell_type": "code",
   "execution_count": 168,
   "metadata": {
    "scrolled": true
   },
   "outputs": [],
   "source": [
    "test = recommendations_by_description('0042000742')"
   ]
  },
  {
   "cell_type": "code",
   "execution_count": 35,
   "metadata": {
    "collapsed": true
   },
   "outputs": [
    {
     "data": {
      "text/plain": [
       "['0042000742',\n",
       " '0078764343',\n",
       " '0276425316',\n",
       " '0324411812',\n",
       " '0439335310',\n",
       " '0439339006',\n",
       " '0439335299',\n",
       " '0439339960',\n",
       " '043933702X',\n",
       " '0439339987',\n",
       " '0439342260',\n",
       " '0439381673',\n",
       " '0439394422',\n",
       " '043940133X',\n",
       " '0439473489',\n",
       " '0439542804',\n",
       " '0439573947',\n",
       " '043957448X',\n",
       " '0439591295',\n",
       " '0439591538',\n",
       " '0439591570',\n",
       " '0439591511',\n",
       " '0439651158',\n",
       " '0439671418',\n",
       " '0439715571',\n",
       " '0439773660',\n",
       " '0439803705',\n",
       " '0439813182',\n",
       " '0439900581',\n",
       " '0439922593',\n",
       " '0545036372',\n",
       " '0545109744',\n",
       " '0545112141',\n",
       " '0545115507',\n",
       " '0545149223',\n",
       " '0545540860',\n",
       " '0662476565',\n",
       " '0700026355',\n",
       " '0700026657',\n",
       " '0700026398',\n",
       " '0700026649',\n",
       " '0700099867',\n",
       " '0758534531',\n",
       " '0763030945',\n",
       " '0784506086',\n",
       " '0784930724',\n",
       " '0784930805',\n",
       " '0804161380',\n",
       " '0871773732',\n",
       " '0871770261',\n",
       " '0871771209',\n",
       " '0871771454',\n",
       " '0894556908',\n",
       " '0970154097',\n",
       " '0977070670',\n",
       " '0977710432',\n",
       " '0982205805',\n",
       " '0984529527',\n",
       " '1309485194',\n",
       " '1557556741',\n",
       " '1558843477',\n",
       " '1563712318',\n",
       " '1572310324',\n",
       " '1572641517',\n",
       " '1574571931',\n",
       " '1575950715',\n",
       " '1577345819',\n",
       " '1577911989',\n",
       " '1579288588',\n",
       " '1589942914',\n",
       " '1594590133',\n",
       " '1613170483',\n",
       " '1613170785',\n",
       " '1616614765',\n",
       " '1616616873',\n",
       " '1770947841',\n",
       " '1886846820',\n",
       " '1886846758',\n",
       " '1886846774',\n",
       " '1886846847',\n",
       " '1888449004',\n",
       " '1888449543',\n",
       " '1893890244',\n",
       " '1894353234',\n",
       " '1894353226',\n",
       " '1934429627',\n",
       " '1940825164',\n",
       " '2742984321',\n",
       " '3815864844',\n",
       " '3828770193',\n",
       " '3866810067',\n",
       " '3866811659',\n",
       " '3866814429',\n",
       " '3866811713',\n",
       " '3866813465',\n",
       " '3866816316',\n",
       " '3898746917',\n",
       " '3898740781',\n",
       " '3898745236',\n",
       " '3899564812',\n",
       " '3936336512',\n",
       " '3937549064',\n",
       " '4087925056',\n",
       " '5040400284',\n",
       " '5553288924',\n",
       " '6050036071',\n",
       " '6055420740',\n",
       " '7108013096',\n",
       " '7293000936',\n",
       " '7293000952',\n",
       " '7293000642',\n",
       " '7293000960',\n",
       " '7312010385',\n",
       " '7537823413',\n",
       " '7539908920',\n",
       " '7540727705',\n",
       " '7544256944',\n",
       " '7542614444',\n",
       " '7543450933',\n",
       " '7561321074',\n",
       " '7800405761',\n",
       " '7900085653',\n",
       " '8176503290',\n",
       " '8565000168',\n",
       " '8990289432',\n",
       " '8990289440',\n",
       " '8990289424',\n",
       " '9054675152',\n",
       " '9056560190',\n",
       " '9075078102',\n",
       " '9078439122',\n",
       " '907843905X',\n",
       " '9081335219',\n",
       " '952590444X',\n",
       " '9572132148',\n",
       " '9573499126',\n",
       " '9622643884',\n",
       " '9625990674',\n",
       " '9625992480',\n",
       " '9625992421',\n",
       " '9625991921',\n",
       " '9625992413',\n",
       " '9625992405',\n",
       " '9625993045',\n",
       " '9625990992',\n",
       " '9625990798',\n",
       " '9628887491',\n",
       " '9629551284',\n",
       " '9629551462',\n",
       " '9629971372',\n",
       " '9750807502',\n",
       " '9752300480',\n",
       " '9752520235',\n",
       " '9753086024',\n",
       " '9752981917',\n",
       " '9752933580',\n",
       " '9754585288',\n",
       " '9755334572',\n",
       " '9755109234',\n",
       " '9755335226',\n",
       " '975331793X',\n",
       " '9756176288',\n",
       " '9755331131',\n",
       " '9756663855',\n",
       " '9755391606',\n",
       " '9755334602',\n",
       " '975539463X',\n",
       " '9756876646',\n",
       " '975679304X',\n",
       " '975726587X',\n",
       " '9758648950',\n",
       " '975912307X',\n",
       " '9759272245',\n",
       " '9758496786',\n",
       " '9758747843',\n",
       " '9780955909',\n",
       " '9861007970',\n",
       " '9861040595',\n",
       " '9861043977',\n",
       " '9861048111',\n",
       " '9861173897',\n",
       " '9861747192',\n",
       " '9861765506',\n",
       " '9861767304',\n",
       " '9861745327',\n",
       " '9861127380',\n",
       " '9862561815',\n",
       " '9862511095',\n",
       " '9867299434',\n",
       " '9882073271',\n",
       " '9882106463',\n",
       " '9882100848',\n",
       " '9882077153',\n",
       " '988800171X',\n",
       " '9888035878',\n",
       " '9888001167',\n",
       " '9882155456',\n",
       " '9882102670',\n",
       " '9941154813',\n",
       " '9944860212',\n",
       " '9984978761',\n",
       " 'B000003SQQ',\n",
       " 'B000005LBJ',\n",
       " 'B000006IX3',\n",
       " 'B000006OVG',\n",
       " 'B000006OVE',\n",
       " 'B000006OVI',\n",
       " 'B000006OVJ',\n",
       " 'B000006P0K',\n",
       " 'B000006P0L',\n",
       " 'B000006OVD',\n",
       " 'B000006OWS',\n",
       " 'B000006OVK',\n",
       " 'B000006P0P',\n",
       " 'B000006OVL',\n",
       " 'B000006OWT',\n",
       " 'B000006OVF',\n",
       " 'B000006P0J',\n",
       " 'B000006OTC',\n",
       " 'B000006P0M',\n",
       " 'B000006P0O',\n",
       " 'B000006OTB',\n",
       " 'B000006OWR',\n",
       " 'B000006P0N',\n",
       " 'B000006RGO',\n",
       " 'B000006RGS',\n",
       " 'B000006RGR',\n",
       " 'B000006RGQ',\n",
       " 'B000006RGP',\n",
       " 'B000007NJC',\n",
       " 'B000007NJE',\n",
       " 'B000007NJB',\n",
       " 'B000007NJD',\n",
       " 'B000007NJA',\n",
       " 'B000009QCY',\n",
       " 'B000009QCZ',\n",
       " 'B000009QCX',\n",
       " 'B000009QCV',\n",
       " 'B000009QCW',\n",
       " 'B000009QD0',\n",
       " 'B000009QD1',\n",
       " 'B00000DMAN',\n",
       " 'B00000DMAB',\n",
       " 'B00000DMAZ',\n",
       " 'B00000DMB2',\n",
       " 'B00000DMAD',\n",
       " 'B00000DMAA',\n",
       " 'B00000DMAO',\n",
       " 'B00000DMAH',\n",
       " 'B00000DMAX',\n",
       " 'B00000DMAR',\n",
       " 'B00000DMB3',\n",
       " 'B00000DMB4',\n",
       " 'B00000DMAG',\n",
       " 'B00000DMAC',\n",
       " 'B00000DMAP',\n",
       " 'B00000DMB5',\n",
       " 'B00000DMAV',\n",
       " 'B00000DMAQ',\n",
       " 'B00000DMB6',\n",
       " 'B00000DMAT',\n",
       " 'B00000DMB7',\n",
       " 'B00000DMAE',\n",
       " 'B00000DMAM',\n",
       " 'B00000DMAW',\n",
       " 'B00000DMB9',\n",
       " 'B00000DMA8',\n",
       " 'B00000F1GI',\n",
       " 'B00000F1GK',\n",
       " 'B00000F1GM',\n",
       " 'B00000F1GS',\n",
       " 'B00000F1GO',\n",
       " 'B00000G16I',\n",
       " 'B00000G2OP',\n",
       " 'B00000I1BG',\n",
       " 'B00000I1B8',\n",
       " 'B00000I1BB',\n",
       " 'B00000I1BK',\n",
       " 'B00000I1BS',\n",
       " 'B00000I1BP',\n",
       " 'B00000I1C0',\n",
       " 'B00000I1BN',\n",
       " 'B00000I1BO',\n",
       " 'B00000I1BH',\n",
       " 'B00000I1C1',\n",
       " 'B00000I1BA',\n",
       " 'B00000I1BM',\n",
       " 'B00000I1BY',\n",
       " 'B00000I1BF',\n",
       " 'B00000I1B6',\n",
       " 'B00000I1BT',\n",
       " 'B00000I1BE',\n",
       " 'B00000I1BI',\n",
       " 'B00000I1BX',\n",
       " 'B00000I1BV',\n",
       " 'B00000I1BD',\n",
       " 'B00000I1BR',\n",
       " 'B00000I1BL',\n",
       " 'B00000I1BJ',\n",
       " 'B00000I1B7',\n",
       " 'B00000I1C2',\n",
       " 'B00000I1BU',\n",
       " 'B00000I1C3',\n",
       " 'B00000I1BZ',\n",
       " 'B00000I1BQ',\n",
       " 'B00000I1BC',\n",
       " 'B00000ID60',\n",
       " 'B00000IFKW',\n",
       " 'B00000IFKV',\n",
       " 'B00000IFRI',\n",
       " 'B00000IFRG',\n",
       " 'B00000ID61',\n",
       " 'B00000IG7T',\n",
       " 'B00000IG80',\n",
       " 'B00000IGZM',\n",
       " 'B00000IH04',\n",
       " 'B00000IJLQ',\n",
       " 'B00000IKCG',\n",
       " 'B00000IKCC',\n",
       " 'B00000IJVY',\n",
       " 'B00000IKQD',\n",
       " 'B00000IKQH',\n",
       " 'B00000IMNB',\n",
       " 'B00000IMK5',\n",
       " 'B00000INQO',\n",
       " 'B00000INR2',\n",
       " 'B00000INQQ',\n",
       " 'B00000IODY',\n",
       " 'B00000IOQV',\n",
       " 'B00000IODX',\n",
       " 'B00000IPDS',\n",
       " 'B00000IPVL',\n",
       " 'B00000IPEE',\n",
       " 'B00000IQ2S',\n",
       " 'B00000IQPW',\n",
       " 'B00000IRD8',\n",
       " 'B00000IWIW',\n",
       " 'B00000IWYR',\n",
       " 'B00000IWYU',\n",
       " 'B00000IXFW',\n",
       " 'B00000IXB8',\n",
       " 'B00000IYEQ',\n",
       " 'B00000IZ7Q',\n",
       " 'B00000IZ8A',\n",
       " 'B00000IZS1',\n",
       " 'B00000J2OO',\n",
       " 'B00000J2W7',\n",
       " 'B00000J6GR',\n",
       " 'B00000J6GU',\n",
       " 'B00000J6GT',\n",
       " 'B00000J6GS',\n",
       " 'B00000J96T',\n",
       " 'B00000J96X',\n",
       " 'B00000J972',\n",
       " 'B00000J96W',\n",
       " 'B00000J96V',\n",
       " 'B00000J98X',\n",
       " 'B00000J9J6',\n",
       " 'B00000J9J9',\n",
       " 'B00000J9JI',\n",
       " 'B00000J9J7',\n",
       " 'B00000J97G',\n",
       " 'B00000JBJI',\n",
       " 'B00000JBL1',\n",
       " 'B00000JBUU',\n",
       " 'B00000JBXB',\n",
       " 'B00000JBUQ',\n",
       " 'B00000JD79',\n",
       " 'B00000JDDY',\n",
       " 'B00000JDFT',\n",
       " 'B00000JDG9',\n",
       " 'B00000JDJ1',\n",
       " 'B00000JDJ0',\n",
       " 'B00000JDJ2',\n",
       " 'B00000JFBR',\n",
       " 'B00000JFC6',\n",
       " 'B00000JGAR',\n",
       " 'B00000JHPT',\n",
       " 'B00000JHPN',\n",
       " 'B00000JHPD',\n",
       " 'B00000JIUG',\n",
       " 'B00000JJ4S',\n",
       " 'B00000JKMC',\n",
       " 'B00000JKLW',\n",
       " 'B00000JKMB',\n",
       " 'B00000JL60',\n",
       " 'B00000JL6V',\n",
       " 'B00000JLAE',\n",
       " 'B00000JLQV',\n",
       " 'B00000JLRQ',\n",
       " 'B00000JLPC',\n",
       " 'B00000JMWB',\n",
       " 'B00000JNHJ',\n",
       " 'B00000JNZO',\n",
       " 'B00000JQ0V',\n",
       " 'B00000JQQJ',\n",
       " 'B00000JQQH',\n",
       " 'B00000JQQM',\n",
       " 'B00000JRT2',\n",
       " 'B00000JRSB',\n",
       " 'B00000JWGM',\n",
       " 'B00000JWGO',\n",
       " 'B00000JX33',\n",
       " 'B00000K0DJ',\n",
       " 'B00000K10H',\n",
       " 'B00000K10U',\n",
       " 'B00000K13E',\n",
       " 'B00000K13K',\n",
       " 'B00000K13F',\n",
       " 'B00000K11N',\n",
       " 'B00000K125',\n",
       " 'B00000K122',\n",
       " 'B00000K119',\n",
       " 'B00000K1AF',\n",
       " 'B00000K115',\n",
       " 'B00000K117',\n",
       " 'B00000K13J',\n",
       " 'B00000K13G',\n",
       " 'B00000K10O',\n",
       " 'B00000K11D',\n",
       " 'B00000K13B',\n",
       " 'B00000K11O',\n",
       " 'B00000K1V7',\n",
       " 'B00000K1VE',\n",
       " 'B00000K1V9',\n",
       " 'B00000K1VK',\n",
       " 'B00000K1VI',\n",
       " 'B00000K1VM',\n",
       " 'B00000K1VG',\n",
       " 'B00000K1X1',\n",
       " 'B00000K1XF',\n",
       " 'B00000K1VB',\n",
       " 'B00000K1V3',\n",
       " 'B00000K1X4',\n",
       " 'B00000K1XN',\n",
       " 'B00000K1XP',\n",
       " 'B00000K1VH',\n",
       " 'B00000K1WC',\n",
       " 'B00000K1VC',\n",
       " 'B00000K1WG',\n",
       " 'B00000K1WX',\n",
       " 'B00000K1XU',\n",
       " 'B00000K1XJ',\n",
       " 'B00000K1WR',\n",
       " 'B00000K1V2',\n",
       " 'B00000K1VA',\n",
       " 'B00000K1VO',\n",
       " 'B00000K1VQ',\n",
       " 'B00000K1W9',\n",
       " 'B00000K2GI',\n",
       " 'B00000K2GJ',\n",
       " 'B00000K2G9',\n",
       " 'B00000K2G7',\n",
       " 'B00000K2GB',\n",
       " 'B00000K2GD',\n",
       " 'B00000K2R8',\n",
       " 'B00000K2R4',\n",
       " 'B00000K2RA',\n",
       " 'B00000K2R9',\n",
       " 'B00000K2R5',\n",
       " 'B00000K2XJ',\n",
       " 'B00000K2Y6',\n",
       " 'B00000K2R6',\n",
       " 'B00000K2X5',\n",
       " 'B00000K2YD',\n",
       " 'B00000K2R7',\n",
       " 'B00000K3DA',\n",
       " 'B00000K3DK',\n",
       " 'B00000K3DM',\n",
       " 'B00000K39I',\n",
       " 'B00000K3QV',\n",
       " 'B00000K2YA',\n",
       " 'B00000K3R6',\n",
       " 'B00000K3XB',\n",
       " 'B00000K3Q2',\n",
       " 'B00000K3Y2',\n",
       " 'B00000K3X9',\n",
       " 'B00000K4C9',\n",
       " 'B00000K4C7',\n",
       " 'B00000K4CR',\n",
       " 'B00000K4BU',\n",
       " 'B00000K4CC',\n",
       " 'B00000K4BX',\n",
       " 'B00000K4CB',\n",
       " 'B00000K4DW',\n",
       " 'B00000K4D5',\n",
       " 'B00000K4BT',\n",
       " 'B00000K4E6',\n",
       " 'B00000K4CU',\n",
       " 'B00000K4DK',\n",
       " 'B00000K4E7',\n",
       " 'B00000K4CE',\n",
       " 'B00000K4DU',\n",
       " 'B00000K4D4',\n",
       " 'B00000K4EF',\n",
       " 'B00000K4E1',\n",
       " 'B00000K4CZ',\n",
       " 'B00000K4D9',\n",
       " 'B00000K4D3',\n",
       " 'B00000K4CM',\n",
       " 'B00000K4E4',\n",
       " 'B00000K4EI',\n",
       " 'B00000K4D0',\n",
       " 'B00000K4DE',\n",
       " 'B00000K4AX',\n",
       " 'B00000K4CX',\n",
       " 'B00000K4DV',\n",
       " 'B00000K4HE',\n",
       " 'B00000K4E3',\n",
       " 'B00000K4EC',\n",
       " 'B00000K4D2',\n",
       " 'B00000K4DZ',\n",
       " 'B00000K4K7',\n",
       " 'B00000K4K4',\n",
       " 'B00000K4KJ',\n",
       " 'B00000K4K5',\n",
       " 'B00000K4K0',\n",
       " 'B00000K4LG',\n",
       " 'B00000K4LL',\n",
       " 'B00000K4K8',\n",
       " 'B00000K4SO',\n",
       " 'B00000K4TW',\n",
       " 'B00000K4TP',\n",
       " 'B00000K4LS',\n",
       " 'B00000K4TU',\n",
       " 'B00000K4MF',\n",
       " 'B00000K4LI',\n",
       " 'B00000K4XW',\n",
       " 'B00000K4KC',\n",
       " 'B00000K4MM',\n",
       " 'B00000K4KM',\n",
       " 'B00000K4XT',\n",
       " 'B00000K4SQ',\n",
       " 'B00000K4SU',\n",
       " 'B00000K4TR',\n",
       " 'B00000K4ST',\n",
       " 'B00000K4TQ',\n",
       " 'B00000K4XK',\n",
       " 'B00000K4YE',\n",
       " 'B00000K4R9',\n",
       " 'B00000K50S',\n",
       " 'B00000K4MC',\n",
       " 'B00000K4YH',\n",
       " 'B00000K513',\n",
       " 'B00000K51C',\n",
       " 'B00000K4M6',\n",
       " 'B00000K518',\n",
       " 'B00000K4KO',\n",
       " 'B00000K4C0',\n",
       " 'B00000K50Z',\n",
       " 'B00000K4YJ',\n",
       " 'B00000K510',\n",
       " 'B00000K4TX',\n",
       " 'B00000K516',\n",
       " 'B00000K514',\n",
       " 'B00000K57S',\n",
       " 'B00000K57P',\n",
       " 'B00000K511',\n",
       " 'B00000K599',\n",
       " 'B00000K57N',\n",
       " 'B00000K50T',\n",
       " 'B00000SWOY',\n",
       " 'B00000K5D8',\n",
       " 'B00000K4Y7',\n",
       " 'B00000SZZV',\n",
       " 'B00000K58S',\n",
       " 'B00000PLUW',\n",
       " 'B00000TFLN',\n",
       " 'B00001IVB6',\n",
       " 'B00001IVB3',\n",
       " 'B00000K594',\n",
       " 'B00001IVB4',\n",
       " 'B00000K4XZ',\n",
       " 'B00000TBQQ',\n",
       " 'B00001IVGE',\n",
       " 'B00000T94P',\n",
       " 'B00001IVB8',\n",
       " 'B00001IVCC',\n",
       " 'B00001IVBA',\n",
       " 'B00001IVLY',\n",
       " 'B00001JTEW',\n",
       " 'B00001IVRD',\n",
       " 'B00001IVR9',\n",
       " 'B00001LCDB',\n",
       " 'B00001IVUB',\n",
       " 'B00001LCDK',\n",
       " 'B00001IVVJ',\n",
       " 'B00001L2BT',\n",
       " 'B00001LDBT',\n",
       " 'B00001LCDE',\n",
       " 'B00001LC25',\n",
       " 'B00001LCDP',\n",
       " 'B00001LCDI',\n",
       " 'B00001KRTG',\n",
       " 'B00001JZMQ',\n",
       " 'B00001LDBZ',\n",
       " 'B00001LAE2',\n",
       " 'B00001KN0C',\n",
       " 'B00001LDC3',\n",
       " 'B00001LCDN',\n",
       " 'B00001KUII',\n",
       " 'B00001LCDG',\n",
       " 'B00001LDCC',\n",
       " 'B00001IVUN',\n",
       " 'B00001LDD5',\n",
       " 'B00001LDC8',\n",
       " 'B00001L5TD',\n",
       " 'B00001KWS2',\n",
       " 'B00001IVU8',\n",
       " 'B00001LCDD',\n",
       " 'B00001LDC7',\n",
       " 'B00001LCD9',\n",
       " 'B00001LDCN',\n",
       " 'B00001LDCE',\n",
       " 'B00001LCDH',\n",
       " 'B00001LDCP',\n",
       " 'B00001LCDF',\n",
       " 'B00001KHPX',\n",
       " 'B00001LDCK',\n",
       " 'B00001LDBU',\n",
       " 'B00001LDC4',\n",
       " 'B00001LCDC',\n",
       " 'B00001LCDO',\n",
       " 'B00001LCDM',\n",
       " 'B00001IVR8',\n",
       " 'B00001LDC5',\n",
       " 'B00001LCDL',\n",
       " 'B00001LDD4',\n",
       " 'B00001LDCD',\n",
       " 'B00001LDBW',\n",
       " 'B00001IVUC',\n",
       " 'B00001LDC9',\n",
       " 'B00001LDBR',\n",
       " 'B00001LDC1',\n",
       " 'B00001N2MP',\n",
       " 'B00001LCD6',\n",
       " 'B00001N2MM',\n",
       " 'B00001N2N6',\n",
       " 'B00001IVUO',\n",
       " 'B00001IVWH',\n",
       " 'B00001N2M9',\n",
       " 'B00001N2MI',\n",
       " 'B00001N2OU',\n",
       " 'B00001LDBY',\n",
       " 'B00001LCD8',\n",
       " 'B00001N2P1',\n",
       " 'B00001N2OQ',\n",
       " 'B00001N2MT',\n",
       " 'B00001N2ML',\n",
       " 'B00001LDDB',\n",
       " 'B00001LDC2',\n",
       " 'B00001NFDK',\n",
       " 'B00001N2P5',\n",
       " 'B00001N2MU',\n",
       " 'B00001N2OM',\n",
       " 'B00001N2M5',\n",
       " 'B00001NFRQ',\n",
       " 'B00001NFRP',\n",
       " 'B00001NFTS',\n",
       " 'B00001NFSZ',\n",
       " 'B00001NFQW',\n",
       " 'B00001NTGW',\n",
       " 'B00001NFVK',\n",
       " 'B00001NFSW',\n",
       " 'B00001NFS5',\n",
       " 'B00001NFRB',\n",
       " 'B00001NFVB',\n",
       " 'B00001NFSY',\n",
       " 'B00001NFTY',\n",
       " 'B00001NFUZ',\n",
       " 'B00001NFVI',\n",
       " 'B00001NFUA',\n",
       " 'B00001NTSL',\n",
       " 'B00001NTSO',\n",
       " 'B00001NTSG',\n",
       " 'B00001NTRZ',\n",
       " 'B00001NTSH',\n",
       " 'B00001NTSN',\n",
       " 'B00001NTSP',\n",
       " 'B00001NTSI',\n",
       " 'B00001OHE7',\n",
       " 'B00001OHC1',\n",
       " 'B00001OPJO',\n",
       " 'B00001OPJN',\n",
       " 'B00001OPJD',\n",
       " 'B00001OPJE',\n",
       " 'B00001OPJB',\n",
       " 'B00001OWYQ',\n",
       " 'B00001OWYW',\n",
       " 'B00001OWYK',\n",
       " 'B00001OX1R',\n",
       " 'B00001OHDA',\n",
       " 'B00001OX40',\n",
       " 'B00001OX3H',\n",
       " 'B00001OX4N',\n",
       " 'B00001OX4W',\n",
       " 'B00001OX3V',\n",
       " 'B00001OX3R',\n",
       " 'B00001OX3Z',\n",
       " 'B00001OX42',\n",
       " 'B00001OX3U',\n",
       " 'B00001OX3M',\n",
       " 'B00001OPJG',\n",
       " 'B00001OX4H',\n",
       " 'B00001OX4T',\n",
       " 'B00001OPJK',\n",
       " 'B00001OX3X',\n",
       " 'B00001OX3S',\n",
       " 'B00001P4QN',\n",
       " 'B00001OWYN',\n",
       " 'B00001OWYP',\n",
       " 'B00001OPJF',\n",
       " 'B00001OX4R',\n",
       " 'B00001OX43',\n",
       " 'B00001OWYL',\n",
       " 'B00001OX1O',\n",
       " 'B00001P4VP',\n",
       " 'B00001OX3Y',\n",
       " 'B00001P4YN',\n",
       " 'B00001P4Y6',\n",
       " 'B00001OWYX',\n",
       " 'B00001P4Y9',\n",
       " 'B00001QED5',\n",
       " 'B00001QECO',\n",
       " 'B00001QECX',\n",
       " 'B00001QECQ',\n",
       " 'B00001QEED',\n",
       " 'B00001QED2',\n",
       " 'B00001QECH',\n",
       " 'B00001QECT',\n",
       " 'B00001QEM1',\n",
       " 'B00001QEEC',\n",
       " 'B00001QEPY',\n",
       " 'B00001QEP3',\n",
       " 'B00001QEP5',\n",
       " 'B00001QEP9',\n",
       " 'B00001QEPQ',\n",
       " 'B00001QEQ9',\n",
       " 'B00001QEPR',\n",
       " 'B00001QEQS',\n",
       " 'B00001QEPV',\n",
       " 'B00001QEP7',\n",
       " 'B00001QERC',\n",
       " 'B00001QERF',\n",
       " 'B00001QEQA',\n",
       " 'B00001QEPC',\n",
       " 'B00001QEPG',\n",
       " 'B00001QEQL',\n",
       " 'B00001QEQW',\n",
       " 'B00001QEQ1',\n",
       " 'B00001QERD',\n",
       " 'B00001QERI',\n",
       " 'B00001QERM',\n",
       " 'B00001QEOZ',\n",
       " 'B00001QER6',\n",
       " 'B00001QEP6',\n",
       " 'B00001QER3',\n",
       " 'B00001QEQB',\n",
       " 'B00001QEQD',\n",
       " 'B00001QERO',\n",
       " 'B00001QERU',\n",
       " 'B00001QERH',\n",
       " 'B00001QER9',\n",
       " 'B00001QEQX',\n",
       " 'B00001QEQQ',\n",
       " 'B00001QEQZ',\n",
       " 'B00001QEQ8',\n",
       " 'B00001QERY',\n",
       " 'B00001QHW7',\n",
       " 'B00001QHVS',\n",
       " 'B00001QES0',\n",
       " 'B00001QHW9',\n",
       " 'B00001QHWH',\n",
       " 'B00001QHXZ',\n",
       " 'B00001QHY8',\n",
       " 'B00001QHXS',\n",
       " 'B00001QHYJ',\n",
       " 'B00001QHY6',\n",
       " 'B00001QHVN',\n",
       " 'B00001QHXE',\n",
       " 'B00001QHX0',\n",
       " 'B00001QHXM',\n",
       " 'B00001QHYE',\n",
       " 'B00001QHWI',\n",
       " 'B00001QHWT',\n",
       " 'B00001QHW5',\n",
       " 'B00001QHY4',\n",
       " 'B00001QHX6',\n",
       " 'B00001QHWM',\n",
       " 'B00001QHYM',\n",
       " 'B00001R3QN',\n",
       " 'B00001R3XH',\n",
       " 'B00001R3XI',\n",
       " 'B00001R3XA',\n",
       " 'B00001R3PC',\n",
       " 'B00001R3OH',\n",
       " 'B00001R3X7',\n",
       " 'B00001SHJR',\n",
       " 'B00001R3Q3',\n",
       " 'B00001SHN5',\n",
       " 'B00001SHN4',\n",
       " 'B00001SHN6',\n",
       " 'B00001SHNE',\n",
       " 'B00001SHNO',\n",
       " 'B00001SHN2',\n",
       " 'B00001SHOF',\n",
       " 'B00001SHOC',\n",
       " 'B00001SHMY',\n",
       " 'B00001SHN8',\n",
       " 'B00001SHNA',\n",
       " 'B00001SHNN',\n",
       " 'B00001SHM5',\n",
       " 'B00001SHMV',\n",
       " 'B00001SHII',\n",
       " 'B00001SHNG',\n",
       " 'B00001SHOU',\n",
       " 'B00001SHN0',\n",
       " 'B00001SHMP',\n",
       " 'B00001R3XK',\n",
       " 'B00001SHON',\n",
       " 'B00001SHGB',\n",
       " 'B00001SHNL',\n",
       " 'B00001SVI4',\n",
       " 'B00001SVEC',\n",
       " 'B00001SVE6',\n",
       " 'B00001R3XC',\n",
       " 'B00001SVI8',\n",
       " 'B00001SVE0',\n",
       " 'B00001SVE2',\n",
       " 'B00001SVI9',\n",
       " 'B00001SVDE',\n",
       " 'B00001T37S',\n",
       " 'B00001TZYB',\n",
       " 'B00001TZYF',\n",
       " 'B00001TZYD',\n",
       " 'B00001TQ0R',\n",
       " 'B00001TZYA',\n",
       " 'B00001W0DY',\n",
       " 'B00001W0J6',\n",
       " 'B00001W0HB',\n",
       " 'B00001W0E6',\n",
       " 'B00001WQHO',\n",
       " 'B00001WQIP',\n",
       " 'B00001W0J2',\n",
       " 'B00001WQIY',\n",
       " 'B00001WQHQ',\n",
       " 'B00001WQI5',\n",
       " 'B00001WQIS',\n",
       " 'B00001WQIT',\n",
       " 'B00001W0I3',\n",
       " 'B00001W0IY',\n",
       " 'B00001WRJ1',\n",
       " 'B00001W0KD',\n",
       " 'B00001WQJ0',\n",
       " 'B00001WRIA',\n",
       " 'B00001W0J7',\n",
       " 'B00001WRHW',\n",
       " 'B00001WBQ9',\n",
       " 'B00001W0IS',\n",
       " 'B00001W0JC',\n",
       " 'B00001W0HL',\n",
       " 'B00001WRIM',\n",
       " 'B00001WQHT',\n",
       " 'B00001WRJM',\n",
       " 'B00001WRJ6',\n",
       " 'B00001WRIU',\n",
       " 'B00001WQHX',\n",
       " 'B00001WROX',\n",
       " 'B00001WQHU',\n",
       " 'B00001WQJ1',\n",
       " 'B00001WRT2',\n",
       " 'B00001WQIR',\n",
       " 'B00001WROT',\n",
       " 'B00001WRJP',\n",
       " 'B00001X4ZF',\n",
       " 'B00001WRJE',\n",
       " 'B00001X4ZA',\n",
       " 'B00001WRSN',\n",
       " 'B00001WRJO',\n",
       " 'B00001X50Y',\n",
       " 'B00001X50R',\n",
       " 'B00001X4Z4',\n",
       " 'B00001WRSY',\n",
       " 'B00001WQHN',\n",
       " 'B00001X50L',\n",
       " 'B00001X50J',\n",
       " 'B00001X50U',\n",
       " 'B00001X50M',\n",
       " 'B00001X4Z3',\n",
       " 'B00001X510',\n",
       " 'B00001X50Q',\n",
       " 'B00001WRSO',\n",
       " 'B00001X50E',\n",
       " 'B00001X50N',\n",
       " 'B00001WRSK',\n",
       " 'B00001WRT0',\n",
       " 'B00001X5C1',\n",
       " 'B00001X5CE',\n",
       " 'B00001X5C3',\n",
       " 'B00001X5CL',\n",
       " 'B00001XDK0',\n",
       " 'B00001XDK3',\n",
       " 'B00001X5CG',\n",
       " 'B00001XDKE',\n",
       " 'B00001XDKD',\n",
       " 'B00001XDJZ',\n",
       " 'B00001XDJY',\n",
       " 'B00001XDK8',\n",
       " 'B00001XDKF',\n",
       " 'B00001XDK1',\n",
       " 'B00001XDKK',\n",
       " 'B00001XDK9',\n",
       " 'B00001X53P',\n",
       " 'B00001X5BE',\n",
       " 'B00001XDKO',\n",
       " 'B00001XDKL',\n",
       " 'B00001XDKH',\n",
       " 'B00001X5BU',\n",
       " 'B00001XDKC',\n",
       " 'B00001XDKM',\n",
       " 'B00001XDRA',\n",
       " 'B00001XDKJ',\n",
       " 'B00001XDTP',\n",
       " 'B00001XDTL',\n",
       " 'B00001XDTZ',\n",
       " 'B00001XDTU',\n",
       " 'B00001XDK5',\n",
       " 'B00001XDTQ',\n",
       " 'B00001XDTK',\n",
       " 'B00001XDU6',\n",
       " 'B00001XDTT',\n",
       " 'B00001XDVL',\n",
       " 'B00001XDUB',\n",
       " 'B00001XDV4',\n",
       " 'B00001XDV2',\n",
       " 'B00001XDWK',\n",
       " 'B00001XDTO',\n",
       " 'B00001XDWI',\n",
       " 'B00001XDU2',\n",
       " 'B00001XE0V',\n",
       " 'B00001XDTN',\n",
       " 'B00001XDTR',\n",
       " 'B00001XDTY',\n",
       " 'B00001YVB6',\n",
       " 'B00001XDTJ',\n",
       " 'B00001XDVT',\n",
       " 'B00001YVBK',\n",
       " 'B00001YVBL',\n",
       " 'B00001YVB7',\n",
       " 'B00001YVBM',\n",
       " 'B00001YVHR',\n",
       " 'B00001XDXN',\n",
       " 'B00001YVBH',\n",
       " 'B00001XDTM',\n",
       " 'B00001YVFK',\n",
       " 'B00001YVB5',\n",
       " 'B00001YVIW',\n",
       " 'B00001YVIE',\n",
       " 'B00001YVGV',\n",
       " 'B00001YVIJ',\n",
       " 'B00001YVGT',\n",
       " 'B00001XDZD',\n",
       " 'B00001YVIO',\n",
       " 'B00001YVIB',\n",
       " 'B00001XDVZ',\n",
       " 'B00001YVI4',\n",
       " 'B00001YVBN',\n",
       " 'B00001ZT3L',\n",
       " 'B00001ZT3K',\n",
       " 'B00001ZT40',\n",
       " 'B00001ZT4Z',\n",
       " 'B00001ZT4J',\n",
       " 'B00001ZT50',\n",
       " 'B00001ZT3Z',\n",
       " 'B00001ZT55',\n",
       " 'B00001ZT3J',\n",
       " 'B00001ZT4A',\n",
       " 'B00001ZT45',\n",
       " 'B00001ZT3S',\n",
       " 'B00001ZT57',\n",
       " 'B00001ZT53',\n",
       " 'B00001ZT3P',\n",
       " 'B00001ZT48',\n",
       " 'B00001ZT3U',\n",
       " 'B00001ZT3Q',\n",
       " 'B00001ZT46',\n",
       " 'B00001ZT3X',\n",
       " 'B00001ZT7T',\n",
       " 'B00001ZT4L',\n",
       " 'B00001ZT59',\n",
       " 'B00001ZT9E',\n",
       " 'B00001ZT4C',\n",
       " 'B00001ZT47',\n",
       " 'B00001ZT4R',\n",
       " 'B00001ZT4T',\n",
       " 'B00001ZT43',\n",
       " 'B00001ZT3V',\n",
       " 'B00001ZT77',\n",
       " 'B00001ZUGG',\n",
       " 'B00001ZUHU',\n",
       " ...]"
      ]
     },
     "execution_count": 35,
     "metadata": {},
     "output_type": "execute_result"
    }
   ],
   "source": [
    "asin_title['asin'].unique().tolist()"
   ]
  },
  {
   "cell_type": "code",
   "execution_count": 33,
   "metadata": {},
   "outputs": [
    {
     "data": {
      "text/html": [
       "<div>\n",
       "<style scoped>\n",
       "    .dataframe tbody tr th:only-of-type {\n",
       "        vertical-align: middle;\n",
       "    }\n",
       "\n",
       "    .dataframe tbody tr th {\n",
       "        vertical-align: top;\n",
       "    }\n",
       "\n",
       "    .dataframe thead th {\n",
       "        text-align: right;\n",
       "    }\n",
       "</style>\n",
       "<table border=\"1\" class=\"dataframe\">\n",
       "  <thead>\n",
       "    <tr style=\"text-align: right;\">\n",
       "      <th></th>\n",
       "      <th>title</th>\n",
       "      <th>asin</th>\n",
       "    </tr>\n",
       "  </thead>\n",
       "  <tbody>\n",
       "    <tr>\n",
       "      <th>0</th>\n",
       "      <td>Reversi Sensory Challenger</td>\n",
       "      <td>0042000742</td>\n",
       "    </tr>\n",
       "  </tbody>\n",
       "</table>\n",
       "</div>"
      ],
      "text/plain": [
       "                        title        asin\n",
       "0  Reversi Sensory Challenger  0042000742"
      ]
     },
     "execution_count": 33,
     "metadata": {},
     "output_type": "execute_result"
    }
   ],
   "source": [
    "asin_title[asin_title['asin']=='0042000742']"
   ]
  },
  {
   "cell_type": "code",
   "execution_count": 169,
   "metadata": {
    "collapsed": true
   },
   "outputs": [
    {
     "data": {
      "text/plain": [
       "[('Rally Championship - Pc Electronic Arts Games Game', 0.4629100498862757),\n",
       " ('Survival: The Ultimate Challenge - Pc Activision Games Game',\n",
       "  0.4629100498862757),\n",
       " ('Dungeon Keeper 2 Electronic Arts Pc Games Game', 0.4629100498862757),\n",
       " (\"Dragon'S Challenge - Pc Expert Software Games Game\", 0.4629100498862757),\n",
       " ('Crysis Pc Electronic Arts The Original Game Games', 0.4629100498862757),\n",
       " ('Galaxy Of Games Pc Game', 0.4364357804719848),\n",
       " ('Israeli Air Force - Pc Electronic Arts Games Game', 0.4285714285714285),\n",
       " ('Hellgate: London Electronic Arts Pc Dvd Games Game', 0.4285714285714285),\n",
       " (\"Jane'S Attack Pack - Pc Electronic Arts Jane Game\", 0.4285714285714285),\n",
       " ('Need For Speed Most Wanted Pc Electronic Arts Games Game',\n",
       "  0.4285714285714285)]"
      ]
     },
     "execution_count": 169,
     "metadata": {},
     "output_type": "execute_result"
    }
   ],
   "source": [
    "test"
   ]
  },
  {
   "cell_type": "code",
   "execution_count": 458,
   "metadata": {},
   "outputs": [],
   "source": [
    "test3 = recommendations_by_description('0078764343')"
   ]
  },
  {
   "cell_type": "code",
   "execution_count": 459,
   "metadata": {},
   "outputs": [
    {
     "data": {
      "text/plain": [
       "[('Street Fighter Ii Turbo Capcom Used Cartridge No Box Or Instructions Super Nintendo Games Supernintendo Game',\n",
       "  0.6689936080056728),\n",
       " ('Street Combat - Nintendo Super Nes Irem Snes Game', 0.6396021490668312),\n",
       " ('Lufia - Nintendo Super Nes Taito Video Games Game Supernintendo',\n",
       "  0.6396021490668312),\n",
       " ('Troddlers - Nintendo Super Nes Seika Video Games Snes Game',\n",
       "  0.6396021490668312),\n",
       " ('Outlander Super Nintendo Snes Games Nes Game', 0.6154574548966638),\n",
       " ('Home Improvement - Nintendo Super Nes Absolute Video Games Game Snes',\n",
       "  0.6030226891555273),\n",
       " ('Super Nova - Nintendo Nes Taito Video Games Snes Game Shootemup',\n",
       "  0.6030226891555273),\n",
       " ('Ultimate Fighter - Nintendo Super Nes Culture Brain Supernintendo Game',\n",
       "  0.6030226891555273),\n",
       " ('Chavez Ii - Nintendo Super Nes American Sammy Games Boxing. Supernintendo Game',\n",
       "  0.5720775535473555),\n",
       " ('King Of The Monsters 2 - Nintendo Super Nes Takara Tomy Snes Video Game Games',\n",
       "  0.5720775535473555)]"
      ]
     },
     "execution_count": 459,
     "metadata": {},
     "output_type": "execute_result"
    }
   ],
   "source": [
    "test3"
   ]
  },
  {
   "cell_type": "code",
   "execution_count": 383,
   "metadata": {},
   "outputs": [
    {
     "data": {
      "text/html": [
       "<div>\n",
       "<style scoped>\n",
       "    .dataframe tbody tr th:only-of-type {\n",
       "        vertical-align: middle;\n",
       "    }\n",
       "\n",
       "    .dataframe tbody tr th {\n",
       "        vertical-align: top;\n",
       "    }\n",
       "\n",
       "    .dataframe thead th {\n",
       "        text-align: right;\n",
       "    }\n",
       "</style>\n",
       "<table border=\"1\" class=\"dataframe\">\n",
       "  <thead>\n",
       "    <tr style=\"text-align: right;\">\n",
       "      <th></th>\n",
       "      <th>rank</th>\n",
       "      <th>asin</th>\n",
       "      <th>description</th>\n",
       "      <th>platform</th>\n",
       "      <th>rating</th>\n",
       "      <th>bag_of_words</th>\n",
       "    </tr>\n",
       "  </thead>\n",
       "  <tbody>\n",
       "    <tr>\n",
       "      <th>0</th>\n",
       "      <td>2623937.0</td>\n",
       "      <td>0042000742</td>\n",
       "      <td>Reversi Sensory Challenger Fidelity Electronic...</td>\n",
       "      <td>PC</td>\n",
       "      <td>5.00</td>\n",
       "      <td>reversi sensori challeng fidel electron pc gam...</td>\n",
       "    </tr>\n",
       "    <tr>\n",
       "      <th>1</th>\n",
       "      <td>67231.0</td>\n",
       "      <td>0078764343</td>\n",
       "      <td>Medal of Honor: Warfighter - Includes Battlefi...</td>\n",
       "      <td>Xbox360</td>\n",
       "      <td>4.75</td>\n",
       "      <td>medal honor warfight includ battlefield 4 beta...</td>\n",
       "    </tr>\n",
       "    <tr>\n",
       "      <th>2</th>\n",
       "      <td>134433.0</td>\n",
       "      <td>0276425316</td>\n",
       "      <td>street fighter 2 II turbo super nintendo snes ...</td>\n",
       "      <td>SuperNintendo</td>\n",
       "      <td>5.00</td>\n",
       "      <td>street fighter 2 ii turbo super nintendo snes ...</td>\n",
       "    </tr>\n",
       "    <tr>\n",
       "      <th>3</th>\n",
       "      <td>105263.0</td>\n",
       "      <td>0324411812</td>\n",
       "      <td>Xbox 360 MAS STICK MAS SYSTEMS MAS's Pro Xbox ...</td>\n",
       "      <td>PC</td>\n",
       "      <td>1.00</td>\n",
       "      <td>xbox 360 mas stick mas system mas 's pro xbox ...</td>\n",
       "    </tr>\n",
       "    <tr>\n",
       "      <th>4</th>\n",
       "      <td>117477.0</td>\n",
       "      <td>0439335299</td>\n",
       "      <td>Phonics Alive! 2 The Sound Blender Advanced So...</td>\n",
       "      <td>PC</td>\n",
       "      <td>3.00</td>\n",
       "      <td>phonic aliv 2 sound blender advanc softwar par...</td>\n",
       "    </tr>\n",
       "  </tbody>\n",
       "</table>\n",
       "</div>"
      ],
      "text/plain": [
       "        rank        asin                                        description  \\\n",
       "0  2623937.0  0042000742  Reversi Sensory Challenger Fidelity Electronic...   \n",
       "1    67231.0  0078764343  Medal of Honor: Warfighter - Includes Battlefi...   \n",
       "2   134433.0  0276425316  street fighter 2 II turbo super nintendo snes ...   \n",
       "3   105263.0  0324411812  Xbox 360 MAS STICK MAS SYSTEMS MAS's Pro Xbox ...   \n",
       "4   117477.0  0439335299  Phonics Alive! 2 The Sound Blender Advanced So...   \n",
       "\n",
       "        platform  rating                                       bag_of_words  \n",
       "0             PC    5.00  reversi sensori challeng fidel electron pc gam...  \n",
       "1        Xbox360    4.75  medal honor warfight includ battlefield 4 beta...  \n",
       "2  SuperNintendo    5.00  street fighter 2 ii turbo super nintendo snes ...  \n",
       "3             PC    1.00  xbox 360 mas stick mas system mas 's pro xbox ...  \n",
       "4             PC    3.00  phonic aliv 2 sound blender advanc softwar par...  "
      ]
     },
     "execution_count": 383,
     "metadata": {},
     "output_type": "execute_result"
    }
   ],
   "source": [
    "simple_videogames.head()"
   ]
  },
  {
   "cell_type": "markdown",
   "metadata": {},
   "source": [
    "[Back to top](#SAVESPOTS)"
   ]
  },
  {
   "cell_type": "markdown",
   "metadata": {},
   "source": [
    "### Recommend by TFIDF"
   ]
  },
  {
   "cell_type": "code",
   "execution_count": 189,
   "metadata": {},
   "outputs": [],
   "source": [
    "eda.TFIDF_model(subset)"
   ]
  },
  {
   "cell_type": "code",
   "execution_count": 190,
   "metadata": {
    "collapsed": true
   },
   "outputs": [
    {
     "name": "stdout",
     "output_type": "stream",
     "text": [
      "\n",
      "Topic  1\n",
      "images, ue, js, com, amazon, na, ssl, 01, t1, game, window, new, play, funct, pc\n",
      "\n",
      "Topic  2\n",
      "images, ue, js, com, na, amazon, ssl, t1, 01, funct, png, dsv, nav, length, window\n",
      "\n",
      "Topic  3\n",
      "ntsc, japanes, japan, format, packag, import, box, playstat, nes, playstation2, game, sega, mount, nintendo, kid\n",
      "\n",
      "Topic  4\n",
      "nes, sega, cartridg, guarante, wear, discolor, cosmet, genesi, replac, write, tear, issu, label, function, show\n",
      "\n",
      "Topic  5\n",
      "mount, no_brand, accessori, nintendo, none, control, wii, playstat, ps2, cabl, xbox, playstation2, case, skin, ds\n",
      "\n",
      "Topic  6\n",
      "nintendo, nes, super, ds, nintendod, supernintendo, boy, game, snes, gameboyadv, famicom, gameboy, lite, advanc, kid\n",
      "\n",
      "Topic  7\n",
      "no_brand, pc, game, none, video, playstation2, playstat, ps2, jewel, cd, adventur, war, rom, window, 95\n",
      "\n",
      "Topic  8\n",
      "pc, case, cd, jewel, window, rom, 98, xp, 95, softwar, 2000, clean, card, saturn, segasaturn\n"
     ]
    }
   ],
   "source": [
    "eda.display_topics(eda.svd, eda.vectorizer.get_feature_names(), 15, 8)"
   ]
  },
  {
   "cell_type": "code",
   "execution_count": 192,
   "metadata": {},
   "outputs": [],
   "source": [
    "eda.TFIDF_model(subset, model_type='nmf')"
   ]
  },
  {
   "cell_type": "code",
   "execution_count": 193,
   "metadata": {
    "collapsed": true
   },
   "outputs": [
    {
     "name": "stdout",
     "output_type": "stream",
     "text": [
      "\n",
      "Topic  1\n",
      "images, ue, js, com, amazon, na, ssl, t1, 01, funct, window, png, dsv, nav, length\n",
      "\n",
      "Topic  2\n",
      "play, new, player, world, action, take, mode, one, featur, charact, use, battl, level, power, time\n",
      "\n",
      "Topic  3\n",
      "ntsc, japanes, japan, format, packag, import, box, playstat, playstation2, kid, game, sega, famili, capcom, bandai\n",
      "\n",
      "Topic  4\n",
      "sega, guarante, discolor, wear, cosmet, cartridg, write, genesi, tear, issu, replac, label, function, nes, show\n",
      "\n",
      "Topic  5\n",
      "mount, accessori, control, cabl, xbox, design, button, wii, protect, pad, compat, 360, comfort, consol, batteri\n",
      "\n",
      "Topic  6\n",
      "nintendo, nes, super, supernintendo, ds, nintendod, game, boy, snes, cartridg, famicom, gameboy, lite, nintendo64, gameboyadv\n",
      "\n",
      "Topic  7\n",
      "no_brand, playstat, playstation2, none, video, ps2, mount, accessori, game, soni, boy, xbox, uk, gameboyadv, advanc\n",
      "\n",
      "Topic  8\n",
      "pc, game, cd, window, jewel, case, rom, 98, xp, softwar, 95, 2000, card, requir, ram\n"
     ]
    }
   ],
   "source": [
    "eda.display_topics(eda.nmf, eda.vectorizer.get_feature_names(), 15, 8)"
   ]
  },
  {
   "cell_type": "markdown",
   "metadata": {},
   "source": [
    "[Back to top](#SAVESPOTS)"
   ]
  },
  {
   "cell_type": "markdown",
   "metadata": {},
   "source": [
    "============================================"
   ]
  },
  {
   "cell_type": "markdown",
   "metadata": {},
   "source": [
    "# DETERMINING RMSE"
   ]
  },
  {
   "cell_type": "code",
   "execution_count": 270,
   "metadata": {},
   "outputs": [],
   "source": [
    "from surprise import Reader, Dataset, SVD, accuracy\n",
    "from surprise.model_selection import train_test_split"
   ]
  },
  {
   "cell_type": "code",
   "execution_count": 271,
   "metadata": {},
   "outputs": [],
   "source": [
    "#load rating table\n",
    "rating_table = pd.read_csv('Data/rating_table.csv', index_col=0)\n",
    "\n",
    "#randomize columns\n",
    "randomized_rating_table = rating_table.sample(frac=1).reset_index(drop=True)"
   ]
  },
  {
   "cell_type": "code",
   "execution_count": 272,
   "metadata": {
    "scrolled": true
   },
   "outputs": [
    {
     "name": "stdout",
     "output_type": "stream",
     "text": [
      "RMSE: 1.0276\n"
     ]
    },
    {
     "data": {
      "text/plain": [
       "1.0275766275221263"
      ]
     },
     "execution_count": 272,
     "metadata": {},
     "output_type": "execute_result"
    }
   ],
   "source": [
    "#instantiate surprise's Reader for calculating rmse\n",
    "reader = Reader()\n",
    "data = Dataset.load_from_df(testing[['reviewerID','asin','rating']], reader)\n",
    "\n",
    "\n",
    "#randomizing rows before spliting into test and train set\n",
    "trainset, testset = train_test_split(data, test_size=0.25)\n",
    "\n",
    "algo = SVD()\n",
    "algo.fit(trainset)\n",
    "\n",
    "#make prediction\n",
    "predictions = algo.test(testset)\n",
    "\n",
    "#calculate rmse\n",
    "accuracy.rmse(predictions)"
   ]
  },
  {
   "cell_type": "markdown",
   "metadata": {},
   "source": [
    "[Back to top](#SAVESPOTS)"
   ]
  },
  {
   "cell_type": "markdown",
   "metadata": {},
   "source": [
    "============================================"
   ]
  },
  {
   "cell_type": "markdown",
   "metadata": {},
   "source": [
    "# HANDLING COLD START"
   ]
  },
  {
   "cell_type": "code",
   "execution_count": 413,
   "metadata": {},
   "outputs": [],
   "source": [
    "def recommendations_by_user_input(bag_of_words, cosine_sim = vg_cosine_sim):\n",
    "    #create new df row with use of bag_of_words and append to dataframe\n",
    "    temp = pd.DataFrame({\"asin\":[0], \"bag_of_words\":[bag_of_words]})\n",
    "    appending_df = videogame_description_table.copy()\n",
    "    appending_df = appending_df.sample(frac=1).reset_index(drop=True)\n",
    "    temp = temp.append(appending_df, ignore_index = True)\n",
    "    bag_of_word_list = temp['bag_of_words'][:25000]\n",
    "    \n",
    "    #then get the indices of it\n",
    "    indices = pd.Series(temp['asin'])\n",
    "    \n",
    "    #initialize new list of things to recommend\n",
    "    recommended_items = []\n",
    "    \n",
    "    #indices == 0 because it is 0 (because of temp df)\n",
    "    idx = indices[indices == 0].index[0]\n",
    "    \n",
    "    #instantiate CountVectorizer\n",
    "    count = CountVectorizer()\n",
    "    count_matrix = count.fit_transform(bag_of_word_list)\n",
    "\n",
    "    vg_cosine_sim = cosine_similarity(count_matrix, count_matrix)\n",
    "    \n",
    "    #get scores based on consine similarity\n",
    "    score_series = pd.Series(vg_cosine_sim[idx]).sort_values(ascending = False)\n",
    "    \n",
    "    top_10_indexes = list(score_series.iloc[1:11].index)\n",
    "    \n",
    "    seperator = ' '\n",
    "    for i in top_10_indexes:\n",
    "        product_description = replace_asin_with_description(list(videogame_description_table.index)[i])\n",
    "        recommended_items.append((seperator.join(product_description.split()[:7]),score_series[i]))\n",
    "\n",
    "    return recommended_items"
   ]
  },
  {
   "cell_type": "code",
   "execution_count": 332,
   "metadata": {},
   "outputs": [],
   "source": [
    "def top_10():\n",
    "    #just get top 10 items. sorted by # of ratings, then avg rating\n",
    "    #have to add # of ratings to video game column\n",
    "    return \"top_10\""
   ]
  },
  {
   "cell_type": "code",
   "execution_count": 361,
   "metadata": {},
   "outputs": [],
   "source": [
    "#ask for input from user\n",
    "def input_recommender():\n",
    "    input_product = input(\"Enter a product: \")\n",
    "    input_product_tokenized = eda.personal_tokenize(eda.remov_duplicates(input_product.lower()))\n",
    "    \n",
    "    if len(input_product_tokenized) == 0:\n",
    "        print(\"Here are some of our most popular items!\")\n",
    "        print(top_10())\n",
    "    \n",
    "    else:\n",
    "        print('We recommend you try some of these products!')\n",
    "        print(recommendations_by_user_input(input_product_tokenized))\n",
    "    "
   ]
  },
  {
   "cell_type": "code",
   "execution_count": 414,
   "metadata": {
    "scrolled": true
   },
   "outputs": [
    {
     "name": "stdout",
     "output_type": "stream",
     "text": [
      "Enter a product: nintendo 64 action\n",
      "[(\"Toy Story Racer Activision While Andy'S Away,\", 0.4714045207910318), ('Crash Bandicoot Action Pack - Playstation 2', 0.4714045207910318), ('Danny Phantom: The Ultimate Enemy Thq Future', 0.4364357804719848), ('Taito Legends - Xbox Empire Interactive 29', 0.408248290463863), ('Call Of Duty 4: Modern Warfare Activision', 0.408248290463863), ('Justice League Heroes - Sony Psp Warner', 0.408248290463863), ('Power Replay Game Enhancer ~ Playstation Cheat', 0.3849001794597505), ('Buttkicker Weight-Rated Kinetics Isolator (Discontinued By Manufacturer)', 0.3651483716701108), ('Super Robots Wars A (Japanese Import Video', 0.3651483716701108), ('Ncaa Football 2007 - Xbox Electronic Arts', 0.3651483716701108)]\n"
     ]
    }
   ],
   "source": [
    "input_recommender()"
   ]
  },
  {
   "cell_type": "markdown",
   "metadata": {},
   "source": [
    "[Back to top](#SAVESPOTS) <br>\n",
    "[TODO](#TODO)"
   ]
  },
  {
   "cell_type": "code",
   "execution_count": 448,
   "metadata": {
    "scrolled": true
   },
   "outputs": [
    {
     "name": "stdout",
     "output_type": "stream",
     "text": [
      "<class 'pandas.core.frame.DataFrame'>\n",
      "RangeIndex: 84893 entries, 0 to 84892\n",
      "Data columns (total 17 columns):\n",
      " #   Column        Non-Null Count  Dtype \n",
      "---  ------        --------------  ----- \n",
      " 0   category      82467 non-null  object\n",
      " 1   title         84879 non-null  object\n",
      " 2   image         62004 non-null  object\n",
      " 3   brand         80863 non-null  object\n",
      " 4   rank          80383 non-null  object\n",
      " 5   main_cat      84727 non-null  object\n",
      " 6   asin          84893 non-null  object\n",
      " 7   description   74723 non-null  object\n",
      " 8   also_buy      35420 non-null  object\n",
      " 9   also_view     45081 non-null  object\n",
      " 10  price         15555 non-null  object\n",
      " 11  feature       61932 non-null  object\n",
      " 12  date          8273 non-null   object\n",
      " 13  tech1         2847 non-null   object\n",
      " 14  details       2261 non-null   object\n",
      " 15  similar_item  281 non-null    object\n",
      " 16  tech2         234 non-null    object\n",
      "dtypes: object(17)\n",
      "memory usage: 11.0+ MB\n"
     ]
    }
   ],
   "source": [
    "videogames.info()"
   ]
  },
  {
   "cell_type": "code",
   "execution_count": 450,
   "metadata": {},
   "outputs": [
    {
     "data": {
      "text/plain": [
       "category         2426\n",
       "title              14\n",
       "image           22889\n",
       "brand            4030\n",
       "rank             4510\n",
       "main_cat          166\n",
       "asin                0\n",
       "description     10170\n",
       "also_buy        49473\n",
       "also_view       39812\n",
       "price           69338\n",
       "feature         22961\n",
       "date            76620\n",
       "tech1           82046\n",
       "details         82632\n",
       "similar_item    84612\n",
       "tech2           84659\n",
       "dtype: int64"
      ]
     },
     "execution_count": 450,
     "metadata": {},
     "output_type": "execute_result"
    }
   ],
   "source": [
    "videogames.isna().sum()"
   ]
  },
  {
   "cell_type": "code",
   "execution_count": 449,
   "metadata": {
    "scrolled": true
   },
   "outputs": [
    {
     "name": "stdout",
     "output_type": "stream",
     "text": [
      "<class 'pandas.core.frame.DataFrame'>\n",
      "RangeIndex: 2565349 entries, 0 to 2565348\n",
      "Data columns (total 12 columns):\n",
      " #   Column          Dtype \n",
      "---  ------          ----- \n",
      " 0   overall         int64 \n",
      " 1   verified        bool  \n",
      " 2   reviewTime      object\n",
      " 3   reviewerID      object\n",
      " 4   asin            object\n",
      " 5   reviewerName    object\n",
      " 6   reviewText      object\n",
      " 7   summary         object\n",
      " 8   unixReviewTime  int64 \n",
      " 9   vote            object\n",
      " 10  style           object\n",
      " 11  image           object\n",
      "dtypes: bool(1), int64(2), object(9)\n",
      "memory usage: 217.7+ MB\n"
     ]
    }
   ],
   "source": [
    "reviews.info()"
   ]
  },
  {
   "cell_type": "code",
   "execution_count": 451,
   "metadata": {},
   "outputs": [
    {
     "data": {
      "text/plain": [
       "overall                 0\n",
       "verified                0\n",
       "reviewTime              0\n",
       "reviewerID              0\n",
       "asin                    0\n",
       "reviewerName          253\n",
       "reviewText           1715\n",
       "summary               811\n",
       "unixReviewTime          0\n",
       "vote              2122633\n",
       "style             1245377\n",
       "image             2537044\n",
       "dtype: int64"
      ]
     },
     "execution_count": 451,
     "metadata": {},
     "output_type": "execute_result"
    }
   ],
   "source": [
    "reviews.isna().sum()"
   ]
  },
  {
   "cell_type": "code",
   "execution_count": 452,
   "metadata": {},
   "outputs": [],
   "source": [
    "test = videogame_description_table['asin'].unique()"
   ]
  },
  {
   "cell_type": "code",
   "execution_count": 455,
   "metadata": {},
   "outputs": [
    {
     "data": {
      "text/plain": [
       "list"
      ]
     },
     "execution_count": 455,
     "metadata": {},
     "output_type": "execute_result"
    }
   ],
   "source": [
    "type(test.tolist())"
   ]
  },
  {
   "cell_type": "code",
   "execution_count": 457,
   "metadata": {
    "collapsed": true
   },
   "outputs": [
    {
     "data": {
      "text/plain": [
       "['0042000742',\n",
       " '0078764343',\n",
       " '0276425316',\n",
       " '0324411812',\n",
       " '0439335299',\n",
       " '0439335310',\n",
       " '043933702X',\n",
       " '0439339006',\n",
       " '0439339960',\n",
       " '0439339987',\n",
       " '0439342260',\n",
       " '0439381673',\n",
       " '0439394422',\n",
       " '043940133X',\n",
       " '0439473489',\n",
       " '0439542804',\n",
       " '0439573947',\n",
       " '043957448X',\n",
       " '0439591295',\n",
       " '0439591511',\n",
       " '0439591538',\n",
       " '0439591570',\n",
       " '0439651158',\n",
       " '0439671418',\n",
       " '0439715571',\n",
       " '0439773660',\n",
       " '0439803705',\n",
       " '0439813182',\n",
       " '0439900581',\n",
       " '0439922593',\n",
       " '0545036372',\n",
       " '0545109744',\n",
       " '0545112141',\n",
       " '0545115507',\n",
       " '0545149223',\n",
       " '0545540860',\n",
       " '0662476565',\n",
       " '0700026355',\n",
       " '0700026398',\n",
       " '0700026649',\n",
       " '0700026657',\n",
       " '0700099867',\n",
       " '0758534531',\n",
       " '0763030945',\n",
       " '0784506086',\n",
       " '0784930724',\n",
       " '0784930805',\n",
       " '0804161380',\n",
       " '0871770261',\n",
       " '0871771209',\n",
       " '0871771454',\n",
       " '0871773732',\n",
       " '0894556908',\n",
       " '0970154097',\n",
       " '0977070670',\n",
       " '0977710432',\n",
       " '0982205805',\n",
       " '0984529527',\n",
       " '1309485194',\n",
       " '1557556741',\n",
       " '1558843477',\n",
       " '1563712318',\n",
       " '1572310324',\n",
       " '1572641517',\n",
       " '1574571931',\n",
       " '1575950715',\n",
       " '1577345819',\n",
       " '1577911989',\n",
       " '1579288588',\n",
       " '1589942914',\n",
       " '1594590133',\n",
       " '1613170483',\n",
       " '1613170785',\n",
       " '1616614765',\n",
       " '1616616873',\n",
       " '1770947841',\n",
       " '1886846758',\n",
       " '1886846774',\n",
       " '1886846820',\n",
       " '1886846847',\n",
       " '1888449004',\n",
       " '1888449543',\n",
       " '1893890244',\n",
       " '1894353226',\n",
       " '1894353234',\n",
       " '1934429627',\n",
       " '1940825164',\n",
       " '2742984321',\n",
       " '3815864844',\n",
       " '3828770193',\n",
       " '3866810067',\n",
       " '3866811659',\n",
       " '3866811713',\n",
       " '3866813465',\n",
       " '3866814429',\n",
       " '3866816316',\n",
       " '3898740781',\n",
       " '3898745236',\n",
       " '3898746917',\n",
       " '3899564812',\n",
       " '3936336512',\n",
       " '3937549064',\n",
       " '4087925056',\n",
       " '5040400284',\n",
       " '5553288924',\n",
       " '6050036071',\n",
       " '6055420740',\n",
       " '7108013096',\n",
       " '7293000642',\n",
       " '7293000936',\n",
       " '7293000952',\n",
       " '7293000960',\n",
       " '7312010385',\n",
       " '7537823413',\n",
       " '7539908920',\n",
       " '7540727705',\n",
       " '7542614444',\n",
       " '7543450933',\n",
       " '7544256944',\n",
       " '7561321074',\n",
       " '7800405761',\n",
       " '7900085653',\n",
       " '8176503290',\n",
       " '8565000168',\n",
       " '8990289424',\n",
       " '8990289432',\n",
       " '8990289440',\n",
       " '9054675152',\n",
       " '9056560190',\n",
       " '9075078102',\n",
       " '907843905X',\n",
       " '9078439122',\n",
       " '9081335219',\n",
       " '952590444X',\n",
       " '9572132148',\n",
       " '9573499126',\n",
       " '9622643884',\n",
       " '9625990674',\n",
       " '9625990798',\n",
       " '9625990992',\n",
       " '9625991921',\n",
       " '9625992405',\n",
       " '9625992413',\n",
       " '9625992421',\n",
       " '9625992480',\n",
       " '9625993045',\n",
       " '9628887491',\n",
       " '9629551284',\n",
       " '9629551462',\n",
       " '9629971372',\n",
       " '9750807502',\n",
       " '9752300480',\n",
       " '9752520235',\n",
       " '9752933580',\n",
       " '9752981917',\n",
       " '9753086024',\n",
       " '975331793X',\n",
       " '9754585288',\n",
       " '9755109234',\n",
       " '9755331131',\n",
       " '9755334572',\n",
       " '9755334602',\n",
       " '9755335226',\n",
       " '9755391606',\n",
       " '975539463X',\n",
       " '9756176288',\n",
       " '9756663855',\n",
       " '975679304X',\n",
       " '9756876646',\n",
       " '975726587X',\n",
       " '9758496786',\n",
       " '9758648950',\n",
       " '9758747843',\n",
       " '975912307X',\n",
       " '9759272245',\n",
       " '9780955909',\n",
       " '9861007970',\n",
       " '9861040595',\n",
       " '9861043977',\n",
       " '9861048111',\n",
       " '9861127380',\n",
       " '9861173897',\n",
       " '9861745327',\n",
       " '9861747192',\n",
       " '9861765506',\n",
       " '9861767304',\n",
       " '9862511095',\n",
       " '9862561815',\n",
       " '9867299434',\n",
       " '9882073271',\n",
       " '9882077153',\n",
       " '9882100848',\n",
       " '9882102670',\n",
       " '9882106463',\n",
       " '9882155456',\n",
       " '9888001167',\n",
       " '988800171X',\n",
       " '9888035878',\n",
       " '9941154813',\n",
       " '9944860212',\n",
       " '9984978761',\n",
       " 'B000003SQQ',\n",
       " 'B000005LBJ',\n",
       " 'B000006IX3',\n",
       " 'B000006OTB',\n",
       " 'B000006OTC',\n",
       " 'B000006OVD',\n",
       " 'B000006OVE',\n",
       " 'B000006OVF',\n",
       " 'B000006OVG',\n",
       " 'B000006OVI',\n",
       " 'B000006OVJ',\n",
       " 'B000006OVK',\n",
       " 'B000006OVL',\n",
       " 'B000006OWR',\n",
       " 'B000006OWS',\n",
       " 'B000006OWT',\n",
       " 'B000006P0J',\n",
       " 'B000006P0K',\n",
       " 'B000006P0L',\n",
       " 'B000006P0M',\n",
       " 'B000006P0N',\n",
       " 'B000006P0O',\n",
       " 'B000006P0P',\n",
       " 'B000006RGO',\n",
       " 'B000006RGP',\n",
       " 'B000006RGQ',\n",
       " 'B000006RGR',\n",
       " 'B000006RGS',\n",
       " 'B000007NJA',\n",
       " 'B000007NJB',\n",
       " 'B000007NJC',\n",
       " 'B000007NJD',\n",
       " 'B000007NJE',\n",
       " 'B000009QCV',\n",
       " 'B000009QCW',\n",
       " 'B000009QCX',\n",
       " 'B000009QCY',\n",
       " 'B000009QCZ',\n",
       " 'B000009QD0',\n",
       " 'B000009QD1',\n",
       " 'B00000DMA8',\n",
       " 'B00000DMAA',\n",
       " 'B00000DMAB',\n",
       " 'B00000DMAC',\n",
       " 'B00000DMAD',\n",
       " 'B00000DMAE',\n",
       " 'B00000DMAG',\n",
       " 'B00000DMAH',\n",
       " 'B00000DMAM',\n",
       " 'B00000DMAN',\n",
       " 'B00000DMAO',\n",
       " 'B00000DMAP',\n",
       " 'B00000DMAQ',\n",
       " 'B00000DMAR',\n",
       " 'B00000DMAT',\n",
       " 'B00000DMAV',\n",
       " 'B00000DMAW',\n",
       " 'B00000DMAX',\n",
       " 'B00000DMAZ',\n",
       " 'B00000DMB2',\n",
       " 'B00000DMB3',\n",
       " 'B00000DMB4',\n",
       " 'B00000DMB5',\n",
       " 'B00000DMB6',\n",
       " 'B00000DMB7',\n",
       " 'B00000DMB9',\n",
       " 'B00000F1GI',\n",
       " 'B00000F1GK',\n",
       " 'B00000F1GM',\n",
       " 'B00000F1GO',\n",
       " 'B00000F1GS',\n",
       " 'B00000G16I',\n",
       " 'B00000G2OP',\n",
       " 'B00000I1B6',\n",
       " 'B00000I1B7',\n",
       " 'B00000I1B8',\n",
       " 'B00000I1BA',\n",
       " 'B00000I1BB',\n",
       " 'B00000I1BC',\n",
       " 'B00000I1BD',\n",
       " 'B00000I1BE',\n",
       " 'B00000I1BF',\n",
       " 'B00000I1BG',\n",
       " 'B00000I1BH',\n",
       " 'B00000I1BI',\n",
       " 'B00000I1BJ',\n",
       " 'B00000I1BK',\n",
       " 'B00000I1BL',\n",
       " 'B00000I1BM',\n",
       " 'B00000I1BN',\n",
       " 'B00000I1BO',\n",
       " 'B00000I1BP',\n",
       " 'B00000I1BQ',\n",
       " 'B00000I1BR',\n",
       " 'B00000I1BS',\n",
       " 'B00000I1BT',\n",
       " 'B00000I1BU',\n",
       " 'B00000I1BV',\n",
       " 'B00000I1BX',\n",
       " 'B00000I1BY',\n",
       " 'B00000I1BZ',\n",
       " 'B00000I1C0',\n",
       " 'B00000I1C1',\n",
       " 'B00000I1C2',\n",
       " 'B00000I1C3',\n",
       " 'B00000ID60',\n",
       " 'B00000ID61',\n",
       " 'B00000IFKV',\n",
       " 'B00000IFKW',\n",
       " 'B00000IFRG',\n",
       " 'B00000IFRI',\n",
       " 'B00000IG7T',\n",
       " 'B00000IG80',\n",
       " 'B00000IGZM',\n",
       " 'B00000IH04',\n",
       " 'B00000IJLQ',\n",
       " 'B00000IJVY',\n",
       " 'B00000IKCC',\n",
       " 'B00000IKCG',\n",
       " 'B00000IKQD',\n",
       " 'B00000IKQH',\n",
       " 'B00000IMK5',\n",
       " 'B00000IMNB',\n",
       " 'B00000INQO',\n",
       " 'B00000INQQ',\n",
       " 'B00000INR2',\n",
       " 'B00000IODX',\n",
       " 'B00000IODY',\n",
       " 'B00000IOQV',\n",
       " 'B00000IPDS',\n",
       " 'B00000IPEE',\n",
       " 'B00000IPVL',\n",
       " 'B00000IQ2S',\n",
       " 'B00000IQPW',\n",
       " 'B00000IRD8',\n",
       " 'B00000IWIW',\n",
       " 'B00000IWYR',\n",
       " 'B00000IWYU',\n",
       " 'B00000IXB8',\n",
       " 'B00000IXFW',\n",
       " 'B00000IYEQ',\n",
       " 'B00000IZ7Q',\n",
       " 'B00000IZ8A',\n",
       " 'B00000IZS1',\n",
       " 'B00000J2OO',\n",
       " 'B00000J2W7',\n",
       " 'B00000J6GR',\n",
       " 'B00000J6GS',\n",
       " 'B00000J6GT',\n",
       " 'B00000J6GU',\n",
       " 'B00000J96T',\n",
       " 'B00000J96V',\n",
       " 'B00000J96W',\n",
       " 'B00000J96X',\n",
       " 'B00000J972',\n",
       " 'B00000J97G',\n",
       " 'B00000J98X',\n",
       " 'B00000J9J6',\n",
       " 'B00000J9J7',\n",
       " 'B00000J9J9',\n",
       " 'B00000J9JI',\n",
       " 'B00000JBJI',\n",
       " 'B00000JBL1',\n",
       " 'B00000JBUQ',\n",
       " 'B00000JBUU',\n",
       " 'B00000JBXB',\n",
       " 'B00000JD79',\n",
       " 'B00000JDDY',\n",
       " 'B00000JDFT',\n",
       " 'B00000JDG9',\n",
       " 'B00000JDJ0',\n",
       " 'B00000JDJ1',\n",
       " 'B00000JDJ2',\n",
       " 'B00000JFBR',\n",
       " 'B00000JFC6',\n",
       " 'B00000JGAR',\n",
       " 'B00000JHPD',\n",
       " 'B00000JHPN',\n",
       " 'B00000JHPT',\n",
       " 'B00000JIUG',\n",
       " 'B00000JJ4S',\n",
       " 'B00000JKLW',\n",
       " 'B00000JKMB',\n",
       " 'B00000JKMC',\n",
       " 'B00000JL60',\n",
       " 'B00000JL6V',\n",
       " 'B00000JLAE',\n",
       " 'B00000JLPC',\n",
       " 'B00000JLQV',\n",
       " 'B00000JLRQ',\n",
       " 'B00000JMWB',\n",
       " 'B00000JNHJ',\n",
       " 'B00000JNZO',\n",
       " 'B00000JQ0V',\n",
       " 'B00000JQQH',\n",
       " 'B00000JQQJ',\n",
       " 'B00000JQQM',\n",
       " 'B00000JRSB',\n",
       " 'B00000JRT2',\n",
       " 'B00000JWGM',\n",
       " 'B00000JWGO',\n",
       " 'B00000JX33',\n",
       " 'B00000K0DJ',\n",
       " 'B00000K10H',\n",
       " 'B00000K10O',\n",
       " 'B00000K10U',\n",
       " 'B00000K115',\n",
       " 'B00000K117',\n",
       " 'B00000K119',\n",
       " 'B00000K11D',\n",
       " 'B00000K11N',\n",
       " 'B00000K11O',\n",
       " 'B00000K122',\n",
       " 'B00000K125',\n",
       " 'B00000K13B',\n",
       " 'B00000K13E',\n",
       " 'B00000K13F',\n",
       " 'B00000K13G',\n",
       " 'B00000K13J',\n",
       " 'B00000K13K',\n",
       " 'B00000K1AF',\n",
       " 'B00000K1V2',\n",
       " 'B00000K1V3',\n",
       " 'B00000K1V7',\n",
       " 'B00000K1V9',\n",
       " 'B00000K1VA',\n",
       " 'B00000K1VB',\n",
       " 'B00000K1VC',\n",
       " 'B00000K1VE',\n",
       " 'B00000K1VG',\n",
       " 'B00000K1VH',\n",
       " 'B00000K1VI',\n",
       " 'B00000K1VK',\n",
       " 'B00000K1VM',\n",
       " 'B00000K1VO',\n",
       " 'B00000K1VQ',\n",
       " 'B00000K1W9',\n",
       " 'B00000K1WC',\n",
       " 'B00000K1WG',\n",
       " 'B00000K1WR',\n",
       " 'B00000K1WX',\n",
       " 'B00000K1X1',\n",
       " 'B00000K1X4',\n",
       " 'B00000K1XF',\n",
       " 'B00000K1XJ',\n",
       " 'B00000K1XN',\n",
       " 'B00000K1XP',\n",
       " 'B00000K1XU',\n",
       " 'B00000K2G7',\n",
       " 'B00000K2G9',\n",
       " 'B00000K2GB',\n",
       " 'B00000K2GD',\n",
       " 'B00000K2GI',\n",
       " 'B00000K2GJ',\n",
       " 'B00000K2R4',\n",
       " 'B00000K2R5',\n",
       " 'B00000K2R6',\n",
       " 'B00000K2R7',\n",
       " 'B00000K2R8',\n",
       " 'B00000K2R9',\n",
       " 'B00000K2RA',\n",
       " 'B00000K2X5',\n",
       " 'B00000K2XJ',\n",
       " 'B00000K2Y6',\n",
       " 'B00000K2YA',\n",
       " 'B00000K2YD',\n",
       " 'B00000K39I',\n",
       " 'B00000K3DA',\n",
       " 'B00000K3DK',\n",
       " 'B00000K3DM',\n",
       " 'B00000K3Q2',\n",
       " 'B00000K3QV',\n",
       " 'B00000K3R6',\n",
       " 'B00000K3X9',\n",
       " 'B00000K3XB',\n",
       " 'B00000K3Y2',\n",
       " 'B00000K4AX',\n",
       " 'B00000K4BT',\n",
       " 'B00000K4BU',\n",
       " 'B00000K4BX',\n",
       " 'B00000K4C0',\n",
       " 'B00000K4C7',\n",
       " 'B00000K4C9',\n",
       " 'B00000K4CB',\n",
       " 'B00000K4CC',\n",
       " 'B00000K4CE',\n",
       " 'B00000K4CM',\n",
       " 'B00000K4CR',\n",
       " 'B00000K4CU',\n",
       " 'B00000K4CX',\n",
       " 'B00000K4CZ',\n",
       " 'B00000K4D0',\n",
       " 'B00000K4D2',\n",
       " 'B00000K4D3',\n",
       " 'B00000K4D4',\n",
       " 'B00000K4D5',\n",
       " 'B00000K4D9',\n",
       " 'B00000K4DE',\n",
       " 'B00000K4DK',\n",
       " 'B00000K4DU',\n",
       " 'B00000K4DV',\n",
       " 'B00000K4DW',\n",
       " 'B00000K4DZ',\n",
       " 'B00000K4E1',\n",
       " 'B00000K4E3',\n",
       " 'B00000K4E4',\n",
       " 'B00000K4E6',\n",
       " 'B00000K4E7',\n",
       " 'B00000K4EC',\n",
       " 'B00000K4EF',\n",
       " 'B00000K4EI',\n",
       " 'B00000K4HE',\n",
       " 'B00000K4K0',\n",
       " 'B00000K4K4',\n",
       " 'B00000K4K5',\n",
       " 'B00000K4K7',\n",
       " 'B00000K4K8',\n",
       " 'B00000K4KC',\n",
       " 'B00000K4KJ',\n",
       " 'B00000K4KM',\n",
       " 'B00000K4KO',\n",
       " 'B00000K4LG',\n",
       " 'B00000K4LI',\n",
       " 'B00000K4LL',\n",
       " 'B00000K4LS',\n",
       " 'B00000K4M6',\n",
       " 'B00000K4MC',\n",
       " 'B00000K4MF',\n",
       " 'B00000K4MM',\n",
       " 'B00000K4R9',\n",
       " 'B00000K4SO',\n",
       " 'B00000K4SQ',\n",
       " 'B00000K4ST',\n",
       " 'B00000K4SU',\n",
       " 'B00000K4TP',\n",
       " 'B00000K4TQ',\n",
       " 'B00000K4TR',\n",
       " 'B00000K4TU',\n",
       " 'B00000K4TW',\n",
       " 'B00000K4TX',\n",
       " 'B00000K4XK',\n",
       " 'B00000K4XT',\n",
       " 'B00000K4XW',\n",
       " 'B00000K4XZ',\n",
       " 'B00000K4Y7',\n",
       " 'B00000K4YE',\n",
       " 'B00000K4YH',\n",
       " 'B00000K4YJ',\n",
       " 'B00000K50S',\n",
       " 'B00000K50T',\n",
       " 'B00000K50Z',\n",
       " 'B00000K510',\n",
       " 'B00000K511',\n",
       " 'B00000K513',\n",
       " 'B00000K514',\n",
       " 'B00000K516',\n",
       " 'B00000K518',\n",
       " 'B00000K51C',\n",
       " 'B00000K57N',\n",
       " 'B00000K57P',\n",
       " 'B00000K57S',\n",
       " 'B00000K58S',\n",
       " 'B00000K594',\n",
       " 'B00000K599',\n",
       " 'B00000K5D8',\n",
       " 'B00000PLUW',\n",
       " 'B00000SWOY',\n",
       " 'B00000SZZV',\n",
       " 'B00000T94P',\n",
       " 'B00000TBQQ',\n",
       " 'B00000TFLN',\n",
       " 'B00001IVB3',\n",
       " 'B00001IVB4',\n",
       " 'B00001IVB6',\n",
       " 'B00001IVB8',\n",
       " 'B00001IVBA',\n",
       " 'B00001IVCC',\n",
       " 'B00001IVGE',\n",
       " 'B00001IVLY',\n",
       " 'B00001IVR8',\n",
       " 'B00001IVR9',\n",
       " 'B00001IVRD',\n",
       " 'B00001IVU8',\n",
       " 'B00001IVUB',\n",
       " 'B00001IVUC',\n",
       " 'B00001IVUN',\n",
       " 'B00001IVUO',\n",
       " 'B00001IVVJ',\n",
       " 'B00001IVWH',\n",
       " 'B00001JTEW',\n",
       " 'B00001JZMQ',\n",
       " 'B00001KHPX',\n",
       " 'B00001KN0C',\n",
       " 'B00001KRTG',\n",
       " 'B00001KUII',\n",
       " 'B00001KWS2',\n",
       " 'B00001L2BT',\n",
       " 'B00001L5TD',\n",
       " 'B00001LAE2',\n",
       " 'B00001LC25',\n",
       " 'B00001LCD6',\n",
       " 'B00001LCD8',\n",
       " 'B00001LCD9',\n",
       " 'B00001LCDB',\n",
       " 'B00001LCDC',\n",
       " 'B00001LCDD',\n",
       " 'B00001LCDE',\n",
       " 'B00001LCDF',\n",
       " 'B00001LCDG',\n",
       " 'B00001LCDH',\n",
       " 'B00001LCDI',\n",
       " 'B00001LCDK',\n",
       " 'B00001LCDL',\n",
       " 'B00001LCDM',\n",
       " 'B00001LCDN',\n",
       " 'B00001LCDO',\n",
       " 'B00001LCDP',\n",
       " 'B00001LDBR',\n",
       " 'B00001LDBT',\n",
       " 'B00001LDBU',\n",
       " 'B00001LDBW',\n",
       " 'B00001LDBY',\n",
       " 'B00001LDBZ',\n",
       " 'B00001LDC1',\n",
       " 'B00001LDC2',\n",
       " 'B00001LDC3',\n",
       " 'B00001LDC4',\n",
       " 'B00001LDC5',\n",
       " 'B00001LDC7',\n",
       " 'B00001LDC8',\n",
       " 'B00001LDC9',\n",
       " 'B00001LDCC',\n",
       " 'B00001LDCD',\n",
       " 'B00001LDCE',\n",
       " 'B00001LDCK',\n",
       " 'B00001LDCN',\n",
       " 'B00001LDCP',\n",
       " 'B00001LDD4',\n",
       " 'B00001LDD5',\n",
       " 'B00001LDDB',\n",
       " 'B00001N2M5',\n",
       " 'B00001N2M9',\n",
       " 'B00001N2MI',\n",
       " 'B00001N2ML',\n",
       " 'B00001N2MM',\n",
       " 'B00001N2MP',\n",
       " 'B00001N2MT',\n",
       " 'B00001N2MU',\n",
       " 'B00001N2N6',\n",
       " 'B00001N2OM',\n",
       " 'B00001N2OQ',\n",
       " 'B00001N2OU',\n",
       " 'B00001N2P1',\n",
       " 'B00001N2P5',\n",
       " 'B00001NFDK',\n",
       " 'B00001NFQW',\n",
       " 'B00001NFRB',\n",
       " 'B00001NFRP',\n",
       " 'B00001NFRQ',\n",
       " 'B00001NFS5',\n",
       " 'B00001NFSW',\n",
       " 'B00001NFSY',\n",
       " 'B00001NFSZ',\n",
       " 'B00001NFTS',\n",
       " 'B00001NFTY',\n",
       " 'B00001NFUA',\n",
       " 'B00001NFUZ',\n",
       " 'B00001NFVB',\n",
       " 'B00001NFVI',\n",
       " 'B00001NFVK',\n",
       " 'B00001NTGW',\n",
       " 'B00001NTRZ',\n",
       " 'B00001NTSG',\n",
       " 'B00001NTSH',\n",
       " 'B00001NTSI',\n",
       " 'B00001NTSL',\n",
       " 'B00001NTSN',\n",
       " 'B00001NTSO',\n",
       " 'B00001NTSP',\n",
       " 'B00001OHC1',\n",
       " 'B00001OHDA',\n",
       " 'B00001OHE7',\n",
       " 'B00001OPJB',\n",
       " 'B00001OPJD',\n",
       " 'B00001OPJE',\n",
       " 'B00001OPJF',\n",
       " 'B00001OPJG',\n",
       " 'B00001OPJK',\n",
       " 'B00001OPJN',\n",
       " 'B00001OPJO',\n",
       " 'B00001OWYK',\n",
       " 'B00001OWYL',\n",
       " 'B00001OWYN',\n",
       " 'B00001OWYP',\n",
       " 'B00001OWYQ',\n",
       " 'B00001OWYW',\n",
       " 'B00001OWYX',\n",
       " 'B00001OX1O',\n",
       " 'B00001OX1R',\n",
       " 'B00001OX3H',\n",
       " 'B00001OX3M',\n",
       " 'B00001OX3R',\n",
       " 'B00001OX3S',\n",
       " 'B00001OX3U',\n",
       " 'B00001OX3V',\n",
       " 'B00001OX3X',\n",
       " 'B00001OX3Y',\n",
       " 'B00001OX3Z',\n",
       " 'B00001OX40',\n",
       " 'B00001OX42',\n",
       " 'B00001OX43',\n",
       " 'B00001OX4H',\n",
       " 'B00001OX4N',\n",
       " 'B00001OX4R',\n",
       " 'B00001OX4T',\n",
       " 'B00001OX4W',\n",
       " 'B00001P4QN',\n",
       " 'B00001P4VP',\n",
       " 'B00001P4Y6',\n",
       " 'B00001P4Y9',\n",
       " 'B00001P4YN',\n",
       " 'B00001QECH',\n",
       " 'B00001QECO',\n",
       " 'B00001QECQ',\n",
       " 'B00001QECT',\n",
       " 'B00001QECX',\n",
       " 'B00001QED2',\n",
       " 'B00001QED5',\n",
       " 'B00001QEEC',\n",
       " 'B00001QEED',\n",
       " 'B00001QEM1',\n",
       " 'B00001QEOZ',\n",
       " 'B00001QEP3',\n",
       " 'B00001QEP5',\n",
       " 'B00001QEP6',\n",
       " 'B00001QEP7',\n",
       " 'B00001QEP9',\n",
       " 'B00001QEPC',\n",
       " 'B00001QEPG',\n",
       " 'B00001QEPQ',\n",
       " 'B00001QEPR',\n",
       " 'B00001QEPV',\n",
       " 'B00001QEPY',\n",
       " 'B00001QEQ1',\n",
       " 'B00001QEQ8',\n",
       " 'B00001QEQ9',\n",
       " 'B00001QEQA',\n",
       " 'B00001QEQB',\n",
       " 'B00001QEQD',\n",
       " 'B00001QEQL',\n",
       " 'B00001QEQQ',\n",
       " 'B00001QEQS',\n",
       " 'B00001QEQW',\n",
       " 'B00001QEQX',\n",
       " 'B00001QEQZ',\n",
       " 'B00001QER3',\n",
       " 'B00001QER6',\n",
       " 'B00001QER9',\n",
       " 'B00001QERC',\n",
       " 'B00001QERD',\n",
       " 'B00001QERF',\n",
       " 'B00001QERH',\n",
       " 'B00001QERI',\n",
       " 'B00001QERM',\n",
       " 'B00001QERO',\n",
       " 'B00001QERU',\n",
       " 'B00001QERY',\n",
       " 'B00001QES0',\n",
       " 'B00001QHVN',\n",
       " 'B00001QHVS',\n",
       " 'B00001QHW5',\n",
       " 'B00001QHW7',\n",
       " 'B00001QHW9',\n",
       " 'B00001QHWH',\n",
       " 'B00001QHWI',\n",
       " 'B00001QHWM',\n",
       " 'B00001QHWT',\n",
       " 'B00001QHX0',\n",
       " 'B00001QHX6',\n",
       " 'B00001QHXE',\n",
       " 'B00001QHXM',\n",
       " 'B00001QHXS',\n",
       " 'B00001QHXZ',\n",
       " 'B00001QHY4',\n",
       " 'B00001QHY6',\n",
       " 'B00001QHY8',\n",
       " 'B00001QHYE',\n",
       " 'B00001QHYJ',\n",
       " 'B00001QHYM',\n",
       " 'B00001R3OH',\n",
       " 'B00001R3PC',\n",
       " 'B00001R3Q3',\n",
       " 'B00001R3QN',\n",
       " 'B00001R3X7',\n",
       " 'B00001R3XA',\n",
       " 'B00001R3XC',\n",
       " 'B00001R3XH',\n",
       " 'B00001R3XI',\n",
       " 'B00001R3XK',\n",
       " 'B00001SHGB',\n",
       " 'B00001SHII',\n",
       " 'B00001SHJR',\n",
       " 'B00001SHM5',\n",
       " 'B00001SHMP',\n",
       " 'B00001SHMV',\n",
       " 'B00001SHMY',\n",
       " 'B00001SHN0',\n",
       " 'B00001SHN2',\n",
       " 'B00001SHN4',\n",
       " 'B00001SHN5',\n",
       " 'B00001SHN6',\n",
       " 'B00001SHN8',\n",
       " 'B00001SHNA',\n",
       " 'B00001SHNE',\n",
       " 'B00001SHNG',\n",
       " 'B00001SHNL',\n",
       " 'B00001SHNN',\n",
       " 'B00001SHNO',\n",
       " 'B00001SHOC',\n",
       " 'B00001SHOF',\n",
       " 'B00001SHON',\n",
       " 'B00001SHOU',\n",
       " 'B00001SVDE',\n",
       " 'B00001SVE0',\n",
       " 'B00001SVE2',\n",
       " 'B00001SVE6',\n",
       " 'B00001SVEC',\n",
       " 'B00001SVI4',\n",
       " 'B00001SVI8',\n",
       " 'B00001SVI9',\n",
       " 'B00001T37S',\n",
       " 'B00001TQ0R',\n",
       " 'B00001TZYA',\n",
       " 'B00001TZYB',\n",
       " 'B00001TZYD',\n",
       " 'B00001TZYF',\n",
       " 'B00001W0DY',\n",
       " 'B00001W0E6',\n",
       " 'B00001W0HB',\n",
       " 'B00001W0HL',\n",
       " 'B00001W0I3',\n",
       " 'B00001W0IS',\n",
       " 'B00001W0IY',\n",
       " 'B00001W0J2',\n",
       " 'B00001W0J6',\n",
       " 'B00001W0J7',\n",
       " 'B00001W0JC',\n",
       " 'B00001W0KD',\n",
       " 'B00001WBQ9',\n",
       " 'B00001WQHN',\n",
       " 'B00001WQHO',\n",
       " 'B00001WQHQ',\n",
       " 'B00001WQHT',\n",
       " 'B00001WQHU',\n",
       " 'B00001WQHX',\n",
       " 'B00001WQI5',\n",
       " 'B00001WQIP',\n",
       " 'B00001WQIR',\n",
       " 'B00001WQIS',\n",
       " 'B00001WQIT',\n",
       " 'B00001WQIY',\n",
       " 'B00001WQJ0',\n",
       " 'B00001WQJ1',\n",
       " 'B00001WRHW',\n",
       " 'B00001WRIA',\n",
       " 'B00001WRIM',\n",
       " 'B00001WRIU',\n",
       " 'B00001WRJ1',\n",
       " 'B00001WRJ6',\n",
       " 'B00001WRJE',\n",
       " 'B00001WRJM',\n",
       " 'B00001WRJO',\n",
       " 'B00001WRJP',\n",
       " 'B00001WROT',\n",
       " 'B00001WROX',\n",
       " 'B00001WRSK',\n",
       " 'B00001WRSN',\n",
       " 'B00001WRSO',\n",
       " 'B00001WRSY',\n",
       " 'B00001WRT0',\n",
       " 'B00001WRT2',\n",
       " 'B00001X4Z3',\n",
       " 'B00001X4Z4',\n",
       " 'B00001X4ZA',\n",
       " 'B00001X4ZF',\n",
       " 'B00001X50E',\n",
       " 'B00001X50J',\n",
       " 'B00001X50L',\n",
       " 'B00001X50M',\n",
       " 'B00001X50N',\n",
       " 'B00001X50Q',\n",
       " 'B00001X50R',\n",
       " 'B00001X50U',\n",
       " 'B00001X50Y',\n",
       " 'B00001X510',\n",
       " 'B00001X53P',\n",
       " 'B00001X5BE',\n",
       " 'B00001X5BU',\n",
       " 'B00001X5C1',\n",
       " 'B00001X5C3',\n",
       " 'B00001X5CE',\n",
       " 'B00001X5CG',\n",
       " 'B00001X5CL',\n",
       " 'B00001XDJY',\n",
       " 'B00001XDJZ',\n",
       " 'B00001XDK0',\n",
       " 'B00001XDK1',\n",
       " 'B00001XDK3',\n",
       " 'B00001XDK5',\n",
       " 'B00001XDK8',\n",
       " 'B00001XDK9',\n",
       " 'B00001XDKC',\n",
       " 'B00001XDKD',\n",
       " 'B00001XDKE',\n",
       " 'B00001XDKF',\n",
       " 'B00001XDKH',\n",
       " 'B00001XDKJ',\n",
       " 'B00001XDKK',\n",
       " 'B00001XDKL',\n",
       " 'B00001XDKM',\n",
       " 'B00001XDKO',\n",
       " 'B00001XDRA',\n",
       " 'B00001XDTJ',\n",
       " 'B00001XDTK',\n",
       " 'B00001XDTL',\n",
       " 'B00001XDTM',\n",
       " 'B00001XDTN',\n",
       " 'B00001XDTO',\n",
       " 'B00001XDTP',\n",
       " 'B00001XDTQ',\n",
       " 'B00001XDTR',\n",
       " 'B00001XDTT',\n",
       " 'B00001XDTU',\n",
       " 'B00001XDTY',\n",
       " 'B00001XDTZ',\n",
       " 'B00001XDU2',\n",
       " 'B00001XDU6',\n",
       " 'B00001XDUB',\n",
       " 'B00001XDV2',\n",
       " 'B00001XDV4',\n",
       " 'B00001XDVL',\n",
       " 'B00001XDVT',\n",
       " 'B00001XDVZ',\n",
       " 'B00001XDWI',\n",
       " 'B00001XDWK',\n",
       " 'B00001XDXN',\n",
       " 'B00001XDZD',\n",
       " 'B00001XE0V',\n",
       " 'B00001YVB5',\n",
       " 'B00001YVB6',\n",
       " 'B00001YVB7',\n",
       " 'B00001YVBH',\n",
       " 'B00001YVBK',\n",
       " 'B00001YVBL',\n",
       " 'B00001YVBM',\n",
       " 'B00001YVBN',\n",
       " 'B00001YVFK',\n",
       " 'B00001YVGT',\n",
       " 'B00001YVGV',\n",
       " 'B00001YVHR',\n",
       " 'B00001YVI4',\n",
       " 'B00001YVIB',\n",
       " 'B00001YVIE',\n",
       " 'B00001YVIJ',\n",
       " 'B00001YVIO',\n",
       " 'B00001YVIW',\n",
       " 'B00001ZT3J',\n",
       " 'B00001ZT3K',\n",
       " 'B00001ZT3L',\n",
       " 'B00001ZT3P',\n",
       " 'B00001ZT3Q',\n",
       " 'B00001ZT3S',\n",
       " 'B00001ZT3U',\n",
       " 'B00001ZT3V',\n",
       " 'B00001ZT3X',\n",
       " 'B00001ZT3Z',\n",
       " 'B00001ZT40',\n",
       " 'B00001ZT43',\n",
       " 'B00001ZT45',\n",
       " 'B00001ZT46',\n",
       " 'B00001ZT47',\n",
       " 'B00001ZT48',\n",
       " 'B00001ZT4A',\n",
       " 'B00001ZT4C',\n",
       " 'B00001ZT4J',\n",
       " 'B00001ZT4L',\n",
       " 'B00001ZT4R',\n",
       " 'B00001ZT4T',\n",
       " 'B00001ZT4Z',\n",
       " 'B00001ZT50',\n",
       " 'B00001ZT53',\n",
       " 'B00001ZT55',\n",
       " 'B00001ZT57',\n",
       " 'B00001ZT59',\n",
       " 'B00001ZT77',\n",
       " 'B00001ZT7T',\n",
       " 'B00001ZT9E',\n",
       " 'B00001ZUGG',\n",
       " 'B00001ZUGL',\n",
       " ...]"
      ]
     },
     "execution_count": 457,
     "metadata": {},
     "output_type": "execute_result"
    }
   ],
   "source": [
    "test.tolist()"
   ]
  },
  {
   "cell_type": "code",
   "execution_count": null,
   "metadata": {},
   "outputs": [],
   "source": []
  },
  {
   "cell_type": "markdown",
   "metadata": {},
   "source": [
    "[Back to top](#SAVESPOTS) <br>"
   ]
  },
  {
   "cell_type": "code",
   "execution_count": 44,
   "metadata": {},
   "outputs": [],
   "source": [
    "from scipy import sparse\n",
    "from sklearn.metrics.pairwise import cosine_similarity"
   ]
  },
  {
   "cell_type": "code",
   "execution_count": 319,
   "metadata": {},
   "outputs": [],
   "source": [
    "#load up asin titles to get asin id corresponding with title\n",
    "asin_title=pd.read_csv('Data/asin_title.csv', index_col=0)\n",
    "#remove products messed up titles\n",
    "asin_title = asin_title[asin_title['title'].str.len()<1000]"
   ]
  },
  {
   "cell_type": "code",
   "execution_count": 338,
   "metadata": {},
   "outputs": [],
   "source": [
    "asin_title.to_csv('Data/asin_title.csv')"
   ]
  },
  {
   "cell_type": "code",
   "execution_count": 334,
   "metadata": {},
   "outputs": [
    {
     "data": {
      "text/plain": [
       "array(['0042000742', '0078764343', '0276425316', ..., 'B01HJ14OT0',\n",
       "       'B01HJC33WS', 'B01HJEBIAA'], dtype=object)"
      ]
     },
     "execution_count": 334,
     "metadata": {},
     "output_type": "execute_result"
    }
   ],
   "source": [
    "#get uniq asin from new smaller table that has good titles\n",
    "uniq_asin = asin_title['asin'].unique()\n",
    "uniq_asin"
   ]
  },
  {
   "cell_type": "code",
   "execution_count": 324,
   "metadata": {},
   "outputs": [],
   "source": [
    "#load rating table\n",
    "rating_table = pd.read_csv('Data/rating_table.csv', index_col=0)\n",
    "#get the same asin as the ones seen with usable titles\n",
    "rating_table[rating_table['asin'].isin(uniq_asin)]"
   ]
  },
  {
   "cell_type": "code",
   "execution_count": 339,
   "metadata": {},
   "outputs": [],
   "source": [
    "rating_table.to_csv('Data/rating_table.csv')"
   ]
  },
  {
   "cell_type": "code",
   "execution_count": 346,
   "metadata": {},
   "outputs": [],
   "source": [
    "rating_table = rating_table.fillna(0)"
   ]
  },
  {
   "cell_type": "code",
   "execution_count": 347,
   "metadata": {},
   "outputs": [],
   "source": [
    "#used to standardize the ratings\n",
    "def standardize(row):\n",
    "    new_row = (row - row.mean()) / (row.max() - row.min())\n",
    "    return new_row"
   ]
  },
  {
   "cell_type": "code",
   "execution_count": 349,
   "metadata": {},
   "outputs": [],
   "source": [
    "#standardize all the rating values in pivoted table\n",
    "ratings_std = rating_table.apply(standardize)"
   ]
  },
  {
   "cell_type": "code",
   "execution_count": 350,
   "metadata": {},
   "outputs": [],
   "source": [
    "#work with a smaller amount of reviews because of time\n",
    "#cut down amount of rows of users\n",
    "smaller_ratings_std = ratings_std[:20000]"
   ]
  },
  {
   "cell_type": "code",
   "execution_count": 351,
   "metadata": {
    "scrolled": false
   },
   "outputs": [
    {
     "name": "stdout",
     "output_type": "stream",
     "text": [
      "[[ 1.00000000e+00 -7.49128190e-05 -8.69785526e-05 ... -1.32490974e-04\n",
      "  -1.52094674e-04 -3.01920870e-03]\n",
      " [-7.49128190e-05  1.00000000e+00 -5.04740237e-05 ... -7.08314822e-05\n",
      "  -1.34046654e-04 -3.87430580e-03]\n",
      " [-8.69785526e-05 -5.04740237e-05  1.00000000e+00 ... -8.14411555e-05\n",
      "  -4.73481284e-05  1.21802259e-04]\n",
      " ...\n",
      " [-1.32490974e-04 -7.08314822e-05 -8.14411555e-05 ...  1.00000000e+00\n",
      "  -1.38697869e-04 -2.65484939e-03]\n",
      " [-1.52094674e-04 -1.34046654e-04 -4.73481284e-05 ... -1.38697869e-04\n",
      "   1.00000000e+00  2.16958348e-02]\n",
      " [-3.01920870e-03 -3.87430580e-03  1.21802259e-04 ... -2.65484939e-03\n",
      "   2.16958348e-02  1.00000000e+00]]\n"
     ]
    }
   ],
   "source": [
    "#get cosine_similarity of itmes\n",
    "item_similarity = cosine_similarity(smaller_ratings_std.T)\n",
    "print(item_similarity)"
   ]
  },
  {
   "cell_type": "code",
   "execution_count": 352,
   "metadata": {},
   "outputs": [],
   "source": [
    "#save item_similarity\n",
    "np.save('Data/item_similarity', item_similarity)\n",
    "#VERY IMPORTANT DOCUMENT"
   ]
  },
  {
   "cell_type": "code",
   "execution_count": 8,
   "metadata": {
    "scrolled": true
   },
   "outputs": [],
   "source": [
    "#TODO\n",
    "asin_title = pd.read_csv('Data/asin_title.csv', index_col=0)\n",
    "item_similarity = np.load('Data/item_similarity.npy')"
   ]
  },
  {
   "cell_type": "code",
   "execution_count": null,
   "metadata": {},
   "outputs": [],
   "source": [
    "# item_similarity_df = pd.DataFrame(item_similarity, item_similarity)"
   ]
  },
  {
   "cell_type": "code",
   "execution_count": 9,
   "metadata": {},
   "outputs": [
    {
     "data": {
      "text/html": [
       "<div>\n",
       "<style scoped>\n",
       "    .dataframe tbody tr th:only-of-type {\n",
       "        vertical-align: middle;\n",
       "    }\n",
       "\n",
       "    .dataframe tbody tr th {\n",
       "        vertical-align: top;\n",
       "    }\n",
       "\n",
       "    .dataframe thead th {\n",
       "        text-align: right;\n",
       "    }\n",
       "</style>\n",
       "<table border=\"1\" class=\"dataframe\">\n",
       "  <thead>\n",
       "    <tr style=\"text-align: right;\">\n",
       "      <th></th>\n",
       "      <th>title</th>\n",
       "      <th>asin</th>\n",
       "    </tr>\n",
       "  </thead>\n",
       "  <tbody>\n",
       "    <tr>\n",
       "      <th>11</th>\n",
       "      <td>BRAND NEW Learning Company Oregon Trail 5th Ed...</td>\n",
       "      <td>0439381673</td>\n",
       "    </tr>\n",
       "  </tbody>\n",
       "</table>\n",
       "</div>"
      ],
      "text/plain": [
       "                                                title        asin\n",
       "11  BRAND NEW Learning Company Oregon Trail 5th Ed...  0439381673"
      ]
     },
     "execution_count": 9,
     "metadata": {},
     "output_type": "execute_result"
    }
   ],
   "source": [
    "def asin_to_title(asin):\n",
    "    return asin_title[asin_title['asin']==asin]\n",
    "\n",
    "asin_to_title('0439381673')"
   ]
  },
  {
   "cell_type": "code",
   "execution_count": 13,
   "metadata": {},
   "outputs": [],
   "source": [
    "def recommendations_by_description(asin, show_correlation=False):\n",
    "        #then get the indices of it\n",
    "        indices = pd.Series(asin_title['asin'])\n",
    "        #initialize new list of things to recommend\n",
    "        recommended_items = []\n",
    "        #indices == 0 because it is 0 (because of temp df)\n",
    "        idx = indices[indices == asin].index[0]\n",
    "\n",
    "        #get scores based on consine similarity\n",
    "        score_series = pd.Series(item_similarity[int(idx)]).sort_values(ascending = False)\n",
    "\n",
    "        other_recommended =[]\n",
    "        top_10_indexes = score_series.iloc[1:11].index\n",
    "        for i in top_10_indexes:\n",
    "            product_title_asin = list(asin_title.index)[i]\n",
    "            recommended_items.append(asin_title.iloc[int(product_title_asin), 0])\n",
    "#             other_recommended.append(asin_title.iloc[i,0])\n",
    "        \n",
    "        return recommended_items#, other_recommended\n"
   ]
  },
  {
   "cell_type": "code",
   "execution_count": 18,
   "metadata": {},
   "outputs": [
    {
     "data": {
      "text/plain": [
       "['Squad Leader - PC',\n",
       " 'Radiant Historia - Nintendo DS',\n",
       " '3 Family Games. WizaredWorks Solitaire, Real Pool 3D Phto-Realistic Pool, and Great Jigsaw Puzzles CD-ROM',\n",
       " 'The Nightshift Code [Download]',\n",
       " 'James Bond 007 Agent Under Fire - PlayStation 2',\n",
       " 'Academy Of Champions Soccer - Nintendo Wii',\n",
       " 'NHL 2002 Xbox',\n",
       " 'Trainz - PC',\n",
       " 'Serious Sam: The First Encounter (Windows)',\n",
       " 'NHL 2K2']"
      ]
     },
     "execution_count": 18,
     "metadata": {},
     "output_type": "execute_result"
    }
   ],
   "source": [
    "recommendations_by_description('0439591538')"
   ]
  },
  {
   "cell_type": "code",
   "execution_count": 5,
   "metadata": {},
   "outputs": [],
   "source": [
    "asin_title = pd.read_csv('Data/asin_title.csv', index_col=0)"
   ]
  },
  {
   "cell_type": "code",
   "execution_count": 6,
   "metadata": {},
   "outputs": [
    {
     "data": {
      "text/html": [
       "<div>\n",
       "<style scoped>\n",
       "    .dataframe tbody tr th:only-of-type {\n",
       "        vertical-align: middle;\n",
       "    }\n",
       "\n",
       "    .dataframe tbody tr th {\n",
       "        vertical-align: top;\n",
       "    }\n",
       "\n",
       "    .dataframe thead th {\n",
       "        text-align: right;\n",
       "    }\n",
       "</style>\n",
       "<table border=\"1\" class=\"dataframe\">\n",
       "  <thead>\n",
       "    <tr style=\"text-align: right;\">\n",
       "      <th></th>\n",
       "      <th>title</th>\n",
       "      <th>asin</th>\n",
       "    </tr>\n",
       "  </thead>\n",
       "  <tbody>\n",
       "    <tr>\n",
       "      <th>0</th>\n",
       "      <td>Reversi Sensory Challenger</td>\n",
       "      <td>0042000742</td>\n",
       "    </tr>\n",
       "    <tr>\n",
       "      <th>1</th>\n",
       "      <td>Medal of Honor: Warfighter - Includes Battlefi...</td>\n",
       "      <td>0078764343</td>\n",
       "    </tr>\n",
       "    <tr>\n",
       "      <th>2</th>\n",
       "      <td>street fighter 2 II turbo super nintendo snes ...</td>\n",
       "      <td>0276425316</td>\n",
       "    </tr>\n",
       "    <tr>\n",
       "      <th>3</th>\n",
       "      <td>Xbox 360 MAS STICK</td>\n",
       "      <td>0324411812</td>\n",
       "    </tr>\n",
       "    <tr>\n",
       "      <th>4</th>\n",
       "      <td>Phonics Alive! 3: The Speller</td>\n",
       "      <td>0439335310</td>\n",
       "    </tr>\n",
       "  </tbody>\n",
       "</table>\n",
       "</div>"
      ],
      "text/plain": [
       "                                               title        asin\n",
       "0                         Reversi Sensory Challenger  0042000742\n",
       "1  Medal of Honor: Warfighter - Includes Battlefi...  0078764343\n",
       "2  street fighter 2 II turbo super nintendo snes ...  0276425316\n",
       "3                                 Xbox 360 MAS STICK  0324411812\n",
       "4                      Phonics Alive! 3: The Speller  0439335310"
      ]
     },
     "execution_count": 6,
     "metadata": {},
     "output_type": "execute_result"
    }
   ],
   "source": [
    "asin_title.head()"
   ]
  },
  {
   "cell_type": "code",
   "execution_count": 7,
   "metadata": {},
   "outputs": [
    {
     "data": {
      "text/html": [
       "<div>\n",
       "<style scoped>\n",
       "    .dataframe tbody tr th:only-of-type {\n",
       "        vertical-align: middle;\n",
       "    }\n",
       "\n",
       "    .dataframe tbody tr th {\n",
       "        vertical-align: top;\n",
       "    }\n",
       "\n",
       "    .dataframe thead th {\n",
       "        text-align: right;\n",
       "    }\n",
       "</style>\n",
       "<table border=\"1\" class=\"dataframe\">\n",
       "  <thead>\n",
       "    <tr style=\"text-align: right;\">\n",
       "      <th></th>\n",
       "      <th>title</th>\n",
       "      <th>asin</th>\n",
       "    </tr>\n",
       "  </thead>\n",
       "  <tbody>\n",
       "  </tbody>\n",
       "</table>\n",
       "</div>"
      ],
      "text/plain": [
       "Empty DataFrame\n",
       "Columns: [title, asin]\n",
       "Index: []"
      ]
     },
     "execution_count": 7,
     "metadata": {},
     "output_type": "execute_result"
    }
   ],
   "source": [
    "asin_title[asin_title['asin']=='B01MS6MO77']"
   ]
  },
  {
   "cell_type": "code",
   "execution_count": 91,
   "metadata": {},
   "outputs": [],
   "source": [
    "simple_videogames = pd.read_csv('Data/simple_videogames.csv', index_col=0)"
   ]
  },
  {
   "cell_type": "code",
   "execution_count": 50,
   "metadata": {
    "scrolled": false
   },
   "outputs": [
    {
     "data": {
      "text/html": [
       "<div>\n",
       "<style scoped>\n",
       "    .dataframe tbody tr th:only-of-type {\n",
       "        vertical-align: middle;\n",
       "    }\n",
       "\n",
       "    .dataframe tbody tr th {\n",
       "        vertical-align: top;\n",
       "    }\n",
       "\n",
       "    .dataframe thead th {\n",
       "        text-align: right;\n",
       "    }\n",
       "</style>\n",
       "<table border=\"1\" class=\"dataframe\">\n",
       "  <thead>\n",
       "    <tr style=\"text-align: right;\">\n",
       "      <th></th>\n",
       "      <th>title</th>\n",
       "      <th>asin</th>\n",
       "    </tr>\n",
       "  </thead>\n",
       "  <tbody>\n",
       "    <tr>\n",
       "      <th>0</th>\n",
       "      <td>Reversi Sensory Challenger</td>\n",
       "      <td>0042000742</td>\n",
       "    </tr>\n",
       "    <tr>\n",
       "      <th>1</th>\n",
       "      <td>Medal of Honor: Warfighter - Includes Battlefi...</td>\n",
       "      <td>0078764343</td>\n",
       "    </tr>\n",
       "    <tr>\n",
       "      <th>2</th>\n",
       "      <td>street fighter 2 II turbo super nintendo snes ...</td>\n",
       "      <td>0276425316</td>\n",
       "    </tr>\n",
       "    <tr>\n",
       "      <th>3</th>\n",
       "      <td>Xbox 360 MAS STICK</td>\n",
       "      <td>0324411812</td>\n",
       "    </tr>\n",
       "    <tr>\n",
       "      <th>4</th>\n",
       "      <td>Phonics Alive! 3: The Speller</td>\n",
       "      <td>0439335310</td>\n",
       "    </tr>\n",
       "  </tbody>\n",
       "</table>\n",
       "</div>"
      ],
      "text/plain": [
       "                                               title        asin\n",
       "0                         Reversi Sensory Challenger  0042000742\n",
       "1  Medal of Honor: Warfighter - Includes Battlefi...  0078764343\n",
       "2  street fighter 2 II turbo super nintendo snes ...  0276425316\n",
       "3                                 Xbox 360 MAS STICK  0324411812\n",
       "4                      Phonics Alive! 3: The Speller  0439335310"
      ]
     },
     "execution_count": 50,
     "metadata": {},
     "output_type": "execute_result"
    }
   ],
   "source": [
    "asin_title.head()"
   ]
  },
  {
   "cell_type": "code",
   "execution_count": 51,
   "metadata": {},
   "outputs": [
    {
     "data": {
      "text/plain": [
       "(70772, 2)"
      ]
     },
     "execution_count": 51,
     "metadata": {},
     "output_type": "execute_result"
    }
   ],
   "source": [
    "asin_title.shape"
   ]
  },
  {
   "cell_type": "markdown",
   "metadata": {},
   "source": [
    "# Solving Cold Start"
   ]
  },
  {
   "cell_type": "code",
   "execution_count": 48,
   "metadata": {},
   "outputs": [],
   "source": [
    "#load simple reviews csv\n",
    "simple_reviews = pd.read_csv('Data/simple_reviews.csv', index_col=0)\n"
   ]
  },
  {
   "cell_type": "code",
   "execution_count": 82,
   "metadata": {},
   "outputs": [],
   "source": [
    "asin_list = asin_title['asin'].unique()"
   ]
  },
  {
   "cell_type": "code",
   "execution_count": 83,
   "metadata": {},
   "outputs": [],
   "source": [
    "#Get average rating of each asin\n",
    "ratings_count = simple_reviews.groupby('asin')['rating'].count()\n",
    "ratings_count = ratings_count[ratings_count.index.isin(asin_list)]"
   ]
  },
  {
   "cell_type": "code",
   "execution_count": 135,
   "metadata": {
    "scrolled": true
   },
   "outputs": [
    {
     "data": {
      "text/html": [
       "<div>\n",
       "<style scoped>\n",
       "    .dataframe tbody tr th:only-of-type {\n",
       "        vertical-align: middle;\n",
       "    }\n",
       "\n",
       "    .dataframe tbody tr th {\n",
       "        vertical-align: top;\n",
       "    }\n",
       "\n",
       "    .dataframe thead th {\n",
       "        text-align: right;\n",
       "    }\n",
       "</style>\n",
       "<table border=\"1\" class=\"dataframe\">\n",
       "  <thead>\n",
       "    <tr style=\"text-align: right;\">\n",
       "      <th></th>\n",
       "      <th>Unnamed: 0.1</th>\n",
       "      <th>rank</th>\n",
       "      <th>asin</th>\n",
       "      <th>description</th>\n",
       "      <th>platform</th>\n",
       "      <th>rating</th>\n",
       "    </tr>\n",
       "  </thead>\n",
       "  <tbody>\n",
       "    <tr>\n",
       "      <th>0</th>\n",
       "      <td>0</td>\n",
       "      <td>2623937.0</td>\n",
       "      <td>0042000742</td>\n",
       "      <td>Reversi Sensory Challenger Fidelity Electronic...</td>\n",
       "      <td>PC</td>\n",
       "      <td>5.00</td>\n",
       "    </tr>\n",
       "    <tr>\n",
       "      <th>1</th>\n",
       "      <td>1</td>\n",
       "      <td>67231.0</td>\n",
       "      <td>0078764343</td>\n",
       "      <td>Medal of Honor: Warfighter - Includes Battlefi...</td>\n",
       "      <td>Xbox360</td>\n",
       "      <td>4.75</td>\n",
       "    </tr>\n",
       "  </tbody>\n",
       "</table>\n",
       "</div>"
      ],
      "text/plain": [
       "   Unnamed: 0.1       rank        asin  \\\n",
       "0             0  2623937.0  0042000742   \n",
       "1             1    67231.0  0078764343   \n",
       "\n",
       "                                         description platform  rating  \n",
       "0  Reversi Sensory Challenger Fidelity Electronic...       PC    5.00  \n",
       "1  Medal of Honor: Warfighter - Includes Battlefi...  Xbox360    4.75  "
      ]
     },
     "execution_count": 135,
     "metadata": {},
     "output_type": "execute_result"
    }
   ],
   "source": [
    "simple_videogames.head(2)"
   ]
  },
  {
   "cell_type": "code",
   "execution_count": 100,
   "metadata": {
    "scrolled": false
   },
   "outputs": [
    {
     "data": {
      "text/plain": [
       "array([ 1,  4,  1, ...,  1, 22, 30])"
      ]
     },
     "execution_count": 100,
     "metadata": {},
     "output_type": "execute_result"
    }
   ],
   "source": [
    "ratings_count.values"
   ]
  },
  {
   "cell_type": "code",
   "execution_count": 96,
   "metadata": {},
   "outputs": [],
   "source": [
    "test = simple_videogames[simple_videogames['asin'].isin(asin_list)]"
   ]
  },
  {
   "cell_type": "code",
   "execution_count": 101,
   "metadata": {},
   "outputs": [],
   "source": [
    "test['ratings_count'] = ratings_count.values"
   ]
  },
  {
   "cell_type": "markdown",
   "metadata": {},
   "source": [
    "## PC"
   ]
  },
  {
   "cell_type": "code",
   "execution_count": 103,
   "metadata": {},
   "outputs": [],
   "source": [
    "PC = test[test['platform']=='PC']"
   ]
  },
  {
   "cell_type": "code",
   "execution_count": 134,
   "metadata": {
    "scrolled": true
   },
   "outputs": [
    {
     "data": {
      "text/html": [
       "<div>\n",
       "<style scoped>\n",
       "    .dataframe tbody tr th:only-of-type {\n",
       "        vertical-align: middle;\n",
       "    }\n",
       "\n",
       "    .dataframe tbody tr th {\n",
       "        vertical-align: top;\n",
       "    }\n",
       "\n",
       "    .dataframe thead th {\n",
       "        text-align: right;\n",
       "    }\n",
       "</style>\n",
       "<table border=\"1\" class=\"dataframe\">\n",
       "  <thead>\n",
       "    <tr style=\"text-align: right;\">\n",
       "      <th></th>\n",
       "      <th>Unnamed: 0.1</th>\n",
       "      <th>rank</th>\n",
       "      <th>asin</th>\n",
       "      <th>description</th>\n",
       "      <th>platform</th>\n",
       "      <th>rating</th>\n",
       "      <th>ratings_count</th>\n",
       "    </tr>\n",
       "  </thead>\n",
       "  <tbody>\n",
       "    <tr>\n",
       "      <th>6</th>\n",
       "      <td>6</td>\n",
       "      <td>51505.0</td>\n",
       "      <td>043933702X</td>\n",
       "      <td>Need for Speed Porsche Unleashed Electronic Ar...</td>\n",
       "      <td>PC</td>\n",
       "      <td>3.857143</td>\n",
       "      <td>7</td>\n",
       "    </tr>\n",
       "    <tr>\n",
       "      <th>16</th>\n",
       "      <td>16</td>\n",
       "      <td>84589.0</td>\n",
       "      <td>0439573947</td>\n",
       "      <td>Need for Speed Racing Pack Scholastic / EA 3 G...</td>\n",
       "      <td>PC</td>\n",
       "      <td>4.166667</td>\n",
       "      <td>6</td>\n",
       "    </tr>\n",
       "  </tbody>\n",
       "</table>\n",
       "</div>"
      ],
      "text/plain": [
       "    Unnamed: 0.1     rank        asin  \\\n",
       "6              6  51505.0  043933702X   \n",
       "16            16  84589.0  0439573947   \n",
       "\n",
       "                                          description platform    rating  \\\n",
       "6   Need for Speed Porsche Unleashed Electronic Ar...       PC  3.857143   \n",
       "16  Need for Speed Racing Pack Scholastic / EA 3 G...       PC  4.166667   \n",
       "\n",
       "    ratings_count  \n",
       "6               7  \n",
       "16              6  "
      ]
     },
     "execution_count": 134,
     "metadata": {},
     "output_type": "execute_result"
    }
   ],
   "source": [
    "PC = PC[PC['rating']>3]\n",
    "PC = PC[PC['ratings_count']>5]\n",
    "PC.head(2)"
   ]
  },
  {
   "cell_type": "code",
   "execution_count": 139,
   "metadata": {},
   "outputs": [],
   "source": [
    "PC_asin = PC.sort_values(by=['rating','ratings_count'], ascending=False)['asin'][:5]\n"
   ]
  },
  {
   "cell_type": "markdown",
   "metadata": {},
   "source": [
    "## Mac"
   ]
  },
  {
   "cell_type": "code",
   "execution_count": 112,
   "metadata": {},
   "outputs": [],
   "source": [
    "Mac = test[test['platform']=='Mac']"
   ]
  },
  {
   "cell_type": "code",
   "execution_count": 136,
   "metadata": {
    "scrolled": true
   },
   "outputs": [
    {
     "data": {
      "text/html": [
       "<div>\n",
       "<style scoped>\n",
       "    .dataframe tbody tr th:only-of-type {\n",
       "        vertical-align: middle;\n",
       "    }\n",
       "\n",
       "    .dataframe tbody tr th {\n",
       "        vertical-align: top;\n",
       "    }\n",
       "\n",
       "    .dataframe thead th {\n",
       "        text-align: right;\n",
       "    }\n",
       "</style>\n",
       "<table border=\"1\" class=\"dataframe\">\n",
       "  <thead>\n",
       "    <tr style=\"text-align: right;\">\n",
       "      <th></th>\n",
       "      <th>Unnamed: 0.1</th>\n",
       "      <th>rank</th>\n",
       "      <th>asin</th>\n",
       "      <th>description</th>\n",
       "      <th>platform</th>\n",
       "      <th>rating</th>\n",
       "      <th>ratings_count</th>\n",
       "    </tr>\n",
       "  </thead>\n",
       "  <tbody>\n",
       "    <tr>\n",
       "      <th>11</th>\n",
       "      <td>11</td>\n",
       "      <td>5927.0</td>\n",
       "      <td>0439381673</td>\n",
       "      <td>BRAND NEW Learning Company Oregon Trail 5th Ed...</td>\n",
       "      <td>Mac</td>\n",
       "      <td>3.180000</td>\n",
       "      <td>50</td>\n",
       "    </tr>\n",
       "    <tr>\n",
       "      <th>13</th>\n",
       "      <td>13</td>\n",
       "      <td>56730.0</td>\n",
       "      <td>043940133X</td>\n",
       "      <td>Star Wars Math: Jabba's Game Galaxy Star Wars ...</td>\n",
       "      <td>Mac</td>\n",
       "      <td>3.555556</td>\n",
       "      <td>9</td>\n",
       "    </tr>\n",
       "  </tbody>\n",
       "</table>\n",
       "</div>"
      ],
      "text/plain": [
       "    Unnamed: 0.1     rank        asin  \\\n",
       "11            11   5927.0  0439381673   \n",
       "13            13  56730.0  043940133X   \n",
       "\n",
       "                                          description platform    rating  \\\n",
       "11  BRAND NEW Learning Company Oregon Trail 5th Ed...      Mac  3.180000   \n",
       "13  Star Wars Math: Jabba's Game Galaxy Star Wars ...      Mac  3.555556   \n",
       "\n",
       "    ratings_count  \n",
       "11             50  \n",
       "13              9  "
      ]
     },
     "execution_count": 136,
     "metadata": {},
     "output_type": "execute_result"
    }
   ],
   "source": [
    "Mac = Mac[Mac['rating']>3]\n",
    "Mac = Mac[Mac['ratings_count']>5]\n",
    "Mac.head(2)"
   ]
  },
  {
   "cell_type": "code",
   "execution_count": 169,
   "metadata": {},
   "outputs": [],
   "source": [
    "Mac_asin = Mac.sort_values(by=['rating','ratings_count'], ascending=False)['asin'][:5]\n"
   ]
  },
  {
   "cell_type": "code",
   "execution_count": 170,
   "metadata": {},
   "outputs": [
    {
     "data": {
      "text/plain": [
       "['Panzer Dragoon Zwei - Sega Saturn',\n",
       " 'Silent Hill 3 with Game Soundtrack CD',\n",
       " 'Heroes of Might and Magic III',\n",
       " 'Fighting Edition: Tekken 6 / Tag Tournament 2 / Soul Calibur V  - Playstation 3',\n",
       " 'Auawak Rapoo V300 Ergonomic APM Smart Breathing Light Built-in 32-bit 60MHz V-power3 Core Gaming Mouse for PC Laptops and Desktops - 4000DPI']"
      ]
     },
     "execution_count": 170,
     "metadata": {},
     "output_type": "execute_result"
    }
   ],
   "source": [
    "Mac_titles = []\n",
    "for i in Mac_asin:\n",
    "    Mac_titles.append(asin_title[asin_title['asin']==i]['title'].item())\n",
    "    \n",
    "Mac_titles"
   ]
  },
  {
   "cell_type": "markdown",
   "metadata": {},
   "source": [
    "## Xbox"
   ]
  },
  {
   "cell_type": "code",
   "execution_count": 111,
   "metadata": {},
   "outputs": [],
   "source": [
    "#Make list for all xbox related products\n",
    "xbox_list = ['xbox','xbox360','XboxOne']\n",
    "Xbox = test[test['platform'].isin(xbox_list)]"
   ]
  },
  {
   "cell_type": "code",
   "execution_count": 137,
   "metadata": {
    "scrolled": true
   },
   "outputs": [
    {
     "data": {
      "text/html": [
       "<div>\n",
       "<style scoped>\n",
       "    .dataframe tbody tr th:only-of-type {\n",
       "        vertical-align: middle;\n",
       "    }\n",
       "\n",
       "    .dataframe tbody tr th {\n",
       "        vertical-align: top;\n",
       "    }\n",
       "\n",
       "    .dataframe thead th {\n",
       "        text-align: right;\n",
       "    }\n",
       "</style>\n",
       "<table border=\"1\" class=\"dataframe\">\n",
       "  <thead>\n",
       "    <tr style=\"text-align: right;\">\n",
       "      <th></th>\n",
       "      <th>Unnamed: 0.1</th>\n",
       "      <th>rank</th>\n",
       "      <th>asin</th>\n",
       "      <th>description</th>\n",
       "      <th>platform</th>\n",
       "      <th>rating</th>\n",
       "      <th>ratings_count</th>\n",
       "    </tr>\n",
       "  </thead>\n",
       "  <tbody>\n",
       "    <tr>\n",
       "      <th>16454</th>\n",
       "      <td>16454</td>\n",
       "      <td>3451907.0</td>\n",
       "      <td>B000B6OR4I</td>\n",
       "      <td>Cyclops CYC-80RH 1 LED Utility Bore Light, Bla...</td>\n",
       "      <td>XboxOne</td>\n",
       "      <td>4.970588</td>\n",
       "      <td>170</td>\n",
       "    </tr>\n",
       "    <tr>\n",
       "      <th>19742</th>\n",
       "      <td>19742</td>\n",
       "      <td>9496.0</td>\n",
       "      <td>B000HVDEQO</td>\n",
       "      <td>Xbox Controller (Original Design) Microsoft Xb...</td>\n",
       "      <td>XboxOne</td>\n",
       "      <td>3.697368</td>\n",
       "      <td>76</td>\n",
       "    </tr>\n",
       "  </tbody>\n",
       "</table>\n",
       "</div>"
      ],
      "text/plain": [
       "       Unnamed: 0.1       rank        asin  \\\n",
       "16454         16454  3451907.0  B000B6OR4I   \n",
       "19742         19742     9496.0  B000HVDEQO   \n",
       "\n",
       "                                             description platform    rating  \\\n",
       "16454  Cyclops CYC-80RH 1 LED Utility Bore Light, Bla...  XboxOne  4.970588   \n",
       "19742  Xbox Controller (Original Design) Microsoft Xb...  XboxOne  3.697368   \n",
       "\n",
       "       ratings_count  \n",
       "16454            170  \n",
       "19742             76  "
      ]
     },
     "execution_count": 137,
     "metadata": {},
     "output_type": "execute_result"
    }
   ],
   "source": [
    "Xbox = Xbox[Xbox['rating']>3]\n",
    "Xbox = Xbox[Xbox['ratings_count']>5]\n",
    "Xbox.head(2)"
   ]
  },
  {
   "cell_type": "code",
   "execution_count": 141,
   "metadata": {},
   "outputs": [],
   "source": [
    "Xbox_asin = Xbox.sort_values(by=['rating','ratings_count'], ascending=False)['asin'][:5]\n"
   ]
  },
  {
   "cell_type": "code",
   "execution_count": 171,
   "metadata": {},
   "outputs": [
    {
     "data": {
      "text/plain": [
       "['[Newest 2019] Gaming Headset for Xbox One, S, PS4, PC with LED Soft Breathing Earmuffs, Adjustable Microphone, Comfortable Mute & Volume Control, 3.5mm Adapter for Laptop, PS3, Nintendo',\n",
       " 'Forza Horizon 2: VIP Membership - Xbox One Digital Code',\n",
       " 'Gam3Gear Aluminum Alloy Analog Thumbstick for Xbox ONE Green (Set of 2)',\n",
       " 'LEGO Marvel Avengers (Xbox One)',\n",
       " 'Monster Fiber Optic 450dfo Advanced Performance Audio Cable - English/French/Spanish (6.56 feet / 2 meters)']"
      ]
     },
     "execution_count": 171,
     "metadata": {},
     "output_type": "execute_result"
    }
   ],
   "source": [
    "Xbox_titles = []\n",
    "for i in Xbox_asin:\n",
    "    Xbox_titles.append(asin_title[asin_title['asin']==i]['title'].item())\n",
    "    \n",
    "Xbox_titles"
   ]
  },
  {
   "cell_type": "markdown",
   "metadata": {},
   "source": [
    "## Sony"
   ]
  },
  {
   "cell_type": "code",
   "execution_count": 109,
   "metadata": {},
   "outputs": [],
   "source": [
    "#Make list for all sony related products\n",
    "sony_list = ['PlayStation2','PlayStation3','PlayStation4','PlayStationVita','PlayStation','PSP']\n",
    "Sony = test[test['platform'].isin(sony_list)]\n"
   ]
  },
  {
   "cell_type": "code",
   "execution_count": 132,
   "metadata": {
    "scrolled": true
   },
   "outputs": [
    {
     "data": {
      "text/html": [
       "<div>\n",
       "<style scoped>\n",
       "    .dataframe tbody tr th:only-of-type {\n",
       "        vertical-align: middle;\n",
       "    }\n",
       "\n",
       "    .dataframe tbody tr th {\n",
       "        vertical-align: top;\n",
       "    }\n",
       "\n",
       "    .dataframe thead th {\n",
       "        text-align: right;\n",
       "    }\n",
       "</style>\n",
       "<table border=\"1\" class=\"dataframe\">\n",
       "  <thead>\n",
       "    <tr style=\"text-align: right;\">\n",
       "      <th></th>\n",
       "      <th>Unnamed: 0.1</th>\n",
       "      <th>rank</th>\n",
       "      <th>asin</th>\n",
       "      <th>description</th>\n",
       "      <th>platform</th>\n",
       "      <th>rating</th>\n",
       "      <th>ratings_count</th>\n",
       "    </tr>\n",
       "  </thead>\n",
       "  <tbody>\n",
       "    <tr>\n",
       "      <th>75</th>\n",
       "      <td>75</td>\n",
       "      <td>2794.0</td>\n",
       "      <td>1770947841</td>\n",
       "      <td>Mafia 3 (PS4) PS4 Its 1968 and the rules have ...</td>\n",
       "      <td>PlayStation4</td>\n",
       "      <td>4.142857</td>\n",
       "      <td>7</td>\n",
       "    </tr>\n",
       "    <tr>\n",
       "      <th>148</th>\n",
       "      <td>148</td>\n",
       "      <td>96025.0</td>\n",
       "      <td>9629551462</td>\n",
       "      <td>Playstation 2 32 MB Memory Card Generic Playst...</td>\n",
       "      <td>PlayStation2</td>\n",
       "      <td>3.363636</td>\n",
       "      <td>11</td>\n",
       "    </tr>\n",
       "  </tbody>\n",
       "</table>\n",
       "</div>"
      ],
      "text/plain": [
       "     Unnamed: 0.1     rank        asin  \\\n",
       "75             75   2794.0  1770947841   \n",
       "148           148  96025.0  9629551462   \n",
       "\n",
       "                                           description      platform  \\\n",
       "75   Mafia 3 (PS4) PS4 Its 1968 and the rules have ...  PlayStation4   \n",
       "148  Playstation 2 32 MB Memory Card Generic Playst...  PlayStation2   \n",
       "\n",
       "       rating  ratings_count  \n",
       "75   4.142857              7  \n",
       "148  3.363636             11  "
      ]
     },
     "execution_count": 132,
     "metadata": {},
     "output_type": "execute_result"
    }
   ],
   "source": [
    "Sony = Sony[Sony['rating']>3]\n",
    "Sony = Sony[Sony['ratings_count']>5]\n",
    "Sony.head(2)"
   ]
  },
  {
   "cell_type": "code",
   "execution_count": 145,
   "metadata": {},
   "outputs": [],
   "source": [
    "Sony_asin = Sony.sort_values(by=['rating','ratings_count'], ascending=False)['asin'][:5]\n"
   ]
  },
  {
   "cell_type": "code",
   "execution_count": 172,
   "metadata": {},
   "outputs": [
    {
     "data": {
      "text/plain": [
       "['Odin Sphere Leifthrasir - PlayStation 3 Standard Edition',\n",
       " 'PlayStation Vita PERSONA 4 Dancing All Night Premium Crazy Box Japan ver',\n",
       " \"Saint Seya: Soldier's Soul English/Spanish Version\",\n",
       " 'X-COM: UFO Defense - PlayStation',\n",
       " 'Hard Pouch for PlayStation Vita (Pink)']"
      ]
     },
     "execution_count": 172,
     "metadata": {},
     "output_type": "execute_result"
    }
   ],
   "source": [
    "Sony_titles = []\n",
    "for i in Sony_asin:\n",
    "    Sony_titles.append(asin_title[asin_title['asin']==i]['title'].item())\n",
    "    \n",
    "Sony_titles"
   ]
  },
  {
   "cell_type": "markdown",
   "metadata": {},
   "source": [
    "## Nintendo"
   ]
  },
  {
   "cell_type": "code",
   "execution_count": 106,
   "metadata": {},
   "outputs": [],
   "source": [
    "#Make list for all nintendo related products\n",
    "nintendo_list = ['NintendoDS','Nintendo64','Nintendo3DS','NintendoSwitch','WiiU','Wii','NES','SuperNintendo','GameBoyAdvance','Game Boy Color','GameBoy','GameCube']\n",
    "Nintendo = test[test['platform'].isin(nintendo_list)]"
   ]
  },
  {
   "cell_type": "code",
   "execution_count": 133,
   "metadata": {
    "scrolled": false
   },
   "outputs": [
    {
     "data": {
      "text/html": [
       "<div>\n",
       "<style scoped>\n",
       "    .dataframe tbody tr th:only-of-type {\n",
       "        vertical-align: middle;\n",
       "    }\n",
       "\n",
       "    .dataframe tbody tr th {\n",
       "        vertical-align: top;\n",
       "    }\n",
       "\n",
       "    .dataframe thead th {\n",
       "        text-align: right;\n",
       "    }\n",
       "</style>\n",
       "<table border=\"1\" class=\"dataframe\">\n",
       "  <thead>\n",
       "    <tr style=\"text-align: right;\">\n",
       "      <th></th>\n",
       "      <th>Unnamed: 0.1</th>\n",
       "      <th>rank</th>\n",
       "      <th>asin</th>\n",
       "      <th>description</th>\n",
       "      <th>platform</th>\n",
       "      <th>rating</th>\n",
       "      <th>ratings_count</th>\n",
       "    </tr>\n",
       "  </thead>\n",
       "  <tbody>\n",
       "    <tr>\n",
       "      <th>89</th>\n",
       "      <td>89</td>\n",
       "      <td>38864.0</td>\n",
       "      <td>3828770193</td>\n",
       "      <td>Foto Frenzy: Spot the Difference Storm City En...</td>\n",
       "      <td>NintendoDS</td>\n",
       "      <td>3.739130</td>\n",
       "      <td>23</td>\n",
       "    </tr>\n",
       "    <tr>\n",
       "      <th>109</th>\n",
       "      <td>109</td>\n",
       "      <td>44739.0</td>\n",
       "      <td>7293000936</td>\n",
       "      <td>Component AV Cable for Nintendo Wii to HDTV (B...</td>\n",
       "      <td>Wii</td>\n",
       "      <td>4.231707</td>\n",
       "      <td>82</td>\n",
       "    </tr>\n",
       "  </tbody>\n",
       "</table>\n",
       "</div>"
      ],
      "text/plain": [
       "     Unnamed: 0.1     rank        asin  \\\n",
       "89             89  38864.0  3828770193   \n",
       "109           109  44739.0  7293000936   \n",
       "\n",
       "                                           description    platform    rating  \\\n",
       "89   Foto Frenzy: Spot the Difference Storm City En...  NintendoDS  3.739130   \n",
       "109  Component AV Cable for Nintendo Wii to HDTV (B...         Wii  4.231707   \n",
       "\n",
       "     ratings_count  \n",
       "89              23  \n",
       "109             82  "
      ]
     },
     "execution_count": 133,
     "metadata": {},
     "output_type": "execute_result"
    }
   ],
   "source": [
    "Nintendo = Nintendo[Nintendo['rating']>3]\n",
    "Nintendo = Nintendo[Nintendo['ratings_count']>5]\n",
    "Nintendo.head(2)"
   ]
  },
  {
   "cell_type": "code",
   "execution_count": 146,
   "metadata": {},
   "outputs": [],
   "source": [
    "Nintendo_asin = Nintendo.sort_values(by=['rating','ratings_count'], ascending=False)['asin'][:5]\n"
   ]
  },
  {
   "cell_type": "code",
   "execution_count": 173,
   "metadata": {},
   "outputs": [
    {
     "data": {
      "text/plain": [
       "['Crystalis',\n",
       " 'Hatsune Miku -Project DIVA-F 2nd[Japan Import]',\n",
       " \"Demon's Crest\",\n",
       " 'Nintendo Nes Security 3 Tool Video Game Cartridge Cleaning Kit',\n",
       " 'New Nintendo 3DS Cover Plates No.063 Pokemon']"
      ]
     },
     "execution_count": 173,
     "metadata": {},
     "output_type": "execute_result"
    }
   ],
   "source": [
    "Nintendo_titles = []\n",
    "for i in Nintendo_asin:\n",
    "    Nintendo_titles.append(asin_title[asin_title['asin']==i]['title'].item())\n",
    "    \n",
    "Nintendo_titles"
   ]
  },
  {
   "cell_type": "markdown",
   "metadata": {},
   "source": [
    "## Atari"
   ]
  },
  {
   "cell_type": "code",
   "execution_count": 107,
   "metadata": {},
   "outputs": [],
   "source": [
    "#Make list for all atari related products\n",
    "atari_list = ['Atari2600','Atari5200','Atari7800']\n",
    "atari = test[test['platform'].isin(atari_list)]"
   ]
  },
  {
   "cell_type": "code",
   "execution_count": 167,
   "metadata": {
    "scrolled": true
   },
   "outputs": [
    {
     "data": {
      "text/html": [
       "<div>\n",
       "<style scoped>\n",
       "    .dataframe tbody tr th:only-of-type {\n",
       "        vertical-align: middle;\n",
       "    }\n",
       "\n",
       "    .dataframe tbody tr th {\n",
       "        vertical-align: top;\n",
       "    }\n",
       "\n",
       "    .dataframe thead th {\n",
       "        text-align: right;\n",
       "    }\n",
       "</style>\n",
       "<table border=\"1\" class=\"dataframe\">\n",
       "  <thead>\n",
       "    <tr style=\"text-align: right;\">\n",
       "      <th></th>\n",
       "      <th>Unnamed: 0.1</th>\n",
       "      <th>rank</th>\n",
       "      <th>asin</th>\n",
       "      <th>description</th>\n",
       "      <th>platform</th>\n",
       "      <th>rating</th>\n",
       "      <th>ratings_count</th>\n",
       "    </tr>\n",
       "  </thead>\n",
       "  <tbody>\n",
       "    <tr>\n",
       "      <th>724</th>\n",
       "      <td>724</td>\n",
       "      <td>49202.0</td>\n",
       "      <td>B00001QECQ</td>\n",
       "      <td>Intellivision Classic Games PS Activision Game...</td>\n",
       "      <td>Atari2600</td>\n",
       "      <td>4.545455</td>\n",
       "      <td>11</td>\n",
       "    </tr>\n",
       "    <tr>\n",
       "      <th>2203</th>\n",
       "      <td>2203</td>\n",
       "      <td>25330.0</td>\n",
       "      <td>B00002STXY</td>\n",
       "      <td>Pitfall: The Mayan Adventure Activision The sp...</td>\n",
       "      <td>Atari2600</td>\n",
       "      <td>4.214286</td>\n",
       "      <td>14</td>\n",
       "    </tr>\n",
       "  </tbody>\n",
       "</table>\n",
       "</div>"
      ],
      "text/plain": [
       "      Unnamed: 0.1     rank        asin  \\\n",
       "724            724  49202.0  B00001QECQ   \n",
       "2203          2203  25330.0  B00002STXY   \n",
       "\n",
       "                                            description   platform    rating  \\\n",
       "724   Intellivision Classic Games PS Activision Game...  Atari2600  4.545455   \n",
       "2203  Pitfall: The Mayan Adventure Activision The sp...  Atari2600  4.214286   \n",
       "\n",
       "      ratings_count  \n",
       "724              11  \n",
       "2203             14  "
      ]
     },
     "execution_count": 167,
     "metadata": {},
     "output_type": "execute_result"
    }
   ],
   "source": [
    "atari = atari[atari['rating']>3]\n",
    "atari = atari[atari['ratings_count']>5]\n",
    "atari.head(2)"
   ]
  },
  {
   "cell_type": "code",
   "execution_count": 147,
   "metadata": {},
   "outputs": [],
   "source": [
    "atari_asin = atari.sort_values(by=['rating','ratings_count'], ascending=False)['asin'][:5]\n"
   ]
  },
  {
   "cell_type": "code",
   "execution_count": 174,
   "metadata": {},
   "outputs": [
    {
     "data": {
      "text/plain": [
       "['Dig Dug',\n",
       " 'Atari 2600 AC Power Adapter by CyCO',\n",
       " 'Warlords',\n",
       " 'Solaris',\n",
       " 'Pitfall II: Lost Caverns']"
      ]
     },
     "execution_count": 174,
     "metadata": {},
     "output_type": "execute_result"
    }
   ],
   "source": [
    "atari_titles = []\n",
    "for i in atari_asin:\n",
    "    atari_titles.append(asin_title[asin_title['asin']==i]['title'].item())\n",
    "    \n",
    "atari_titles"
   ]
  },
  {
   "cell_type": "markdown",
   "metadata": {},
   "source": [
    "## Sega"
   ]
  },
  {
   "cell_type": "code",
   "execution_count": 108,
   "metadata": {},
   "outputs": [],
   "source": [
    "#Make list for all sega related products\n",
    "sega_list = ['Sega CD','SegaDreamcast','SegaGameGear','SegaGenesis','SegaMasterSystem','SegaSaturn']\n",
    "sega = test[test['platform'].isin(sega_list)]"
   ]
  },
  {
   "cell_type": "code",
   "execution_count": 130,
   "metadata": {},
   "outputs": [
    {
     "data": {
      "text/html": [
       "<div>\n",
       "<style scoped>\n",
       "    .dataframe tbody tr th:only-of-type {\n",
       "        vertical-align: middle;\n",
       "    }\n",
       "\n",
       "    .dataframe tbody tr th {\n",
       "        vertical-align: top;\n",
       "    }\n",
       "\n",
       "    .dataframe thead th {\n",
       "        text-align: right;\n",
       "    }\n",
       "</style>\n",
       "<table border=\"1\" class=\"dataframe\">\n",
       "  <thead>\n",
       "    <tr style=\"text-align: right;\">\n",
       "      <th></th>\n",
       "      <th>Unnamed: 0.1</th>\n",
       "      <th>rank</th>\n",
       "      <th>asin</th>\n",
       "      <th>description</th>\n",
       "      <th>platform</th>\n",
       "      <th>rating</th>\n",
       "      <th>ratings_count</th>\n",
       "    </tr>\n",
       "  </thead>\n",
       "  <tbody>\n",
       "    <tr>\n",
       "      <th>404</th>\n",
       "      <td>404</td>\n",
       "      <td>33382.0</td>\n",
       "      <td>B00000K10H</td>\n",
       "      <td>Trickstyle Acclaim Disc(s) only. Ships in gene...</td>\n",
       "      <td>SegaDreamcast</td>\n",
       "      <td>3.571429</td>\n",
       "      <td>7</td>\n",
       "    </tr>\n",
       "    <tr>\n",
       "      <th>409</th>\n",
       "      <td>409</td>\n",
       "      <td>50478.0</td>\n",
       "      <td>B00000K119</td>\n",
       "      <td>Armada Adobe THIS IS ARMADA VIDEOGAME VERSION ...</td>\n",
       "      <td>SegaDreamcast</td>\n",
       "      <td>4.111111</td>\n",
       "      <td>9</td>\n",
       "    </tr>\n",
       "  </tbody>\n",
       "</table>\n",
       "</div>"
      ],
      "text/plain": [
       "     Unnamed: 0.1     rank        asin  \\\n",
       "404           404  33382.0  B00000K10H   \n",
       "409           409  50478.0  B00000K119   \n",
       "\n",
       "                                           description       platform  \\\n",
       "404  Trickstyle Acclaim Disc(s) only. Ships in gene...  SegaDreamcast   \n",
       "409  Armada Adobe THIS IS ARMADA VIDEOGAME VERSION ...  SegaDreamcast   \n",
       "\n",
       "       rating  ratings_count  \n",
       "404  3.571429              7  \n",
       "409  4.111111              9  "
      ]
     },
     "execution_count": 130,
     "metadata": {},
     "output_type": "execute_result"
    }
   ],
   "source": [
    "sega = sega[sega['rating']>3]\n",
    "sega = sega[sega['ratings_count']>5]\n",
    "sega.head(2)"
   ]
  },
  {
   "cell_type": "code",
   "execution_count": 129,
   "metadata": {},
   "outputs": [],
   "source": [
    "sega_asin = sega.sort_values(by=['rating','ratings_count'], ascending=False)['asin'][:5]\n"
   ]
  },
  {
   "cell_type": "code",
   "execution_count": 175,
   "metadata": {},
   "outputs": [
    {
     "data": {
      "text/plain": [
       "['Controller Extension Cable for Dreamcast Controllers by Mars Devices',\n",
       " 'Snatcher',\n",
       " 'Shining The Holy Ark - Sega Saturn',\n",
       " 'Sega Saturn 6 Player Multiplayer Adapter',\n",
       " \"Wonder Boy III: The Dragon's Trap\"]"
      ]
     },
     "execution_count": 175,
     "metadata": {},
     "output_type": "execute_result"
    }
   ],
   "source": [
    "sega_titles = []\n",
    "for i in sega_asin:\n",
    "    sega_titles.append(asin_title[asin_title['asin']==i]['title'].item())\n",
    "    \n",
    "sega_titles"
   ]
  },
  {
   "cell_type": "markdown",
   "metadata": {},
   "source": [
    "### Combine into a dataframe"
   ]
  },
  {
   "cell_type": "code",
   "execution_count": 151,
   "metadata": {},
   "outputs": [],
   "source": [
    "platforms = ['PC','Mac','Xbox','Sony','Nintendo','Atari','Sega']\n",
    "platform_asin = [PC_asin, Mac_asin, Xbox_asin, Sony_asin, Nintendo_asin, atari_asin, sega_asin]"
   ]
  },
  {
   "cell_type": "code",
   "execution_count": 154,
   "metadata": {},
   "outputs": [],
   "source": [
    "# cold_start_data = {'PC':PC_asin, 'Mac':Mac_asin, 'Xbox':Xbox_asin, 'Sony':Sony_asin, 'Nintendo':Nintendo_asin, 'Atari':atari_asin, 'Sega':sega_asin}\n",
    "# cold_start = pd.DataFrame(data = cold_start_data)"
   ]
  },
  {
   "cell_type": "code",
   "execution_count": 165,
   "metadata": {},
   "outputs": [
    {
     "data": {
      "text/plain": [
       "['Mamas & Papas Soft Toy, Peanut Elephant',\n",
       " '1UPcard Video Game Cartridge Cleaning Kit - 3 Pack with Fluid',\n",
       " \"Shiver: Vanishing Hitchhiker Collector's Edition\",\n",
       " 'Thrustmaster VG Thrustmaster T500 F1 Racing Wheel - PC',\n",
       " 'SpongeBob SquarePants: Diner Dash']"
      ]
     },
     "execution_count": 165,
     "metadata": {},
     "output_type": "execute_result"
    }
   ],
   "source": [
    "PC_titles = []\n",
    "for i in PC_asin:\n",
    "    PC_titles.append(asin_title[asin_title['asin']==i]['title'].item())\n",
    "    \n",
    "PC_titles"
   ]
  },
  {
   "cell_type": "code",
   "execution_count": null,
   "metadata": {},
   "outputs": [],
   "source": []
  }
 ],
 "metadata": {
  "kernelspec": {
   "display_name": "Python 3",
   "language": "python",
   "name": "python3"
  },
  "language_info": {
   "codemirror_mode": {
    "name": "ipython",
    "version": 3
   },
   "file_extension": ".py",
   "mimetype": "text/x-python",
   "name": "python",
   "nbconvert_exporter": "python",
   "pygments_lexer": "ipython3",
   "version": "3.7.3"
  }
 },
 "nbformat": 4,
 "nbformat_minor": 4
}
