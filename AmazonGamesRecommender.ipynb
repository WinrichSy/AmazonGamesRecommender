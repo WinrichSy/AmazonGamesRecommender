{
 "cells": [
  {
   "cell_type": "code",
   "execution_count": 1,
   "metadata": {},
   "outputs": [],
   "source": [
    "import os\n",
    "import numpy as np\n",
    "import pandas as pd\n",
    "import matplotlib.pyplot as plt"
   ]
  },
  {
   "cell_type": "code",
   "execution_count": 289,
   "metadata": {},
   "outputs": [],
   "source": [
    "import math\n",
    "import string\n",
    "import re\n",
    "from datetime import datetime"
   ]
  },
  {
   "cell_type": "code",
   "execution_count": 384,
   "metadata": {},
   "outputs": [],
   "source": [
    "from src.EDA import EDA"
   ]
  },
  {
   "cell_type": "code",
   "execution_count": 3,
   "metadata": {},
   "outputs": [],
   "source": [
    "def missing_zero_values_table(df):\n",
    "    zero_val = (df == 0.00).astype(int).sum(axis=0)\n",
    "    mis_val = df.isnull().sum()\n",
    "    mis_val_percent = 100 * df.isnull().sum() / len(df)\n",
    "    mz_table = pd.concat([zero_val, mis_val, mis_val_percent], axis=1)\n",
    "    mz_table = mz_table.rename(\n",
    "        columns = {0 : 'Zero Values', 1 : 'Missing Values', 2 : '% of Total Values'})\n",
    "    mz_table['Total Zero Missing Values'] = mz_table['Zero Values'] + mz_table['Missing Values']\n",
    "    mz_table['% Total Zero Missing Values'] = 100 * mz_table['Total Zero Missing Values'] / len(df)\n",
    "    mz_table['Data Type'] = df.dtypes\n",
    "    mz_table = mz_table[\n",
    "    mz_table.iloc[:,1] != 0].sort_values(\n",
    "        '% of Total Values', ascending=False).round(1)\n",
    "    print (\"Your selected dataframe has \" + str(df.shape[1]) + \" columns and \" + str(df.shape[0]) + \" Rows.\\n\"      \n",
    "            \"There are \" + str(mz_table.shape[0]) + \" columns that have missing values.\")\n",
    "    \n",
    "    return mz_table"
   ]
  },
  {
   "cell_type": "code",
   "execution_count": 4,
   "metadata": {},
   "outputs": [],
   "source": [
    "videogames = pd.read_json('Data/meta_Video_Games.json', lines=True)\n",
    "reviews = pd.read_json('Data/Video_Games.json', lines=True)"
   ]
  },
  {
   "cell_type": "markdown",
   "metadata": {},
   "source": [
    "## Cleaning Video Games DF"
   ]
  },
  {
   "cell_type": "code",
   "execution_count": 129,
   "metadata": {},
   "outputs": [],
   "source": [
    "#drop also_buy, also_view, date, details, similar_item, tech1, tech2\n",
    "main_videogames = videogames.copy()\n",
    "main_videogames.drop(columns=['also_buy', 'also_view', 'date', 'details', 'similar_item', 'tech1', 'tech2'], inplace=True)"
   ]
  },
  {
   "cell_type": "code",
   "execution_count": 130,
   "metadata": {
    "jupyter": {
     "outputs_hidden": true
    }
   },
   "outputs": [],
   "source": [
    "# #Check for missing values #1\n",
    "# missing_zero_values_table(main_videogames)"
   ]
  },
  {
   "cell_type": "markdown",
   "metadata": {},
   "source": [
    "### Changing missing title names to their actual titles"
   ]
  },
  {
   "cell_type": "code",
   "execution_count": 131,
   "metadata": {},
   "outputs": [],
   "source": [
    "indexes = [467, 11873, 11876, 11878, 13376, 24782, 24785, 24787, 29674, 38379, 52373, 61916, 63263, 64453]\n",
    "title_names = ['Dune 2000', 'Virtual Stick Pro', 'Saturn Control Pad Mist Gray', 'Saturn control pad', 'Dune 2000', \n",
    "               'Virtual Stick Pro', 'Saturn Control Pad Mist Gray', 'Saturn control pad', 'Sega Vertual Stick', 'Puppet Motel',\n",
    "               'Friendship Collection New Life','Ranch Story Connected New World', 'Kirby Triple Deluxe', 'Detective Conan Phantom Rhapsody']"
   ]
  },
  {
   "cell_type": "code",
   "execution_count": 132,
   "metadata": {},
   "outputs": [],
   "source": [
    "for idx, val in enumerate(indexes):\n",
    "    main_videogames.loc[val, 'title'] = title_names[idx]"
   ]
  },
  {
   "cell_type": "code",
   "execution_count": 133,
   "metadata": {
    "jupyter": {
     "outputs_hidden": true
    }
   },
   "outputs": [],
   "source": [
    "# #Check for missing values #2\n",
    "# missing_zero_values_table(main_videogames)"
   ]
  },
  {
   "cell_type": "code",
   "execution_count": 134,
   "metadata": {},
   "outputs": [],
   "source": [
    "float_puncs = '!\"#$%&\\'()*+,-/:;<=>?@[\\\\]^_`{|}~'\n",
    "str1=\"\"\n",
    "\n",
    "def remove_puncs_into_floats(item):\n",
    "    table = str.maketrans('','', float_puncs)\n",
    "    stripped = [i.translate(table) for i in item]\n",
    "    return float(str1.join(stripped))\n",
    "\n",
    "#change missing prices to -1, and change string prices to floats\n",
    "prices = main_videogames.price.apply(lambda x: float(-1) if isinstance(x, float) else remove_puncs_into_floats(x))"
   ]
  },
  {
   "cell_type": "code",
   "execution_count": 135,
   "metadata": {},
   "outputs": [],
   "source": [
    "#Since 81.7% of prices are missing, and not doing a recommender based on price, remove price column.\n",
    "#Since images are not being used to create a recommender, remove image column.\n",
    "main_videogames.drop(columns=['price','image'],inplace=True)"
   ]
  },
  {
   "cell_type": "code",
   "execution_count": 136,
   "metadata": {
    "jupyter": {
     "outputs_hidden": true
    }
   },
   "outputs": [],
   "source": [
    "# #Check for missing values #3\n",
    "# missing_zero_values_table(main_videogames)"
   ]
  },
  {
   "cell_type": "code",
   "execution_count": 137,
   "metadata": {},
   "outputs": [],
   "source": [
    "def remove_puncs(item):\n",
    "    table = str.maketrans('','', float_puncs)\n",
    "    stripped = [i.translate(table) for i in item]\n",
    "    return str1.join(stripped)"
   ]
  },
  {
   "cell_type": "code",
   "execution_count": 138,
   "metadata": {},
   "outputs": [],
   "source": [
    "#converting rank strings to just rank numbers\n",
    "rank = main_videogames[\"rank\"].apply(lambda x: \"999999999\" if isinstance(x, float) else remove_puncs(x).split(\" \",1)[0])"
   ]
  },
  {
   "cell_type": "code",
   "execution_count": 139,
   "metadata": {},
   "outputs": [],
   "source": [
    "rank = rank.apply(lambda x: x.split(\"i\", 1)[0])"
   ]
  },
  {
   "cell_type": "code",
   "execution_count": 140,
   "metadata": {},
   "outputs": [
    {
     "name": "stdout",
     "output_type": "stream",
     "text": [
      "52316\n"
     ]
    }
   ],
   "source": [
    "#find messed up values in rnak #4\n",
    "for idx, val in enumerate(rank):\n",
    "    if val == 'productDescr':\n",
    "        print(idx)"
   ]
  },
  {
   "cell_type": "code",
   "execution_count": 141,
   "metadata": {},
   "outputs": [],
   "source": [
    "rank[52316] = 999999999"
   ]
  },
  {
   "cell_type": "code",
   "execution_count": 142,
   "metadata": {},
   "outputs": [],
   "source": [
    "rank = rank.apply(lambda x: float(x))"
   ]
  },
  {
   "cell_type": "code",
   "execution_count": 143,
   "metadata": {},
   "outputs": [],
   "source": [
    "main_videogames['rank']=rank"
   ]
  },
  {
   "cell_type": "code",
   "execution_count": 144,
   "metadata": {},
   "outputs": [],
   "source": [
    "# #Check for missing values #4\n",
    "# missing_zero_values_table(main_videogames)"
   ]
  },
  {
   "cell_type": "code",
   "execution_count": 145,
   "metadata": {},
   "outputs": [],
   "source": [
    "#Change all nulls in main_cat into 'Video Games'\n",
    "main_cat = main_videogames['main_cat'].apply(lambda x: 'Video Games' if isinstance(x, float) else x)\n",
    "main_videogames['main_cat'] = main_cat\n",
    "\n",
    "#Change all nulls in features into 'no_features'\n",
    "features = main_videogames['feature'].apply(lambda x: 'no_features' if isinstance(x, float) else x)\n",
    "main_videogames['feature'] = features\n",
    "\n",
    "#Change all null in description into 'no_description'\n",
    "description = main_videogames['description'].apply(lambda x: 'no_description' if isinstance(x, float) else x)\n",
    "main_videogames['description'] = description"
   ]
  },
  {
   "cell_type": "code",
   "execution_count": 146,
   "metadata": {},
   "outputs": [],
   "source": [
    "# #Check for missing values #5\n",
    "# missing_zero_values_table(main_videogames)"
   ]
  },
  {
   "cell_type": "code",
   "execution_count": 147,
   "metadata": {},
   "outputs": [],
   "source": [
    "#Change null brands to 'no_brand'\n",
    "brand = main_videogames['brand'].apply(lambda x: 'no_brand' if isinstance(x, float) else x)\n",
    "\n",
    "#Remove html taggings \"by\\n \\n\"\n",
    "filter_tag = 'by\\n    \\n    '\n",
    "brand = brand.apply(lambda x: x[12:] if filter_tag in x else x)\n",
    "main_videogames['brand'] = brand\n",
    "\n",
    "#Change null category to ['Video Games']\n",
    "category = main_videogames['category'].apply(lambda x: ['Video Games'] if isinstance(x, float) else x)\n",
    "main_videogames['category'] = category"
   ]
  },
  {
   "cell_type": "code",
   "execution_count": 148,
   "metadata": {},
   "outputs": [
    {
     "name": "stdout",
     "output_type": "stream",
     "text": [
      "Your selected dataframe has 8 columns and 84893 Rows.\n",
      "There are 0 columns that have missing values.\n"
     ]
    },
    {
     "data": {
      "text/html": [
       "<div>\n",
       "<style scoped>\n",
       "    .dataframe tbody tr th:only-of-type {\n",
       "        vertical-align: middle;\n",
       "    }\n",
       "\n",
       "    .dataframe tbody tr th {\n",
       "        vertical-align: top;\n",
       "    }\n",
       "\n",
       "    .dataframe thead th {\n",
       "        text-align: right;\n",
       "    }\n",
       "</style>\n",
       "<table border=\"1\" class=\"dataframe\">\n",
       "  <thead>\n",
       "    <tr style=\"text-align: right;\">\n",
       "      <th></th>\n",
       "      <th>Zero Values</th>\n",
       "      <th>Missing Values</th>\n",
       "      <th>% of Total Values</th>\n",
       "      <th>Total Zero Missing Values</th>\n",
       "      <th>% Total Zero Missing Values</th>\n",
       "      <th>Data Type</th>\n",
       "    </tr>\n",
       "  </thead>\n",
       "  <tbody>\n",
       "  </tbody>\n",
       "</table>\n",
       "</div>"
      ],
      "text/plain": [
       "Empty DataFrame\n",
       "Columns: [Zero Values, Missing Values, % of Total Values, Total Zero Missing Values, % Total Zero Missing Values, Data Type]\n",
       "Index: []"
      ]
     },
     "execution_count": 148,
     "metadata": {},
     "output_type": "execute_result"
    }
   ],
   "source": [
    "#Check for missing values #6\n",
    "missing_zero_values_table(main_videogames)"
   ]
  },
  {
   "cell_type": "code",
   "execution_count": 149,
   "metadata": {},
   "outputs": [],
   "source": [
    "#Change category into a full string\n",
    "str2 = \" \"\n",
    "category = main_videogames['category'].apply(lambda x: str2.join(x) if isinstance(x, list) else x)\n",
    "main_videogames['category'] = category\n",
    "\n",
    "#Change description into a full string\n",
    "description = main_videogames['description'].apply(lambda x: str2.join(x) if x!='no_description' else x)\n",
    "main_videogames['description'] = description\n",
    "\n",
    "#Change feature into a full string\n",
    "feature = main_videogames['feature'].apply(lambda x: str2.join(x) if x!='no_features' else x)\n",
    "main_videogames['feature'] = feature"
   ]
  },
  {
   "cell_type": "code",
   "execution_count": 150,
   "metadata": {},
   "outputs": [],
   "source": [
    "#manually change categories to their sub category\n",
    "category = main_videogames['category'].apply(lambda x: x[12:] if x!='Video Games' else x)\n",
    "category = category.apply(lambda x: x[len('Retro Gaming & Microconsoles '):] if 'Retro Gaming & Microconsoles ' in x else x)\n",
    "main_videogames['category'] = category\n",
    "\n",
    "#drop main_cat\n",
    "main_videogames.drop('main_cat', 1, inplace=True)"
   ]
  },
  {
   "cell_type": "markdown",
   "metadata": {},
   "source": [
    "## Save to new csv file"
   ]
  },
  {
   "cell_type": "code",
   "execution_count": 168,
   "metadata": {},
   "outputs": [],
   "source": [
    "main_videogames.to_csv('Data/main_videogames.csv')"
   ]
  },
  {
   "cell_type": "markdown",
   "metadata": {},
   "source": [
    "## Copy to test filling out descriptions and features"
   ]
  },
  {
   "cell_type": "code",
   "execution_count": 329,
   "metadata": {},
   "outputs": [],
   "source": [
    "#makes a copy\n",
    "full_videogames = main_videogames.copy()"
   ]
  },
  {
   "cell_type": "code",
   "execution_count": 330,
   "metadata": {
    "scrolled": true
   },
   "outputs": [],
   "source": [
    "#too many different categories. removing excessive details\n",
    "category = full_videogames['category'].apply(lambda x: x.split(\"  \")[0].strip() if len(x.split(\"  \"))>1 else x.strip())\n",
    "full_videogames['category'] = category"
   ]
  },
  {
   "cell_type": "code",
   "execution_count": 331,
   "metadata": {},
   "outputs": [],
   "source": [
    "#using excessive details from long categories to fill in empty descriptions and featuers\n",
    "description_feature = full_videogames['category'].apply(lambda x: x.split(\"  \")[1].strip() if len(x.split(\"  \"))>1 else x.strip())\n",
    "descriptions = []\n",
    "features = []\n",
    "\n",
    "for idx, val in enumerate(full_videogames['description']):\n",
    "    if val == 'no_description':\n",
    "        descriptions.append(description_feature[idx])\n",
    "    else:\n",
    "        descriptions.append(val)\n",
    "\n",
    "for idx, val in enumerate(full_videogames['feature']):\n",
    "    if val == 'no_features':\n",
    "        features.append(description_feature[idx])\n",
    "    else:\n",
    "        features.append(val)\n",
    "\n",
    "full_videogames['description'] = descriptions\n",
    "full_videogames['feature'] = features"
   ]
  },
  {
   "cell_type": "code",
   "execution_count": 341,
   "metadata": {
    "collapsed": true
   },
   "outputs": [
    {
     "data": {
      "text/plain": [
       "['',\n",
       " '3DO',\n",
       " '3DO Accessories',\n",
       " '3DO Consoles',\n",
       " '3DO Games',\n",
       " '4-player simultaneous play Greater distinction between characters than TMNT 1 2 modes of play',\n",
       " 'Accessories',\n",
       " 'Accessories Added protection for your Wii Remote, non-slip material Easy access to all buttons and ports, for both the Nunchuk and Wii Remote Designed to form fit your Wii Remote perfectly while adding grip Made of high grade quality silicone with an exact mold of your Wii Remote Add color to each players remote!',\n",
       " \"Accessories Carry your Nintendo DSi and accessories with this Airform EVA Carrying Case. Stylish EVA material protects your DSi. Pocket slots inside to carry your game cartridges, an extra stylus and other stuff. Inside lined with microfiber. Elastic strap to hold the DS Lite so it doesn't fall out when you open the case. Comes with a lanyard strap. Suitable for Nintendo DSi, also suitable for Nintendo Ds Lite. Come with a hand strap to carry your dsi easier.\",\n",
       " 'Accessories Multi-Function Charger Stand for Nintendo DS Lite charges your Nintendo DS Lite and stores up to 10 Nintendo DS Lite game cartridges. Using your original or compatible AC or USB charger, the Multi-Function Charger Stand lets you conveniently charge your Nintendo DS Lite by simply inserting your game console onto the stand. With the Multi-Function Charging Stand, you can keep your desk or table top organized and lets you charge your Nintendo DS Lite without dealing with tangled cords. Also keeps your game cartridges organized and within reach. Charging function is compatible with Nintendo DS Lite only. Works with your AC charger (not included) or USB Power Cable (not included). 30 days warantee by seller bestpricecenter',\n",
       " 'Accessories Neoprene Sony PSP game case holds PSP unit and 2 extra UMDs Slim neoprene design easily slips into a pocket, backpack or bag Removable game organizer panel protects screen and doubles as cleaning cloth Protective neoprene helps cushion the player if accidentally dropped Electronic Accessories',\n",
       " 'Atari 2600',\n",
       " 'Atari 2600 Accessories',\n",
       " 'Atari 2600 Consoles',\n",
       " 'Atari 2600 Games',\n",
       " 'Atari 5200',\n",
       " 'Atari 5200 Accessories',\n",
       " 'Atari 5200 Games',\n",
       " 'Atari 7800',\n",
       " 'Atari 7800 Accessories',\n",
       " 'Atari 7800 Games',\n",
       " 'Atari Jaguar',\n",
       " 'Atari Jaguar Accessories',\n",
       " 'Atari Jaguar Consoles',\n",
       " 'Atari Jaguar Games',\n",
       " 'Atari Lynx',\n",
       " 'Atari Lynx Accessories',\n",
       " 'Atari Lynx Games',\n",
       " 'Authentic Nintendo Branded Adapter For Game boy color and pocket Plug in the AC adapter for Non-Stop Power! Not compatible with the original Game Boy System',\n",
       " 'Brand New OEM product model bl-5c Lithium-ion product',\n",
       " 'CARTRIDGE ONLY',\n",
       " 'ColecoVision Accessories',\n",
       " 'ColecoVision Games',\n",
       " 'Commodore 64',\n",
       " 'Commodore 64 Accessories',\n",
       " 'Commodore 64 Consoles',\n",
       " 'Commodore 64 Games',\n",
       " 'Commodore Amiga',\n",
       " 'Commodore Amiga Games',\n",
       " 'Connects two Game Boys Works with compatible Game Boy games Gorgeous metallic color choices',\n",
       " 'Cool game Action galore',\n",
       " 'Destroy the Archfiend Baramos choose three allies; eight character classes; travel day and night expanded list of weapons, armor, and spells; more than 40 castles, towns, villages, and shrines',\n",
       " 'Digital Games',\n",
       " 'Digital Games Mac',\n",
       " 'Digital Games PC',\n",
       " \"Enter people's minds and use your powers of levitation and Psi-Blasts to face people's worst fears Rise up in rank as you collect figments of other people's imaginations, sort their emotional baggage, clear out their mental cobwebs, and crack open their memory vaults Complete special training missions to earn new powers like telekinesis, pyrokinesis and more Fully interactive environments - use tightropes, trapezes, ladders, poles, ledges, trampolines, climbing walls and rail slides to your advantage Multiple paths and sub-challenges - the nonlinear gameplay offers greater depth and better gameplay\",\n",
       " \"Fight to stop the evil dragon from controlling the world Travel through great-looking levels with all kinds of obstacles to challenge Spyro and his crew Choose from 5 characters as you seek out the legendary Dark Gems Use a full set of new dragon powers and abilities, plus new gadgets to help get a tail over Spyro's opponents Fight to stop the evil dragon from controlling the world Travel through great-looking levels with all kinds of obstacles to challenge Spyro and his crew Choose from 5 characters as you seek out the legendary Dark Gems Use a full set of new dragon powers and abilities, plus new gadgets to help get a tail over Spyro's opponents\",\n",
       " 'Game Boy',\n",
       " 'Game Boy Accessories',\n",
       " 'Game Boy Advance',\n",
       " 'Game Boy Advance Accessories',\n",
       " 'Game Boy Advance Consoles',\n",
       " 'Game Boy Advance Games',\n",
       " 'Game Boy Color',\n",
       " 'Game Boy Color Accessories',\n",
       " 'Game Boy Color Consoles',\n",
       " 'Game Boy Color Game Star Wars Episode 1 Racer',\n",
       " 'Game Boy Color Games',\n",
       " 'Game Boy Consoles',\n",
       " 'Game Boy Games',\n",
       " 'Game boy',\n",
       " 'GameCube',\n",
       " 'GameCube Accessories',\n",
       " 'GameCube Consoles',\n",
       " 'GameCube Games',\n",
       " 'Intellivision',\n",
       " 'Intellivision Accessories',\n",
       " 'Intellivision Games',\n",
       " 'It is easy to fit your Sony Playstation 3 / Xbox 360 game controller Non-slip surface is great for providing better grip to enhance gaming performance Protect your joystick from dust and scratches Smooth and washable design ensures comfort and cleanliness Made from high quality silicon, comfortable and durable; Accurate and sensitive design, enable you perfect playing experience',\n",
       " 'Kids & Family',\n",
       " 'Kids & Family Nintendo 3DS Games',\n",
       " 'Kids & Family Nintendo DS Games',\n",
       " 'Kids & Family PlayStation 3 Games',\n",
       " 'Kids & Family PlayStation 3 Games Fabric-And-Synthetic Rubber sole Dynamic vehicles with realistic controls All weather conditions and road surfaces create genuine responsiveness allowing cars to drift, jump, and swerve 60 stages in 13 countries Play Quick Stage at any moment or dive into Championship Mode to experience WRC to the fullest extent Use time between stages to repair damage to cars',\n",
       " 'Kids & Family PlayStation 4',\n",
       " 'Kids & Family PlayStation 4 Games',\n",
       " 'Kids & Family PlayStation Vita Games',\n",
       " 'Kids & Family Sony PSP Games',\n",
       " 'Kids & Family Wii Games',\n",
       " 'Kids & Family Wii U Games',\n",
       " 'Kids & Family Xbox 360',\n",
       " 'Kids & Family Xbox 360 Games',\n",
       " 'Kids & Family Xbox One',\n",
       " 'Kids & Family Xbox One Games',\n",
       " 'Linux Games',\n",
       " 'Mac',\n",
       " 'Mac Accessories',\n",
       " 'Mac Accessories Controllers',\n",
       " 'Mac Accessories Controllers Gamepads & Standard Controllers',\n",
       " 'Mac Accessories Controllers Joysticks',\n",
       " 'Mac Accessories Controllers Music Controllers',\n",
       " 'Mac Accessories Controllers Steering Wheels',\n",
       " 'Mac Accessories Gaming Keyboards',\n",
       " 'Mac Accessories Gaming Mice',\n",
       " 'Mac Accessories Headsets',\n",
       " 'Mac Games',\n",
       " 'Mac Games Interact with actual characters from the TV show. First-rate visuals, dynamic sounds and immersive gameplay. Adventure style navigation and interaction. Persistent inventory with collectable items and usage puzzles. 15 unique hidden object scenes and 15 unique puzzles.',\n",
       " 'NEOGEO Pocket',\n",
       " 'NEOGEO Pocket Accessories',\n",
       " 'NEOGEO Pocket Consoles',\n",
       " 'NEOGEO Pocket Games',\n",
       " 'NES SNES Genesis G Factor',\n",
       " 'NVIDIA SHIELD',\n",
       " 'Nintendo 3DS & 2DS',\n",
       " 'Nintendo 3DS & 2DS Accessories',\n",
       " 'Nintendo 3DS & 2DS Accessories Accessory Kits',\n",
       " 'Nintendo 3DS & 2DS Accessories Batteries & Chargers',\n",
       " 'Nintendo 3DS & 2DS Accessories Batteries & Chargers Batteries',\n",
       " 'Nintendo 3DS & 2DS Accessories Batteries & Chargers Chargers',\n",
       " 'Nintendo 3DS & 2DS Accessories Cables & Adapters',\n",
       " 'Nintendo 3DS & 2DS Accessories Cables & Adapters Adapters',\n",
       " 'Nintendo 3DS & 2DS Accessories Cables & Adapters Cables',\n",
       " 'Nintendo 3DS & 2DS Accessories Cases & Storage',\n",
       " 'Nintendo 3DS & 2DS Accessories Cases & Storage Shield and protect your 3DS XL from unwanted scratches. (Will Not Fit \"New 3DS XL\") PLEASE READ: 3DS XL has 3 Rectangle Buttons \"Select, Home, Start\" Below Bottom Screen. If you have only 1 Button \"Home\", that is \"New 3DS XL\" not \"3DS XL\" Aluminum outer shell with plastic frame durable and stylish. Custom designed to fit your 3DS. Quickly and easily to apply. Access to all ports without removing the case. Included: One Aluminum Crystal case +Top & Bottom Screen Protectors + Soft card + Cleaning Cloth',\n",
       " 'Nintendo 3DS & 2DS Accessories Faceplates, Protectors & Skins',\n",
       " 'Nintendo 3DS & 2DS Accessories Faceplates, Protectors & Skins Faceplates',\n",
       " 'Nintendo 3DS & 2DS Accessories Faceplates, Protectors & Skins Screen Protectors',\n",
       " 'Nintendo 3DS & 2DS Accessories Faceplates, Protectors & Skins Skins',\n",
       " 'Nintendo 3DS & 2DS Accessories Hand Grips',\n",
       " 'Nintendo 3DS & 2DS Accessories Headsets',\n",
       " 'Nintendo 3DS & 2DS Accessories Stylus Pens',\n",
       " 'Nintendo 3DS & 2DS Consoles',\n",
       " 'Nintendo 3DS & 2DS Currency Cards',\n",
       " 'Nintendo 3DS & 2DS Digital Games & DLC',\n",
       " 'Nintendo 3DS & 2DS Games',\n",
       " 'Nintendo 3DS & 2DS Interactive Gaming Figures',\n",
       " 'Nintendo 64',\n",
       " 'Nintendo 64 Accessories',\n",
       " 'Nintendo 64 Consoles',\n",
       " 'Nintendo 64 Games',\n",
       " 'Nintendo DS',\n",
       " 'Nintendo DS Accessories',\n",
       " 'Nintendo DS Accessories Accessory Kits',\n",
       " 'Nintendo DS Accessories Batteries & Chargers Batteries',\n",
       " 'Nintendo DS Accessories Batteries & Chargers Chargers',\n",
       " 'Nintendo DS Accessories Cables & Adapters Adapters',\n",
       " 'Nintendo DS Accessories Cables & Adapters Cables',\n",
       " 'Nintendo DS Accessories Cases & Storage',\n",
       " 'Nintendo DS Accessories Hand Grips',\n",
       " 'Nintendo DS Accessories Headsets',\n",
       " 'Nintendo DS Accessories Style up your DSi Console with cool designs. Quickly and easily to apply. Removable without leaving residue. All buttons and slots are accessible without removing the protection skin Included: One set of skins + Top & Bottom Screen Protectors + Soft card + Cleaning Cloth',\n",
       " 'Nintendo DS Accessories Stylus Pens',\n",
       " 'Nintendo DS Consoles',\n",
       " 'Nintendo DS Games',\n",
       " 'Nintendo NES',\n",
       " 'Nintendo NES Accessories',\n",
       " 'Nintendo NES Consoles',\n",
       " 'Nintendo NES Games',\n",
       " 'Nintendo Switch',\n",
       " 'Nintendo Switch Accessories',\n",
       " 'Nintendo Switch Accessories Batteries & Chargers',\n",
       " 'Nintendo Switch Accessories Cases & Storage',\n",
       " 'Nintendo Switch Accessories Controllers',\n",
       " 'Nintendo Switch Accessories Faceplates, Protectors & Skins',\n",
       " 'Nintendo Switch Accessories Faceplates, Protectors & Skins Skin & Protector Sets',\n",
       " 'Nintendo Switch Accessories Mounts, Brackets & Stands',\n",
       " 'Nintendo Switch Digital Games',\n",
       " 'Nintendo Switch Games',\n",
       " 'Ouya Accessories',\n",
       " 'Ouya Consoles',\n",
       " 'Ouya Digital Currency',\n",
       " 'PC',\n",
       " 'PC Accessories',\n",
       " 'PC Accessories Controllers',\n",
       " 'PC Accessories Controllers Flight Controls',\n",
       " 'PC Accessories Controllers Gamepads & Standard Controllers',\n",
       " 'PC Accessories Controllers Joysticks',\n",
       " 'PC Accessories Controllers Light Guns',\n",
       " 'PC Accessories Controllers Racing Wheels',\n",
       " 'PC Accessories Gaming Keyboards',\n",
       " 'PC Accessories Gaming Mice',\n",
       " 'PC Accessories Gaming Mice Wireless transmission, the longest sensing distance up to 10-15 meters Portable and weight light, very convenient to carry and store With 6 Keys, including Scroll Wheel, Page Forward and Page Backward buttons for easy Internet Surfing Power Supply: 2 x AAA Battery(Not included) Size:108x75x38 mm',\n",
       " 'PC Accessories Headsets',\n",
       " 'PC Games',\n",
       " 'PC Games 14 different Peridot sounds! \"You pebble!\" \"Look! Over there! Another planet to betray!\" \"AAAAHHHH!\"',\n",
       " 'PC Games Adding clip art has never been simpler. You can do it all with ClickArt Christian premium images.',\n",
       " \"PC Games Animations, Mini Vignettes and Music Interactive Circus Games The Circus displays day and night states depending on your computer's clock.\",\n",
       " \"PC Games Beautiful desktop wallpapers Soundtrack and concept art Bonus activity: finding cute little creatures (Snoop-Sees) hiding in each scene The Snoopedia' Plus, an exciting bonus chapter!\",\n",
       " 'PC Games Create your own unique contraptions Solve more than 200 challenging puzzles Put your machines to work Cool Physics engine with air-pressure, electricity, gravity and particle effects Experiment with gears, robots, explosives and more in your own virtual lab',\n",
       " \"PC Games Discover dozens of hidden object scenes and ingenious mini games Search for clues and return harmony to the house Explore stunning locations and experience amazing animations on your quest for the truth Experience indelible characters in a compelling story Collector's edition includes bonus gameplay, integrated strategy guide and concept art!\",\n",
       " 'PC Games Each interactive tutorial is organized for fast and easy learning with practical exercises to build new skills. Learn all of the new features of Windows 8.1. New features include how to use the new Start Screen which replaces the Start Menu, Using Tiles, How to Add RSS Feeds, How to Search, and more! Unlike previous versions, Windows 8.1 is a completely new operating system and not an update. Professor Teaches provides hands-on training for all of the features. Professor Teaches provides hands-on training for all of the features of this streamlined interface to connect users with their information and people from multiple Windows 8.1 devices. Professor Teaches Windows 8.1 Tutorial Set includes over 60 lessons on Windows 8.1 and Windows 8.1 Pro.',\n",
       " \"PC Games Engaging interactive features help you intuitively understand the language as you go. Cultural notes give you insight to the customs and expectations of the culture you're studying. Organic learning lessons help you to continue building upon what you've learned as you use it. Includes Mango On The Go! the portable audio version of our lessons for use with any MP3 Device. It's so easy, you can learn to speak a new language in as little as 15 minutes per day!\",\n",
       " 'PC Games Examine Investigate the symptoms and find out what’s wrong Diagnose What does your animal patient have It’s up to you to get your patients on the road to recovery Create your own look by choosing clothes, hairstyles and even create your wilderness dream house Work with your zebras on their jumping skills',\n",
       " 'PC Games Expansion Pack for RPG Maker VX Ace 20 BGM variety songs 43 large battlers, as well as 124 \"chibi\" pixel battlers with 23 battlebacks (10 floor, 13 wall) 146 bust portraits (with emotions!) & 23 face sheets and a character generator, importing guide and 2 video tutorials Sample project with 120 maps, complete with passabilities and custom material with high definition images of full battlers and battlebacks',\n",
       " 'PC Games Hundreds of all new levels to complete New Parts, New Pieces, New Contraptions Multiple solutions, play these challenging puzzles again and again Swap ideas with other members of the online community Trick out your own contraptions in free-style mode',\n",
       " 'PC Games Interact with actual characters from the TV show. First-rate visuals, dynamic sounds and immersive gameplay. Adventure style navigation and interaction. Persistent inventory with collectable items and usage puzzles. 15 unique hidden object scenes and 15 unique puzzles.',\n",
       " 'PC Games Make the things you do every day easier with improved desktop navigation Start programs faster and more easily, and quickly find the documents you use most often Make your web experience faster, easier and safer than ever with Internet Explorer 8 Watch, pause, rewind, and record TV on your PC Easily create a home network and connect your PCs to a printer with HomeGroup',\n",
       " 'PC Games Personalize Your Projects with Inspiring Images New! Scrapbooking images: ribbons, papers and other trimmings New! A total of 5,500 Clip art images and backgrounds All Royalty Free and suitable for commercial use',\n",
       " \"PC Games The Lonely Hearts Killer is kidnapping and murdering people that have suffered heartbreak and only you can bring this mysterious figure to justice! A gripping hidden object mystery investigation wrapped in creepy intrigue and dripping with noir atmosphere Who is responsible for these heinous murders? And why is this fiend only targeting those who are unlucky in love? Collector's Edition includes bonus gameplay with added plot twists, an integrated strategy guide, soundtrack, concept art, wallpapers, and more!\",\n",
       " \"PC Games Tormented souls imprisoned in a netherworld cry out to the living for help in this Collector's Edition of HOUSE OF 1000 DOORS FAMILY SECRETS that includes additional plot lines, and integrated strategy guide and more! Explore stunning locations and discover the dark secrets of the Lancaster family as you delve into the supernatural on your quest for the truth in this compelling mystery. When the dead cannot find release, they beckon to an unlikely medium to pass between the spirit world and our own to free them from their twisted past lives and the endless horror that they cannot escape. What secret do all these souls share? Pass between all the mind-bending worlds when you enter the House of 1000 Doors to find out.\",\n",
       " 'PC Virtual Reality',\n",
       " 'PC Virtual Reality Controllers',\n",
       " 'PC Virtual Reality Headsets',\n",
       " 'PDAs',\n",
       " \"Pac-Man - The most popular arcade game of all time Ms. Pac-Man - Explore, collect, and chomp your way through different mazes as Pac-Man's female counterpart Galaga - Fend off frantic swarms of bee-like aliens, while avoiding enemies' powerful tractor beams Dig Dug - Tunnel your way underground and use your pump to blow up attacking enemies Galaxian - Destroy flying aliens as they move in from formation to attack you\",\n",
       " 'Play as SpongeBob and Patrick together to pull-off awesome team moves - throw Patrick as a boomerang or use SpongeBob as a parachute to float to the ground (swap who is leading at anytime for a whole new set of individual character moves) Interact with your favorite characters from the movie and explore huge movie-inspired environments Discover secret bonus areas, rewards and mini-games Play as SpongeBob and Patrick together to pull-off awesome team moves - throw Patrick as a boomerang or use SpongeBob as a parachute to float to the ground (swap who is leading at anytime for a whole new set of individual character moves) Interact with your favorite characters from the movie and explore huge movie-inspired environments Discover secret bonus areas, rewards and mini-games',\n",
       " \"Play as any of the Titans - Robin, Starfire, Beast Boy, Cyborg, or Raven Use each Titan's unique moves, abilities and weapons to face 30 foes from the Hive Academy Face environmental hazards, explosions and traps throughout each level Unleash devastating attacks with power-ups Switch from controlling one Teen Titan to another in real time Play as any of the Titans - Robin, Starfire, Beast Boy, Cyborg, or Raven Use each Titan's unique moves, abilities and weapons to face 30 foes from the Hive Academy\",\n",
       " 'PlayStation',\n",
       " 'PlayStation 2',\n",
       " 'PlayStation 2 Accessories',\n",
       " 'PlayStation 2 Consoles',\n",
       " 'PlayStation 2 Games',\n",
       " \"PlayStation 2 Games Imported Pull On closure Material: Cotton blend. Made of high quality material, extremely warm and cozy. Style: Turtleneck, long sleeve, puff sleeves, pure color, elastic cuffs Features: The puff sleeves make you looks fashionable and different from others. This is a special design and very popular among female clothing. You can't miss it! Clothing Matching: You can easily match with leggings, pants or jeans. Perfect for work, gathering, shopping, daily wear etc. Washing: Hand wash in cold water. Do Not Bleach, Hang Dry\",\n",
       " 'PlayStation 3',\n",
       " 'PlayStation 3 Accessories',\n",
       " 'PlayStation 3 Accessories Accessory Kits',\n",
       " 'PlayStation 3 Accessories Batteries & Chargers',\n",
       " 'PlayStation 3 Accessories Batteries & Chargers Batteries',\n",
       " 'PlayStation 3 Accessories Batteries & Chargers Chargers',\n",
       " 'PlayStation 3 Accessories Cables & Adapters',\n",
       " 'PlayStation 3 Accessories Cables & Adapters Adapters',\n",
       " 'PlayStation 3 Accessories Cables & Adapters Cables',\n",
       " 'PlayStation 3 Accessories Cases & Storage',\n",
       " 'PlayStation 3 Accessories Controllers',\n",
       " 'PlayStation 3 Accessories Controllers Dance Pads',\n",
       " 'PlayStation 3 Accessories Controllers Gamepads & Standard Controllers',\n",
       " 'PlayStation 3 Accessories Controllers Joysticks',\n",
       " 'PlayStation 3 Accessories Controllers Keyboards',\n",
       " 'PlayStation 3 Accessories Controllers Music Controllers',\n",
       " 'PlayStation 3 Accessories Controllers Music Controllers Drums',\n",
       " 'PlayStation 3 Accessories Controllers Music Controllers Guitars',\n",
       " 'PlayStation 3 Accessories Controllers Music Controllers Microphones',\n",
       " 'PlayStation 3 Accessories Controllers Racing Wheels',\n",
       " 'PlayStation 3 Accessories Controllers Remotes',\n",
       " 'PlayStation 3 Accessories Controllers Shield and protect your PS3 controller from unwanted scratches. Glow in Dark silicone material durable and stylish.Custom designed to fit your PS3 controller. Quickly, easily apply, and washable. Included: Brand New Silicone case *Glow in dark results may vary by amount of time under the light sources.',\n",
       " 'PlayStation 3 Accessories Cooling Systems',\n",
       " 'PlayStation 3 Accessories Faceplates, Protectors & Skins',\n",
       " 'PlayStation 3 Accessories Faceplates, Protectors & Skins Faceplates',\n",
       " 'PlayStation 3 Accessories Faceplates, Protectors & Skins Skins',\n",
       " 'PlayStation 3 Accessories Headsets',\n",
       " 'PlayStation 3 Accessories Memory',\n",
       " 'PlayStation 3 Accessories Mounts, Brackets & Stands',\n",
       " 'PlayStation 3 Accessories Thumb Grips',\n",
       " 'PlayStation 3 Consoles',\n",
       " 'PlayStation 3 Currency & Subscription Cards Currency Cards',\n",
       " 'PlayStation 3 Currency & Subscription Cards Subscription Cards',\n",
       " 'PlayStation 3 Digital Games & DLC Downloadable Content',\n",
       " 'PlayStation 3 Digital Games & DLC Games',\n",
       " 'PlayStation 3 Games',\n",
       " 'PlayStation 3 Interactive Gaming Figures',\n",
       " 'PlayStation 4',\n",
       " 'PlayStation 4 Accessories',\n",
       " 'PlayStation 4 Accessories Accessory Kits',\n",
       " 'PlayStation 4 Accessories Batteries & Chargers',\n",
       " 'PlayStation 4 Accessories Batteries & Chargers Batteries',\n",
       " 'PlayStation 4 Accessories Batteries & Chargers Chargers',\n",
       " 'PlayStation 4 Accessories Cables & Adapters Adapters',\n",
       " 'PlayStation 4 Accessories Cables & Adapters Cables',\n",
       " 'PlayStation 4 Accessories Cases & Storage',\n",
       " 'PlayStation 4 Accessories Controllers',\n",
       " 'PlayStation 4 Accessories Controllers Gamepads & Standard Controllers',\n",
       " 'PlayStation 4 Accessories Controllers Racing Wheels',\n",
       " 'PlayStation 4 Accessories Controllers Remotes',\n",
       " 'PlayStation 4 Accessories Cooling Systems',\n",
       " 'PlayStation 4 Accessories Faceplates, Protectors & Skins',\n",
       " 'PlayStation 4 Accessories Faceplates, Protectors & Skins Decal Skin Sticker Body Protector Playstation 4 PS4 Console+Controller',\n",
       " 'PlayStation 4 Accessories Faceplates, Protectors & Skins Official Capcom product Includes one set of skins for original PS4 Console Also includes two PS4 controller skins Stickers measured to fit device No Cutting required',\n",
       " 'PlayStation 4 Accessories Headsets',\n",
       " 'PlayStation 4 Accessories Mounts, Brackets & Stands',\n",
       " 'PlayStation 4 Accessories Thumb Grips',\n",
       " 'PlayStation 4 Consoles',\n",
       " 'PlayStation 4 Currency & Subscription Cards Currency Cards',\n",
       " 'PlayStation 4 Currency & Subscription Cards Subscription Cards',\n",
       " 'PlayStation 4 Digital Games & DLC Downloadable Content',\n",
       " 'PlayStation 4 Digital Games & DLC Games',\n",
       " 'PlayStation 4 Games',\n",
       " 'PlayStation 4 Interactive Gaming Figures',\n",
       " 'PlayStation 4 Virtual Reality',\n",
       " 'PlayStation Accessories',\n",
       " 'PlayStation Consoles',\n",
       " 'PlayStation Games',\n",
       " 'PlayStation Vita',\n",
       " 'PlayStation Vita Accessories',\n",
       " 'PlayStation Vita Accessories Accessory Kits',\n",
       " 'PlayStation Vita Accessories Batteries & Chargers Chargers',\n",
       " 'PlayStation Vita Accessories Cables & Adapters Adapters',\n",
       " 'PlayStation Vita Accessories Cables & Adapters Cables',\n",
       " 'PlayStation Vita Accessories Cases & Storage',\n",
       " 'PlayStation Vita Accessories Cases & Storage Custom designed to fit your Sony Playstation PS VITA 1000. (This item only fits Model No. PCH-1XXX 1st Generation) Shield and protect your PS VITA from unwanted scratches. Aluminum outer shell with glossy plastic frame durable and stylish. Quickly and easily to apply. Access to all ports without removing the case. Included: One Aluminum Crystal case + Screen Protector + Soft card + Cleaning Cloth',\n",
       " 'PlayStation Vita Accessories Faceplates, Protectors & Skins Faceplates',\n",
       " 'PlayStation Vita Accessories Faceplates, Protectors & Skins Protectors',\n",
       " 'PlayStation Vita Accessories Faceplates, Protectors & Skins Skins',\n",
       " 'PlayStation Vita Accessories Hand Grips',\n",
       " 'PlayStation Vita Accessories Headsets',\n",
       " 'PlayStation Vita Accessories Memory',\n",
       " 'PlayStation Vita Consoles',\n",
       " 'PlayStation Vita Currency & Subscription Cards Currency Cards',\n",
       " 'PlayStation Vita Digital Games & DLC Downloadable Content',\n",
       " 'PlayStation Vita Digital Games & DLC Games',\n",
       " 'PlayStation Vita Games',\n",
       " 'Replaces your broken or scratched battery cover Works on the Game Boy Color system only Color Choices Include: Clear, Clear Purple, Lime, Purple, Red, Turquoise, Yellow Free HandHelditems universal Stylus pen features Soft foamy tip and a 3.5mm headphone jack insert so you never lose your stylus.',\n",
       " 'Retro Gaming & Microconsoles',\n",
       " 'Sega CD',\n",
       " 'Sega CD Consoles',\n",
       " 'Sega CD Games',\n",
       " 'Sega Dreamcast',\n",
       " 'Sega Dreamcast Accessories',\n",
       " 'Sega Dreamcast Consoles',\n",
       " 'Sega Dreamcast Games',\n",
       " 'Sega Game Gear',\n",
       " 'Sega Game Gear Accessories',\n",
       " 'Sega Game Gear Consoles',\n",
       " 'Sega Game Gear Games',\n",
       " 'Sega Genesis',\n",
       " 'Sega Genesis Accessories',\n",
       " 'Sega Genesis Consoles',\n",
       " 'Sega Genesis Games',\n",
       " 'Sega Master System',\n",
       " 'Sega Master System Accessories',\n",
       " 'Sega Master System Consoles',\n",
       " 'Sega Master System Games',\n",
       " 'Sega Saturn',\n",
       " 'Sega Saturn Accessories',\n",
       " 'Sega Saturn Consoles',\n",
       " 'Sega Saturn Games',\n",
       " 'Sky-Walking Slams - Cannonball, Tomahawk, Helicopter And More',\n",
       " 'Sony PSP',\n",
       " 'Sony PSP Accessories',\n",
       " 'Sony PSP Accessories Accessory Kits',\n",
       " 'Sony PSP Accessories Batteries & Chargers',\n",
       " 'Sony PSP Accessories Batteries & Chargers Batteries',\n",
       " 'Sony PSP Accessories Batteries & Chargers Chargers',\n",
       " 'Sony PSP Accessories Cables & Adapters',\n",
       " 'Sony PSP Accessories Cables & Adapters Adapters',\n",
       " 'Sony PSP Accessories Cables & Adapters Cables',\n",
       " 'Sony PSP Accessories Cases & Storage',\n",
       " 'Sony PSP Accessories Faceplates, Protectors & Skins',\n",
       " 'Sony PSP Accessories Faceplates, Protectors & Skins Faceplates',\n",
       " 'Sony PSP Accessories Faceplates, Protectors & Skins Screen Protectors',\n",
       " 'Sony PSP Accessories Faceplates, Protectors & Skins Skins',\n",
       " 'Sony PSP Accessories Hand Grips',\n",
       " 'Sony PSP Accessories Headsets',\n",
       " 'Sony PSP Accessories Memory',\n",
       " 'Sony PSP Accessories Speakers',\n",
       " 'Sony PSP Consoles',\n",
       " 'Sony PSP Games',\n",
       " 'Sony Playstation Replacement Part Perfect Fit High Quality Product Cost effective solution for console repair This is a OEM Product.',\n",
       " 'Super Nintendo',\n",
       " 'Super Nintendo Accessories',\n",
       " 'Super Nintendo Consoles',\n",
       " 'Super Nintendo Games',\n",
       " \"Talk to all sorts of people and creatures to gain information about how to move forward in his quest Fight enemies and battle through dangerous and complicated dungeons to recover key objects that open new areas Wield swords throw bombs, perform dash attacks, lift and throw, and push and pull objects; acquire items that give additional abilities In Four Swords, face puzzles that require the cooperation of two or more players to solve. They can exchange items, but they also will be competing to pick up as many Rupees as they can to increase their individual scores. It's a unique blend of cooperation and backstabbing\",\n",
       " 'The Sega Game Gear is a portable Master System that can be carried along, everywhere you go. Powered by 3.58 MHz processor, this Sega handheld console delivers an excellent gaming performance. The well-sized screen on this portable gaming system brings out your games with rich colors and added intensity. Further, this Sega handheld console features a built-in game pad with two fire buttons, for added playability. Besides, this portable gaming system lets you play most of your favorite games like OutRun, Space Harrier, and others, no matter where you go.',\n",
       " \"Travel through huge 3D game worlds taken from the SpongBob movie Choose to play SpongeBob, Sandy, Patrick or Mindy Non-linear gameplay - Players can follow multiple game paths to complete their objectives Authentic voices as you interact with your favorite movie characters -- they'll help you get through exciting challenges\",\n",
       " 'TurboGrafx 16 Accessories',\n",
       " 'TurboGrafx 16 Consoles',\n",
       " 'TurboGrafx 16 Games',\n",
       " 'Use this handy link cable to easily connect two GameBoy Micro consoles together and play head to head & trade with compatible multiplayer games. Features a durable design with quality strain relief plugs for long life. Cable length - 180cm (1.8m) Compatible with all GameBoy Micro consoles sold worldwide',\n",
       " 'Video Games',\n",
       " 'Wii',\n",
       " 'Wii Accessories',\n",
       " 'Wii Accessories Accessory Kits',\n",
       " 'Wii Accessories Added protection for your Wii Remote, non-slip material Easy access to all buttons and ports, for both the Nunchuk and Wii Remote Designed to form fit your Wii Remote perfectly while adding grip Made of high grade quality silicone with an exact mold of your Wii Remote Add color to each players remote!',\n",
       " 'Wii Accessories Batteries & Chargers',\n",
       " 'Wii Accessories Batteries & Chargers Batteries',\n",
       " 'Wii Accessories Batteries & Chargers Chargers',\n",
       " 'Wii Accessories Cables & Adapters',\n",
       " 'Wii Accessories Cables & Adapters Adapters',\n",
       " 'Wii Accessories Cables & Adapters Cables',\n",
       " 'Wii Accessories Cases & Storage',\n",
       " 'Wii Accessories Controllers',\n",
       " 'Wii Accessories Controllers Dance Pads',\n",
       " 'Wii Accessories Controllers Gamepads & Standard Controllers',\n",
       " 'Wii Accessories Controllers Joysticks',\n",
       " 'Wii Accessories Controllers Keyboards',\n",
       " 'Wii Accessories Controllers Motion Controllers',\n",
       " 'Wii Accessories Controllers Music Controllers Drums',\n",
       " 'Wii Accessories Controllers Music Controllers Guitars',\n",
       " 'Wii Accessories Controllers Music Controllers Keyboards',\n",
       " 'Wii Accessories Controllers Music Controllers Microphones',\n",
       " 'Wii Accessories Controllers Racing Wheels',\n",
       " 'Wii Accessories Controllers Remotes',\n",
       " 'Wii Accessories Cooling Systems',\n",
       " 'Wii Accessories Faceplates, Protectors & Skins',\n",
       " 'Wii Accessories Faceplates, Protectors & Skins Faceplates',\n",
       " 'Wii Accessories Faceplates, Protectors & Skins Faceplates Added protection for your Wii Remote, non-slip material Easy access to all buttons and ports, for both the Nunchuk and Wii Remote Designed to form fit your Wii Remote perfectly while adding grip Made of high grade quality silicone with an exact mold of your Wii Remote Add color to each players remote!',\n",
       " 'Wii Accessories Faceplates, Protectors & Skins Protectors',\n",
       " 'Wii Accessories Faceplates, Protectors & Skins Skins',\n",
       " 'Wii Accessories Fitness Accessories',\n",
       " 'Wii Accessories Headsets',\n",
       " 'Wii Accessories Made of high quality soft sticked tightly woven cloth Designed to fit your Nintendo Wii Remote Can be used as an accessory for cameras, phones, and other devices Added comfort and support Color Pink',\n",
       " 'Wii Accessories Memory',\n",
       " 'Wii Accessories Mounts, Brackets & Stands',\n",
       " 'Wii Accessories Sensor Bars',\n",
       " 'Wii Accessories Upgrade your Wii wrist strap with this premium leather strap This strap can be used with any other items with loops for easy carrying. Color: White Material: Genuine Premium Leather Accessory ONLY. Wii Remote controller NOT included.',\n",
       " 'Wii Consoles',\n",
       " 'Wii Games',\n",
       " 'Wii Interactive Gaming Figures',\n",
       " 'Wii Points Cards',\n",
       " 'Wii U',\n",
       " 'Wii U Accessories',\n",
       " 'Wii U Accessories Accessory Kits',\n",
       " 'Wii U Accessories Batteries & Chargers',\n",
       " 'Wii U Accessories Batteries & Chargers Batteries',\n",
       " 'Wii U Accessories Batteries & Chargers Chargers',\n",
       " 'Wii U Accessories Cables & Adapters',\n",
       " 'Wii U Accessories Cables & Adapters Adapters',\n",
       " 'Wii U Accessories Cables & Adapters Cables',\n",
       " 'Wii U Accessories Cases & Storage',\n",
       " 'Wii U Accessories Controllers',\n",
       " 'Wii U Accessories Controllers Gamepads & Standard Controllers',\n",
       " 'Wii U Accessories Controllers Joysticks',\n",
       " 'Wii U Accessories Controllers Motion Controllers',\n",
       " 'Wii U Accessories Controllers Music Controllers',\n",
       " 'Wii U Accessories Controllers Racing Wheels',\n",
       " 'Wii U Accessories Faceplates, Protectors & Skins Faceplates',\n",
       " 'Wii U Accessories Faceplates, Protectors & Skins Protectors',\n",
       " 'Wii U Accessories Faceplates, Protectors & Skins Skins',\n",
       " 'Wii U Accessories Fitness Accessories',\n",
       " 'Wii U Accessories Headsets',\n",
       " 'Wii U Accessories Memory',\n",
       " 'Wii U Consoles',\n",
       " 'Wii U Digital Games & DLC',\n",
       " 'Wii U Games',\n",
       " 'Wii U Interactive Gaming Figures',\n",
       " 'Xbox',\n",
       " 'Xbox 360',\n",
       " 'Xbox 360 Accessories',\n",
       " 'Xbox 360 Accessories Accessory Kits',\n",
       " 'Xbox 360 Accessories Batteries & Chargers',\n",
       " 'Xbox 360 Accessories Batteries & Chargers Batteries',\n",
       " 'Xbox 360 Accessories Batteries & Chargers Chargers',\n",
       " 'Xbox 360 Accessories Cables & Adapters',\n",
       " 'Xbox 360 Accessories Cables & Adapters Adapters',\n",
       " 'Xbox 360 Accessories Cables & Adapters Cables',\n",
       " 'Xbox 360 Accessories Cases & Storage',\n",
       " 'Xbox 360 Accessories Controllers',\n",
       " 'Xbox 360 Accessories Controllers Dance Pads',\n",
       " 'Xbox 360 Accessories Controllers Gamepads & Standard Controllers',\n",
       " 'Xbox 360 Accessories Controllers Joysticks',\n",
       " 'Xbox 360 Accessories Controllers Keyboards',\n",
       " 'Xbox 360 Accessories Controllers Music Controllers Drums',\n",
       " 'Xbox 360 Accessories Controllers Music Controllers Guitars',\n",
       " 'Xbox 360 Accessories Controllers Music Controllers Keyboards',\n",
       " 'Xbox 360 Accessories Controllers Music Controllers Microphones',\n",
       " 'Xbox 360 Accessories Controllers Racing Wheels',\n",
       " 'Xbox 360 Accessories Controllers Remotes',\n",
       " 'Xbox 360 Accessories Cooling Systems',\n",
       " 'Xbox 360 Accessories Faceplates, Protectors & Skins',\n",
       " 'Xbox 360 Accessories Faceplates, Protectors & Skins Faceplates',\n",
       " 'Xbox 360 Accessories Faceplates, Protectors & Skins Skins',\n",
       " 'Xbox 360 Accessories Headsets',\n",
       " 'Xbox 360 Accessories Memory',\n",
       " 'Xbox 360 Accessories Mounts, Brackets & Stands',\n",
       " 'Xbox 360 Accessories Thumb Grips',\n",
       " 'Xbox 360 Consoles',\n",
       " 'Xbox 360 Currency & Subscription Cards Points & Currency Cards',\n",
       " 'Xbox 360 Currency & Subscription Cards Subscription Cards',\n",
       " 'Xbox 360 Digital Games & DLC Digital Games',\n",
       " 'Xbox 360 Digital Games & DLC Downloadable Content',\n",
       " 'Xbox 360 Games',\n",
       " 'Xbox 360 Interactive Gaming Figures',\n",
       " 'Xbox Accessories',\n",
       " 'Xbox Consoles',\n",
       " 'Xbox Games',\n",
       " 'Xbox One',\n",
       " 'Xbox One Accessories',\n",
       " 'Xbox One Accessories Accessory Kits',\n",
       " 'Xbox One Accessories Batteries & Chargers',\n",
       " 'Xbox One Accessories Batteries & Chargers Batteries',\n",
       " 'Xbox One Accessories Batteries & Chargers Battery & Charger Sets',\n",
       " 'Xbox One Accessories Batteries & Chargers Chargers',\n",
       " 'Xbox One Accessories Cables & Adapters',\n",
       " 'Xbox One Accessories Cables & Adapters Adapters',\n",
       " 'Xbox One Accessories Cables & Adapters Cables',\n",
       " 'Xbox One Accessories Cases & Storage',\n",
       " 'Xbox One Accessories Controllers',\n",
       " 'Xbox One Accessories Controllers Gamepads & Standard Controllers',\n",
       " 'Xbox One Accessories Controllers Joysticks',\n",
       " 'Xbox One Accessories Controllers Racing Wheels',\n",
       " 'Xbox One Accessories Controllers Remotes',\n",
       " 'Xbox One Accessories Cooling Systems',\n",
       " 'Xbox One Accessories Faceplates, Protectors & Skins',\n",
       " 'Xbox One Accessories Faceplates, Protectors & Skins Mixed, , 0.1 centimeters wide Xbox One controller skin with Liverpool FC design. Protects your Xbox One controller from scratches, dirt and knocks. The Liverpool FC Xbox One Controller Skin is an official product.',\n",
       " 'Xbox One Accessories Headsets',\n",
       " 'Xbox One Accessories Memory',\n",
       " 'Xbox One Accessories Mounts, Brackets & Stands',\n",
       " 'Xbox One Accessories Thumb Grips',\n",
       " 'Xbox One Consoles',\n",
       " 'Xbox One Currency & Subscription Cards Points & Currency Cards',\n",
       " 'Xbox One Currency & Subscription Cards Subscription Cards',\n",
       " 'Xbox One Digital Games & DLC Digital Games',\n",
       " 'Xbox One Digital Games & DLC Downloadable Content',\n",
       " 'Xbox One Games',\n",
       " 'Xbox One Interactive Gaming Figures']"
      ]
     },
     "execution_count": 341,
     "metadata": {},
     "output_type": "execute_result"
    }
   ],
   "source": [
    "# sorted(full_videogames.category.unique())"
   ]
  },
  {
   "cell_type": "code",
   "execution_count": 366,
   "metadata": {},
   "outputs": [],
   "source": [
    "def platform_type(item):\n",
    "    if '3DO' in item: return '3DO'\n",
    "    elif 'Atari 2600' in item: return 'Atari 2600'\n",
    "    elif 'Atari 5200' in item: return 'Atari 5200'\n",
    "    elif 'Atari 7800' in item: return 'Atari 7800'\n",
    "    elif 'Atari Jaguar' in item: return 'Atari Jaguar'\n",
    "    elif 'Atari Lynx' in item: return 'Atari Lynx'\n",
    "    elif 'ColecoVision' in item: return 'ColecoVision'\n",
    "    elif 'Commodore 64' in item: return 'Commodore 64'\n",
    "    elif 'Commodore Amiga' in item: return 'Commodore Amiga'\n",
    "    elif 'Mac' in item: return 'Mac'\n",
    "    elif 'PC' in item: return 'PC'\n",
    "    elif 'Intellivision' in item: return 'Intellivision'\n",
    "    elif 'Nintendo DS' in item: return 'Nintendo DS'\n",
    "    elif 'Nintendo 64' in item: return 'Nintendo 64'\n",
    "    elif 'Nintendo 3DS' in item: return 'Nintendo 3DS'\n",
    "    elif 'Nintendo Switch' in item: return 'Nintendo Switch'\n",
    "    elif 'PlayStation 2' in item: return 'PlayStation 2'\n",
    "    elif 'PlayStation 3' in item: return 'PlayStation 3'\n",
    "    elif 'PlayStation 4' in item: return 'PlayStation 4'\n",
    "    elif 'PlayStation Vita' in item: return 'PlayStation Vita'\n",
    "    elif 'PlayStation' in item: return 'PlayStation'\n",
    "    elif 'PSP' in item: return 'PSP'\n",
    "    elif 'Wii U' in item: return 'Wii U'\n",
    "    elif 'Wii' in item: return 'Wii'\n",
    "    elif 'Xbox 360' in item: return 'Xbox 360'\n",
    "    elif 'Xbox One' in item: return 'Xbox One'\n",
    "    elif 'Xbox' in item: return 'Xbox'\n",
    "    elif 'Linux' in item: return 'Linux'\n",
    "    elif 'NEOGEO Pocket' in item: return 'NEOGEO Pocket'\n",
    "    elif 'NES' in item: return 'NES'\n",
    "    elif 'Ouya' in item: return 'Ouya'\n",
    "    elif 'Virtual Reality' in item: return 'Virtual Reality'\n",
    "    elif 'Retro Gaming & Microconsoles' in item: return 'Retro Gaming & Microconsoles'\n",
    "    elif 'Sega CD' in item: return 'Sega CD'\n",
    "    elif 'Sega Dreamcast' in item: return 'Sega Dreamcast'\n",
    "    elif 'Sega Game Gear' in item: return 'Sega Game Gear'\n",
    "    elif 'Sega Genesis' in item: return 'Sega Genesis'\n",
    "    elif 'Sega Master System' in item: return 'Sega Master System'\n",
    "    elif 'Sega Saturn' in item: return 'Sega Saturn'\n",
    "    elif 'Super Nintendo' in item: return 'Super Nintendo'\n",
    "    elif 'TurboGrafx 16' in item: return 'TurboGrafx 16'\n",
    "    elif 'GameCube' in item: return 'GameCube'\n",
    "    elif 'Game Boy Advance' in item: return 'Game Boy Advance'\n",
    "    elif 'Game Boy Color' in item: return 'Game Boy Color'\n",
    "    elif 'Game Boy' or 'Game boy' in item: return 'Game Boy'\n",
    "    else: return 'none'"
   ]
  },
  {
   "cell_type": "code",
   "execution_count": 367,
   "metadata": {},
   "outputs": [],
   "source": [
    "def product_type(item):\n",
    "    if 'Games' in item: return 'Game'\n",
    "    elif 'Controller' in item: return 'Controller'\n",
    "    elif 'Joysticks' in item: return 'Joystick'\n",
    "    elif 'Racing Wheel' in item: return 'Racing Wheel'\n",
    "    elif 'Gamepads' in item: return 'Gamepads'\n",
    "    elif 'Consoles' in item: return 'Console'\n",
    "    elif 'Cables' in item: return 'Cables'\n",
    "    elif 'System' in item: return 'System'\n",
    "    elif 'Batteries' in item: return 'System'\n",
    "    elif 'Headset' in item: return 'Headset'\n",
    "    elif 'DLC' in item: return 'DLC'\n",
    "    elif 'Figures' in item: return 'Figures'    \n",
    "    elif 'Mounts' or 'Brackets' or 'Stands' in item: return 'Mounts'    \n",
    "    elif 'Subscription' in item: return 'Subscription'\n",
    "    elif 'Accessories' in item: return 'Accessories'"
   ]
  },
  {
   "cell_type": "code",
   "execution_count": 370,
   "metadata": {},
   "outputs": [],
   "source": [
    "#Get the platform and product type of each item\n",
    "platform = full_videogames['category'].apply(lambda x: platform_type(x))\n",
    "product = full_videogames['category'].apply(lambda x: product_type(x))\n",
    "\n",
    "full_videogames['platform'] = platform\n",
    "full_videogames['product'] = product"
   ]
  },
  {
   "cell_type": "code",
   "execution_count": null,
   "metadata": {},
   "outputs": [],
   "source": [
    "#TODO: Include average rating of items"
   ]
  },
  {
   "cell_type": "markdown",
   "metadata": {},
   "source": [
    "## Videogames EDA"
   ]
  },
  {
   "cell_type": "code",
   "execution_count": 376,
   "metadata": {},
   "outputs": [],
   "source": [
    "eda = EDA()"
   ]
  },
  {
   "cell_type": "code",
   "execution_count": 381,
   "metadata": {},
   "outputs": [
    {
     "name": "stdout",
     "output_type": "stream",
     "text": [
      "Object `eda #update docstring` not found.\n"
     ]
    }
   ],
   "source": [
    "?eda #update docstring"
   ]
  },
  {
   "cell_type": "code",
   "execution_count": 385,
   "metadata": {},
   "outputs": [
    {
     "ename": "NameError",
     "evalue": "name 'autolabel' is not defined",
     "output_type": "error",
     "traceback": [
      "\u001b[0;31m---------------------------------------------------------------------------\u001b[0m",
      "\u001b[0;31mNameError\u001b[0m                                 Traceback (most recent call last)",
      "\u001b[0;32m<ipython-input-385-b99e857c14d2>\u001b[0m in \u001b[0;36m<module>\u001b[0;34m\u001b[0m\n\u001b[1;32m     10\u001b[0m \u001b[0;31m#plot here\u001b[0m\u001b[0;34m\u001b[0m\u001b[0;34m\u001b[0m\u001b[0;34m\u001b[0m\u001b[0m\n\u001b[1;32m     11\u001b[0m eda.print_bar(platform_list[:10], count_list[:10], x_label='Platform', y_label='Count', \n\u001b[0;32m---> 12\u001b[0;31m               title='Top 10 Popular Platforms', orientation='hort')\n\u001b[0m",
      "\u001b[0;32m~/Desktop/AmazonGamesRecommender/src/EDA.py\u001b[0m in \u001b[0;36mprint_bar\u001b[0;34m(self, x, y, x_label, y_label, title, orientation, color, width, fig_size, percentage, weight, tick_size, title_size)\u001b[0m\n\u001b[1;32m     61\u001b[0m                             \u001b[0mxy\u001b[0m\u001b[0;34m=\u001b[0m\u001b[0;34m(\u001b[0m\u001b[0mwidth\u001b[0m\u001b[0;34m,\u001b[0m \u001b[0mrect\u001b[0m\u001b[0;34m.\u001b[0m\u001b[0mget_y\u001b[0m\u001b[0;34m(\u001b[0m\u001b[0;34m)\u001b[0m \u001b[0;34m+\u001b[0m \u001b[0mrect\u001b[0m\u001b[0;34m.\u001b[0m\u001b[0mget_height\u001b[0m\u001b[0;34m(\u001b[0m\u001b[0;34m)\u001b[0m \u001b[0;34m/\u001b[0m \u001b[0;36m2\u001b[0m\u001b[0;34m)\u001b[0m\u001b[0;34m,\u001b[0m\u001b[0;34m\u001b[0m\u001b[0;34m\u001b[0m\u001b[0m\n\u001b[1;32m     62\u001b[0m                             \u001b[0mxytext\u001b[0m\u001b[0;34m=\u001b[0m\u001b[0;34m(\u001b[0m\u001b[0;36m3\u001b[0m\u001b[0;34m,\u001b[0m\u001b[0;34m-\u001b[0m\u001b[0;36m6\u001b[0m\u001b[0;34m)\u001b[0m\u001b[0;34m,\u001b[0m\u001b[0;34m\u001b[0m\u001b[0;34m\u001b[0m\u001b[0m\n\u001b[0;32m---> 63\u001b[0;31m                             \u001b[0mtextcoords\u001b[0m\u001b[0;34m=\u001b[0m\u001b[0;34m\"offset points\"\u001b[0m\u001b[0;34m,\u001b[0m\u001b[0;34m\u001b[0m\u001b[0;34m\u001b[0m\u001b[0m\n\u001b[0m\u001b[1;32m     64\u001b[0m                             size=15)\n\u001b[1;32m     65\u001b[0m \u001b[0;34m\u001b[0m\u001b[0m\n",
      "\u001b[0;31mNameError\u001b[0m: name 'autolabel' is not defined"
     ]
    },
    {
     "data": {
      "image/png": "[encoded data removed]",
      "text/plain": [
       "<Figure size 1656x504 with 1 Axes>"
      ]
     },
     "metadata": {},
     "output_type": "display_data"
    }
   ],
   "source": [
    "#1. Top 10 Platforms BarH\n",
    "platform_counts = full_videogames['platform'].value_counts()\n",
    "platform_list = []\n",
    "count_list = []\n",
    "\n",
    "for key, val in platform_counts.items():\n",
    "    platform_list.append(str(key))\n",
    "    count_list.append(val)\n",
    "\n",
    "#plot here\n",
    "eda.print_bar(platform_list[:10], count_list[:10], x_label='Platform', y_label='Count', \n",
    "              title='Top 10 Popular Platforms', orientation='hort')"
   ]
  },
  {
   "cell_type": "code",
   "execution_count": null,
   "metadata": {},
   "outputs": [],
   "source": [
    "#2. Top 10 Brand BarH\n",
    "brand_counts = full_videogames['brand'].value_counts()\n",
    "brand_list = []\n",
    "count_list = []\n",
    "\n",
    "for key, val in brand_counts.items():\n",
    "    brand_list.append(str(key))\n",
    "    count_list.append(val)\n",
    "    \n",
    "#plot here"
   ]
  },
  {
   "cell_type": "code",
   "execution_count": null,
   "metadata": {},
   "outputs": [],
   "source": [
    "#3. Top 10 Product Type BarH\n",
    "product_counts = full_videogames['product'].value_counts()\n",
    "product_list = []\n",
    "count_list = []\n",
    "\n",
    "for key, val in product_counts.items():\n",
    "    product_list.append(str(key))\n",
    "    count_list.append(val)\n",
    "    \n",
    "#plot here"
   ]
  },
  {
   "cell_type": "code",
   "execution_count": 312,
   "metadata": {},
   "outputs": [
    {
     "data": {
      "text/plain": [
       "no_brand                    4030\n",
       "Nintendo                    3429\n",
       "Electronic Arts             3251\n",
       "Activision                  2799\n",
       "Sega                        2207\n",
       "                            ... \n",
       "VRunow                         1\n",
       "Codemasters Software Co.       1\n",
       "Studio Black Flag              1\n",
       "Flash                          1\n",
       "Decrescent                     1\n",
       "Name: brand, Length: 7780, dtype: int64"
      ]
     },
     "execution_count": 312,
     "metadata": {},
     "output_type": "execute_result"
    }
   ],
   "source": [
    "full_videogames['brand'].value_counts()"
   ]
  },
  {
   "cell_type": "code",
   "execution_count": 310,
   "metadata": {},
   "outputs": [
    {
     "data": {
      "text/html": [
       "<div>\n",
       "<style scoped>\n",
       "    .dataframe tbody tr th:only-of-type {\n",
       "        vertical-align: middle;\n",
       "    }\n",
       "\n",
       "    .dataframe tbody tr th {\n",
       "        vertical-align: top;\n",
       "    }\n",
       "\n",
       "    .dataframe thead th {\n",
       "        text-align: right;\n",
       "    }\n",
       "</style>\n",
       "<table border=\"1\" class=\"dataframe\">\n",
       "  <thead>\n",
       "    <tr style=\"text-align: right;\">\n",
       "      <th></th>\n",
       "      <th>category</th>\n",
       "      <th>title</th>\n",
       "      <th>brand</th>\n",
       "      <th>rank</th>\n",
       "      <th>asin</th>\n",
       "      <th>description</th>\n",
       "      <th>feature</th>\n",
       "      <th>platform</th>\n",
       "      <th>product</th>\n",
       "    </tr>\n",
       "  </thead>\n",
       "  <tbody>\n",
       "    <tr>\n",
       "      <th>0</th>\n",
       "      <td>PC Games</td>\n",
       "      <td>Reversi Sensory Challenger</td>\n",
       "      <td>Fidelity Electronics</td>\n",
       "      <td>2623937.0</td>\n",
       "      <td>0042000742</td>\n",
       "      <td>PC Games</td>\n",
       "      <td>PC Games</td>\n",
       "      <td>PC</td>\n",
       "      <td>Game</td>\n",
       "    </tr>\n",
       "    <tr>\n",
       "      <th>1</th>\n",
       "      <td>Xbox 360 Games</td>\n",
       "      <td>Medal of Honor: Warfighter - Includes Battlefi...</td>\n",
       "      <td>EA Games</td>\n",
       "      <td>67231.0</td>\n",
       "      <td>0078764343</td>\n",
       "      <td>Brand new sealed!</td>\n",
       "      <td>Xbox 360 Games</td>\n",
       "      <td>Game Boy</td>\n",
       "      <td>Game</td>\n",
       "    </tr>\n",
       "    <tr>\n",
       "      <th>2</th>\n",
       "      <td>Super Nintendo Games</td>\n",
       "      <td>street fighter 2 II turbo super nintendo snes ...</td>\n",
       "      <td>Nintendo</td>\n",
       "      <td>134433.0</td>\n",
       "      <td>0276425316</td>\n",
       "      <td>Super Nintendo Games</td>\n",
       "      <td>Super Nintendo Games</td>\n",
       "      <td>Game Boy</td>\n",
       "      <td>Game</td>\n",
       "    </tr>\n",
       "    <tr>\n",
       "      <th>3</th>\n",
       "      <td>Xbox 360 Accessories Controllers Joysticks</td>\n",
       "      <td>Xbox 360 MAS STICK</td>\n",
       "      <td>MAS SYSTEMS</td>\n",
       "      <td>105263.0</td>\n",
       "      <td>0324411812</td>\n",
       "      <td>MAS's Pro Xbox 360 Stick (Perfect 360 Stick) S...</td>\n",
       "      <td>Original PCB used from Xbox 360 Control Pad (t...</td>\n",
       "      <td>Game Boy</td>\n",
       "      <td>Controller</td>\n",
       "    </tr>\n",
       "    <tr>\n",
       "      <th>4</th>\n",
       "      <td>PC Games</td>\n",
       "      <td>Phonics Alive! 3: The Speller</td>\n",
       "      <td>Advanced Software Pty. Ltd.</td>\n",
       "      <td>92397.0</td>\n",
       "      <td>0439335310</td>\n",
       "      <td>Phonics Alive! 3, The Speller teaches students...</td>\n",
       "      <td>Grades 2-12 Spelling Program Teaches Spelling ...</td>\n",
       "      <td>PC</td>\n",
       "      <td>Game</td>\n",
       "    </tr>\n",
       "  </tbody>\n",
       "</table>\n",
       "</div>"
      ],
      "text/plain": [
       "                                     category  \\\n",
       "0                                    PC Games   \n",
       "1                              Xbox 360 Games   \n",
       "2                        Super Nintendo Games   \n",
       "3  Xbox 360 Accessories Controllers Joysticks   \n",
       "4                                    PC Games   \n",
       "\n",
       "                                               title  \\\n",
       "0                         Reversi Sensory Challenger   \n",
       "1  Medal of Honor: Warfighter - Includes Battlefi...   \n",
       "2  street fighter 2 II turbo super nintendo snes ...   \n",
       "3                                 Xbox 360 MAS STICK   \n",
       "4                      Phonics Alive! 3: The Speller   \n",
       "\n",
       "                         brand       rank        asin  \\\n",
       "0         Fidelity Electronics  2623937.0  0042000742   \n",
       "1                     EA Games    67231.0  0078764343   \n",
       "2                     Nintendo   134433.0  0276425316   \n",
       "3                  MAS SYSTEMS   105263.0  0324411812   \n",
       "4  Advanced Software Pty. Ltd.    92397.0  0439335310   \n",
       "\n",
       "                                         description  \\\n",
       "0                                           PC Games   \n",
       "1                                  Brand new sealed!   \n",
       "2                               Super Nintendo Games   \n",
       "3  MAS's Pro Xbox 360 Stick (Perfect 360 Stick) S...   \n",
       "4  Phonics Alive! 3, The Speller teaches students...   \n",
       "\n",
       "                                             feature  platform     product  \n",
       "0                                           PC Games        PC        Game  \n",
       "1                                     Xbox 360 Games  Game Boy        Game  \n",
       "2                               Super Nintendo Games  Game Boy        Game  \n",
       "3  Original PCB used from Xbox 360 Control Pad (t...  Game Boy  Controller  \n",
       "4  Grades 2-12 Spelling Program Teaches Spelling ...        PC        Game  "
      ]
     },
     "execution_count": 310,
     "metadata": {},
     "output_type": "execute_result"
    }
   ],
   "source": [
    "full_videogames.head()"
   ]
  },
  {
   "cell_type": "code",
   "execution_count": 241,
   "metadata": {},
   "outputs": [],
   "source": [
    "#Save to new CSV\n",
    "full_videogames.to_csv('Data/full_videogames.csv')"
   ]
  },
  {
   "cell_type": "markdown",
   "metadata": {},
   "source": [
    "### Copy dataframe, then start Shrinking to unique values"
   ]
  },
  {
   "cell_type": "code",
   "execution_count": 243,
   "metadata": {},
   "outputs": [],
   "source": [
    "simple_videogames = full_videogames.copy()"
   ]
  },
  {
   "cell_type": "code",
   "execution_count": 245,
   "metadata": {},
   "outputs": [],
   "source": [
    "simple_videogames.drop('category', 1, inplace=True)"
   ]
  },
  {
   "cell_type": "code",
   "execution_count": 256,
   "metadata": {},
   "outputs": [],
   "source": [
    "description = simple_videogames['title'] + ' ' + simple_videogames['brand'] + ' ' + simple_videogames['description'] + ' ' + simple_videogames['feature'] + ' ' + simple_videogames['platform'] + ' ' + simple_videogames['product']"
   ]
  },
  {
   "cell_type": "code",
   "execution_count": 258,
   "metadata": {},
   "outputs": [],
   "source": [
    "simple_videogames.drop(columns = ['title','brand','feature','platform','product'], inplace=True)\n",
    "simple_videogames['description'] = description"
   ]
  },
  {
   "cell_type": "code",
   "execution_count": 259,
   "metadata": {
    "scrolled": true
   },
   "outputs": [
    {
     "data": {
      "text/html": [
       "<div>\n",
       "<style scoped>\n",
       "    .dataframe tbody tr th:only-of-type {\n",
       "        vertical-align: middle;\n",
       "    }\n",
       "\n",
       "    .dataframe tbody tr th {\n",
       "        vertical-align: top;\n",
       "    }\n",
       "\n",
       "    .dataframe thead th {\n",
       "        text-align: right;\n",
       "    }\n",
       "</style>\n",
       "<table border=\"1\" class=\"dataframe\">\n",
       "  <thead>\n",
       "    <tr style=\"text-align: right;\">\n",
       "      <th></th>\n",
       "      <th>rank</th>\n",
       "      <th>asin</th>\n",
       "      <th>description</th>\n",
       "    </tr>\n",
       "  </thead>\n",
       "  <tbody>\n",
       "    <tr>\n",
       "      <th>0</th>\n",
       "      <td>2623937.0</td>\n",
       "      <td>0042000742</td>\n",
       "      <td>Reversi Sensory Challenger Fidelity Electronic...</td>\n",
       "    </tr>\n",
       "    <tr>\n",
       "      <th>1</th>\n",
       "      <td>67231.0</td>\n",
       "      <td>0078764343</td>\n",
       "      <td>Medal of Honor: Warfighter - Includes Battlefi...</td>\n",
       "    </tr>\n",
       "    <tr>\n",
       "      <th>2</th>\n",
       "      <td>134433.0</td>\n",
       "      <td>0276425316</td>\n",
       "      <td>street fighter 2 II turbo super nintendo snes ...</td>\n",
       "    </tr>\n",
       "    <tr>\n",
       "      <th>3</th>\n",
       "      <td>105263.0</td>\n",
       "      <td>0324411812</td>\n",
       "      <td>Xbox 360 MAS STICK MAS SYSTEMS MAS's Pro Xbox ...</td>\n",
       "    </tr>\n",
       "    <tr>\n",
       "      <th>4</th>\n",
       "      <td>92397.0</td>\n",
       "      <td>0439335310</td>\n",
       "      <td>Phonics Alive! 3: The Speller Advanced Softwar...</td>\n",
       "    </tr>\n",
       "  </tbody>\n",
       "</table>\n",
       "</div>"
      ],
      "text/plain": [
       "        rank        asin                                        description\n",
       "0  2623937.0  0042000742  Reversi Sensory Challenger Fidelity Electronic...\n",
       "1    67231.0  0078764343  Medal of Honor: Warfighter - Includes Battlefi...\n",
       "2   134433.0  0276425316  street fighter 2 II turbo super nintendo snes ...\n",
       "3   105263.0  0324411812  Xbox 360 MAS STICK MAS SYSTEMS MAS's Pro Xbox ...\n",
       "4    92397.0  0439335310  Phonics Alive! 3: The Speller Advanced Softwar..."
      ]
     },
     "execution_count": 259,
     "metadata": {},
     "output_type": "execute_result"
    }
   ],
   "source": [
    "simple_videogames.head()\n",
    "#would we want to have unique words in the description? or keep nuber of words "
   ]
  },
  {
   "cell_type": "markdown",
   "metadata": {},
   "source": [
    "# Cleaning Reviews DF"
   ]
  },
  {
   "cell_type": "code",
   "execution_count": 261,
   "metadata": {},
   "outputs": [],
   "source": [
    "#change image to 0 or 1\n",
    "main_reviews = reviews.copy()\n",
    "image = [0 if isinstance(i,float) else 1 for i in main_reviews.image]\n",
    "main_reviews['image'] = image"
   ]
  },
  {
   "cell_type": "code",
   "execution_count": 262,
   "metadata": {},
   "outputs": [],
   "source": [
    "#drop columns = reviewTime, reviewName, style, vote\n",
    "main_reviews.drop(columns=['reviewTime', 'reviewerName', 'style', 'vote'], inplace=True)"
   ]
  },
  {
   "cell_type": "markdown",
   "metadata": {},
   "source": [
    "### Handle Missing"
   ]
  },
  {
   "cell_type": "code",
   "execution_count": 263,
   "metadata": {},
   "outputs": [
    {
     "name": "stdout",
     "output_type": "stream",
     "text": [
      "Your selected dataframe has 8 columns and 2565349 Rows.\n",
      "There are 2 columns that have missing values.\n"
     ]
    },
    {
     "data": {
      "text/html": [
       "<div>\n",
       "<style scoped>\n",
       "    .dataframe tbody tr th:only-of-type {\n",
       "        vertical-align: middle;\n",
       "    }\n",
       "\n",
       "    .dataframe tbody tr th {\n",
       "        vertical-align: top;\n",
       "    }\n",
       "\n",
       "    .dataframe thead th {\n",
       "        text-align: right;\n",
       "    }\n",
       "</style>\n",
       "<table border=\"1\" class=\"dataframe\">\n",
       "  <thead>\n",
       "    <tr style=\"text-align: right;\">\n",
       "      <th></th>\n",
       "      <th>Zero Values</th>\n",
       "      <th>Missing Values</th>\n",
       "      <th>% of Total Values</th>\n",
       "      <th>Total Zero Missing Values</th>\n",
       "      <th>% Total Zero Missing Values</th>\n",
       "      <th>Data Type</th>\n",
       "    </tr>\n",
       "  </thead>\n",
       "  <tbody>\n",
       "    <tr>\n",
       "      <th>reviewText</th>\n",
       "      <td>0</td>\n",
       "      <td>1715</td>\n",
       "      <td>0.1</td>\n",
       "      <td>1715</td>\n",
       "      <td>0.1</td>\n",
       "      <td>object</td>\n",
       "    </tr>\n",
       "    <tr>\n",
       "      <th>summary</th>\n",
       "      <td>0</td>\n",
       "      <td>811</td>\n",
       "      <td>0.0</td>\n",
       "      <td>811</td>\n",
       "      <td>0.0</td>\n",
       "      <td>object</td>\n",
       "    </tr>\n",
       "  </tbody>\n",
       "</table>\n",
       "</div>"
      ],
      "text/plain": [
       "            Zero Values  Missing Values  % of Total Values  \\\n",
       "reviewText            0            1715                0.1   \n",
       "summary               0             811                0.0   \n",
       "\n",
       "            Total Zero Missing Values  % Total Zero Missing Values Data Type  \n",
       "reviewText                       1715                          0.1    object  \n",
       "summary                           811                          0.0    object  "
      ]
     },
     "execution_count": 263,
     "metadata": {},
     "output_type": "execute_result"
    }
   ],
   "source": [
    "missing_zero_values_table(main_reviews)"
   ]
  },
  {
   "cell_type": "code",
   "execution_count": 264,
   "metadata": {},
   "outputs": [
    {
     "data": {
      "text/plain": [
       "(array([False,  True]), array([2563634,    1715]))"
      ]
     },
     "execution_count": 264,
     "metadata": {},
     "output_type": "execute_result"
    }
   ],
   "source": [
    "np.unique(reviews.reviewText.isna(), return_counts=True)"
   ]
  },
  {
   "cell_type": "code",
   "execution_count": 265,
   "metadata": {},
   "outputs": [
    {
     "data": {
      "text/plain": [
       "(array([False,  True]), array([2564538,     811]))"
      ]
     },
     "execution_count": 265,
     "metadata": {},
     "output_type": "execute_result"
    }
   ],
   "source": [
    "np.unique(reviews.summary.isna(), return_counts=True)"
   ]
  },
  {
   "cell_type": "code",
   "execution_count": 266,
   "metadata": {},
   "outputs": [],
   "source": [
    "reviewText = main_reviews.reviewText.apply(lambda x: 'no_text_was_given' if isinstance(x, float) else x)"
   ]
  },
  {
   "cell_type": "code",
   "execution_count": 267,
   "metadata": {},
   "outputs": [],
   "source": [
    "summary = main_reviews.summary.apply(lambda x: 'no_summary_given' if isinstance(x, float) else x)"
   ]
  },
  {
   "cell_type": "code",
   "execution_count": 268,
   "metadata": {},
   "outputs": [],
   "source": [
    "main_reviews['reviewText'] = reviewText\n",
    "main_reviews['summary'] = summary"
   ]
  },
  {
   "cell_type": "code",
   "execution_count": 269,
   "metadata": {
    "scrolled": true
   },
   "outputs": [
    {
     "name": "stdout",
     "output_type": "stream",
     "text": [
      "Your selected dataframe has 8 columns and 2565349 Rows.\n",
      "There are 0 columns that have missing values.\n"
     ]
    },
    {
     "data": {
      "text/html": [
       "<div>\n",
       "<style scoped>\n",
       "    .dataframe tbody tr th:only-of-type {\n",
       "        vertical-align: middle;\n",
       "    }\n",
       "\n",
       "    .dataframe tbody tr th {\n",
       "        vertical-align: top;\n",
       "    }\n",
       "\n",
       "    .dataframe thead th {\n",
       "        text-align: right;\n",
       "    }\n",
       "</style>\n",
       "<table border=\"1\" class=\"dataframe\">\n",
       "  <thead>\n",
       "    <tr style=\"text-align: right;\">\n",
       "      <th></th>\n",
       "      <th>Zero Values</th>\n",
       "      <th>Missing Values</th>\n",
       "      <th>% of Total Values</th>\n",
       "      <th>Total Zero Missing Values</th>\n",
       "      <th>% Total Zero Missing Values</th>\n",
       "      <th>Data Type</th>\n",
       "    </tr>\n",
       "  </thead>\n",
       "  <tbody>\n",
       "  </tbody>\n",
       "</table>\n",
       "</div>"
      ],
      "text/plain": [
       "Empty DataFrame\n",
       "Columns: [Zero Values, Missing Values, % of Total Values, Total Zero Missing Values, % Total Zero Missing Values, Data Type]\n",
       "Index: []"
      ]
     },
     "execution_count": 269,
     "metadata": {},
     "output_type": "execute_result"
    }
   ],
   "source": [
    "missing_zero_values_table(main_reviews)"
   ]
  },
  {
   "cell_type": "code",
   "execution_count": 282,
   "metadata": {},
   "outputs": [],
   "source": [
    "#change verified values to 0 or 1\n",
    "verified = main_reviews['verified'].apply(lambda x: 1 if x==True else 0)\n",
    "main_reviews['verified'] = verified"
   ]
  },
  {
   "cell_type": "code",
   "execution_count": 300,
   "metadata": {},
   "outputs": [],
   "source": [
    "#change unixReviewTime to corresponding day/week/month/year\n",
    "ReviewTime = pd.Timestamp(main_reviews['unixReviewTime'][0], unit='s')\n",
    "day = ReviewTime.dayofyear\n",
    "week = ReviewTime.weekofyear\n",
    "month = ReviewTime.month\n",
    "year = ReviewTime.year\n",
    "\n",
    "main_reviews['day'] = day\n",
    "main_reviews['week'] = week\n",
    "main_reviews['month'] = month\n",
    "main_reviews['year'] = year"
   ]
  },
  {
   "cell_type": "code",
   "execution_count": 301,
   "metadata": {},
   "outputs": [],
   "source": [
    "#Save dataframe to CSV\n",
    "main_reviews.to_csv('Data/main_reviews.csv')"
   ]
  },
  {
   "cell_type": "markdown",
   "metadata": {},
   "source": [
    "## EDA on Reviews"
   ]
  },
  {
   "cell_type": "code",
   "execution_count": null,
   "metadata": {},
   "outputs": [],
   "source": [
    "#1. Barplot on ratings given\n",
    "\n",
    "\n"
   ]
  },
  {
   "cell_type": "code",
   "execution_count": null,
   "metadata": {},
   "outputs": [],
   "source": [
    "#2. Verified vs Nonverified\n",
    "\n"
   ]
  },
  {
   "cell_type": "code",
   "execution_count": null,
   "metadata": {},
   "outputs": [],
   "source": []
  },
  {
   "cell_type": "markdown",
   "metadata": {},
   "source": [
    "##### Done Cleaning Reviews DF"
   ]
  },
  {
   "cell_type": "markdown",
   "metadata": {},
   "source": [
    "## Copy main_reviews for count vectorizer"
   ]
  },
  {
   "cell_type": "code",
   "execution_count": 303,
   "metadata": {},
   "outputs": [],
   "source": [
    "simple_reviews = main_reviews.copy()"
   ]
  },
  {
   "cell_type": "code",
   "execution_count": 304,
   "metadata": {},
   "outputs": [],
   "source": [
    "simple_reviews.drop(columns=['verified','unixReviewTime','image','day','week','month','year'], inplace=True)"
   ]
  },
  {
   "cell_type": "code",
   "execution_count": 306,
   "metadata": {},
   "outputs": [],
   "source": [
    "reviewText = simple_reviews['reviewText'] + ' ' + simple_reviews['summary']"
   ]
  },
  {
   "cell_type": "code",
   "execution_count": 308,
   "metadata": {},
   "outputs": [],
   "source": [
    "simple_reviews['reviewText'] = reviewText\n",
    "simple_reviews.drop('summary', 1, inplace=True)"
   ]
  },
  {
   "cell_type": "code",
   "execution_count": 309,
   "metadata": {},
   "outputs": [
    {
     "data": {
      "text/html": [
       "<div>\n",
       "<style scoped>\n",
       "    .dataframe tbody tr th:only-of-type {\n",
       "        vertical-align: middle;\n",
       "    }\n",
       "\n",
       "    .dataframe tbody tr th {\n",
       "        vertical-align: top;\n",
       "    }\n",
       "\n",
       "    .dataframe thead th {\n",
       "        text-align: right;\n",
       "    }\n",
       "</style>\n",
       "<table border=\"1\" class=\"dataframe\">\n",
       "  <thead>\n",
       "    <tr style=\"text-align: right;\">\n",
       "      <th></th>\n",
       "      <th>overall</th>\n",
       "      <th>reviewerID</th>\n",
       "      <th>asin</th>\n",
       "      <th>reviewText</th>\n",
       "    </tr>\n",
       "  </thead>\n",
       "  <tbody>\n",
       "    <tr>\n",
       "      <th>0</th>\n",
       "      <td>1</td>\n",
       "      <td>A21ROB4YDOZA5P</td>\n",
       "      <td>0439381673</td>\n",
       "      <td>I used to play this game years ago and loved i...</td>\n",
       "    </tr>\n",
       "    <tr>\n",
       "      <th>1</th>\n",
       "      <td>3</td>\n",
       "      <td>A3TNZ2Q5E7HTHD</td>\n",
       "      <td>0439381673</td>\n",
       "      <td>The game itself worked great but the story lin...</td>\n",
       "    </tr>\n",
       "    <tr>\n",
       "      <th>2</th>\n",
       "      <td>4</td>\n",
       "      <td>A1OKRM3QFEATQO</td>\n",
       "      <td>0439381673</td>\n",
       "      <td>I had to learn the hard way after ordering thi...</td>\n",
       "    </tr>\n",
       "    <tr>\n",
       "      <th>3</th>\n",
       "      <td>1</td>\n",
       "      <td>A2XO1JFCNEYV3T</td>\n",
       "      <td>0439381673</td>\n",
       "      <td>The product description should state this clea...</td>\n",
       "    </tr>\n",
       "    <tr>\n",
       "      <th>4</th>\n",
       "      <td>4</td>\n",
       "      <td>A19WLPIRHD15TH</td>\n",
       "      <td>0439381673</td>\n",
       "      <td>I would recommend this learning game for anyon...</td>\n",
       "    </tr>\n",
       "  </tbody>\n",
       "</table>\n",
       "</div>"
      ],
      "text/plain": [
       "   overall      reviewerID        asin  \\\n",
       "0        1  A21ROB4YDOZA5P  0439381673   \n",
       "1        3  A3TNZ2Q5E7HTHD  0439381673   \n",
       "2        4  A1OKRM3QFEATQO  0439381673   \n",
       "3        1  A2XO1JFCNEYV3T  0439381673   \n",
       "4        4  A19WLPIRHD15TH  0439381673   \n",
       "\n",
       "                                          reviewText  \n",
       "0  I used to play this game years ago and loved i...  \n",
       "1  The game itself worked great but the story lin...  \n",
       "2  I had to learn the hard way after ordering thi...  \n",
       "3  The product description should state this clea...  \n",
       "4  I would recommend this learning game for anyon...  "
      ]
     },
     "execution_count": 309,
     "metadata": {},
     "output_type": "execute_result"
    }
   ],
   "source": [
    "simple_reviews.head()"
   ]
  },
  {
   "cell_type": "code",
   "execution_count": null,
   "metadata": {},
   "outputs": [],
   "source": []
  }
 ],
 "metadata": {
  "kernelspec": {
   "display_name": "Python 3",
   "language": "python",
   "name": "python3"
  },
  "language_info": {
   "codemirror_mode": {
    "name": "ipython",
    "version": 3
   },
   "file_extension": ".py",
   "mimetype": "text/x-python",
   "name": "python",
   "nbconvert_exporter": "python",
   "pygments_lexer": "ipython3",
   "version": "3.7.3"
  }
 },
 "nbformat": 4,
 "nbformat_minor": 4
}
