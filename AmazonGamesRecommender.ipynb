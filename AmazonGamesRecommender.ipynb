{
 "cells": [
  {
   "cell_type": "code",
   "execution_count": 133,
   "metadata": {},
   "outputs": [],
   "source": [
    "import os\n",
    "import numpy as np\n",
    "import pandas as pd\n",
    "import matplotlib.pyplot as plt"
   ]
  },
  {
   "cell_type": "code",
   "execution_count": 301,
   "metadata": {},
   "outputs": [],
   "source": [
    "import math\n",
    "import string\n",
    "import re"
   ]
  },
  {
   "cell_type": "code",
   "execution_count": 137,
   "metadata": {},
   "outputs": [],
   "source": [
    "def missing_zero_values_table(df):\n",
    "    zero_val = (df == 0.00).astype(int).sum(axis=0)\n",
    "    mis_val = df.isnull().sum()\n",
    "    mis_val_percent = 100 * df.isnull().sum() / len(df)\n",
    "    mz_table = pd.concat([zero_val, mis_val, mis_val_percent], axis=1)\n",
    "    mz_table = mz_table.rename(\n",
    "        columns = {0 : 'Zero Values', 1 : 'Missing Values', 2 : '% of Total Values'})\n",
    "    mz_table['Total Zero Missing Values'] = mz_table['Zero Values'] + mz_table['Missing Values']\n",
    "    mz_table['% Total Zero Missing Values'] = 100 * mz_table['Total Zero Missing Values'] / len(df)\n",
    "    mz_table['Data Type'] = df.dtypes\n",
    "    mz_table = mz_table[\n",
    "    mz_table.iloc[:,1] != 0].sort_values(\n",
    "        '% of Total Values', ascending=False).round(1)\n",
    "    print (\"Your selected dataframe has \" + str(df.shape[1]) + \" columns and \" + str(df.shape[0]) + \" Rows.\\n\"      \n",
    "            \"There are \" + str(mz_table.shape[0]) + \" columns that have missing values.\")\n",
    "    \n",
    "    return mz_table"
   ]
  },
  {
   "cell_type": "code",
   "execution_count": 2,
   "metadata": {},
   "outputs": [],
   "source": [
    "videogames = pd.read_json('Data/meta_Video_Games.json', lines=True)\n",
    "reviews = pd.read_json('Data/Video_Games.json', lines=True)"
   ]
  },
  {
   "cell_type": "markdown",
   "metadata": {},
   "source": [
    "## Cleaning Video Games DF"
   ]
  },
  {
   "cell_type": "code",
   "execution_count": 45,
   "metadata": {},
   "outputs": [],
   "source": [
    "#drop also_buy, also_view, date, details, similar_item, tech1, tech2\n",
    "main_videogames = videogames.copy()\n",
    "main_videogames.drop(columns=['also_buy', 'also_view', 'date', 'details', 'similar_item', 'tech1', 'tech2'], inplace=True)"
   ]
  },
  {
   "cell_type": "code",
   "execution_count": 170,
   "metadata": {
    "collapsed": true,
    "jupyter": {
     "outputs_hidden": true
    }
   },
   "outputs": [
    {
     "name": "stdout",
     "output_type": "stream",
     "text": [
      "Your selected dataframe has 10 columns and 84893 Rows.\n",
      "There are 9 columns that have missing values.\n"
     ]
    },
    {
     "data": {
      "text/html": [
       "<div>\n",
       "<style scoped>\n",
       "    .dataframe tbody tr th:only-of-type {\n",
       "        vertical-align: middle;\n",
       "    }\n",
       "\n",
       "    .dataframe tbody tr th {\n",
       "        vertical-align: top;\n",
       "    }\n",
       "\n",
       "    .dataframe thead th {\n",
       "        text-align: right;\n",
       "    }\n",
       "</style>\n",
       "<table border=\"1\" class=\"dataframe\">\n",
       "  <thead>\n",
       "    <tr style=\"text-align: right;\">\n",
       "      <th></th>\n",
       "      <th>Zero Values</th>\n",
       "      <th>Missing Values</th>\n",
       "      <th>% of Total Values</th>\n",
       "      <th>Total Zero Missing Values</th>\n",
       "      <th>% Total Zero Missing Values</th>\n",
       "      <th>Data Type</th>\n",
       "    </tr>\n",
       "  </thead>\n",
       "  <tbody>\n",
       "    <tr>\n",
       "      <th>price</th>\n",
       "      <td>0</td>\n",
       "      <td>69338</td>\n",
       "      <td>81.7</td>\n",
       "      <td>69338</td>\n",
       "      <td>81.7</td>\n",
       "      <td>object</td>\n",
       "    </tr>\n",
       "    <tr>\n",
       "      <th>feature</th>\n",
       "      <td>0</td>\n",
       "      <td>22961</td>\n",
       "      <td>27.0</td>\n",
       "      <td>22961</td>\n",
       "      <td>27.0</td>\n",
       "      <td>object</td>\n",
       "    </tr>\n",
       "    <tr>\n",
       "      <th>image</th>\n",
       "      <td>0</td>\n",
       "      <td>22889</td>\n",
       "      <td>27.0</td>\n",
       "      <td>22889</td>\n",
       "      <td>27.0</td>\n",
       "      <td>object</td>\n",
       "    </tr>\n",
       "    <tr>\n",
       "      <th>description</th>\n",
       "      <td>0</td>\n",
       "      <td>10170</td>\n",
       "      <td>12.0</td>\n",
       "      <td>10170</td>\n",
       "      <td>12.0</td>\n",
       "      <td>object</td>\n",
       "    </tr>\n",
       "    <tr>\n",
       "      <th>rank</th>\n",
       "      <td>0</td>\n",
       "      <td>4510</td>\n",
       "      <td>5.3</td>\n",
       "      <td>4510</td>\n",
       "      <td>5.3</td>\n",
       "      <td>object</td>\n",
       "    </tr>\n",
       "    <tr>\n",
       "      <th>brand</th>\n",
       "      <td>0</td>\n",
       "      <td>4030</td>\n",
       "      <td>4.7</td>\n",
       "      <td>4030</td>\n",
       "      <td>4.7</td>\n",
       "      <td>object</td>\n",
       "    </tr>\n",
       "    <tr>\n",
       "      <th>category</th>\n",
       "      <td>0</td>\n",
       "      <td>2426</td>\n",
       "      <td>2.9</td>\n",
       "      <td>2426</td>\n",
       "      <td>2.9</td>\n",
       "      <td>object</td>\n",
       "    </tr>\n",
       "    <tr>\n",
       "      <th>main_cat</th>\n",
       "      <td>0</td>\n",
       "      <td>166</td>\n",
       "      <td>0.2</td>\n",
       "      <td>166</td>\n",
       "      <td>0.2</td>\n",
       "      <td>object</td>\n",
       "    </tr>\n",
       "    <tr>\n",
       "      <th>title</th>\n",
       "      <td>0</td>\n",
       "      <td>14</td>\n",
       "      <td>0.0</td>\n",
       "      <td>14</td>\n",
       "      <td>0.0</td>\n",
       "      <td>object</td>\n",
       "    </tr>\n",
       "  </tbody>\n",
       "</table>\n",
       "</div>"
      ],
      "text/plain": [
       "             Zero Values  Missing Values  % of Total Values  \\\n",
       "price                  0           69338               81.7   \n",
       "feature                0           22961               27.0   \n",
       "image                  0           22889               27.0   \n",
       "description            0           10170               12.0   \n",
       "rank                   0            4510                5.3   \n",
       "brand                  0            4030                4.7   \n",
       "category               0            2426                2.9   \n",
       "main_cat               0             166                0.2   \n",
       "title                  0              14                0.0   \n",
       "\n",
       "             Total Zero Missing Values  % Total Zero Missing Values Data Type  \n",
       "price                            69338                         81.7    object  \n",
       "feature                          22961                         27.0    object  \n",
       "image                            22889                         27.0    object  \n",
       "description                      10170                         12.0    object  \n",
       "rank                              4510                          5.3    object  \n",
       "brand                             4030                          4.7    object  \n",
       "category                          2426                          2.9    object  \n",
       "main_cat                           166                          0.2    object  \n",
       "title                               14                          0.0    object  "
      ]
     },
     "execution_count": 170,
     "metadata": {},
     "output_type": "execute_result"
    }
   ],
   "source": [
    "#Check for missing values #1\n",
    "missing_zero_values_table(main_videogames)"
   ]
  },
  {
   "cell_type": "markdown",
   "metadata": {},
   "source": [
    "### Changing missing title names to their actual titles"
   ]
  },
  {
   "cell_type": "code",
   "execution_count": 184,
   "metadata": {},
   "outputs": [],
   "source": [
    "indexes = [467, 11873, 11876, 11878, 13376, 24782, 24785, 24787, 29674, 38379, 52373, 61916, 63263, 64453]\n",
    "title_names = ['Dune 2000', 'Virtual Stick Pro', 'Saturn Control Pad Mist Gray', 'Saturn control pad', 'Dune 2000', \n",
    "               'Virtual Stick Pro', 'Saturn Control Pad Mist Gray', 'Saturn control pad', 'Sega Vertual Stick', 'Puppet Motel',\n",
    "               'Friendship Collection New Life','Ranch Story Connected New World', 'Kirby Triple Deluxe', 'Detective Conan Phantom Rhapsody']"
   ]
  },
  {
   "cell_type": "code",
   "execution_count": 191,
   "metadata": {},
   "outputs": [],
   "source": [
    "for idx, val in enumerate(indexes):\n",
    "    main_videogames.loc[val, 'title'] = title_names[idx]"
   ]
  },
  {
   "cell_type": "code",
   "execution_count": 192,
   "metadata": {
    "collapsed": true,
    "jupyter": {
     "outputs_hidden": true
    }
   },
   "outputs": [
    {
     "name": "stdout",
     "output_type": "stream",
     "text": [
      "Your selected dataframe has 10 columns and 84893 Rows.\n",
      "There are 8 columns that have missing values.\n"
     ]
    },
    {
     "data": {
      "text/html": [
       "<div>\n",
       "<style scoped>\n",
       "    .dataframe tbody tr th:only-of-type {\n",
       "        vertical-align: middle;\n",
       "    }\n",
       "\n",
       "    .dataframe tbody tr th {\n",
       "        vertical-align: top;\n",
       "    }\n",
       "\n",
       "    .dataframe thead th {\n",
       "        text-align: right;\n",
       "    }\n",
       "</style>\n",
       "<table border=\"1\" class=\"dataframe\">\n",
       "  <thead>\n",
       "    <tr style=\"text-align: right;\">\n",
       "      <th></th>\n",
       "      <th>Zero Values</th>\n",
       "      <th>Missing Values</th>\n",
       "      <th>% of Total Values</th>\n",
       "      <th>Total Zero Missing Values</th>\n",
       "      <th>% Total Zero Missing Values</th>\n",
       "      <th>Data Type</th>\n",
       "    </tr>\n",
       "  </thead>\n",
       "  <tbody>\n",
       "    <tr>\n",
       "      <th>price</th>\n",
       "      <td>0</td>\n",
       "      <td>69338</td>\n",
       "      <td>81.7</td>\n",
       "      <td>69338</td>\n",
       "      <td>81.7</td>\n",
       "      <td>object</td>\n",
       "    </tr>\n",
       "    <tr>\n",
       "      <th>feature</th>\n",
       "      <td>0</td>\n",
       "      <td>22961</td>\n",
       "      <td>27.0</td>\n",
       "      <td>22961</td>\n",
       "      <td>27.0</td>\n",
       "      <td>object</td>\n",
       "    </tr>\n",
       "    <tr>\n",
       "      <th>image</th>\n",
       "      <td>0</td>\n",
       "      <td>22889</td>\n",
       "      <td>27.0</td>\n",
       "      <td>22889</td>\n",
       "      <td>27.0</td>\n",
       "      <td>object</td>\n",
       "    </tr>\n",
       "    <tr>\n",
       "      <th>description</th>\n",
       "      <td>0</td>\n",
       "      <td>10170</td>\n",
       "      <td>12.0</td>\n",
       "      <td>10170</td>\n",
       "      <td>12.0</td>\n",
       "      <td>object</td>\n",
       "    </tr>\n",
       "    <tr>\n",
       "      <th>rank</th>\n",
       "      <td>0</td>\n",
       "      <td>4510</td>\n",
       "      <td>5.3</td>\n",
       "      <td>4510</td>\n",
       "      <td>5.3</td>\n",
       "      <td>object</td>\n",
       "    </tr>\n",
       "    <tr>\n",
       "      <th>brand</th>\n",
       "      <td>0</td>\n",
       "      <td>4030</td>\n",
       "      <td>4.7</td>\n",
       "      <td>4030</td>\n",
       "      <td>4.7</td>\n",
       "      <td>object</td>\n",
       "    </tr>\n",
       "    <tr>\n",
       "      <th>category</th>\n",
       "      <td>0</td>\n",
       "      <td>2426</td>\n",
       "      <td>2.9</td>\n",
       "      <td>2426</td>\n",
       "      <td>2.9</td>\n",
       "      <td>object</td>\n",
       "    </tr>\n",
       "    <tr>\n",
       "      <th>main_cat</th>\n",
       "      <td>0</td>\n",
       "      <td>166</td>\n",
       "      <td>0.2</td>\n",
       "      <td>166</td>\n",
       "      <td>0.2</td>\n",
       "      <td>object</td>\n",
       "    </tr>\n",
       "  </tbody>\n",
       "</table>\n",
       "</div>"
      ],
      "text/plain": [
       "             Zero Values  Missing Values  % of Total Values  \\\n",
       "price                  0           69338               81.7   \n",
       "feature                0           22961               27.0   \n",
       "image                  0           22889               27.0   \n",
       "description            0           10170               12.0   \n",
       "rank                   0            4510                5.3   \n",
       "brand                  0            4030                4.7   \n",
       "category               0            2426                2.9   \n",
       "main_cat               0             166                0.2   \n",
       "\n",
       "             Total Zero Missing Values  % Total Zero Missing Values Data Type  \n",
       "price                            69338                         81.7    object  \n",
       "feature                          22961                         27.0    object  \n",
       "image                            22889                         27.0    object  \n",
       "description                      10170                         12.0    object  \n",
       "rank                              4510                          5.3    object  \n",
       "brand                             4030                          4.7    object  \n",
       "category                          2426                          2.9    object  \n",
       "main_cat                           166                          0.2    object  "
      ]
     },
     "execution_count": 192,
     "metadata": {},
     "output_type": "execute_result"
    }
   ],
   "source": [
    "#Check for missing values #2\n",
    "missing_zero_values_table(main_videogames)"
   ]
  },
  {
   "cell_type": "code",
   "execution_count": 233,
   "metadata": {},
   "outputs": [],
   "source": [
    "float_puncs = '!\"#$%&\\'()*+,-/:;<=>?@[\\\\]^_`{|}~'\n",
    "str1=\"\"\n",
    "\n",
    "def remove_puncs_into_floats(item):\n",
    "    table = str.maketrans('','', float_puncs)\n",
    "    stripped = [i.translate(table) for i in item]\n",
    "    return float(str1.join(stripped))\n",
    "\n",
    "#change missing prices to -1, and change string prices to floats\n",
    "prices = main_videogames.price.apply(lambda x: float(-1) if isinstance(x, float) else remove_puncs_into_floats(x))"
   ]
  },
  {
   "cell_type": "code",
   "execution_count": 234,
   "metadata": {},
   "outputs": [],
   "source": [
    "#Since 81.7% of prices are missing, and not doing a recommender based on price, remove price column.\n",
    "#Since images are not being used to create a recommender, remove image column.\n",
    "main_videogames.drop(columns=['price','image'],inplace=True)"
   ]
  },
  {
   "cell_type": "code",
   "execution_count": 235,
   "metadata": {
    "collapsed": true,
    "jupyter": {
     "outputs_hidden": true
    }
   },
   "outputs": [
    {
     "name": "stdout",
     "output_type": "stream",
     "text": [
      "Your selected dataframe has 8 columns and 84893 Rows.\n",
      "There are 6 columns that have missing values.\n"
     ]
    },
    {
     "data": {
      "text/html": [
       "<div>\n",
       "<style scoped>\n",
       "    .dataframe tbody tr th:only-of-type {\n",
       "        vertical-align: middle;\n",
       "    }\n",
       "\n",
       "    .dataframe tbody tr th {\n",
       "        vertical-align: top;\n",
       "    }\n",
       "\n",
       "    .dataframe thead th {\n",
       "        text-align: right;\n",
       "    }\n",
       "</style>\n",
       "<table border=\"1\" class=\"dataframe\">\n",
       "  <thead>\n",
       "    <tr style=\"text-align: right;\">\n",
       "      <th></th>\n",
       "      <th>Zero Values</th>\n",
       "      <th>Missing Values</th>\n",
       "      <th>% of Total Values</th>\n",
       "      <th>Total Zero Missing Values</th>\n",
       "      <th>% Total Zero Missing Values</th>\n",
       "      <th>Data Type</th>\n",
       "    </tr>\n",
       "  </thead>\n",
       "  <tbody>\n",
       "    <tr>\n",
       "      <th>feature</th>\n",
       "      <td>0</td>\n",
       "      <td>22961</td>\n",
       "      <td>27.0</td>\n",
       "      <td>22961</td>\n",
       "      <td>27.0</td>\n",
       "      <td>object</td>\n",
       "    </tr>\n",
       "    <tr>\n",
       "      <th>description</th>\n",
       "      <td>0</td>\n",
       "      <td>10170</td>\n",
       "      <td>12.0</td>\n",
       "      <td>10170</td>\n",
       "      <td>12.0</td>\n",
       "      <td>object</td>\n",
       "    </tr>\n",
       "    <tr>\n",
       "      <th>rank</th>\n",
       "      <td>0</td>\n",
       "      <td>4510</td>\n",
       "      <td>5.3</td>\n",
       "      <td>4510</td>\n",
       "      <td>5.3</td>\n",
       "      <td>object</td>\n",
       "    </tr>\n",
       "    <tr>\n",
       "      <th>brand</th>\n",
       "      <td>0</td>\n",
       "      <td>4030</td>\n",
       "      <td>4.7</td>\n",
       "      <td>4030</td>\n",
       "      <td>4.7</td>\n",
       "      <td>object</td>\n",
       "    </tr>\n",
       "    <tr>\n",
       "      <th>category</th>\n",
       "      <td>0</td>\n",
       "      <td>2426</td>\n",
       "      <td>2.9</td>\n",
       "      <td>2426</td>\n",
       "      <td>2.9</td>\n",
       "      <td>object</td>\n",
       "    </tr>\n",
       "    <tr>\n",
       "      <th>main_cat</th>\n",
       "      <td>0</td>\n",
       "      <td>166</td>\n",
       "      <td>0.2</td>\n",
       "      <td>166</td>\n",
       "      <td>0.2</td>\n",
       "      <td>object</td>\n",
       "    </tr>\n",
       "  </tbody>\n",
       "</table>\n",
       "</div>"
      ],
      "text/plain": [
       "             Zero Values  Missing Values  % of Total Values  \\\n",
       "feature                0           22961               27.0   \n",
       "description            0           10170               12.0   \n",
       "rank                   0            4510                5.3   \n",
       "brand                  0            4030                4.7   \n",
       "category               0            2426                2.9   \n",
       "main_cat               0             166                0.2   \n",
       "\n",
       "             Total Zero Missing Values  % Total Zero Missing Values Data Type  \n",
       "feature                          22961                         27.0    object  \n",
       "description                      10170                         12.0    object  \n",
       "rank                              4510                          5.3    object  \n",
       "brand                             4030                          4.7    object  \n",
       "category                          2426                          2.9    object  \n",
       "main_cat                           166                          0.2    object  "
      ]
     },
     "execution_count": 235,
     "metadata": {},
     "output_type": "execute_result"
    }
   ],
   "source": [
    "#Check for missing values #3\n",
    "missing_zero_values_table(main_videogames)"
   ]
  },
  {
   "cell_type": "code",
   "execution_count": 328,
   "metadata": {},
   "outputs": [],
   "source": [
    "def remove_puncs(item):\n",
    "    table = str.maketrans('','', float_puncs)\n",
    "    stripped = [i.translate(table) for i in item]\n",
    "    return str1.join(stripped)"
   ]
  },
  {
   "cell_type": "code",
   "execution_count": 338,
   "metadata": {},
   "outputs": [],
   "source": [
    "#converting rank strings to just rank numbers\n",
    "rank = main_videogames[\"rank\"].apply(lambda x: \"999999999\" if isinstance(x, float) else remove_puncs(x).split(\" \",1)[0])"
   ]
  },
  {
   "cell_type": "code",
   "execution_count": 339,
   "metadata": {},
   "outputs": [],
   "source": [
    "rank = rank.apply(lambda x: x.split(\"i\", 1)[0])"
   ]
  },
  {
   "cell_type": "code",
   "execution_count": 344,
   "metadata": {},
   "outputs": [
    {
     "name": "stdout",
     "output_type": "stream",
     "text": [
      "52316\n"
     ]
    }
   ],
   "source": [
    "#find messed up values in rnak #4\n",
    "for idx, val in enumerate(rank):\n",
    "    if val == 'productDescr':\n",
    "        print(idx)"
   ]
  },
  {
   "cell_type": "code",
   "execution_count": 345,
   "metadata": {},
   "outputs": [],
   "source": [
    "rank[52316] = 999999999"
   ]
  },
  {
   "cell_type": "code",
   "execution_count": 346,
   "metadata": {},
   "outputs": [],
   "source": [
    "rank = rank.apply(lambda x: float(x))"
   ]
  },
  {
   "cell_type": "code",
   "execution_count": 348,
   "metadata": {},
   "outputs": [],
   "source": [
    "main_videogames['rank']=rank"
   ]
  },
  {
   "cell_type": "code",
   "execution_count": 349,
   "metadata": {},
   "outputs": [
    {
     "name": "stdout",
     "output_type": "stream",
     "text": [
      "Your selected dataframe has 8 columns and 84893 Rows.\n",
      "There are 5 columns that have missing values.\n"
     ]
    },
    {
     "data": {
      "text/html": [
       "<div>\n",
       "<style scoped>\n",
       "    .dataframe tbody tr th:only-of-type {\n",
       "        vertical-align: middle;\n",
       "    }\n",
       "\n",
       "    .dataframe tbody tr th {\n",
       "        vertical-align: top;\n",
       "    }\n",
       "\n",
       "    .dataframe thead th {\n",
       "        text-align: right;\n",
       "    }\n",
       "</style>\n",
       "<table border=\"1\" class=\"dataframe\">\n",
       "  <thead>\n",
       "    <tr style=\"text-align: right;\">\n",
       "      <th></th>\n",
       "      <th>Zero Values</th>\n",
       "      <th>Missing Values</th>\n",
       "      <th>% of Total Values</th>\n",
       "      <th>Total Zero Missing Values</th>\n",
       "      <th>% Total Zero Missing Values</th>\n",
       "      <th>Data Type</th>\n",
       "    </tr>\n",
       "  </thead>\n",
       "  <tbody>\n",
       "    <tr>\n",
       "      <th>feature</th>\n",
       "      <td>0</td>\n",
       "      <td>22961</td>\n",
       "      <td>27.0</td>\n",
       "      <td>22961</td>\n",
       "      <td>27.0</td>\n",
       "      <td>object</td>\n",
       "    </tr>\n",
       "    <tr>\n",
       "      <th>description</th>\n",
       "      <td>0</td>\n",
       "      <td>10170</td>\n",
       "      <td>12.0</td>\n",
       "      <td>10170</td>\n",
       "      <td>12.0</td>\n",
       "      <td>object</td>\n",
       "    </tr>\n",
       "    <tr>\n",
       "      <th>brand</th>\n",
       "      <td>0</td>\n",
       "      <td>4030</td>\n",
       "      <td>4.7</td>\n",
       "      <td>4030</td>\n",
       "      <td>4.7</td>\n",
       "      <td>object</td>\n",
       "    </tr>\n",
       "    <tr>\n",
       "      <th>category</th>\n",
       "      <td>0</td>\n",
       "      <td>2426</td>\n",
       "      <td>2.9</td>\n",
       "      <td>2426</td>\n",
       "      <td>2.9</td>\n",
       "      <td>object</td>\n",
       "    </tr>\n",
       "    <tr>\n",
       "      <th>main_cat</th>\n",
       "      <td>0</td>\n",
       "      <td>166</td>\n",
       "      <td>0.2</td>\n",
       "      <td>166</td>\n",
       "      <td>0.2</td>\n",
       "      <td>object</td>\n",
       "    </tr>\n",
       "  </tbody>\n",
       "</table>\n",
       "</div>"
      ],
      "text/plain": [
       "             Zero Values  Missing Values  % of Total Values  \\\n",
       "feature                0           22961               27.0   \n",
       "description            0           10170               12.0   \n",
       "brand                  0            4030                4.7   \n",
       "category               0            2426                2.9   \n",
       "main_cat               0             166                0.2   \n",
       "\n",
       "             Total Zero Missing Values  % Total Zero Missing Values Data Type  \n",
       "feature                          22961                         27.0    object  \n",
       "description                      10170                         12.0    object  \n",
       "brand                             4030                          4.7    object  \n",
       "category                          2426                          2.9    object  \n",
       "main_cat                           166                          0.2    object  "
      ]
     },
     "execution_count": 349,
     "metadata": {},
     "output_type": "execute_result"
    }
   ],
   "source": [
    "#Check for missing values #4\n",
    "missing_zero_values_table(main_videogames)"
   ]
  },
  {
   "cell_type": "code",
   "execution_count": 369,
   "metadata": {},
   "outputs": [],
   "source": [
    "#Change all nulls in main_cat into 'Video Games'\n",
    "main_cat = main_videogames['main_cat'].apply(lambda x: 'Video Games' if isinstance(x, float) else x)\n",
    "main_videogames['main_cat'] = main_cat\n",
    "\n",
    "#Change all nulls in features into 'no_features'\n",
    "features = main_videogames['feature'].apply(lambda x: 'no_features' if isinstance(x, float) else x)\n",
    "main_videogames['feature'] = features\n",
    "\n",
    "#Change all null in description into 'no_description'\n",
    "description = main_videogames['description'].apply(lambda x: 'no_description' if isinstance(x, float) else x)\n",
    "main_videogames['description'] = description"
   ]
  },
  {
   "cell_type": "code",
   "execution_count": 370,
   "metadata": {},
   "outputs": [
    {
     "name": "stdout",
     "output_type": "stream",
     "text": [
      "Your selected dataframe has 8 columns and 84893 Rows.\n",
      "There are 2 columns that have missing values.\n"
     ]
    },
    {
     "data": {
      "text/html": [
       "<div>\n",
       "<style scoped>\n",
       "    .dataframe tbody tr th:only-of-type {\n",
       "        vertical-align: middle;\n",
       "    }\n",
       "\n",
       "    .dataframe tbody tr th {\n",
       "        vertical-align: top;\n",
       "    }\n",
       "\n",
       "    .dataframe thead th {\n",
       "        text-align: right;\n",
       "    }\n",
       "</style>\n",
       "<table border=\"1\" class=\"dataframe\">\n",
       "  <thead>\n",
       "    <tr style=\"text-align: right;\">\n",
       "      <th></th>\n",
       "      <th>Zero Values</th>\n",
       "      <th>Missing Values</th>\n",
       "      <th>% of Total Values</th>\n",
       "      <th>Total Zero Missing Values</th>\n",
       "      <th>% Total Zero Missing Values</th>\n",
       "      <th>Data Type</th>\n",
       "    </tr>\n",
       "  </thead>\n",
       "  <tbody>\n",
       "    <tr>\n",
       "      <th>brand</th>\n",
       "      <td>0</td>\n",
       "      <td>4030</td>\n",
       "      <td>4.7</td>\n",
       "      <td>4030</td>\n",
       "      <td>4.7</td>\n",
       "      <td>object</td>\n",
       "    </tr>\n",
       "    <tr>\n",
       "      <th>category</th>\n",
       "      <td>0</td>\n",
       "      <td>2426</td>\n",
       "      <td>2.9</td>\n",
       "      <td>2426</td>\n",
       "      <td>2.9</td>\n",
       "      <td>object</td>\n",
       "    </tr>\n",
       "  </tbody>\n",
       "</table>\n",
       "</div>"
      ],
      "text/plain": [
       "          Zero Values  Missing Values  % of Total Values  \\\n",
       "brand               0            4030                4.7   \n",
       "category            0            2426                2.9   \n",
       "\n",
       "          Total Zero Missing Values  % Total Zero Missing Values Data Type  \n",
       "brand                          4030                          4.7    object  \n",
       "category                       2426                          2.9    object  "
      ]
     },
     "execution_count": 370,
     "metadata": {},
     "output_type": "execute_result"
    }
   ],
   "source": [
    "#Check for missing values #5\n",
    "missing_zero_values_table(main_videogames)"
   ]
  },
  {
   "cell_type": "code",
   "execution_count": 388,
   "metadata": {},
   "outputs": [],
   "source": [
    "#Change null brands to 'no_brand'\n",
    "brand = main_videogames['brand'].apply(lambda x: 'no_brand' if isinstance(x, float) else x)\n",
    "\n",
    "#Remove html taggings \"by\\n \\n\"\n",
    "filter_tag = 'by\\n    \\n    '\n",
    "brand = brand.apply(lambda x: x[12:] if filter_tag in x else x)\n",
    "main_videogames['brand'] = brand\n",
    "\n",
    "#Change null category to ['Video Games']\n",
    "category = main_videogames['category'].apply(lambda x: ['Video Games'] if isinstance(x, float) else x)\n",
    "main_videogames['category'] = category"
   ]
  },
  {
   "cell_type": "code",
   "execution_count": 389,
   "metadata": {},
   "outputs": [
    {
     "name": "stdout",
     "output_type": "stream",
     "text": [
      "Your selected dataframe has 8 columns and 84893 Rows.\n",
      "There are 0 columns that have missing values.\n"
     ]
    },
    {
     "data": {
      "text/html": [
       "<div>\n",
       "<style scoped>\n",
       "    .dataframe tbody tr th:only-of-type {\n",
       "        vertical-align: middle;\n",
       "    }\n",
       "\n",
       "    .dataframe tbody tr th {\n",
       "        vertical-align: top;\n",
       "    }\n",
       "\n",
       "    .dataframe thead th {\n",
       "        text-align: right;\n",
       "    }\n",
       "</style>\n",
       "<table border=\"1\" class=\"dataframe\">\n",
       "  <thead>\n",
       "    <tr style=\"text-align: right;\">\n",
       "      <th></th>\n",
       "      <th>Zero Values</th>\n",
       "      <th>Missing Values</th>\n",
       "      <th>% of Total Values</th>\n",
       "      <th>Total Zero Missing Values</th>\n",
       "      <th>% Total Zero Missing Values</th>\n",
       "      <th>Data Type</th>\n",
       "    </tr>\n",
       "  </thead>\n",
       "  <tbody>\n",
       "  </tbody>\n",
       "</table>\n",
       "</div>"
      ],
      "text/plain": [
       "Empty DataFrame\n",
       "Columns: [Zero Values, Missing Values, % of Total Values, Total Zero Missing Values, % Total Zero Missing Values, Data Type]\n",
       "Index: []"
      ]
     },
     "execution_count": 389,
     "metadata": {},
     "output_type": "execute_result"
    }
   ],
   "source": [
    "#Check for missing values #6\n",
    "missing_zero_values_table(main_videogames)"
   ]
  },
  {
   "cell_type": "code",
   "execution_count": 420,
   "metadata": {},
   "outputs": [],
   "source": [
    "#Change category into a full string\n",
    "str2 = \" \"\n",
    "category = main_videogames['category'].apply(lambda x: str2.join(x))\n",
    "main_videogames['category'] = category\n",
    "\n",
    "#Change description into a full string\n",
    "description = main_videogames['description'].apply(lambda x: str2.join(x) if x!='no_description' else x)\n",
    "main_videogames['description'] = description"
   ]
  },
  {
   "cell_type": "code",
   "execution_count": 421,
   "metadata": {},
   "outputs": [
    {
     "data": {
      "text/html": [
       "<div>\n",
       "<style scoped>\n",
       "    .dataframe tbody tr th:only-of-type {\n",
       "        vertical-align: middle;\n",
       "    }\n",
       "\n",
       "    .dataframe tbody tr th {\n",
       "        vertical-align: top;\n",
       "    }\n",
       "\n",
       "    .dataframe thead th {\n",
       "        text-align: right;\n",
       "    }\n",
       "</style>\n",
       "<table border=\"1\" class=\"dataframe\">\n",
       "  <thead>\n",
       "    <tr style=\"text-align: right;\">\n",
       "      <th></th>\n",
       "      <th>asin</th>\n",
       "      <th>brand</th>\n",
       "      <th>category</th>\n",
       "      <th>description</th>\n",
       "      <th>feature</th>\n",
       "      <th>main_cat</th>\n",
       "      <th>rank</th>\n",
       "      <th>title</th>\n",
       "    </tr>\n",
       "  </thead>\n",
       "  <tbody>\n",
       "    <tr>\n",
       "      <th>0</th>\n",
       "      <td>0042000742</td>\n",
       "      <td>Fidelity Electronics</td>\n",
       "      <td>Video Games PC Games</td>\n",
       "      <td>no_description</td>\n",
       "      <td>no_features</td>\n",
       "      <td>Toys &amp; Games</td>\n",
       "      <td>2623937.0</td>\n",
       "      <td>Reversi Sensory Challenger</td>\n",
       "    </tr>\n",
       "    <tr>\n",
       "      <th>1</th>\n",
       "      <td>0078764343</td>\n",
       "      <td>EA Games</td>\n",
       "      <td>Video Games Xbox 360 Games</td>\n",
       "      <td>Brand new sealed!</td>\n",
       "      <td>no_features</td>\n",
       "      <td>Video Games</td>\n",
       "      <td>67231.0</td>\n",
       "      <td>Medal of Honor: Warfighter - Includes Battlefi...</td>\n",
       "    </tr>\n",
       "    <tr>\n",
       "      <th>2</th>\n",
       "      <td>0276425316</td>\n",
       "      <td>Nintendo</td>\n",
       "      <td>Video Games Retro Gaming &amp; Microconsoles Super...</td>\n",
       "      <td>no_description</td>\n",
       "      <td>no_features</td>\n",
       "      <td>Video Games</td>\n",
       "      <td>134433.0</td>\n",
       "      <td>street fighter 2 II turbo super nintendo snes ...</td>\n",
       "    </tr>\n",
       "    <tr>\n",
       "      <th>3</th>\n",
       "      <td>0324411812</td>\n",
       "      <td>MAS SYSTEMS</td>\n",
       "      <td>Video Games Xbox 360 Accessories Controllers J...</td>\n",
       "      <td>MAS's Pro Xbox 360 Stick (Perfect 360 Stick) S...</td>\n",
       "      <td>[Original PCB used from Xbox 360 Control Pad (...</td>\n",
       "      <td>Video Games</td>\n",
       "      <td>105263.0</td>\n",
       "      <td>Xbox 360 MAS STICK</td>\n",
       "    </tr>\n",
       "    <tr>\n",
       "      <th>4</th>\n",
       "      <td>0439335310</td>\n",
       "      <td>Advanced Software Pty. Ltd.</td>\n",
       "      <td>Video Games PC Games  Grades 2-12 Spelling Pro...</td>\n",
       "      <td>Phonics Alive! 3, The Speller teaches students...</td>\n",
       "      <td>[Grades 2-12, Spelling Program, Teaches Spelli...</td>\n",
       "      <td>Video Games</td>\n",
       "      <td>92397.0</td>\n",
       "      <td>Phonics Alive! 3: The Speller</td>\n",
       "    </tr>\n",
       "  </tbody>\n",
       "</table>\n",
       "</div>"
      ],
      "text/plain": [
       "         asin                        brand  \\\n",
       "0  0042000742         Fidelity Electronics   \n",
       "1  0078764343                     EA Games   \n",
       "2  0276425316                     Nintendo   \n",
       "3  0324411812                  MAS SYSTEMS   \n",
       "4  0439335310  Advanced Software Pty. Ltd.   \n",
       "\n",
       "                                            category  \\\n",
       "0                               Video Games PC Games   \n",
       "1                        Video Games Xbox 360 Games    \n",
       "2  Video Games Retro Gaming & Microconsoles Super...   \n",
       "3  Video Games Xbox 360 Accessories Controllers J...   \n",
       "4  Video Games PC Games  Grades 2-12 Spelling Pro...   \n",
       "\n",
       "                                         description  \\\n",
       "0                                     no_description   \n",
       "1                                  Brand new sealed!   \n",
       "2                                     no_description   \n",
       "3  MAS's Pro Xbox 360 Stick (Perfect 360 Stick) S...   \n",
       "4  Phonics Alive! 3, The Speller teaches students...   \n",
       "\n",
       "                                             feature      main_cat       rank  \\\n",
       "0                                        no_features  Toys & Games  2623937.0   \n",
       "1                                        no_features   Video Games    67231.0   \n",
       "2                                        no_features   Video Games   134433.0   \n",
       "3  [Original PCB used from Xbox 360 Control Pad (...   Video Games   105263.0   \n",
       "4  [Grades 2-12, Spelling Program, Teaches Spelli...   Video Games    92397.0   \n",
       "\n",
       "                                               title  \n",
       "0                         Reversi Sensory Challenger  \n",
       "1  Medal of Honor: Warfighter - Includes Battlefi...  \n",
       "2  street fighter 2 II turbo super nintendo snes ...  \n",
       "3                                 Xbox 360 MAS STICK  \n",
       "4                      Phonics Alive! 3: The Speller  "
      ]
     },
     "execution_count": 421,
     "metadata": {},
     "output_type": "execute_result"
    }
   ],
   "source": []
  },
  {
   "cell_type": "code",
   "execution_count": null,
   "metadata": {},
   "outputs": [],
   "source": []
  },
  {
   "cell_type": "markdown",
   "metadata": {},
   "source": [
    "# Cleaning Reviews DF"
   ]
  },
  {
   "cell_type": "code",
   "execution_count": 116,
   "metadata": {},
   "outputs": [],
   "source": [
    "#change image to 0 or 1\n",
    "main_reviews = reviews.copy()\n",
    "image = [0 if isinstance(i,float) else 1 for i in main_reviews.image]\n",
    "main_reviews['image'] = image"
   ]
  },
  {
   "cell_type": "code",
   "execution_count": 128,
   "metadata": {},
   "outputs": [],
   "source": [
    "#drop columns = reviewTime, reviewName, style, vote\n",
    "main_reviews.drop(columns=['reviewTime', 'reviewerName', 'style', 'vote'], inplace=True)"
   ]
  },
  {
   "cell_type": "markdown",
   "metadata": {},
   "source": [
    "### Handle Missing"
   ]
  },
  {
   "cell_type": "code",
   "execution_count": 138,
   "metadata": {},
   "outputs": [
    {
     "name": "stdout",
     "output_type": "stream",
     "text": [
      "Your selected dataframe has 8 columns and 2565349 Rows.\n",
      "There are 2 columns that have missing values.\n"
     ]
    },
    {
     "data": {
      "text/html": [
       "<div>\n",
       "<style scoped>\n",
       "    .dataframe tbody tr th:only-of-type {\n",
       "        vertical-align: middle;\n",
       "    }\n",
       "\n",
       "    .dataframe tbody tr th {\n",
       "        vertical-align: top;\n",
       "    }\n",
       "\n",
       "    .dataframe thead th {\n",
       "        text-align: right;\n",
       "    }\n",
       "</style>\n",
       "<table border=\"1\" class=\"dataframe\">\n",
       "  <thead>\n",
       "    <tr style=\"text-align: right;\">\n",
       "      <th></th>\n",
       "      <th>Zero Values</th>\n",
       "      <th>Missing Values</th>\n",
       "      <th>% of Total Values</th>\n",
       "      <th>Total Zero Missing Values</th>\n",
       "      <th>% Total Zero Missing Values</th>\n",
       "      <th>Data Type</th>\n",
       "    </tr>\n",
       "  </thead>\n",
       "  <tbody>\n",
       "    <tr>\n",
       "      <th>reviewText</th>\n",
       "      <td>0</td>\n",
       "      <td>1715</td>\n",
       "      <td>0.1</td>\n",
       "      <td>1715</td>\n",
       "      <td>0.1</td>\n",
       "      <td>object</td>\n",
       "    </tr>\n",
       "    <tr>\n",
       "      <th>summary</th>\n",
       "      <td>0</td>\n",
       "      <td>811</td>\n",
       "      <td>0.0</td>\n",
       "      <td>811</td>\n",
       "      <td>0.0</td>\n",
       "      <td>object</td>\n",
       "    </tr>\n",
       "  </tbody>\n",
       "</table>\n",
       "</div>"
      ],
      "text/plain": [
       "            Zero Values  Missing Values  % of Total Values  \\\n",
       "reviewText            0            1715                0.1   \n",
       "summary               0             811                0.0   \n",
       "\n",
       "            Total Zero Missing Values  % Total Zero Missing Values Data Type  \n",
       "reviewText                       1715                          0.1    object  \n",
       "summary                           811                          0.0    object  "
      ]
     },
     "execution_count": 138,
     "metadata": {},
     "output_type": "execute_result"
    }
   ],
   "source": [
    "missing_zero_values_table(main_reviews)"
   ]
  },
  {
   "cell_type": "code",
   "execution_count": 144,
   "metadata": {},
   "outputs": [
    {
     "data": {
      "text/plain": [
       "(array([False,  True]), array([2563634,    1715]))"
      ]
     },
     "execution_count": 144,
     "metadata": {},
     "output_type": "execute_result"
    }
   ],
   "source": [
    "np.unique(reviews.reviewText.isna(), return_counts=True)"
   ]
  },
  {
   "cell_type": "code",
   "execution_count": 150,
   "metadata": {},
   "outputs": [
    {
     "data": {
      "text/plain": [
       "(array([False,  True]), array([2564538,     811]))"
      ]
     },
     "execution_count": 150,
     "metadata": {},
     "output_type": "execute_result"
    }
   ],
   "source": [
    "np.unique(reviews.summary.isna(), return_counts=True)"
   ]
  },
  {
   "cell_type": "code",
   "execution_count": 162,
   "metadata": {},
   "outputs": [],
   "source": [
    "reviewText = main_reviews.reviewText.apply(lambda x: 'no_text_was_given' if isinstance(x, float) else x)"
   ]
  },
  {
   "cell_type": "code",
   "execution_count": 166,
   "metadata": {},
   "outputs": [],
   "source": [
    "summary = main_reviews.summary.apply(lambda x: 'no_summary_given' if isinstance(x, float) else x)"
   ]
  },
  {
   "cell_type": "code",
   "execution_count": 168,
   "metadata": {},
   "outputs": [],
   "source": [
    "main_reviews['reviewText'] = reviewText\n",
    "main_reviews['summary'] = summary"
   ]
  },
  {
   "cell_type": "code",
   "execution_count": 169,
   "metadata": {},
   "outputs": [
    {
     "name": "stdout",
     "output_type": "stream",
     "text": [
      "Your selected dataframe has 8 columns and 2565349 Rows.\n",
      "There are 0 columns that have missing values.\n"
     ]
    },
    {
     "data": {
      "text/html": [
       "<div>\n",
       "<style scoped>\n",
       "    .dataframe tbody tr th:only-of-type {\n",
       "        vertical-align: middle;\n",
       "    }\n",
       "\n",
       "    .dataframe tbody tr th {\n",
       "        vertical-align: top;\n",
       "    }\n",
       "\n",
       "    .dataframe thead th {\n",
       "        text-align: right;\n",
       "    }\n",
       "</style>\n",
       "<table border=\"1\" class=\"dataframe\">\n",
       "  <thead>\n",
       "    <tr style=\"text-align: right;\">\n",
       "      <th></th>\n",
       "      <th>Zero Values</th>\n",
       "      <th>Missing Values</th>\n",
       "      <th>% of Total Values</th>\n",
       "      <th>Total Zero Missing Values</th>\n",
       "      <th>% Total Zero Missing Values</th>\n",
       "      <th>Data Type</th>\n",
       "    </tr>\n",
       "  </thead>\n",
       "  <tbody>\n",
       "  </tbody>\n",
       "</table>\n",
       "</div>"
      ],
      "text/plain": [
       "Empty DataFrame\n",
       "Columns: [Zero Values, Missing Values, % of Total Values, Total Zero Missing Values, % Total Zero Missing Values, Data Type]\n",
       "Index: []"
      ]
     },
     "execution_count": 169,
     "metadata": {},
     "output_type": "execute_result"
    }
   ],
   "source": [
    "missing_zero_values_table(main_reviews)"
   ]
  },
  {
   "cell_type": "markdown",
   "metadata": {},
   "source": [
    "##### Done Cleaning Reviews DF"
   ]
  },
  {
   "cell_type": "code",
   "execution_count": null,
   "metadata": {},
   "outputs": [],
   "source": []
  }
 ],
 "metadata": {
  "kernelspec": {
   "display_name": "conda_python3",
   "language": "python",
   "name": "conda_python3"
  },
  "language_info": {
   "codemirror_mode": {
    "name": "ipython",
    "version": 3
   },
   "file_extension": ".py",
   "mimetype": "text/x-python",
   "name": "python",
   "nbconvert_exporter": "python",
   "pygments_lexer": "ipython3",
   "version": "3.6.5"
  }
 },
 "nbformat": 4,
 "nbformat_minor": 4
}
